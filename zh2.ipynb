{
    "metadata": {
        "kernelspec": {
            "name": "SQL",
            "display_name": "SQL",
            "language": "sql"
        },
        "language_info": {
            "name": "sql",
            "version": ""
        }
    },
    "nbformat_minor": 2,
    "nbformat": 4,
    "cells": [
        {
            "cell_type": "markdown",
            "source": [
                "Listázzuk a foglalások számát szobánként, azon belül a foglalás éve szerint csoportosítva!\n",
                "\n",
                "- Az évnél a Mettől oszlopot használjuk\n",
                "- Jelenítsük meg a részösszegeket és a végösszeget is úgy, hogy ne jelenjen meg minden Oszlop/NULL kombináció!\n",
                "- A részösszegeket jelöljük megfelelően, pl. Részösszeg vagy Szoba összesen"
            ],
            "metadata": {
                "azdata_cell_guid": "8c69b515-05a1-4385-ad9d-1cab33999263"
            },
            "attachments": {}
        },
        {
            "cell_type": "code",
            "source": [
                "SELECT SZOBA_ID, IIF(GROUPING_ID(YEAR(f.METTOL))=1, 'részösszeg', CAST(YEAR(f.METTOL) as nvarchar(8))), COUNT(*)\r\n",
                "FROM szoba sz JOIN Foglalas f ON sz.SZOBA_ID = f.SZOBA_FK\r\n",
                "GROUP BY ROLLUP(sz.SZOBA_ID, YEAR(f.METTOL))"
            ],
            "metadata": {
                "azdata_cell_guid": "cc5e5aa4-4742-4fec-bd7e-f0bcc6e2b6d0",
                "language": "sql"
            },
            "outputs": [
                {
                    "output_type": "display_data",
                    "data": {
                        "text/html": "(513 rows affected)"
                    },
                    "metadata": {}
                },
                {
                    "output_type": "display_data",
                    "data": {
                        "text/html": "Total execution time: 00:00:00.019"
                    },
                    "metadata": {}
                },
                {
                    "output_type": "execute_result",
                    "metadata": {},
                    "execution_count": 19,
                    "data": {
                        "application/vnd.dataresource+json": {
                            "schema": {
                                "fields": [
                                    {
                                        "name": "SZOBA_ID"
                                    },
                                    {
                                        "name": "(No column name)"
                                    },
                                    {
                                        "name": "(No column name)"
                                    }
                                ]
                            },
                            "data": [
                                {
                                    "SZOBA_ID": "1",
                                    "(No column name)": "8"
                                },
                                {
                                    "SZOBA_ID": "1",
                                    "(No column name)": "8"
                                },
                                {
                                    "SZOBA_ID": "2",
                                    "(No column name)": "4"
                                },
                                {
                                    "SZOBA_ID": "2",
                                    "(No column name)": "4"
                                },
                                {
                                    "SZOBA_ID": "3",
                                    "(No column name)": "6"
                                },
                                {
                                    "SZOBA_ID": "3",
                                    "(No column name)": "2"
                                },
                                {
                                    "SZOBA_ID": "3",
                                    "(No column name)": "8"
                                },
                                {
                                    "SZOBA_ID": "4",
                                    "(No column name)": "5"
                                },
                                {
                                    "SZOBA_ID": "4",
                                    "(No column name)": "1"
                                },
                                {
                                    "SZOBA_ID": "4",
                                    "(No column name)": "6"
                                },
                                {
                                    "SZOBA_ID": "5",
                                    "(No column name)": "4"
                                },
                                {
                                    "SZOBA_ID": "5",
                                    "(No column name)": "4"
                                },
                                {
                                    "SZOBA_ID": "6",
                                    "(No column name)": "6"
                                },
                                {
                                    "SZOBA_ID": "6",
                                    "(No column name)": "6"
                                },
                                {
                                    "SZOBA_ID": "7",
                                    "(No column name)": "6"
                                },
                                {
                                    "SZOBA_ID": "7",
                                    "(No column name)": "6"
                                },
                                {
                                    "SZOBA_ID": "8",
                                    "(No column name)": "5"
                                },
                                {
                                    "SZOBA_ID": "8",
                                    "(No column name)": "5"
                                },
                                {
                                    "SZOBA_ID": "9",
                                    "(No column name)": "4"
                                },
                                {
                                    "SZOBA_ID": "9",
                                    "(No column name)": "2"
                                },
                                {
                                    "SZOBA_ID": "9",
                                    "(No column name)": "6"
                                },
                                {
                                    "SZOBA_ID": "10",
                                    "(No column name)": "4"
                                },
                                {
                                    "SZOBA_ID": "10",
                                    "(No column name)": "4"
                                },
                                {
                                    "SZOBA_ID": "11",
                                    "(No column name)": "3"
                                },
                                {
                                    "SZOBA_ID": "11",
                                    "(No column name)": "1"
                                },
                                {
                                    "SZOBA_ID": "11",
                                    "(No column name)": "4"
                                },
                                {
                                    "SZOBA_ID": "12",
                                    "(No column name)": "8"
                                },
                                {
                                    "SZOBA_ID": "12",
                                    "(No column name)": "1"
                                },
                                {
                                    "SZOBA_ID": "12",
                                    "(No column name)": "9"
                                },
                                {
                                    "SZOBA_ID": "13",
                                    "(No column name)": "3"
                                },
                                {
                                    "SZOBA_ID": "13",
                                    "(No column name)": "1"
                                },
                                {
                                    "SZOBA_ID": "13",
                                    "(No column name)": "4"
                                },
                                {
                                    "SZOBA_ID": "14",
                                    "(No column name)": "2"
                                },
                                {
                                    "SZOBA_ID": "14",
                                    "(No column name)": "1"
                                },
                                {
                                    "SZOBA_ID": "14",
                                    "(No column name)": "3"
                                },
                                {
                                    "SZOBA_ID": "15",
                                    "(No column name)": "4"
                                },
                                {
                                    "SZOBA_ID": "15",
                                    "(No column name)": "2"
                                },
                                {
                                    "SZOBA_ID": "15",
                                    "(No column name)": "6"
                                },
                                {
                                    "SZOBA_ID": "16",
                                    "(No column name)": "4"
                                },
                                {
                                    "SZOBA_ID": "16",
                                    "(No column name)": "1"
                                },
                                {
                                    "SZOBA_ID": "16",
                                    "(No column name)": "5"
                                },
                                {
                                    "SZOBA_ID": "17",
                                    "(No column name)": "5"
                                },
                                {
                                    "SZOBA_ID": "17",
                                    "(No column name)": "1"
                                },
                                {
                                    "SZOBA_ID": "17",
                                    "(No column name)": "6"
                                },
                                {
                                    "SZOBA_ID": "18",
                                    "(No column name)": "5"
                                },
                                {
                                    "SZOBA_ID": "18",
                                    "(No column name)": "1"
                                },
                                {
                                    "SZOBA_ID": "18",
                                    "(No column name)": "6"
                                },
                                {
                                    "SZOBA_ID": "19",
                                    "(No column name)": "5"
                                },
                                {
                                    "SZOBA_ID": "19",
                                    "(No column name)": "1"
                                },
                                {
                                    "SZOBA_ID": "19",
                                    "(No column name)": "6"
                                },
                                {
                                    "SZOBA_ID": "20",
                                    "(No column name)": "5"
                                },
                                {
                                    "SZOBA_ID": "20",
                                    "(No column name)": "5"
                                },
                                {
                                    "SZOBA_ID": "21",
                                    "(No column name)": "4"
                                },
                                {
                                    "SZOBA_ID": "21",
                                    "(No column name)": "4"
                                },
                                {
                                    "SZOBA_ID": "22",
                                    "(No column name)": "6"
                                },
                                {
                                    "SZOBA_ID": "22",
                                    "(No column name)": "6"
                                },
                                {
                                    "SZOBA_ID": "23",
                                    "(No column name)": "3"
                                },
                                {
                                    "SZOBA_ID": "23",
                                    "(No column name)": "3"
                                },
                                {
                                    "SZOBA_ID": "24",
                                    "(No column name)": "2"
                                },
                                {
                                    "SZOBA_ID": "24",
                                    "(No column name)": "1"
                                },
                                {
                                    "SZOBA_ID": "24",
                                    "(No column name)": "3"
                                },
                                {
                                    "SZOBA_ID": "25",
                                    "(No column name)": "2"
                                },
                                {
                                    "SZOBA_ID": "25",
                                    "(No column name)": "2"
                                },
                                {
                                    "SZOBA_ID": "26",
                                    "(No column name)": "2"
                                },
                                {
                                    "SZOBA_ID": "26",
                                    "(No column name)": "2"
                                },
                                {
                                    "SZOBA_ID": "27",
                                    "(No column name)": "6"
                                },
                                {
                                    "SZOBA_ID": "27",
                                    "(No column name)": "1"
                                },
                                {
                                    "SZOBA_ID": "27",
                                    "(No column name)": "7"
                                },
                                {
                                    "SZOBA_ID": "28",
                                    "(No column name)": "5"
                                },
                                {
                                    "SZOBA_ID": "28",
                                    "(No column name)": "1"
                                },
                                {
                                    "SZOBA_ID": "28",
                                    "(No column name)": "6"
                                },
                                {
                                    "SZOBA_ID": "29",
                                    "(No column name)": "5"
                                },
                                {
                                    "SZOBA_ID": "29",
                                    "(No column name)": "1"
                                },
                                {
                                    "SZOBA_ID": "29",
                                    "(No column name)": "6"
                                },
                                {
                                    "SZOBA_ID": "30",
                                    "(No column name)": "3"
                                },
                                {
                                    "SZOBA_ID": "30",
                                    "(No column name)": "3"
                                },
                                {
                                    "SZOBA_ID": "31",
                                    "(No column name)": "3"
                                },
                                {
                                    "SZOBA_ID": "31",
                                    "(No column name)": "3"
                                },
                                {
                                    "SZOBA_ID": "32",
                                    "(No column name)": "1"
                                },
                                {
                                    "SZOBA_ID": "32",
                                    "(No column name)": "1"
                                },
                                {
                                    "SZOBA_ID": "33",
                                    "(No column name)": "6"
                                },
                                {
                                    "SZOBA_ID": "33",
                                    "(No column name)": "6"
                                },
                                {
                                    "SZOBA_ID": "34",
                                    "(No column name)": "4"
                                },
                                {
                                    "SZOBA_ID": "34",
                                    "(No column name)": "4"
                                },
                                {
                                    "SZOBA_ID": "35",
                                    "(No column name)": "6"
                                },
                                {
                                    "SZOBA_ID": "35",
                                    "(No column name)": "3"
                                },
                                {
                                    "SZOBA_ID": "35",
                                    "(No column name)": "9"
                                },
                                {
                                    "SZOBA_ID": "36",
                                    "(No column name)": "6"
                                },
                                {
                                    "SZOBA_ID": "36",
                                    "(No column name)": "6"
                                },
                                {
                                    "SZOBA_ID": "37",
                                    "(No column name)": "3"
                                },
                                {
                                    "SZOBA_ID": "37",
                                    "(No column name)": "3"
                                },
                                {
                                    "SZOBA_ID": "38",
                                    "(No column name)": "5"
                                },
                                {
                                    "SZOBA_ID": "38",
                                    "(No column name)": "3"
                                },
                                {
                                    "SZOBA_ID": "38",
                                    "(No column name)": "8"
                                },
                                {
                                    "SZOBA_ID": "39",
                                    "(No column name)": "4"
                                },
                                {
                                    "SZOBA_ID": "39",
                                    "(No column name)": "3"
                                },
                                {
                                    "SZOBA_ID": "39",
                                    "(No column name)": "7"
                                },
                                {
                                    "SZOBA_ID": "40",
                                    "(No column name)": "4"
                                },
                                {
                                    "SZOBA_ID": "40",
                                    "(No column name)": "4"
                                },
                                {
                                    "SZOBA_ID": "41",
                                    "(No column name)": "2"
                                },
                                {
                                    "SZOBA_ID": "41",
                                    "(No column name)": "2"
                                },
                                {
                                    "SZOBA_ID": "42",
                                    "(No column name)": "5"
                                },
                                {
                                    "SZOBA_ID": "42",
                                    "(No column name)": "1"
                                },
                                {
                                    "SZOBA_ID": "42",
                                    "(No column name)": "6"
                                },
                                {
                                    "SZOBA_ID": "43",
                                    "(No column name)": "6"
                                },
                                {
                                    "SZOBA_ID": "43",
                                    "(No column name)": "2"
                                },
                                {
                                    "SZOBA_ID": "43",
                                    "(No column name)": "8"
                                },
                                {
                                    "SZOBA_ID": "44",
                                    "(No column name)": "4"
                                },
                                {
                                    "SZOBA_ID": "44",
                                    "(No column name)": "2"
                                },
                                {
                                    "SZOBA_ID": "44",
                                    "(No column name)": "6"
                                },
                                {
                                    "SZOBA_ID": "45",
                                    "(No column name)": "5"
                                },
                                {
                                    "SZOBA_ID": "45",
                                    "(No column name)": "5"
                                },
                                {
                                    "SZOBA_ID": "46",
                                    "(No column name)": "3"
                                },
                                {
                                    "SZOBA_ID": "46",
                                    "(No column name)": "1"
                                },
                                {
                                    "SZOBA_ID": "46",
                                    "(No column name)": "4"
                                },
                                {
                                    "SZOBA_ID": "47",
                                    "(No column name)": "2"
                                },
                                {
                                    "SZOBA_ID": "47",
                                    "(No column name)": "2"
                                },
                                {
                                    "SZOBA_ID": "48",
                                    "(No column name)": "6"
                                },
                                {
                                    "SZOBA_ID": "48",
                                    "(No column name)": "3"
                                },
                                {
                                    "SZOBA_ID": "48",
                                    "(No column name)": "9"
                                },
                                {
                                    "SZOBA_ID": "49",
                                    "(No column name)": "6"
                                },
                                {
                                    "SZOBA_ID": "49",
                                    "(No column name)": "1"
                                },
                                {
                                    "SZOBA_ID": "49",
                                    "(No column name)": "7"
                                },
                                {
                                    "SZOBA_ID": "50",
                                    "(No column name)": "4"
                                },
                                {
                                    "SZOBA_ID": "50",
                                    "(No column name)": "4"
                                },
                                {
                                    "SZOBA_ID": "51",
                                    "(No column name)": "3"
                                },
                                {
                                    "SZOBA_ID": "51",
                                    "(No column name)": "2"
                                },
                                {
                                    "SZOBA_ID": "51",
                                    "(No column name)": "5"
                                },
                                {
                                    "SZOBA_ID": "52",
                                    "(No column name)": "3"
                                },
                                {
                                    "SZOBA_ID": "52",
                                    "(No column name)": "2"
                                },
                                {
                                    "SZOBA_ID": "52",
                                    "(No column name)": "5"
                                },
                                {
                                    "SZOBA_ID": "53",
                                    "(No column name)": "2"
                                },
                                {
                                    "SZOBA_ID": "53",
                                    "(No column name)": "2"
                                },
                                {
                                    "SZOBA_ID": "54",
                                    "(No column name)": "6"
                                },
                                {
                                    "SZOBA_ID": "54",
                                    "(No column name)": "6"
                                },
                                {
                                    "SZOBA_ID": "55",
                                    "(No column name)": "6"
                                },
                                {
                                    "SZOBA_ID": "55",
                                    "(No column name)": "2"
                                },
                                {
                                    "SZOBA_ID": "55",
                                    "(No column name)": "8"
                                },
                                {
                                    "SZOBA_ID": "56",
                                    "(No column name)": "2"
                                },
                                {
                                    "SZOBA_ID": "56",
                                    "(No column name)": "2"
                                },
                                {
                                    "SZOBA_ID": "57",
                                    "(No column name)": "2"
                                },
                                {
                                    "SZOBA_ID": "57",
                                    "(No column name)": "2"
                                },
                                {
                                    "SZOBA_ID": "57",
                                    "(No column name)": "4"
                                },
                                {
                                    "SZOBA_ID": "58",
                                    "(No column name)": "12"
                                },
                                {
                                    "SZOBA_ID": "58",
                                    "(No column name)": "1"
                                },
                                {
                                    "SZOBA_ID": "58",
                                    "(No column name)": "13"
                                },
                                {
                                    "SZOBA_ID": "59",
                                    "(No column name)": "6"
                                },
                                {
                                    "SZOBA_ID": "59",
                                    "(No column name)": "1"
                                },
                                {
                                    "SZOBA_ID": "59",
                                    "(No column name)": "7"
                                },
                                {
                                    "SZOBA_ID": "60",
                                    "(No column name)": "1"
                                },
                                {
                                    "SZOBA_ID": "60",
                                    "(No column name)": "1"
                                },
                                {
                                    "SZOBA_ID": "61",
                                    "(No column name)": "4"
                                },
                                {
                                    "SZOBA_ID": "61",
                                    "(No column name)": "1"
                                },
                                {
                                    "SZOBA_ID": "61",
                                    "(No column name)": "5"
                                },
                                {
                                    "SZOBA_ID": "62",
                                    "(No column name)": "4"
                                },
                                {
                                    "SZOBA_ID": "62",
                                    "(No column name)": "1"
                                },
                                {
                                    "SZOBA_ID": "62",
                                    "(No column name)": "5"
                                },
                                {
                                    "SZOBA_ID": "63",
                                    "(No column name)": "4"
                                },
                                {
                                    "SZOBA_ID": "63",
                                    "(No column name)": "4"
                                },
                                {
                                    "SZOBA_ID": "64",
                                    "(No column name)": "3"
                                },
                                {
                                    "SZOBA_ID": "64",
                                    "(No column name)": "3"
                                },
                                {
                                    "SZOBA_ID": "64",
                                    "(No column name)": "6"
                                },
                                {
                                    "SZOBA_ID": "65",
                                    "(No column name)": "1"
                                },
                                {
                                    "SZOBA_ID": "65",
                                    "(No column name)": "1"
                                },
                                {
                                    "SZOBA_ID": "66",
                                    "(No column name)": "4"
                                },
                                {
                                    "SZOBA_ID": "66",
                                    "(No column name)": "4"
                                },
                                {
                                    "SZOBA_ID": "67",
                                    "(No column name)": "4"
                                },
                                {
                                    "SZOBA_ID": "67",
                                    "(No column name)": "2"
                                },
                                {
                                    "SZOBA_ID": "67",
                                    "(No column name)": "6"
                                },
                                {
                                    "SZOBA_ID": "68",
                                    "(No column name)": "3"
                                },
                                {
                                    "SZOBA_ID": "68",
                                    "(No column name)": "3"
                                },
                                {
                                    "SZOBA_ID": "69",
                                    "(No column name)": "4"
                                },
                                {
                                    "SZOBA_ID": "69",
                                    "(No column name)": "4"
                                },
                                {
                                    "SZOBA_ID": "70",
                                    "(No column name)": "10"
                                },
                                {
                                    "SZOBA_ID": "70",
                                    "(No column name)": "1"
                                },
                                {
                                    "SZOBA_ID": "70",
                                    "(No column name)": "11"
                                },
                                {
                                    "SZOBA_ID": "71",
                                    "(No column name)": "3"
                                },
                                {
                                    "SZOBA_ID": "71",
                                    "(No column name)": "3"
                                },
                                {
                                    "SZOBA_ID": "72",
                                    "(No column name)": "4"
                                },
                                {
                                    "SZOBA_ID": "72",
                                    "(No column name)": "4"
                                },
                                {
                                    "SZOBA_ID": "73",
                                    "(No column name)": "4"
                                },
                                {
                                    "SZOBA_ID": "73",
                                    "(No column name)": "4"
                                },
                                {
                                    "SZOBA_ID": "74",
                                    "(No column name)": "9"
                                },
                                {
                                    "SZOBA_ID": "74",
                                    "(No column name)": "9"
                                },
                                {
                                    "SZOBA_ID": "75",
                                    "(No column name)": "1"
                                },
                                {
                                    "SZOBA_ID": "75",
                                    "(No column name)": "2"
                                },
                                {
                                    "SZOBA_ID": "75",
                                    "(No column name)": "3"
                                },
                                {
                                    "SZOBA_ID": "76",
                                    "(No column name)": "2"
                                },
                                {
                                    "SZOBA_ID": "76",
                                    "(No column name)": "1"
                                },
                                {
                                    "SZOBA_ID": "76",
                                    "(No column name)": "3"
                                },
                                {
                                    "SZOBA_ID": "77",
                                    "(No column name)": "4"
                                },
                                {
                                    "SZOBA_ID": "77",
                                    "(No column name)": "2"
                                },
                                {
                                    "SZOBA_ID": "77",
                                    "(No column name)": "6"
                                },
                                {
                                    "SZOBA_ID": "78",
                                    "(No column name)": "5"
                                },
                                {
                                    "SZOBA_ID": "78",
                                    "(No column name)": "1"
                                },
                                {
                                    "SZOBA_ID": "78",
                                    "(No column name)": "6"
                                },
                                {
                                    "SZOBA_ID": "79",
                                    "(No column name)": "4"
                                },
                                {
                                    "SZOBA_ID": "79",
                                    "(No column name)": "1"
                                },
                                {
                                    "SZOBA_ID": "79",
                                    "(No column name)": "5"
                                },
                                {
                                    "SZOBA_ID": "80",
                                    "(No column name)": "7"
                                },
                                {
                                    "SZOBA_ID": "80",
                                    "(No column name)": "7"
                                },
                                {
                                    "SZOBA_ID": "81",
                                    "(No column name)": "1"
                                },
                                {
                                    "SZOBA_ID": "81",
                                    "(No column name)": "4"
                                },
                                {
                                    "SZOBA_ID": "81",
                                    "(No column name)": "5"
                                },
                                {
                                    "SZOBA_ID": "82",
                                    "(No column name)": "6"
                                },
                                {
                                    "SZOBA_ID": "82",
                                    "(No column name)": "6"
                                },
                                {
                                    "SZOBA_ID": "83",
                                    "(No column name)": "8"
                                },
                                {
                                    "SZOBA_ID": "83",
                                    "(No column name)": "8"
                                },
                                {
                                    "SZOBA_ID": "84",
                                    "(No column name)": "4"
                                },
                                {
                                    "SZOBA_ID": "84",
                                    "(No column name)": "4"
                                },
                                {
                                    "SZOBA_ID": "85",
                                    "(No column name)": "3"
                                },
                                {
                                    "SZOBA_ID": "85",
                                    "(No column name)": "1"
                                },
                                {
                                    "SZOBA_ID": "85",
                                    "(No column name)": "4"
                                },
                                {
                                    "SZOBA_ID": "86",
                                    "(No column name)": "4"
                                },
                                {
                                    "SZOBA_ID": "86",
                                    "(No column name)": "1"
                                },
                                {
                                    "SZOBA_ID": "86",
                                    "(No column name)": "5"
                                },
                                {
                                    "SZOBA_ID": "87",
                                    "(No column name)": "4"
                                },
                                {
                                    "SZOBA_ID": "87",
                                    "(No column name)": "1"
                                },
                                {
                                    "SZOBA_ID": "87",
                                    "(No column name)": "5"
                                },
                                {
                                    "SZOBA_ID": "88",
                                    "(No column name)": "6"
                                },
                                {
                                    "SZOBA_ID": "88",
                                    "(No column name)": "2"
                                },
                                {
                                    "SZOBA_ID": "88",
                                    "(No column name)": "8"
                                },
                                {
                                    "SZOBA_ID": "89",
                                    "(No column name)": "7"
                                },
                                {
                                    "SZOBA_ID": "89",
                                    "(No column name)": "1"
                                },
                                {
                                    "SZOBA_ID": "89",
                                    "(No column name)": "8"
                                },
                                {
                                    "SZOBA_ID": "90",
                                    "(No column name)": "4"
                                },
                                {
                                    "SZOBA_ID": "90",
                                    "(No column name)": "4"
                                },
                                {
                                    "SZOBA_ID": "91",
                                    "(No column name)": "4"
                                },
                                {
                                    "SZOBA_ID": "91",
                                    "(No column name)": "4"
                                },
                                {
                                    "SZOBA_ID": "92",
                                    "(No column name)": "4"
                                },
                                {
                                    "SZOBA_ID": "92",
                                    "(No column name)": "2"
                                },
                                {
                                    "SZOBA_ID": "92",
                                    "(No column name)": "6"
                                },
                                {
                                    "SZOBA_ID": "93",
                                    "(No column name)": "5"
                                },
                                {
                                    "SZOBA_ID": "93",
                                    "(No column name)": "5"
                                },
                                {
                                    "SZOBA_ID": "94",
                                    "(No column name)": "8"
                                },
                                {
                                    "SZOBA_ID": "94",
                                    "(No column name)": "2"
                                },
                                {
                                    "SZOBA_ID": "94",
                                    "(No column name)": "10"
                                },
                                {
                                    "SZOBA_ID": "95",
                                    "(No column name)": "3"
                                },
                                {
                                    "SZOBA_ID": "95",
                                    "(No column name)": "1"
                                },
                                {
                                    "SZOBA_ID": "95",
                                    "(No column name)": "4"
                                },
                                {
                                    "SZOBA_ID": "96",
                                    "(No column name)": "5"
                                },
                                {
                                    "SZOBA_ID": "96",
                                    "(No column name)": "2"
                                },
                                {
                                    "SZOBA_ID": "96",
                                    "(No column name)": "7"
                                },
                                {
                                    "SZOBA_ID": "97",
                                    "(No column name)": "5"
                                },
                                {
                                    "SZOBA_ID": "97",
                                    "(No column name)": "2"
                                },
                                {
                                    "SZOBA_ID": "97",
                                    "(No column name)": "7"
                                },
                                {
                                    "SZOBA_ID": "98",
                                    "(No column name)": "4"
                                },
                                {
                                    "SZOBA_ID": "98",
                                    "(No column name)": "4"
                                },
                                {
                                    "SZOBA_ID": "99",
                                    "(No column name)": "4"
                                },
                                {
                                    "SZOBA_ID": "99",
                                    "(No column name)": "1"
                                },
                                {
                                    "SZOBA_ID": "99",
                                    "(No column name)": "5"
                                },
                                {
                                    "SZOBA_ID": "100",
                                    "(No column name)": "3"
                                },
                                {
                                    "SZOBA_ID": "100",
                                    "(No column name)": "1"
                                },
                                {
                                    "SZOBA_ID": "100",
                                    "(No column name)": "4"
                                },
                                {
                                    "SZOBA_ID": "101",
                                    "(No column name)": "2"
                                },
                                {
                                    "SZOBA_ID": "101",
                                    "(No column name)": "1"
                                },
                                {
                                    "SZOBA_ID": "101",
                                    "(No column name)": "3"
                                },
                                {
                                    "SZOBA_ID": "102",
                                    "(No column name)": "2"
                                },
                                {
                                    "SZOBA_ID": "102",
                                    "(No column name)": "2"
                                },
                                {
                                    "SZOBA_ID": "103",
                                    "(No column name)": "3"
                                },
                                {
                                    "SZOBA_ID": "103",
                                    "(No column name)": "1"
                                },
                                {
                                    "SZOBA_ID": "103",
                                    "(No column name)": "4"
                                },
                                {
                                    "SZOBA_ID": "104",
                                    "(No column name)": "2"
                                },
                                {
                                    "SZOBA_ID": "104",
                                    "(No column name)": "2"
                                },
                                {
                                    "SZOBA_ID": "104",
                                    "(No column name)": "4"
                                },
                                {
                                    "SZOBA_ID": "105",
                                    "(No column name)": "1"
                                },
                                {
                                    "SZOBA_ID": "105",
                                    "(No column name)": "1"
                                },
                                {
                                    "SZOBA_ID": "105",
                                    "(No column name)": "2"
                                },
                                {
                                    "SZOBA_ID": "106",
                                    "(No column name)": "5"
                                },
                                {
                                    "SZOBA_ID": "106",
                                    "(No column name)": "1"
                                },
                                {
                                    "SZOBA_ID": "106",
                                    "(No column name)": "6"
                                },
                                {
                                    "SZOBA_ID": "107",
                                    "(No column name)": "3"
                                },
                                {
                                    "SZOBA_ID": "107",
                                    "(No column name)": "2"
                                },
                                {
                                    "SZOBA_ID": "107",
                                    "(No column name)": "5"
                                },
                                {
                                    "SZOBA_ID": "108",
                                    "(No column name)": "2"
                                },
                                {
                                    "SZOBA_ID": "108",
                                    "(No column name)": "2"
                                },
                                {
                                    "SZOBA_ID": "109",
                                    "(No column name)": "6"
                                },
                                {
                                    "SZOBA_ID": "109",
                                    "(No column name)": "1"
                                },
                                {
                                    "SZOBA_ID": "109",
                                    "(No column name)": "7"
                                },
                                {
                                    "SZOBA_ID": "110",
                                    "(No column name)": "6"
                                },
                                {
                                    "SZOBA_ID": "110",
                                    "(No column name)": "2"
                                },
                                {
                                    "SZOBA_ID": "110",
                                    "(No column name)": "8"
                                },
                                {
                                    "SZOBA_ID": "111",
                                    "(No column name)": "5"
                                },
                                {
                                    "SZOBA_ID": "111",
                                    "(No column name)": "5"
                                },
                                {
                                    "SZOBA_ID": "112",
                                    "(No column name)": "4"
                                },
                                {
                                    "SZOBA_ID": "112",
                                    "(No column name)": "1"
                                },
                                {
                                    "SZOBA_ID": "112",
                                    "(No column name)": "5"
                                },
                                {
                                    "SZOBA_ID": "113",
                                    "(No column name)": "3"
                                },
                                {
                                    "SZOBA_ID": "113",
                                    "(No column name)": "2"
                                },
                                {
                                    "SZOBA_ID": "113",
                                    "(No column name)": "5"
                                },
                                {
                                    "SZOBA_ID": "114",
                                    "(No column name)": "3"
                                },
                                {
                                    "SZOBA_ID": "114",
                                    "(No column name)": "1"
                                },
                                {
                                    "SZOBA_ID": "114",
                                    "(No column name)": "4"
                                },
                                {
                                    "SZOBA_ID": "115",
                                    "(No column name)": "5"
                                },
                                {
                                    "SZOBA_ID": "115",
                                    "(No column name)": "2"
                                },
                                {
                                    "SZOBA_ID": "115",
                                    "(No column name)": "7"
                                },
                                {
                                    "SZOBA_ID": "116",
                                    "(No column name)": "2"
                                },
                                {
                                    "SZOBA_ID": "116",
                                    "(No column name)": "2"
                                },
                                {
                                    "SZOBA_ID": "117",
                                    "(No column name)": "7"
                                },
                                {
                                    "SZOBA_ID": "117",
                                    "(No column name)": "1"
                                },
                                {
                                    "SZOBA_ID": "117",
                                    "(No column name)": "8"
                                },
                                {
                                    "SZOBA_ID": "118",
                                    "(No column name)": "5"
                                },
                                {
                                    "SZOBA_ID": "118",
                                    "(No column name)": "2"
                                },
                                {
                                    "SZOBA_ID": "118",
                                    "(No column name)": "7"
                                },
                                {
                                    "SZOBA_ID": "119",
                                    "(No column name)": "3"
                                },
                                {
                                    "SZOBA_ID": "119",
                                    "(No column name)": "2"
                                },
                                {
                                    "SZOBA_ID": "119",
                                    "(No column name)": "5"
                                },
                                {
                                    "SZOBA_ID": "120",
                                    "(No column name)": "4"
                                },
                                {
                                    "SZOBA_ID": "120",
                                    "(No column name)": "2"
                                },
                                {
                                    "SZOBA_ID": "120",
                                    "(No column name)": "6"
                                },
                                {
                                    "SZOBA_ID": "121",
                                    "(No column name)": "8"
                                },
                                {
                                    "SZOBA_ID": "121",
                                    "(No column name)": "8"
                                },
                                {
                                    "SZOBA_ID": "122",
                                    "(No column name)": "8"
                                },
                                {
                                    "SZOBA_ID": "122",
                                    "(No column name)": "1"
                                },
                                {
                                    "SZOBA_ID": "122",
                                    "(No column name)": "9"
                                },
                                {
                                    "SZOBA_ID": "123",
                                    "(No column name)": "5"
                                },
                                {
                                    "SZOBA_ID": "123",
                                    "(No column name)": "5"
                                },
                                {
                                    "SZOBA_ID": "124",
                                    "(No column name)": "4"
                                },
                                {
                                    "SZOBA_ID": "124",
                                    "(No column name)": "2"
                                },
                                {
                                    "SZOBA_ID": "124",
                                    "(No column name)": "6"
                                },
                                {
                                    "SZOBA_ID": "125",
                                    "(No column name)": "1"
                                },
                                {
                                    "SZOBA_ID": "125",
                                    "(No column name)": "1"
                                },
                                {
                                    "SZOBA_ID": "126",
                                    "(No column name)": "4"
                                },
                                {
                                    "SZOBA_ID": "126",
                                    "(No column name)": "2"
                                },
                                {
                                    "SZOBA_ID": "126",
                                    "(No column name)": "6"
                                },
                                {
                                    "SZOBA_ID": "127",
                                    "(No column name)": "6"
                                },
                                {
                                    "SZOBA_ID": "127",
                                    "(No column name)": "1"
                                },
                                {
                                    "SZOBA_ID": "127",
                                    "(No column name)": "7"
                                },
                                {
                                    "SZOBA_ID": "128",
                                    "(No column name)": "3"
                                },
                                {
                                    "SZOBA_ID": "128",
                                    "(No column name)": "2"
                                },
                                {
                                    "SZOBA_ID": "128",
                                    "(No column name)": "5"
                                },
                                {
                                    "SZOBA_ID": "129",
                                    "(No column name)": "2"
                                },
                                {
                                    "SZOBA_ID": "129",
                                    "(No column name)": "2"
                                },
                                {
                                    "SZOBA_ID": "129",
                                    "(No column name)": "4"
                                },
                                {
                                    "SZOBA_ID": "130",
                                    "(No column name)": "5"
                                },
                                {
                                    "SZOBA_ID": "130",
                                    "(No column name)": "1"
                                },
                                {
                                    "SZOBA_ID": "130",
                                    "(No column name)": "6"
                                },
                                {
                                    "SZOBA_ID": "131",
                                    "(No column name)": "4"
                                },
                                {
                                    "SZOBA_ID": "131",
                                    "(No column name)": "1"
                                },
                                {
                                    "SZOBA_ID": "131",
                                    "(No column name)": "5"
                                },
                                {
                                    "SZOBA_ID": "132",
                                    "(No column name)": "5"
                                },
                                {
                                    "SZOBA_ID": "132",
                                    "(No column name)": "1"
                                },
                                {
                                    "SZOBA_ID": "132",
                                    "(No column name)": "6"
                                },
                                {
                                    "SZOBA_ID": "133",
                                    "(No column name)": "5"
                                },
                                {
                                    "SZOBA_ID": "133",
                                    "(No column name)": "1"
                                },
                                {
                                    "SZOBA_ID": "133",
                                    "(No column name)": "6"
                                },
                                {
                                    "SZOBA_ID": "134",
                                    "(No column name)": "5"
                                },
                                {
                                    "SZOBA_ID": "134",
                                    "(No column name)": "1"
                                },
                                {
                                    "SZOBA_ID": "134",
                                    "(No column name)": "6"
                                },
                                {
                                    "SZOBA_ID": "135",
                                    "(No column name)": "3"
                                },
                                {
                                    "SZOBA_ID": "135",
                                    "(No column name)": "3"
                                },
                                {
                                    "SZOBA_ID": "136",
                                    "(No column name)": "3"
                                },
                                {
                                    "SZOBA_ID": "136",
                                    "(No column name)": "3"
                                },
                                {
                                    "SZOBA_ID": "137",
                                    "(No column name)": "6"
                                },
                                {
                                    "SZOBA_ID": "137",
                                    "(No column name)": "6"
                                },
                                {
                                    "SZOBA_ID": "138",
                                    "(No column name)": "7"
                                },
                                {
                                    "SZOBA_ID": "138",
                                    "(No column name)": "7"
                                },
                                {
                                    "SZOBA_ID": "139",
                                    "(No column name)": "5"
                                },
                                {
                                    "SZOBA_ID": "139",
                                    "(No column name)": "2"
                                },
                                {
                                    "SZOBA_ID": "139",
                                    "(No column name)": "7"
                                },
                                {
                                    "SZOBA_ID": "140",
                                    "(No column name)": "8"
                                },
                                {
                                    "SZOBA_ID": "140",
                                    "(No column name)": "8"
                                },
                                {
                                    "SZOBA_ID": "141",
                                    "(No column name)": "6"
                                },
                                {
                                    "SZOBA_ID": "141",
                                    "(No column name)": "6"
                                },
                                {
                                    "SZOBA_ID": "142",
                                    "(No column name)": "1"
                                },
                                {
                                    "SZOBA_ID": "142",
                                    "(No column name)": "1"
                                },
                                {
                                    "SZOBA_ID": "142",
                                    "(No column name)": "2"
                                },
                                {
                                    "SZOBA_ID": "143",
                                    "(No column name)": "6"
                                },
                                {
                                    "SZOBA_ID": "143",
                                    "(No column name)": "1"
                                },
                                {
                                    "SZOBA_ID": "143",
                                    "(No column name)": "7"
                                },
                                {
                                    "SZOBA_ID": "144",
                                    "(No column name)": "4"
                                },
                                {
                                    "SZOBA_ID": "144",
                                    "(No column name)": "1"
                                },
                                {
                                    "SZOBA_ID": "144",
                                    "(No column name)": "5"
                                },
                                {
                                    "SZOBA_ID": "145",
                                    "(No column name)": "5"
                                },
                                {
                                    "SZOBA_ID": "145",
                                    "(No column name)": "1"
                                },
                                {
                                    "SZOBA_ID": "145",
                                    "(No column name)": "6"
                                },
                                {
                                    "SZOBA_ID": "146",
                                    "(No column name)": "5"
                                },
                                {
                                    "SZOBA_ID": "146",
                                    "(No column name)": "1"
                                },
                                {
                                    "SZOBA_ID": "146",
                                    "(No column name)": "6"
                                },
                                {
                                    "SZOBA_ID": "147",
                                    "(No column name)": "1"
                                },
                                {
                                    "SZOBA_ID": "147",
                                    "(No column name)": "1"
                                },
                                {
                                    "SZOBA_ID": "148",
                                    "(No column name)": "5"
                                },
                                {
                                    "SZOBA_ID": "148",
                                    "(No column name)": "1"
                                },
                                {
                                    "SZOBA_ID": "148",
                                    "(No column name)": "6"
                                },
                                {
                                    "SZOBA_ID": "149",
                                    "(No column name)": "6"
                                },
                                {
                                    "SZOBA_ID": "149",
                                    "(No column name)": "1"
                                },
                                {
                                    "SZOBA_ID": "149",
                                    "(No column name)": "7"
                                },
                                {
                                    "SZOBA_ID": "150",
                                    "(No column name)": "5"
                                },
                                {
                                    "SZOBA_ID": "150",
                                    "(No column name)": "1"
                                },
                                {
                                    "SZOBA_ID": "150",
                                    "(No column name)": "6"
                                },
                                {
                                    "SZOBA_ID": "151",
                                    "(No column name)": "3"
                                },
                                {
                                    "SZOBA_ID": "151",
                                    "(No column name)": "3"
                                },
                                {
                                    "SZOBA_ID": "152",
                                    "(No column name)": "3"
                                },
                                {
                                    "SZOBA_ID": "152",
                                    "(No column name)": "1"
                                },
                                {
                                    "SZOBA_ID": "152",
                                    "(No column name)": "4"
                                },
                                {
                                    "SZOBA_ID": "153",
                                    "(No column name)": "2"
                                },
                                {
                                    "SZOBA_ID": "153",
                                    "(No column name)": "3"
                                },
                                {
                                    "SZOBA_ID": "153",
                                    "(No column name)": "5"
                                },
                                {
                                    "SZOBA_ID": "154",
                                    "(No column name)": "4"
                                },
                                {
                                    "SZOBA_ID": "154",
                                    "(No column name)": "1"
                                },
                                {
                                    "SZOBA_ID": "154",
                                    "(No column name)": "5"
                                },
                                {
                                    "SZOBA_ID": "155",
                                    "(No column name)": "4"
                                },
                                {
                                    "SZOBA_ID": "155",
                                    "(No column name)": "1"
                                },
                                {
                                    "SZOBA_ID": "155",
                                    "(No column name)": "5"
                                },
                                {
                                    "SZOBA_ID": "156",
                                    "(No column name)": "4"
                                },
                                {
                                    "SZOBA_ID": "156",
                                    "(No column name)": "3"
                                },
                                {
                                    "SZOBA_ID": "156",
                                    "(No column name)": "7"
                                },
                                {
                                    "SZOBA_ID": "157",
                                    "(No column name)": "4"
                                },
                                {
                                    "SZOBA_ID": "157",
                                    "(No column name)": "1"
                                },
                                {
                                    "SZOBA_ID": "157",
                                    "(No column name)": "5"
                                },
                                {
                                    "SZOBA_ID": "158",
                                    "(No column name)": "3"
                                },
                                {
                                    "SZOBA_ID": "158",
                                    "(No column name)": "3"
                                },
                                {
                                    "SZOBA_ID": "160",
                                    "(No column name)": "4"
                                },
                                {
                                    "SZOBA_ID": "160",
                                    "(No column name)": "1"
                                },
                                {
                                    "SZOBA_ID": "160",
                                    "(No column name)": "5"
                                },
                                {
                                    "SZOBA_ID": "161",
                                    "(No column name)": "5"
                                },
                                {
                                    "SZOBA_ID": "161",
                                    "(No column name)": "1"
                                },
                                {
                                    "SZOBA_ID": "161",
                                    "(No column name)": "6"
                                },
                                {
                                    "SZOBA_ID": "162",
                                    "(No column name)": "3"
                                },
                                {
                                    "SZOBA_ID": "162",
                                    "(No column name)": "3"
                                },
                                {
                                    "SZOBA_ID": "163",
                                    "(No column name)": "6"
                                },
                                {
                                    "SZOBA_ID": "163",
                                    "(No column name)": "1"
                                },
                                {
                                    "SZOBA_ID": "163",
                                    "(No column name)": "7"
                                },
                                {
                                    "SZOBA_ID": "164",
                                    "(No column name)": "5"
                                },
                                {
                                    "SZOBA_ID": "164",
                                    "(No column name)": "5"
                                },
                                {
                                    "SZOBA_ID": "165",
                                    "(No column name)": "7"
                                },
                                {
                                    "SZOBA_ID": "165",
                                    "(No column name)": "7"
                                },
                                {
                                    "SZOBA_ID": "166",
                                    "(No column name)": "2"
                                },
                                {
                                    "SZOBA_ID": "166",
                                    "(No column name)": "1"
                                },
                                {
                                    "SZOBA_ID": "166",
                                    "(No column name)": "3"
                                },
                                {
                                    "SZOBA_ID": "167",
                                    "(No column name)": "1"
                                },
                                {
                                    "SZOBA_ID": "167",
                                    "(No column name)": "1"
                                },
                                {
                                    "SZOBA_ID": "167",
                                    "(No column name)": "2"
                                },
                                {
                                    "SZOBA_ID": "168",
                                    "(No column name)": "5"
                                },
                                {
                                    "SZOBA_ID": "168",
                                    "(No column name)": "5"
                                },
                                {
                                    "SZOBA_ID": "169",
                                    "(No column name)": "5"
                                },
                                {
                                    "SZOBA_ID": "169",
                                    "(No column name)": "1"
                                },
                                {
                                    "SZOBA_ID": "169",
                                    "(No column name)": "6"
                                },
                                {
                                    "SZOBA_ID": "170",
                                    "(No column name)": "5"
                                },
                                {
                                    "SZOBA_ID": "170",
                                    "(No column name)": "5"
                                },
                                {
                                    "SZOBA_ID": "171",
                                    "(No column name)": "4"
                                },
                                {
                                    "SZOBA_ID": "171",
                                    "(No column name)": "1"
                                },
                                {
                                    "SZOBA_ID": "171",
                                    "(No column name)": "5"
                                },
                                {
                                    "SZOBA_ID": "172",
                                    "(No column name)": "7"
                                },
                                {
                                    "SZOBA_ID": "172",
                                    "(No column name)": "2"
                                },
                                {
                                    "SZOBA_ID": "172",
                                    "(No column name)": "9"
                                },
                                {
                                    "SZOBA_ID": "173",
                                    "(No column name)": "3"
                                },
                                {
                                    "SZOBA_ID": "173",
                                    "(No column name)": "1"
                                },
                                {
                                    "SZOBA_ID": "173",
                                    "(No column name)": "4"
                                },
                                {
                                    "SZOBA_ID": "174",
                                    "(No column name)": "4"
                                },
                                {
                                    "SZOBA_ID": "174",
                                    "(No column name)": "4"
                                },
                                {
                                    "SZOBA_ID": "175",
                                    "(No column name)": "5"
                                },
                                {
                                    "SZOBA_ID": "175",
                                    "(No column name)": "5"
                                },
                                {
                                    "SZOBA_ID": "176",
                                    "(No column name)": "4"
                                },
                                {
                                    "SZOBA_ID": "176",
                                    "(No column name)": "2"
                                },
                                {
                                    "SZOBA_ID": "176",
                                    "(No column name)": "6"
                                },
                                {
                                    "SZOBA_ID": "177",
                                    "(No column name)": "3"
                                },
                                {
                                    "SZOBA_ID": "177",
                                    "(No column name)": "1"
                                },
                                {
                                    "SZOBA_ID": "177",
                                    "(No column name)": "4"
                                },
                                {
                                    "SZOBA_ID": "178",
                                    "(No column name)": "4"
                                },
                                {
                                    "SZOBA_ID": "178",
                                    "(No column name)": "4"
                                },
                                {
                                    "SZOBA_ID": "179",
                                    "(No column name)": "2"
                                },
                                {
                                    "SZOBA_ID": "179",
                                    "(No column name)": "1"
                                },
                                {
                                    "SZOBA_ID": "179",
                                    "(No column name)": "3"
                                },
                                {
                                    "SZOBA_ID": "180",
                                    "(No column name)": "1"
                                },
                                {
                                    "SZOBA_ID": "180",
                                    "(No column name)": "2"
                                },
                                {
                                    "SZOBA_ID": "180",
                                    "(No column name)": "3"
                                },
                                {
                                    "SZOBA_ID": "181",
                                    "(No column name)": "6"
                                },
                                {
                                    "SZOBA_ID": "181",
                                    "(No column name)": "6"
                                },
                                {
                                    "SZOBA_ID": "182",
                                    "(No column name)": "10"
                                },
                                {
                                    "SZOBA_ID": "182",
                                    "(No column name)": "2"
                                },
                                {
                                    "SZOBA_ID": "182",
                                    "(No column name)": "12"
                                },
                                {
                                    "SZOBA_ID": "183",
                                    "(No column name)": "3"
                                },
                                {
                                    "SZOBA_ID": "183",
                                    "(No column name)": "1"
                                },
                                {
                                    "SZOBA_ID": "183",
                                    "(No column name)": "4"
                                },
                                {
                                    "SZOBA_ID": "184",
                                    "(No column name)": "4"
                                },
                                {
                                    "SZOBA_ID": "184",
                                    "(No column name)": "4"
                                },
                                {
                                    "SZOBA_ID": "185",
                                    "(No column name)": "10"
                                },
                                {
                                    "SZOBA_ID": "185",
                                    "(No column name)": "2"
                                },
                                {
                                    "SZOBA_ID": "185",
                                    "(No column name)": "12"
                                },
                                {
                                    "SZOBA_ID": "186",
                                    "(No column name)": "3"
                                },
                                {
                                    "SZOBA_ID": "186",
                                    "(No column name)": "1"
                                },
                                {
                                    "SZOBA_ID": "186",
                                    "(No column name)": "4"
                                },
                                {
                                    "SZOBA_ID": "187",
                                    "(No column name)": "7"
                                },
                                {
                                    "SZOBA_ID": "187",
                                    "(No column name)": "7"
                                },
                                {
                                    "SZOBA_ID": "188",
                                    "(No column name)": "6"
                                },
                                {
                                    "SZOBA_ID": "188",
                                    "(No column name)": "6"
                                },
                                {
                                    "SZOBA_ID": "189",
                                    "(No column name)": "3"
                                },
                                {
                                    "SZOBA_ID": "189",
                                    "(No column name)": "2"
                                },
                                {
                                    "SZOBA_ID": "189",
                                    "(No column name)": "5"
                                },
                                {
                                    "SZOBA_ID": "190",
                                    "(No column name)": "4"
                                },
                                {
                                    "SZOBA_ID": "190",
                                    "(No column name)": "1"
                                },
                                {
                                    "SZOBA_ID": "190",
                                    "(No column name)": "5"
                                },
                                {
                                    "SZOBA_ID": "191",
                                    "(No column name)": "3"
                                },
                                {
                                    "SZOBA_ID": "191",
                                    "(No column name)": "2"
                                },
                                {
                                    "SZOBA_ID": "191",
                                    "(No column name)": "5"
                                },
                                {
                                    "SZOBA_ID": "192",
                                    "(No column name)": "2"
                                },
                                {
                                    "SZOBA_ID": "192",
                                    "(No column name)": "2"
                                },
                                {
                                    "SZOBA_ID": "193",
                                    "(No column name)": "7"
                                },
                                {
                                    "SZOBA_ID": "193",
                                    "(No column name)": "7"
                                },
                                {
                                    "SZOBA_ID": "194",
                                    "(No column name)": "1"
                                },
                                {
                                    "SZOBA_ID": "194",
                                    "(No column name)": "1"
                                },
                                {
                                    "SZOBA_ID": "195",
                                    "(No column name)": "4"
                                },
                                {
                                    "SZOBA_ID": "195",
                                    "(No column name)": "2"
                                },
                                {
                                    "SZOBA_ID": "195",
                                    "(No column name)": "6"
                                },
                                {
                                    "SZOBA_ID": "196",
                                    "(No column name)": "4"
                                },
                                {
                                    "SZOBA_ID": "196",
                                    "(No column name)": "4"
                                },
                                {
                                    "SZOBA_ID": "197",
                                    "(No column name)": "6"
                                },
                                {
                                    "SZOBA_ID": "197",
                                    "(No column name)": "6"
                                },
                                {
                                    "SZOBA_ID": "198",
                                    "(No column name)": "7"
                                },
                                {
                                    "SZOBA_ID": "198",
                                    "(No column name)": "1"
                                },
                                {
                                    "SZOBA_ID": "198",
                                    "(No column name)": "8"
                                },
                                {
                                    "SZOBA_ID": "NULL",
                                    "(No column name)": "1027"
                                }
                            ]
                        },
                        "text/html": [
                            "<table>",
                            "<tr><th>SZOBA_ID</th><th>(No column name)</th><th>(No column name)</th></tr>",
                            "<tr><td>1</td><td>2016</td><td>8</td></tr>",
                            "<tr><td>1</td><td>részösszeg</td><td>8</td></tr>",
                            "<tr><td>2</td><td>2016</td><td>4</td></tr>",
                            "<tr><td>2</td><td>részösszeg</td><td>4</td></tr>",
                            "<tr><td>3</td><td>2016</td><td>6</td></tr>",
                            "<tr><td>3</td><td>2017</td><td>2</td></tr>",
                            "<tr><td>3</td><td>részösszeg</td><td>8</td></tr>",
                            "<tr><td>4</td><td>2016</td><td>5</td></tr>",
                            "<tr><td>4</td><td>2017</td><td>1</td></tr>",
                            "<tr><td>4</td><td>részösszeg</td><td>6</td></tr>",
                            "<tr><td>5</td><td>2016</td><td>4</td></tr>",
                            "<tr><td>5</td><td>részösszeg</td><td>4</td></tr>",
                            "<tr><td>6</td><td>2016</td><td>6</td></tr>",
                            "<tr><td>6</td><td>részösszeg</td><td>6</td></tr>",
                            "<tr><td>7</td><td>2016</td><td>6</td></tr>",
                            "<tr><td>7</td><td>részösszeg</td><td>6</td></tr>",
                            "<tr><td>8</td><td>2016</td><td>5</td></tr>",
                            "<tr><td>8</td><td>részösszeg</td><td>5</td></tr>",
                            "<tr><td>9</td><td>2016</td><td>4</td></tr>",
                            "<tr><td>9</td><td>2017</td><td>2</td></tr>",
                            "<tr><td>9</td><td>részösszeg</td><td>6</td></tr>",
                            "<tr><td>10</td><td>2016</td><td>4</td></tr>",
                            "<tr><td>10</td><td>részösszeg</td><td>4</td></tr>",
                            "<tr><td>11</td><td>2016</td><td>3</td></tr>",
                            "<tr><td>11</td><td>2017</td><td>1</td></tr>",
                            "<tr><td>11</td><td>részösszeg</td><td>4</td></tr>",
                            "<tr><td>12</td><td>2016</td><td>8</td></tr>",
                            "<tr><td>12</td><td>2017</td><td>1</td></tr>",
                            "<tr><td>12</td><td>részösszeg</td><td>9</td></tr>",
                            "<tr><td>13</td><td>2016</td><td>3</td></tr>",
                            "<tr><td>13</td><td>2017</td><td>1</td></tr>",
                            "<tr><td>13</td><td>részösszeg</td><td>4</td></tr>",
                            "<tr><td>14</td><td>2016</td><td>2</td></tr>",
                            "<tr><td>14</td><td>2017</td><td>1</td></tr>",
                            "<tr><td>14</td><td>részösszeg</td><td>3</td></tr>",
                            "<tr><td>15</td><td>2016</td><td>4</td></tr>",
                            "<tr><td>15</td><td>2017</td><td>2</td></tr>",
                            "<tr><td>15</td><td>részösszeg</td><td>6</td></tr>",
                            "<tr><td>16</td><td>2016</td><td>4</td></tr>",
                            "<tr><td>16</td><td>2017</td><td>1</td></tr>",
                            "<tr><td>16</td><td>részösszeg</td><td>5</td></tr>",
                            "<tr><td>17</td><td>2016</td><td>5</td></tr>",
                            "<tr><td>17</td><td>2017</td><td>1</td></tr>",
                            "<tr><td>17</td><td>részösszeg</td><td>6</td></tr>",
                            "<tr><td>18</td><td>2016</td><td>5</td></tr>",
                            "<tr><td>18</td><td>2017</td><td>1</td></tr>",
                            "<tr><td>18</td><td>részösszeg</td><td>6</td></tr>",
                            "<tr><td>19</td><td>2016</td><td>5</td></tr>",
                            "<tr><td>19</td><td>2017</td><td>1</td></tr>",
                            "<tr><td>19</td><td>részösszeg</td><td>6</td></tr>",
                            "<tr><td>20</td><td>2016</td><td>5</td></tr>",
                            "<tr><td>20</td><td>részösszeg</td><td>5</td></tr>",
                            "<tr><td>21</td><td>2016</td><td>4</td></tr>",
                            "<tr><td>21</td><td>részösszeg</td><td>4</td></tr>",
                            "<tr><td>22</td><td>2016</td><td>6</td></tr>",
                            "<tr><td>22</td><td>részösszeg</td><td>6</td></tr>",
                            "<tr><td>23</td><td>2016</td><td>3</td></tr>",
                            "<tr><td>23</td><td>részösszeg</td><td>3</td></tr>",
                            "<tr><td>24</td><td>2016</td><td>2</td></tr>",
                            "<tr><td>24</td><td>2017</td><td>1</td></tr>",
                            "<tr><td>24</td><td>részösszeg</td><td>3</td></tr>",
                            "<tr><td>25</td><td>2016</td><td>2</td></tr>",
                            "<tr><td>25</td><td>részösszeg</td><td>2</td></tr>",
                            "<tr><td>26</td><td>2016</td><td>2</td></tr>",
                            "<tr><td>26</td><td>részösszeg</td><td>2</td></tr>",
                            "<tr><td>27</td><td>2016</td><td>6</td></tr>",
                            "<tr><td>27</td><td>2017</td><td>1</td></tr>",
                            "<tr><td>27</td><td>részösszeg</td><td>7</td></tr>",
                            "<tr><td>28</td><td>2016</td><td>5</td></tr>",
                            "<tr><td>28</td><td>2017</td><td>1</td></tr>",
                            "<tr><td>28</td><td>részösszeg</td><td>6</td></tr>",
                            "<tr><td>29</td><td>2016</td><td>5</td></tr>",
                            "<tr><td>29</td><td>2017</td><td>1</td></tr>",
                            "<tr><td>29</td><td>részösszeg</td><td>6</td></tr>",
                            "<tr><td>30</td><td>2016</td><td>3</td></tr>",
                            "<tr><td>30</td><td>részösszeg</td><td>3</td></tr>",
                            "<tr><td>31</td><td>2016</td><td>3</td></tr>",
                            "<tr><td>31</td><td>részösszeg</td><td>3</td></tr>",
                            "<tr><td>32</td><td>2016</td><td>1</td></tr>",
                            "<tr><td>32</td><td>részösszeg</td><td>1</td></tr>",
                            "<tr><td>33</td><td>2016</td><td>6</td></tr>",
                            "<tr><td>33</td><td>részösszeg</td><td>6</td></tr>",
                            "<tr><td>34</td><td>2016</td><td>4</td></tr>",
                            "<tr><td>34</td><td>részösszeg</td><td>4</td></tr>",
                            "<tr><td>35</td><td>2016</td><td>6</td></tr>",
                            "<tr><td>35</td><td>2017</td><td>3</td></tr>",
                            "<tr><td>35</td><td>részösszeg</td><td>9</td></tr>",
                            "<tr><td>36</td><td>2016</td><td>6</td></tr>",
                            "<tr><td>36</td><td>részösszeg</td><td>6</td></tr>",
                            "<tr><td>37</td><td>2016</td><td>3</td></tr>",
                            "<tr><td>37</td><td>részösszeg</td><td>3</td></tr>",
                            "<tr><td>38</td><td>2016</td><td>5</td></tr>",
                            "<tr><td>38</td><td>2017</td><td>3</td></tr>",
                            "<tr><td>38</td><td>részösszeg</td><td>8</td></tr>",
                            "<tr><td>39</td><td>2016</td><td>4</td></tr>",
                            "<tr><td>39</td><td>2017</td><td>3</td></tr>",
                            "<tr><td>39</td><td>részösszeg</td><td>7</td></tr>",
                            "<tr><td>40</td><td>2016</td><td>4</td></tr>",
                            "<tr><td>40</td><td>részösszeg</td><td>4</td></tr>",
                            "<tr><td>41</td><td>2016</td><td>2</td></tr>",
                            "<tr><td>41</td><td>részösszeg</td><td>2</td></tr>",
                            "<tr><td>42</td><td>2016</td><td>5</td></tr>",
                            "<tr><td>42</td><td>2017</td><td>1</td></tr>",
                            "<tr><td>42</td><td>részösszeg</td><td>6</td></tr>",
                            "<tr><td>43</td><td>2016</td><td>6</td></tr>",
                            "<tr><td>43</td><td>2017</td><td>2</td></tr>",
                            "<tr><td>43</td><td>részösszeg</td><td>8</td></tr>",
                            "<tr><td>44</td><td>2016</td><td>4</td></tr>",
                            "<tr><td>44</td><td>2017</td><td>2</td></tr>",
                            "<tr><td>44</td><td>részösszeg</td><td>6</td></tr>",
                            "<tr><td>45</td><td>2016</td><td>5</td></tr>",
                            "<tr><td>45</td><td>részösszeg</td><td>5</td></tr>",
                            "<tr><td>46</td><td>2016</td><td>3</td></tr>",
                            "<tr><td>46</td><td>2017</td><td>1</td></tr>",
                            "<tr><td>46</td><td>részösszeg</td><td>4</td></tr>",
                            "<tr><td>47</td><td>2016</td><td>2</td></tr>",
                            "<tr><td>47</td><td>részösszeg</td><td>2</td></tr>",
                            "<tr><td>48</td><td>2016</td><td>6</td></tr>",
                            "<tr><td>48</td><td>2017</td><td>3</td></tr>",
                            "<tr><td>48</td><td>részösszeg</td><td>9</td></tr>",
                            "<tr><td>49</td><td>2016</td><td>6</td></tr>",
                            "<tr><td>49</td><td>2017</td><td>1</td></tr>",
                            "<tr><td>49</td><td>részösszeg</td><td>7</td></tr>",
                            "<tr><td>50</td><td>2016</td><td>4</td></tr>",
                            "<tr><td>50</td><td>részösszeg</td><td>4</td></tr>",
                            "<tr><td>51</td><td>2016</td><td>3</td></tr>",
                            "<tr><td>51</td><td>2017</td><td>2</td></tr>",
                            "<tr><td>51</td><td>részösszeg</td><td>5</td></tr>",
                            "<tr><td>52</td><td>2016</td><td>3</td></tr>",
                            "<tr><td>52</td><td>2017</td><td>2</td></tr>",
                            "<tr><td>52</td><td>részösszeg</td><td>5</td></tr>",
                            "<tr><td>53</td><td>2016</td><td>2</td></tr>",
                            "<tr><td>53</td><td>részösszeg</td><td>2</td></tr>",
                            "<tr><td>54</td><td>2016</td><td>6</td></tr>",
                            "<tr><td>54</td><td>részösszeg</td><td>6</td></tr>",
                            "<tr><td>55</td><td>2016</td><td>6</td></tr>",
                            "<tr><td>55</td><td>2017</td><td>2</td></tr>",
                            "<tr><td>55</td><td>részösszeg</td><td>8</td></tr>",
                            "<tr><td>56</td><td>2016</td><td>2</td></tr>",
                            "<tr><td>56</td><td>részösszeg</td><td>2</td></tr>",
                            "<tr><td>57</td><td>2016</td><td>2</td></tr>",
                            "<tr><td>57</td><td>2017</td><td>2</td></tr>",
                            "<tr><td>57</td><td>részösszeg</td><td>4</td></tr>",
                            "<tr><td>58</td><td>2016</td><td>12</td></tr>",
                            "<tr><td>58</td><td>2017</td><td>1</td></tr>",
                            "<tr><td>58</td><td>részösszeg</td><td>13</td></tr>",
                            "<tr><td>59</td><td>2016</td><td>6</td></tr>",
                            "<tr><td>59</td><td>2017</td><td>1</td></tr>",
                            "<tr><td>59</td><td>részösszeg</td><td>7</td></tr>",
                            "<tr><td>60</td><td>2016</td><td>1</td></tr>",
                            "<tr><td>60</td><td>részösszeg</td><td>1</td></tr>",
                            "<tr><td>61</td><td>2016</td><td>4</td></tr>",
                            "<tr><td>61</td><td>2017</td><td>1</td></tr>",
                            "<tr><td>61</td><td>részösszeg</td><td>5</td></tr>",
                            "<tr><td>62</td><td>2016</td><td>4</td></tr>",
                            "<tr><td>62</td><td>2017</td><td>1</td></tr>",
                            "<tr><td>62</td><td>részösszeg</td><td>5</td></tr>",
                            "<tr><td>63</td><td>2016</td><td>4</td></tr>",
                            "<tr><td>63</td><td>részösszeg</td><td>4</td></tr>",
                            "<tr><td>64</td><td>2016</td><td>3</td></tr>",
                            "<tr><td>64</td><td>2017</td><td>3</td></tr>",
                            "<tr><td>64</td><td>részösszeg</td><td>6</td></tr>",
                            "<tr><td>65</td><td>2016</td><td>1</td></tr>",
                            "<tr><td>65</td><td>részösszeg</td><td>1</td></tr>",
                            "<tr><td>66</td><td>2016</td><td>4</td></tr>",
                            "<tr><td>66</td><td>részösszeg</td><td>4</td></tr>",
                            "<tr><td>67</td><td>2016</td><td>4</td></tr>",
                            "<tr><td>67</td><td>2017</td><td>2</td></tr>",
                            "<tr><td>67</td><td>részösszeg</td><td>6</td></tr>",
                            "<tr><td>68</td><td>2016</td><td>3</td></tr>",
                            "<tr><td>68</td><td>részösszeg</td><td>3</td></tr>",
                            "<tr><td>69</td><td>2016</td><td>4</td></tr>",
                            "<tr><td>69</td><td>részösszeg</td><td>4</td></tr>",
                            "<tr><td>70</td><td>2016</td><td>10</td></tr>",
                            "<tr><td>70</td><td>2017</td><td>1</td></tr>",
                            "<tr><td>70</td><td>részösszeg</td><td>11</td></tr>",
                            "<tr><td>71</td><td>2016</td><td>3</td></tr>",
                            "<tr><td>71</td><td>részösszeg</td><td>3</td></tr>",
                            "<tr><td>72</td><td>2016</td><td>4</td></tr>",
                            "<tr><td>72</td><td>részösszeg</td><td>4</td></tr>",
                            "<tr><td>73</td><td>2016</td><td>4</td></tr>",
                            "<tr><td>73</td><td>részösszeg</td><td>4</td></tr>",
                            "<tr><td>74</td><td>2016</td><td>9</td></tr>",
                            "<tr><td>74</td><td>részösszeg</td><td>9</td></tr>",
                            "<tr><td>75</td><td>2016</td><td>1</td></tr>",
                            "<tr><td>75</td><td>2017</td><td>2</td></tr>",
                            "<tr><td>75</td><td>részösszeg</td><td>3</td></tr>",
                            "<tr><td>76</td><td>2016</td><td>2</td></tr>",
                            "<tr><td>76</td><td>2017</td><td>1</td></tr>",
                            "<tr><td>76</td><td>részösszeg</td><td>3</td></tr>",
                            "<tr><td>77</td><td>2016</td><td>4</td></tr>",
                            "<tr><td>77</td><td>2017</td><td>2</td></tr>",
                            "<tr><td>77</td><td>részösszeg</td><td>6</td></tr>",
                            "<tr><td>78</td><td>2016</td><td>5</td></tr>",
                            "<tr><td>78</td><td>2017</td><td>1</td></tr>",
                            "<tr><td>78</td><td>részösszeg</td><td>6</td></tr>",
                            "<tr><td>79</td><td>2016</td><td>4</td></tr>",
                            "<tr><td>79</td><td>2017</td><td>1</td></tr>",
                            "<tr><td>79</td><td>részösszeg</td><td>5</td></tr>",
                            "<tr><td>80</td><td>2016</td><td>7</td></tr>",
                            "<tr><td>80</td><td>részösszeg</td><td>7</td></tr>",
                            "<tr><td>81</td><td>2016</td><td>1</td></tr>",
                            "<tr><td>81</td><td>2017</td><td>4</td></tr>",
                            "<tr><td>81</td><td>részösszeg</td><td>5</td></tr>",
                            "<tr><td>82</td><td>2016</td><td>6</td></tr>",
                            "<tr><td>82</td><td>részösszeg</td><td>6</td></tr>",
                            "<tr><td>83</td><td>2016</td><td>8</td></tr>",
                            "<tr><td>83</td><td>részösszeg</td><td>8</td></tr>",
                            "<tr><td>84</td><td>2016</td><td>4</td></tr>",
                            "<tr><td>84</td><td>részösszeg</td><td>4</td></tr>",
                            "<tr><td>85</td><td>2016</td><td>3</td></tr>",
                            "<tr><td>85</td><td>2017</td><td>1</td></tr>",
                            "<tr><td>85</td><td>részösszeg</td><td>4</td></tr>",
                            "<tr><td>86</td><td>2016</td><td>4</td></tr>",
                            "<tr><td>86</td><td>2017</td><td>1</td></tr>",
                            "<tr><td>86</td><td>részösszeg</td><td>5</td></tr>",
                            "<tr><td>87</td><td>2016</td><td>4</td></tr>",
                            "<tr><td>87</td><td>2017</td><td>1</td></tr>",
                            "<tr><td>87</td><td>részösszeg</td><td>5</td></tr>",
                            "<tr><td>88</td><td>2016</td><td>6</td></tr>",
                            "<tr><td>88</td><td>2017</td><td>2</td></tr>",
                            "<tr><td>88</td><td>részösszeg</td><td>8</td></tr>",
                            "<tr><td>89</td><td>2016</td><td>7</td></tr>",
                            "<tr><td>89</td><td>2017</td><td>1</td></tr>",
                            "<tr><td>89</td><td>részösszeg</td><td>8</td></tr>",
                            "<tr><td>90</td><td>2016</td><td>4</td></tr>",
                            "<tr><td>90</td><td>részösszeg</td><td>4</td></tr>",
                            "<tr><td>91</td><td>2016</td><td>4</td></tr>",
                            "<tr><td>91</td><td>részösszeg</td><td>4</td></tr>",
                            "<tr><td>92</td><td>2016</td><td>4</td></tr>",
                            "<tr><td>92</td><td>2017</td><td>2</td></tr>",
                            "<tr><td>92</td><td>részösszeg</td><td>6</td></tr>",
                            "<tr><td>93</td><td>2016</td><td>5</td></tr>",
                            "<tr><td>93</td><td>részösszeg</td><td>5</td></tr>",
                            "<tr><td>94</td><td>2016</td><td>8</td></tr>",
                            "<tr><td>94</td><td>2017</td><td>2</td></tr>",
                            "<tr><td>94</td><td>részösszeg</td><td>10</td></tr>",
                            "<tr><td>95</td><td>2016</td><td>3</td></tr>",
                            "<tr><td>95</td><td>2017</td><td>1</td></tr>",
                            "<tr><td>95</td><td>részösszeg</td><td>4</td></tr>",
                            "<tr><td>96</td><td>2016</td><td>5</td></tr>",
                            "<tr><td>96</td><td>2017</td><td>2</td></tr>",
                            "<tr><td>96</td><td>részösszeg</td><td>7</td></tr>",
                            "<tr><td>97</td><td>2016</td><td>5</td></tr>",
                            "<tr><td>97</td><td>2017</td><td>2</td></tr>",
                            "<tr><td>97</td><td>részösszeg</td><td>7</td></tr>",
                            "<tr><td>98</td><td>2016</td><td>4</td></tr>",
                            "<tr><td>98</td><td>részösszeg</td><td>4</td></tr>",
                            "<tr><td>99</td><td>2016</td><td>4</td></tr>",
                            "<tr><td>99</td><td>2017</td><td>1</td></tr>",
                            "<tr><td>99</td><td>részösszeg</td><td>5</td></tr>",
                            "<tr><td>100</td><td>2016</td><td>3</td></tr>",
                            "<tr><td>100</td><td>2017</td><td>1</td></tr>",
                            "<tr><td>100</td><td>részösszeg</td><td>4</td></tr>",
                            "<tr><td>101</td><td>2016</td><td>2</td></tr>",
                            "<tr><td>101</td><td>2017</td><td>1</td></tr>",
                            "<tr><td>101</td><td>részösszeg</td><td>3</td></tr>",
                            "<tr><td>102</td><td>2016</td><td>2</td></tr>",
                            "<tr><td>102</td><td>részösszeg</td><td>2</td></tr>",
                            "<tr><td>103</td><td>2016</td><td>3</td></tr>",
                            "<tr><td>103</td><td>2017</td><td>1</td></tr>",
                            "<tr><td>103</td><td>részösszeg</td><td>4</td></tr>",
                            "<tr><td>104</td><td>2016</td><td>2</td></tr>",
                            "<tr><td>104</td><td>2017</td><td>2</td></tr>",
                            "<tr><td>104</td><td>részösszeg</td><td>4</td></tr>",
                            "<tr><td>105</td><td>2016</td><td>1</td></tr>",
                            "<tr><td>105</td><td>2017</td><td>1</td></tr>",
                            "<tr><td>105</td><td>részösszeg</td><td>2</td></tr>",
                            "<tr><td>106</td><td>2016</td><td>5</td></tr>",
                            "<tr><td>106</td><td>2017</td><td>1</td></tr>",
                            "<tr><td>106</td><td>részösszeg</td><td>6</td></tr>",
                            "<tr><td>107</td><td>2016</td><td>3</td></tr>",
                            "<tr><td>107</td><td>2017</td><td>2</td></tr>",
                            "<tr><td>107</td><td>részösszeg</td><td>5</td></tr>",
                            "<tr><td>108</td><td>2016</td><td>2</td></tr>",
                            "<tr><td>108</td><td>részösszeg</td><td>2</td></tr>",
                            "<tr><td>109</td><td>2016</td><td>6</td></tr>",
                            "<tr><td>109</td><td>2017</td><td>1</td></tr>",
                            "<tr><td>109</td><td>részösszeg</td><td>7</td></tr>",
                            "<tr><td>110</td><td>2016</td><td>6</td></tr>",
                            "<tr><td>110</td><td>2017</td><td>2</td></tr>",
                            "<tr><td>110</td><td>részösszeg</td><td>8</td></tr>",
                            "<tr><td>111</td><td>2016</td><td>5</td></tr>",
                            "<tr><td>111</td><td>részösszeg</td><td>5</td></tr>",
                            "<tr><td>112</td><td>2016</td><td>4</td></tr>",
                            "<tr><td>112</td><td>2017</td><td>1</td></tr>",
                            "<tr><td>112</td><td>részösszeg</td><td>5</td></tr>",
                            "<tr><td>113</td><td>2016</td><td>3</td></tr>",
                            "<tr><td>113</td><td>2017</td><td>2</td></tr>",
                            "<tr><td>113</td><td>részösszeg</td><td>5</td></tr>",
                            "<tr><td>114</td><td>2016</td><td>3</td></tr>",
                            "<tr><td>114</td><td>2017</td><td>1</td></tr>",
                            "<tr><td>114</td><td>részösszeg</td><td>4</td></tr>",
                            "<tr><td>115</td><td>2016</td><td>5</td></tr>",
                            "<tr><td>115</td><td>2017</td><td>2</td></tr>",
                            "<tr><td>115</td><td>részösszeg</td><td>7</td></tr>",
                            "<tr><td>116</td><td>2017</td><td>2</td></tr>",
                            "<tr><td>116</td><td>részösszeg</td><td>2</td></tr>",
                            "<tr><td>117</td><td>2016</td><td>7</td></tr>",
                            "<tr><td>117</td><td>2017</td><td>1</td></tr>",
                            "<tr><td>117</td><td>részösszeg</td><td>8</td></tr>",
                            "<tr><td>118</td><td>2016</td><td>5</td></tr>",
                            "<tr><td>118</td><td>2017</td><td>2</td></tr>",
                            "<tr><td>118</td><td>részösszeg</td><td>7</td></tr>",
                            "<tr><td>119</td><td>2016</td><td>3</td></tr>",
                            "<tr><td>119</td><td>2017</td><td>2</td></tr>",
                            "<tr><td>119</td><td>részösszeg</td><td>5</td></tr>",
                            "<tr><td>120</td><td>2016</td><td>4</td></tr>",
                            "<tr><td>120</td><td>2017</td><td>2</td></tr>",
                            "<tr><td>120</td><td>részösszeg</td><td>6</td></tr>",
                            "<tr><td>121</td><td>2016</td><td>8</td></tr>",
                            "<tr><td>121</td><td>részösszeg</td><td>8</td></tr>",
                            "<tr><td>122</td><td>2016</td><td>8</td></tr>",
                            "<tr><td>122</td><td>2017</td><td>1</td></tr>",
                            "<tr><td>122</td><td>részösszeg</td><td>9</td></tr>",
                            "<tr><td>123</td><td>2016</td><td>5</td></tr>",
                            "<tr><td>123</td><td>részösszeg</td><td>5</td></tr>",
                            "<tr><td>124</td><td>2016</td><td>4</td></tr>",
                            "<tr><td>124</td><td>2017</td><td>2</td></tr>",
                            "<tr><td>124</td><td>részösszeg</td><td>6</td></tr>",
                            "<tr><td>125</td><td>2016</td><td>1</td></tr>",
                            "<tr><td>125</td><td>részösszeg</td><td>1</td></tr>",
                            "<tr><td>126</td><td>2016</td><td>4</td></tr>",
                            "<tr><td>126</td><td>2017</td><td>2</td></tr>",
                            "<tr><td>126</td><td>részösszeg</td><td>6</td></tr>",
                            "<tr><td>127</td><td>2016</td><td>6</td></tr>",
                            "<tr><td>127</td><td>2017</td><td>1</td></tr>",
                            "<tr><td>127</td><td>részösszeg</td><td>7</td></tr>",
                            "<tr><td>128</td><td>2016</td><td>3</td></tr>",
                            "<tr><td>128</td><td>2017</td><td>2</td></tr>",
                            "<tr><td>128</td><td>részösszeg</td><td>5</td></tr>",
                            "<tr><td>129</td><td>2016</td><td>2</td></tr>",
                            "<tr><td>129</td><td>2017</td><td>2</td></tr>",
                            "<tr><td>129</td><td>részösszeg</td><td>4</td></tr>",
                            "<tr><td>130</td><td>2016</td><td>5</td></tr>",
                            "<tr><td>130</td><td>2017</td><td>1</td></tr>",
                            "<tr><td>130</td><td>részösszeg</td><td>6</td></tr>",
                            "<tr><td>131</td><td>2016</td><td>4</td></tr>",
                            "<tr><td>131</td><td>2017</td><td>1</td></tr>",
                            "<tr><td>131</td><td>részösszeg</td><td>5</td></tr>",
                            "<tr><td>132</td><td>2016</td><td>5</td></tr>",
                            "<tr><td>132</td><td>2017</td><td>1</td></tr>",
                            "<tr><td>132</td><td>részösszeg</td><td>6</td></tr>",
                            "<tr><td>133</td><td>2016</td><td>5</td></tr>",
                            "<tr><td>133</td><td>2017</td><td>1</td></tr>",
                            "<tr><td>133</td><td>részösszeg</td><td>6</td></tr>",
                            "<tr><td>134</td><td>2016</td><td>5</td></tr>",
                            "<tr><td>134</td><td>2017</td><td>1</td></tr>",
                            "<tr><td>134</td><td>részösszeg</td><td>6</td></tr>",
                            "<tr><td>135</td><td>2016</td><td>3</td></tr>",
                            "<tr><td>135</td><td>részösszeg</td><td>3</td></tr>",
                            "<tr><td>136</td><td>2016</td><td>3</td></tr>",
                            "<tr><td>136</td><td>részösszeg</td><td>3</td></tr>",
                            "<tr><td>137</td><td>2016</td><td>6</td></tr>",
                            "<tr><td>137</td><td>részösszeg</td><td>6</td></tr>",
                            "<tr><td>138</td><td>2016</td><td>7</td></tr>",
                            "<tr><td>138</td><td>részösszeg</td><td>7</td></tr>",
                            "<tr><td>139</td><td>2016</td><td>5</td></tr>",
                            "<tr><td>139</td><td>2017</td><td>2</td></tr>",
                            "<tr><td>139</td><td>részösszeg</td><td>7</td></tr>",
                            "<tr><td>140</td><td>2016</td><td>8</td></tr>",
                            "<tr><td>140</td><td>részösszeg</td><td>8</td></tr>",
                            "<tr><td>141</td><td>2016</td><td>6</td></tr>",
                            "<tr><td>141</td><td>részösszeg</td><td>6</td></tr>",
                            "<tr><td>142</td><td>2016</td><td>1</td></tr>",
                            "<tr><td>142</td><td>2017</td><td>1</td></tr>",
                            "<tr><td>142</td><td>részösszeg</td><td>2</td></tr>",
                            "<tr><td>143</td><td>2016</td><td>6</td></tr>",
                            "<tr><td>143</td><td>2017</td><td>1</td></tr>",
                            "<tr><td>143</td><td>részösszeg</td><td>7</td></tr>",
                            "<tr><td>144</td><td>2016</td><td>4</td></tr>",
                            "<tr><td>144</td><td>2017</td><td>1</td></tr>",
                            "<tr><td>144</td><td>részösszeg</td><td>5</td></tr>",
                            "<tr><td>145</td><td>2016</td><td>5</td></tr>",
                            "<tr><td>145</td><td>2017</td><td>1</td></tr>",
                            "<tr><td>145</td><td>részösszeg</td><td>6</td></tr>",
                            "<tr><td>146</td><td>2016</td><td>5</td></tr>",
                            "<tr><td>146</td><td>2017</td><td>1</td></tr>",
                            "<tr><td>146</td><td>részösszeg</td><td>6</td></tr>",
                            "<tr><td>147</td><td>2016</td><td>1</td></tr>",
                            "<tr><td>147</td><td>részösszeg</td><td>1</td></tr>",
                            "<tr><td>148</td><td>2016</td><td>5</td></tr>",
                            "<tr><td>148</td><td>2017</td><td>1</td></tr>",
                            "<tr><td>148</td><td>részösszeg</td><td>6</td></tr>",
                            "<tr><td>149</td><td>2016</td><td>6</td></tr>",
                            "<tr><td>149</td><td>2017</td><td>1</td></tr>",
                            "<tr><td>149</td><td>részösszeg</td><td>7</td></tr>",
                            "<tr><td>150</td><td>2016</td><td>5</td></tr>",
                            "<tr><td>150</td><td>2017</td><td>1</td></tr>",
                            "<tr><td>150</td><td>részösszeg</td><td>6</td></tr>",
                            "<tr><td>151</td><td>2016</td><td>3</td></tr>",
                            "<tr><td>151</td><td>részösszeg</td><td>3</td></tr>",
                            "<tr><td>152</td><td>2016</td><td>3</td></tr>",
                            "<tr><td>152</td><td>2017</td><td>1</td></tr>",
                            "<tr><td>152</td><td>részösszeg</td><td>4</td></tr>",
                            "<tr><td>153</td><td>2016</td><td>2</td></tr>",
                            "<tr><td>153</td><td>2017</td><td>3</td></tr>",
                            "<tr><td>153</td><td>részösszeg</td><td>5</td></tr>",
                            "<tr><td>154</td><td>2016</td><td>4</td></tr>",
                            "<tr><td>154</td><td>2017</td><td>1</td></tr>",
                            "<tr><td>154</td><td>részösszeg</td><td>5</td></tr>",
                            "<tr><td>155</td><td>2016</td><td>4</td></tr>",
                            "<tr><td>155</td><td>2017</td><td>1</td></tr>",
                            "<tr><td>155</td><td>részösszeg</td><td>5</td></tr>",
                            "<tr><td>156</td><td>2016</td><td>4</td></tr>",
                            "<tr><td>156</td><td>2017</td><td>3</td></tr>",
                            "<tr><td>156</td><td>részösszeg</td><td>7</td></tr>",
                            "<tr><td>157</td><td>2016</td><td>4</td></tr>",
                            "<tr><td>157</td><td>2017</td><td>1</td></tr>",
                            "<tr><td>157</td><td>részösszeg</td><td>5</td></tr>",
                            "<tr><td>158</td><td>2016</td><td>3</td></tr>",
                            "<tr><td>158</td><td>részösszeg</td><td>3</td></tr>",
                            "<tr><td>160</td><td>2016</td><td>4</td></tr>",
                            "<tr><td>160</td><td>2017</td><td>1</td></tr>",
                            "<tr><td>160</td><td>részösszeg</td><td>5</td></tr>",
                            "<tr><td>161</td><td>2016</td><td>5</td></tr>",
                            "<tr><td>161</td><td>2017</td><td>1</td></tr>",
                            "<tr><td>161</td><td>részösszeg</td><td>6</td></tr>",
                            "<tr><td>162</td><td>2016</td><td>3</td></tr>",
                            "<tr><td>162</td><td>részösszeg</td><td>3</td></tr>",
                            "<tr><td>163</td><td>2016</td><td>6</td></tr>",
                            "<tr><td>163</td><td>2017</td><td>1</td></tr>",
                            "<tr><td>163</td><td>részösszeg</td><td>7</td></tr>",
                            "<tr><td>164</td><td>2016</td><td>5</td></tr>",
                            "<tr><td>164</td><td>részösszeg</td><td>5</td></tr>",
                            "<tr><td>165</td><td>2016</td><td>7</td></tr>",
                            "<tr><td>165</td><td>részösszeg</td><td>7</td></tr>",
                            "<tr><td>166</td><td>2016</td><td>2</td></tr>",
                            "<tr><td>166</td><td>2017</td><td>1</td></tr>",
                            "<tr><td>166</td><td>részösszeg</td><td>3</td></tr>",
                            "<tr><td>167</td><td>2016</td><td>1</td></tr>",
                            "<tr><td>167</td><td>2017</td><td>1</td></tr>",
                            "<tr><td>167</td><td>részösszeg</td><td>2</td></tr>",
                            "<tr><td>168</td><td>2016</td><td>5</td></tr>",
                            "<tr><td>168</td><td>részösszeg</td><td>5</td></tr>",
                            "<tr><td>169</td><td>2016</td><td>5</td></tr>",
                            "<tr><td>169</td><td>2017</td><td>1</td></tr>",
                            "<tr><td>169</td><td>részösszeg</td><td>6</td></tr>",
                            "<tr><td>170</td><td>2016</td><td>5</td></tr>",
                            "<tr><td>170</td><td>részösszeg</td><td>5</td></tr>",
                            "<tr><td>171</td><td>2016</td><td>4</td></tr>",
                            "<tr><td>171</td><td>2017</td><td>1</td></tr>",
                            "<tr><td>171</td><td>részösszeg</td><td>5</td></tr>",
                            "<tr><td>172</td><td>2016</td><td>7</td></tr>",
                            "<tr><td>172</td><td>2017</td><td>2</td></tr>",
                            "<tr><td>172</td><td>részösszeg</td><td>9</td></tr>",
                            "<tr><td>173</td><td>2016</td><td>3</td></tr>",
                            "<tr><td>173</td><td>2017</td><td>1</td></tr>",
                            "<tr><td>173</td><td>részösszeg</td><td>4</td></tr>",
                            "<tr><td>174</td><td>2016</td><td>4</td></tr>",
                            "<tr><td>174</td><td>részösszeg</td><td>4</td></tr>",
                            "<tr><td>175</td><td>2016</td><td>5</td></tr>",
                            "<tr><td>175</td><td>részösszeg</td><td>5</td></tr>",
                            "<tr><td>176</td><td>2016</td><td>4</td></tr>",
                            "<tr><td>176</td><td>2017</td><td>2</td></tr>",
                            "<tr><td>176</td><td>részösszeg</td><td>6</td></tr>",
                            "<tr><td>177</td><td>2016</td><td>3</td></tr>",
                            "<tr><td>177</td><td>2017</td><td>1</td></tr>",
                            "<tr><td>177</td><td>részösszeg</td><td>4</td></tr>",
                            "<tr><td>178</td><td>2016</td><td>4</td></tr>",
                            "<tr><td>178</td><td>részösszeg</td><td>4</td></tr>",
                            "<tr><td>179</td><td>2016</td><td>2</td></tr>",
                            "<tr><td>179</td><td>2017</td><td>1</td></tr>",
                            "<tr><td>179</td><td>részösszeg</td><td>3</td></tr>",
                            "<tr><td>180</td><td>2016</td><td>1</td></tr>",
                            "<tr><td>180</td><td>2017</td><td>2</td></tr>",
                            "<tr><td>180</td><td>részösszeg</td><td>3</td></tr>",
                            "<tr><td>181</td><td>2016</td><td>6</td></tr>",
                            "<tr><td>181</td><td>részösszeg</td><td>6</td></tr>",
                            "<tr><td>182</td><td>2016</td><td>10</td></tr>",
                            "<tr><td>182</td><td>2017</td><td>2</td></tr>",
                            "<tr><td>182</td><td>részösszeg</td><td>12</td></tr>",
                            "<tr><td>183</td><td>2016</td><td>3</td></tr>",
                            "<tr><td>183</td><td>2017</td><td>1</td></tr>",
                            "<tr><td>183</td><td>részösszeg</td><td>4</td></tr>",
                            "<tr><td>184</td><td>2016</td><td>4</td></tr>",
                            "<tr><td>184</td><td>részösszeg</td><td>4</td></tr>",
                            "<tr><td>185</td><td>2016</td><td>10</td></tr>",
                            "<tr><td>185</td><td>2017</td><td>2</td></tr>",
                            "<tr><td>185</td><td>részösszeg</td><td>12</td></tr>",
                            "<tr><td>186</td><td>2016</td><td>3</td></tr>",
                            "<tr><td>186</td><td>2017</td><td>1</td></tr>",
                            "<tr><td>186</td><td>részösszeg</td><td>4</td></tr>",
                            "<tr><td>187</td><td>2016</td><td>7</td></tr>",
                            "<tr><td>187</td><td>részösszeg</td><td>7</td></tr>",
                            "<tr><td>188</td><td>2016</td><td>6</td></tr>",
                            "<tr><td>188</td><td>részösszeg</td><td>6</td></tr>",
                            "<tr><td>189</td><td>2016</td><td>3</td></tr>",
                            "<tr><td>189</td><td>2017</td><td>2</td></tr>",
                            "<tr><td>189</td><td>részösszeg</td><td>5</td></tr>",
                            "<tr><td>190</td><td>2016</td><td>4</td></tr>",
                            "<tr><td>190</td><td>2017</td><td>1</td></tr>",
                            "<tr><td>190</td><td>részösszeg</td><td>5</td></tr>",
                            "<tr><td>191</td><td>2016</td><td>3</td></tr>",
                            "<tr><td>191</td><td>2017</td><td>2</td></tr>",
                            "<tr><td>191</td><td>részösszeg</td><td>5</td></tr>",
                            "<tr><td>192</td><td>2016</td><td>2</td></tr>",
                            "<tr><td>192</td><td>részösszeg</td><td>2</td></tr>",
                            "<tr><td>193</td><td>2016</td><td>7</td></tr>",
                            "<tr><td>193</td><td>részösszeg</td><td>7</td></tr>",
                            "<tr><td>194</td><td>2016</td><td>1</td></tr>",
                            "<tr><td>194</td><td>részösszeg</td><td>1</td></tr>",
                            "<tr><td>195</td><td>2016</td><td>4</td></tr>",
                            "<tr><td>195</td><td>2017</td><td>2</td></tr>",
                            "<tr><td>195</td><td>részösszeg</td><td>6</td></tr>",
                            "<tr><td>196</td><td>2016</td><td>4</td></tr>",
                            "<tr><td>196</td><td>részösszeg</td><td>4</td></tr>",
                            "<tr><td>197</td><td>2016</td><td>6</td></tr>",
                            "<tr><td>197</td><td>részösszeg</td><td>6</td></tr>",
                            "<tr><td>198</td><td>2016</td><td>7</td></tr>",
                            "<tr><td>198</td><td>2017</td><td>1</td></tr>",
                            "<tr><td>198</td><td>részösszeg</td><td>8</td></tr>",
                            "<tr><td>NULL</td><td>részösszeg</td><td>1027</td></tr>",
                            "</table>"
                        ]
                    }
                }
            ],
            "execution_count": 19
        },
        {
            "cell_type": "markdown",
            "source": [
                "Készítsük listát, amely a szobák azonosítóit és a hozzájuk tartozó foglalások azonosítóját és időtartalmát (napokban) jeleníti meg!\n",
                "\n",
                "- Egy új oszlopban jelenítsük meg az adott szoba időben előző foglalásának időtartamát is!\n",
                "- Ha nincs előző, akkor 0 jelenjen meg"
            ],
            "metadata": {
                "azdata_cell_guid": "4e3751b9-0540-4bc1-82c7-707c2190f70a"
            },
            "attachments": {}
        },
        {
            "cell_type": "code",
            "source": [
                "SELECT SZOBA_ID, FOGLALAS_PK, DATEDIFF(day,Mettol, Meddig) as 'napok', \r\n",
                "        Lag(DATEDIFF(day,Mettol, Meddig), 1 , '0') OVER(ORder by SZOBA_ID) as 'Elöző foglalás'\r\n",
                "FROM Foglalas f JOIN Szoba sz ON f.SZOBA_FK = sz.SZOBA_ID"
            ],
            "metadata": {
                "language": "sql",
                "azdata_cell_guid": "b8b39cd8-8e46-4045-b40e-a2bed1ae337e"
            },
            "outputs": [
                {
                    "output_type": "display_data",
                    "data": {
                        "text/html": "(1027 rows affected)"
                    },
                    "metadata": {}
                },
                {
                    "output_type": "display_data",
                    "data": {
                        "text/html": "Total execution time: 00:00:00.011"
                    },
                    "metadata": {}
                },
                {
                    "output_type": "execute_result",
                    "metadata": {},
                    "execution_count": 27,
                    "data": {
                        "application/vnd.dataresource+json": {
                            "schema": {
                                "fields": [
                                    {
                                        "name": "SZOBA_ID"
                                    },
                                    {
                                        "name": "FOGLALAS_PK"
                                    },
                                    {
                                        "name": "napok"
                                    },
                                    {
                                        "name": "Elöző foglalás"
                                    }
                                ]
                            },
                            "data": [
                                {
                                    "SZOBA_ID": "1",
                                    "FOGLALAS_PK": "620",
                                    "napok": "5",
                                    "Elöző foglalás": "0"
                                },
                                {
                                    "SZOBA_ID": "1",
                                    "FOGLALAS_PK": "738",
                                    "napok": "7",
                                    "Elöző foglalás": "5"
                                },
                                {
                                    "SZOBA_ID": "1",
                                    "FOGLALAS_PK": "803",
                                    "napok": "4",
                                    "Elöző foglalás": "7"
                                },
                                {
                                    "SZOBA_ID": "1",
                                    "FOGLALAS_PK": "949",
                                    "napok": "1",
                                    "Elöző foglalás": "4"
                                },
                                {
                                    "SZOBA_ID": "1",
                                    "FOGLALAS_PK": "1137",
                                    "napok": "2",
                                    "Elöző foglalás": "1"
                                },
                                {
                                    "SZOBA_ID": "1",
                                    "FOGLALAS_PK": "1152",
                                    "napok": "1",
                                    "Elöző foglalás": "2"
                                },
                                {
                                    "SZOBA_ID": "1",
                                    "FOGLALAS_PK": "1274",
                                    "napok": "1",
                                    "Elöző foglalás": "1"
                                },
                                {
                                    "SZOBA_ID": "1",
                                    "FOGLALAS_PK": "1334",
                                    "napok": "4",
                                    "Elöző foglalás": "1"
                                },
                                {
                                    "SZOBA_ID": "2",
                                    "FOGLALAS_PK": "1311",
                                    "napok": "7",
                                    "Elöző foglalás": "4"
                                },
                                {
                                    "SZOBA_ID": "2",
                                    "FOGLALAS_PK": "1051",
                                    "napok": "1",
                                    "Elöző foglalás": "7"
                                },
                                {
                                    "SZOBA_ID": "2",
                                    "FOGLALAS_PK": "1069",
                                    "napok": "7",
                                    "Elöző foglalás": "1"
                                },
                                {
                                    "SZOBA_ID": "2",
                                    "FOGLALAS_PK": "828",
                                    "napok": "3",
                                    "Elöző foglalás": "7"
                                },
                                {
                                    "SZOBA_ID": "3",
                                    "FOGLALAS_PK": "788",
                                    "napok": "6",
                                    "Elöző foglalás": "3"
                                },
                                {
                                    "SZOBA_ID": "3",
                                    "FOGLALAS_PK": "629",
                                    "napok": "4",
                                    "Elöző foglalás": "6"
                                },
                                {
                                    "SZOBA_ID": "3",
                                    "FOGLALAS_PK": "666",
                                    "napok": "6",
                                    "Elöző foglalás": "4"
                                },
                                {
                                    "SZOBA_ID": "3",
                                    "FOGLALAS_PK": "1110",
                                    "napok": "7",
                                    "Elöző foglalás": "6"
                                },
                                {
                                    "SZOBA_ID": "3",
                                    "FOGLALAS_PK": "1038",
                                    "napok": "3",
                                    "Elöző foglalás": "7"
                                },
                                {
                                    "SZOBA_ID": "3",
                                    "FOGLALAS_PK": "1151",
                                    "napok": "1",
                                    "Elöző foglalás": "3"
                                },
                                {
                                    "SZOBA_ID": "3",
                                    "FOGLALAS_PK": "1434",
                                    "napok": "5",
                                    "Elöző foglalás": "1"
                                },
                                {
                                    "SZOBA_ID": "3",
                                    "FOGLALAS_PK": "1544",
                                    "napok": "5",
                                    "Elöző foglalás": "5"
                                },
                                {
                                    "SZOBA_ID": "4",
                                    "FOGLALAS_PK": "1492",
                                    "napok": "6",
                                    "Elöző foglalás": "5"
                                },
                                {
                                    "SZOBA_ID": "4",
                                    "FOGLALAS_PK": "1132",
                                    "napok": "6",
                                    "Elöző foglalás": "6"
                                },
                                {
                                    "SZOBA_ID": "4",
                                    "FOGLALAS_PK": "1001",
                                    "napok": "7",
                                    "Elöző foglalás": "6"
                                },
                                {
                                    "SZOBA_ID": "4",
                                    "FOGLALAS_PK": "1127",
                                    "napok": "3",
                                    "Elöző foglalás": "7"
                                },
                                {
                                    "SZOBA_ID": "4",
                                    "FOGLALAS_PK": "946",
                                    "napok": "5",
                                    "Elöző foglalás": "3"
                                },
                                {
                                    "SZOBA_ID": "4",
                                    "FOGLALAS_PK": "651",
                                    "napok": "7",
                                    "Elöző foglalás": "5"
                                },
                                {
                                    "SZOBA_ID": "5",
                                    "FOGLALAS_PK": "564",
                                    "napok": "2",
                                    "Elöző foglalás": "7"
                                },
                                {
                                    "SZOBA_ID": "5",
                                    "FOGLALAS_PK": "965",
                                    "napok": "7",
                                    "Elöző foglalás": "2"
                                },
                                {
                                    "SZOBA_ID": "5",
                                    "FOGLALAS_PK": "1073",
                                    "napok": "5",
                                    "Elöző foglalás": "7"
                                },
                                {
                                    "SZOBA_ID": "5",
                                    "FOGLALAS_PK": "1257",
                                    "napok": "3",
                                    "Elöző foglalás": "5"
                                },
                                {
                                    "SZOBA_ID": "6",
                                    "FOGLALAS_PK": "1099",
                                    "napok": "4",
                                    "Elöző foglalás": "3"
                                },
                                {
                                    "SZOBA_ID": "6",
                                    "FOGLALAS_PK": "990",
                                    "napok": "4",
                                    "Elöző foglalás": "4"
                                },
                                {
                                    "SZOBA_ID": "6",
                                    "FOGLALAS_PK": "850",
                                    "napok": "2",
                                    "Elöző foglalás": "4"
                                },
                                {
                                    "SZOBA_ID": "6",
                                    "FOGLALAS_PK": "873",
                                    "napok": "3",
                                    "Elöző foglalás": "2"
                                },
                                {
                                    "SZOBA_ID": "6",
                                    "FOGLALAS_PK": "560",
                                    "napok": "6",
                                    "Elöző foglalás": "3"
                                },
                                {
                                    "SZOBA_ID": "6",
                                    "FOGLALAS_PK": "772",
                                    "napok": "6",
                                    "Elöző foglalás": "6"
                                },
                                {
                                    "SZOBA_ID": "7",
                                    "FOGLALAS_PK": "759",
                                    "napok": "7",
                                    "Elöző foglalás": "6"
                                },
                                {
                                    "SZOBA_ID": "7",
                                    "FOGLALAS_PK": "562",
                                    "napok": "4",
                                    "Elöző foglalás": "7"
                                },
                                {
                                    "SZOBA_ID": "7",
                                    "FOGLALAS_PK": "1252",
                                    "napok": "2",
                                    "Elöző foglalás": "4"
                                },
                                {
                                    "SZOBA_ID": "7",
                                    "FOGLALAS_PK": "1131",
                                    "napok": "1",
                                    "Elöző foglalás": "2"
                                },
                                {
                                    "SZOBA_ID": "7",
                                    "FOGLALAS_PK": "1175",
                                    "napok": "4",
                                    "Elöző foglalás": "1"
                                },
                                {
                                    "SZOBA_ID": "7",
                                    "FOGLALAS_PK": "1182",
                                    "napok": "4",
                                    "Elöző foglalás": "4"
                                },
                                {
                                    "SZOBA_ID": "8",
                                    "FOGLALAS_PK": "694",
                                    "napok": "4",
                                    "Elöző foglalás": "4"
                                },
                                {
                                    "SZOBA_ID": "8",
                                    "FOGLALAS_PK": "832",
                                    "napok": "4",
                                    "Elöző foglalás": "4"
                                },
                                {
                                    "SZOBA_ID": "8",
                                    "FOGLALAS_PK": "818",
                                    "napok": "4",
                                    "Elöző foglalás": "4"
                                },
                                {
                                    "SZOBA_ID": "8",
                                    "FOGLALAS_PK": "882",
                                    "napok": "1",
                                    "Elöző foglalás": "4"
                                },
                                {
                                    "SZOBA_ID": "8",
                                    "FOGLALAS_PK": "947",
                                    "napok": "3",
                                    "Elöző foglalás": "1"
                                },
                                {
                                    "SZOBA_ID": "9",
                                    "FOGLALAS_PK": "609",
                                    "napok": "2",
                                    "Elöző foglalás": "3"
                                },
                                {
                                    "SZOBA_ID": "9",
                                    "FOGLALAS_PK": "1157",
                                    "napok": "6",
                                    "Elöző foglalás": "2"
                                },
                                {
                                    "SZOBA_ID": "9",
                                    "FOGLALAS_PK": "1260",
                                    "napok": "6",
                                    "Elöző foglalás": "6"
                                },
                                {
                                    "SZOBA_ID": "9",
                                    "FOGLALAS_PK": "1220",
                                    "napok": "3",
                                    "Elöző foglalás": "6"
                                },
                                {
                                    "SZOBA_ID": "9",
                                    "FOGLALAS_PK": "1537",
                                    "napok": "3",
                                    "Elöző foglalás": "3"
                                },
                                {
                                    "SZOBA_ID": "9",
                                    "FOGLALAS_PK": "1423",
                                    "napok": "3",
                                    "Elöző foglalás": "3"
                                },
                                {
                                    "SZOBA_ID": "10",
                                    "FOGLALAS_PK": "1319",
                                    "napok": "6",
                                    "Elöző foglalás": "3"
                                },
                                {
                                    "SZOBA_ID": "10",
                                    "FOGLALAS_PK": "569",
                                    "napok": "3",
                                    "Elöző foglalás": "6"
                                },
                                {
                                    "SZOBA_ID": "10",
                                    "FOGLALAS_PK": "790",
                                    "napok": "5",
                                    "Elöző foglalás": "3"
                                },
                                {
                                    "SZOBA_ID": "10",
                                    "FOGLALAS_PK": "795",
                                    "napok": "4",
                                    "Elöző foglalás": "5"
                                },
                                {
                                    "SZOBA_ID": "11",
                                    "FOGLALAS_PK": "918",
                                    "napok": "6",
                                    "Elöző foglalás": "4"
                                },
                                {
                                    "SZOBA_ID": "11",
                                    "FOGLALAS_PK": "1123",
                                    "napok": "5",
                                    "Elöző foglalás": "6"
                                },
                                {
                                    "SZOBA_ID": "11",
                                    "FOGLALAS_PK": "1236",
                                    "napok": "1",
                                    "Elöző foglalás": "5"
                                },
                                {
                                    "SZOBA_ID": "11",
                                    "FOGLALAS_PK": "1523",
                                    "napok": "1",
                                    "Elöző foglalás": "1"
                                },
                                {
                                    "SZOBA_ID": "12",
                                    "FOGLALAS_PK": "1430",
                                    "napok": "2",
                                    "Elöző foglalás": "1"
                                },
                                {
                                    "SZOBA_ID": "12",
                                    "FOGLALAS_PK": "1140",
                                    "napok": "3",
                                    "Elöző foglalás": "2"
                                },
                                {
                                    "SZOBA_ID": "12",
                                    "FOGLALAS_PK": "1164",
                                    "napok": "5",
                                    "Elöző foglalás": "3"
                                },
                                {
                                    "SZOBA_ID": "12",
                                    "FOGLALAS_PK": "1020",
                                    "napok": "5",
                                    "Elöző foglalás": "5"
                                },
                                {
                                    "SZOBA_ID": "12",
                                    "FOGLALAS_PK": "951",
                                    "napok": "3",
                                    "Elöző foglalás": "5"
                                },
                                {
                                    "SZOBA_ID": "12",
                                    "FOGLALAS_PK": "970",
                                    "napok": "2",
                                    "Elöző foglalás": "3"
                                },
                                {
                                    "SZOBA_ID": "12",
                                    "FOGLALAS_PK": "876",
                                    "napok": "7",
                                    "Elöző foglalás": "2"
                                },
                                {
                                    "SZOBA_ID": "12",
                                    "FOGLALAS_PK": "775",
                                    "napok": "4",
                                    "Elöző foglalás": "7"
                                },
                                {
                                    "SZOBA_ID": "12",
                                    "FOGLALAS_PK": "697",
                                    "napok": "2",
                                    "Elöző foglalás": "4"
                                },
                                {
                                    "SZOBA_ID": "13",
                                    "FOGLALAS_PK": "763",
                                    "napok": "4",
                                    "Elöző foglalás": "2"
                                },
                                {
                                    "SZOBA_ID": "13",
                                    "FOGLALAS_PK": "1044",
                                    "napok": "6",
                                    "Elöző foglalás": "4"
                                },
                                {
                                    "SZOBA_ID": "13",
                                    "FOGLALAS_PK": "1347",
                                    "napok": "3",
                                    "Elöző foglalás": "6"
                                },
                                {
                                    "SZOBA_ID": "13",
                                    "FOGLALAS_PK": "1469",
                                    "napok": "2",
                                    "Elöző foglalás": "3"
                                },
                                {
                                    "SZOBA_ID": "14",
                                    "FOGLALAS_PK": "1542",
                                    "napok": "4",
                                    "Elöző foglalás": "2"
                                },
                                {
                                    "SZOBA_ID": "14",
                                    "FOGLALAS_PK": "813",
                                    "napok": "3",
                                    "Elöző foglalás": "4"
                                },
                                {
                                    "SZOBA_ID": "14",
                                    "FOGLALAS_PK": "663",
                                    "napok": "1",
                                    "Elöző foglalás": "3"
                                },
                                {
                                    "SZOBA_ID": "15",
                                    "FOGLALAS_PK": "791",
                                    "napok": "5",
                                    "Elöző foglalás": "1"
                                },
                                {
                                    "SZOBA_ID": "15",
                                    "FOGLALAS_PK": "1028",
                                    "napok": "2",
                                    "Elöző foglalás": "5"
                                },
                                {
                                    "SZOBA_ID": "15",
                                    "FOGLALAS_PK": "1442",
                                    "napok": "3",
                                    "Elöző foglalás": "2"
                                },
                                {
                                    "SZOBA_ID": "15",
                                    "FOGLALAS_PK": "1418",
                                    "napok": "4",
                                    "Elöző foglalás": "3"
                                },
                                {
                                    "SZOBA_ID": "15",
                                    "FOGLALAS_PK": "1129",
                                    "napok": "4",
                                    "Elöző foglalás": "4"
                                },
                                {
                                    "SZOBA_ID": "15",
                                    "FOGLALAS_PK": "1244",
                                    "napok": "1",
                                    "Elöző foglalás": "4"
                                },
                                {
                                    "SZOBA_ID": "16",
                                    "FOGLALAS_PK": "1498",
                                    "napok": "7",
                                    "Elöző foglalás": "1"
                                },
                                {
                                    "SZOBA_ID": "16",
                                    "FOGLALAS_PK": "896",
                                    "napok": "1",
                                    "Elöző foglalás": "7"
                                },
                                {
                                    "SZOBA_ID": "16",
                                    "FOGLALAS_PK": "856",
                                    "napok": "6",
                                    "Elöző foglalás": "1"
                                },
                                {
                                    "SZOBA_ID": "16",
                                    "FOGLALAS_PK": "973",
                                    "napok": "1",
                                    "Elöző foglalás": "6"
                                },
                                {
                                    "SZOBA_ID": "16",
                                    "FOGLALAS_PK": "687",
                                    "napok": "3",
                                    "Elöző foglalás": "1"
                                },
                                {
                                    "SZOBA_ID": "17",
                                    "FOGLALAS_PK": "602",
                                    "napok": "6",
                                    "Elöző foglalás": "3"
                                },
                                {
                                    "SZOBA_ID": "17",
                                    "FOGLALAS_PK": "744",
                                    "napok": "1",
                                    "Elöző foglalás": "6"
                                },
                                {
                                    "SZOBA_ID": "17",
                                    "FOGLALAS_PK": "713",
                                    "napok": "6",
                                    "Elöző foglalás": "1"
                                },
                                {
                                    "SZOBA_ID": "17",
                                    "FOGLALAS_PK": "916",
                                    "napok": "2",
                                    "Elöző foglalás": "6"
                                },
                                {
                                    "SZOBA_ID": "17",
                                    "FOGLALAS_PK": "1549",
                                    "napok": "3",
                                    "Elöző foglalás": "2"
                                },
                                {
                                    "SZOBA_ID": "17",
                                    "FOGLALAS_PK": "1316",
                                    "napok": "5",
                                    "Elöző foglalás": "3"
                                },
                                {
                                    "SZOBA_ID": "18",
                                    "FOGLALAS_PK": "1173",
                                    "napok": "6",
                                    "Elöző foglalás": "5"
                                },
                                {
                                    "SZOBA_ID": "18",
                                    "FOGLALAS_PK": "1198",
                                    "napok": "4",
                                    "Elöző foglalás": "6"
                                },
                                {
                                    "SZOBA_ID": "18",
                                    "FOGLALAS_PK": "1505",
                                    "napok": "6",
                                    "Elöző foglalás": "4"
                                },
                                {
                                    "SZOBA_ID": "18",
                                    "FOGLALAS_PK": "1035",
                                    "napok": "6",
                                    "Elöző foglalás": "6"
                                },
                                {
                                    "SZOBA_ID": "18",
                                    "FOGLALAS_PK": "767",
                                    "napok": "3",
                                    "Elöző foglalás": "6"
                                },
                                {
                                    "SZOBA_ID": "18",
                                    "FOGLALAS_PK": "626",
                                    "napok": "3",
                                    "Elöző foglalás": "3"
                                },
                                {
                                    "SZOBA_ID": "19",
                                    "FOGLALAS_PK": "696",
                                    "napok": "1",
                                    "Elöző foglalás": "3"
                                },
                                {
                                    "SZOBA_ID": "19",
                                    "FOGLALAS_PK": "778",
                                    "napok": "1",
                                    "Elöző foglalás": "1"
                                },
                                {
                                    "SZOBA_ID": "19",
                                    "FOGLALAS_PK": "948",
                                    "napok": "2",
                                    "Elöző foglalás": "1"
                                },
                                {
                                    "SZOBA_ID": "19",
                                    "FOGLALAS_PK": "1533",
                                    "napok": "1",
                                    "Elöző foglalás": "2"
                                },
                                {
                                    "SZOBA_ID": "19",
                                    "FOGLALAS_PK": "1139",
                                    "napok": "7",
                                    "Elöző foglalás": "1"
                                },
                                {
                                    "SZOBA_ID": "19",
                                    "FOGLALAS_PK": "1237",
                                    "napok": "1",
                                    "Elöző foglalás": "7"
                                },
                                {
                                    "SZOBA_ID": "20",
                                    "FOGLALAS_PK": "1114",
                                    "napok": "5",
                                    "Elöző foglalás": "1"
                                },
                                {
                                    "SZOBA_ID": "20",
                                    "FOGLALAS_PK": "1106",
                                    "napok": "2",
                                    "Elöző foglalás": "5"
                                },
                                {
                                    "SZOBA_ID": "20",
                                    "FOGLALAS_PK": "1070",
                                    "napok": "1",
                                    "Elöző foglalás": "2"
                                },
                                {
                                    "SZOBA_ID": "20",
                                    "FOGLALAS_PK": "820",
                                    "napok": "1",
                                    "Elöző foglalás": "1"
                                },
                                {
                                    "SZOBA_ID": "20",
                                    "FOGLALAS_PK": "755",
                                    "napok": "6",
                                    "Elöző foglalás": "1"
                                },
                                {
                                    "SZOBA_ID": "21",
                                    "FOGLALAS_PK": "805",
                                    "napok": "1",
                                    "Elöző foglalás": "6"
                                },
                                {
                                    "SZOBA_ID": "21",
                                    "FOGLALAS_PK": "660",
                                    "napok": "5",
                                    "Elöző foglalás": "1"
                                },
                                {
                                    "SZOBA_ID": "21",
                                    "FOGLALAS_PK": "566",
                                    "napok": "6",
                                    "Elöző foglalás": "5"
                                },
                                {
                                    "SZOBA_ID": "21",
                                    "FOGLALAS_PK": "1212",
                                    "napok": "6",
                                    "Elöző foglalás": "6"
                                },
                                {
                                    "SZOBA_ID": "22",
                                    "FOGLALAS_PK": "1206",
                                    "napok": "7",
                                    "Elöző foglalás": "6"
                                },
                                {
                                    "SZOBA_ID": "22",
                                    "FOGLALAS_PK": "1130",
                                    "napok": "1",
                                    "Elöző foglalás": "7"
                                },
                                {
                                    "SZOBA_ID": "22",
                                    "FOGLALAS_PK": "1195",
                                    "napok": "6",
                                    "Elöző foglalás": "1"
                                },
                                {
                                    "SZOBA_ID": "22",
                                    "FOGLALAS_PK": "1287",
                                    "napok": "3",
                                    "Elöző foglalás": "6"
                                },
                                {
                                    "SZOBA_ID": "22",
                                    "FOGLALAS_PK": "1005",
                                    "napok": "3",
                                    "Elöző foglalás": "3"
                                },
                                {
                                    "SZOBA_ID": "22",
                                    "FOGLALAS_PK": "906",
                                    "napok": "1",
                                    "Elöző foglalás": "3"
                                },
                                {
                                    "SZOBA_ID": "23",
                                    "FOGLALAS_PK": "848",
                                    "napok": "1",
                                    "Elöző foglalás": "1"
                                },
                                {
                                    "SZOBA_ID": "23",
                                    "FOGLALAS_PK": "945",
                                    "napok": "7",
                                    "Elöző foglalás": "1"
                                },
                                {
                                    "SZOBA_ID": "23",
                                    "FOGLALAS_PK": "934",
                                    "napok": "1",
                                    "Elöző foglalás": "7"
                                },
                                {
                                    "SZOBA_ID": "24",
                                    "FOGLALAS_PK": "852",
                                    "napok": "2",
                                    "Elöző foglalás": "1"
                                },
                                {
                                    "SZOBA_ID": "24",
                                    "FOGLALAS_PK": "1415",
                                    "napok": "3",
                                    "Elöző foglalás": "2"
                                },
                                {
                                    "SZOBA_ID": "24",
                                    "FOGLALAS_PK": "1167",
                                    "napok": "1",
                                    "Elöző foglalás": "3"
                                },
                                {
                                    "SZOBA_ID": "25",
                                    "FOGLALAS_PK": "1362",
                                    "napok": "2",
                                    "Elöző foglalás": "1"
                                },
                                {
                                    "SZOBA_ID": "25",
                                    "FOGLALAS_PK": "1052",
                                    "napok": "3",
                                    "Elöző foglalás": "2"
                                },
                                {
                                    "SZOBA_ID": "26",
                                    "FOGLALAS_PK": "1388",
                                    "napok": "3",
                                    "Elöző foglalás": "3"
                                },
                                {
                                    "SZOBA_ID": "26",
                                    "FOGLALAS_PK": "1158",
                                    "napok": "2",
                                    "Elöző foglalás": "3"
                                },
                                {
                                    "SZOBA_ID": "27",
                                    "FOGLALAS_PK": "1275",
                                    "napok": "6",
                                    "Elöző foglalás": "2"
                                },
                                {
                                    "SZOBA_ID": "27",
                                    "FOGLALAS_PK": "1377",
                                    "napok": "1",
                                    "Elöző foglalás": "6"
                                },
                                {
                                    "SZOBA_ID": "27",
                                    "FOGLALAS_PK": "1476",
                                    "napok": "1",
                                    "Elöző foglalás": "1"
                                },
                                {
                                    "SZOBA_ID": "27",
                                    "FOGLALAS_PK": "1031",
                                    "napok": "2",
                                    "Elöző foglalás": "1"
                                },
                                {
                                    "SZOBA_ID": "27",
                                    "FOGLALAS_PK": "1082",
                                    "napok": "5",
                                    "Elöző foglalás": "2"
                                },
                                {
                                    "SZOBA_ID": "27",
                                    "FOGLALAS_PK": "807",
                                    "napok": "2",
                                    "Elöző foglalás": "5"
                                },
                                {
                                    "SZOBA_ID": "27",
                                    "FOGLALAS_PK": "758",
                                    "napok": "3",
                                    "Elöző foglalás": "2"
                                },
                                {
                                    "SZOBA_ID": "28",
                                    "FOGLALAS_PK": "725",
                                    "napok": "5",
                                    "Elöző foglalás": "3"
                                },
                                {
                                    "SZOBA_ID": "28",
                                    "FOGLALAS_PK": "872",
                                    "napok": "5",
                                    "Elöző foglalás": "5"
                                },
                                {
                                    "SZOBA_ID": "28",
                                    "FOGLALAS_PK": "901",
                                    "napok": "4",
                                    "Elöző foglalás": "5"
                                },
                                {
                                    "SZOBA_ID": "28",
                                    "FOGLALAS_PK": "886",
                                    "napok": "4",
                                    "Elöző foglalás": "4"
                                },
                                {
                                    "SZOBA_ID": "28",
                                    "FOGLALAS_PK": "1459",
                                    "napok": "2",
                                    "Elöző foglalás": "4"
                                },
                                {
                                    "SZOBA_ID": "28",
                                    "FOGLALAS_PK": "1150",
                                    "napok": "6",
                                    "Elöző foglalás": "2"
                                },
                                {
                                    "SZOBA_ID": "29",
                                    "FOGLALAS_PK": "1185",
                                    "napok": "5",
                                    "Elöző foglalás": "6"
                                },
                                {
                                    "SZOBA_ID": "29",
                                    "FOGLALAS_PK": "1235",
                                    "napok": "7",
                                    "Elöző foglalás": "5"
                                },
                                {
                                    "SZOBA_ID": "29",
                                    "FOGLALAS_PK": "1568",
                                    "napok": "7",
                                    "Elöző foglalás": "7"
                                },
                                {
                                    "SZOBA_ID": "29",
                                    "FOGLALAS_PK": "894",
                                    "napok": "1",
                                    "Elöző foglalás": "7"
                                },
                                {
                                    "SZOBA_ID": "29",
                                    "FOGLALAS_PK": "1076",
                                    "napok": "7",
                                    "Elöző foglalás": "1"
                                },
                                {
                                    "SZOBA_ID": "29",
                                    "FOGLALAS_PK": "611",
                                    "napok": "5",
                                    "Elöző foglalás": "7"
                                },
                                {
                                    "SZOBA_ID": "30",
                                    "FOGLALAS_PK": "604",
                                    "napok": "2",
                                    "Elöző foglalás": "5"
                                },
                                {
                                    "SZOBA_ID": "30",
                                    "FOGLALAS_PK": "1023",
                                    "napok": "7",
                                    "Elöző foglalás": "2"
                                },
                                {
                                    "SZOBA_ID": "30",
                                    "FOGLALAS_PK": "1136",
                                    "napok": "5",
                                    "Elöző foglalás": "7"
                                },
                                {
                                    "SZOBA_ID": "31",
                                    "FOGLALAS_PK": "606",
                                    "napok": "1",
                                    "Elöző foglalás": "5"
                                },
                                {
                                    "SZOBA_ID": "31",
                                    "FOGLALAS_PK": "598",
                                    "napok": "2",
                                    "Elöző foglalás": "1"
                                },
                                {
                                    "SZOBA_ID": "31",
                                    "FOGLALAS_PK": "728",
                                    "napok": "4",
                                    "Elöző foglalás": "2"
                                },
                                {
                                    "SZOBA_ID": "32",
                                    "FOGLALAS_PK": "920",
                                    "napok": "4",
                                    "Elöző foglalás": "4"
                                },
                                {
                                    "SZOBA_ID": "33",
                                    "FOGLALAS_PK": "1053",
                                    "napok": "1",
                                    "Elöző foglalás": "4"
                                },
                                {
                                    "SZOBA_ID": "33",
                                    "FOGLALAS_PK": "1012",
                                    "napok": "7",
                                    "Elöző foglalás": "1"
                                },
                                {
                                    "SZOBA_ID": "33",
                                    "FOGLALAS_PK": "624",
                                    "napok": "6",
                                    "Elöző foglalás": "7"
                                },
                                {
                                    "SZOBA_ID": "33",
                                    "FOGLALAS_PK": "1381",
                                    "napok": "6",
                                    "Elöző foglalás": "6"
                                },
                                {
                                    "SZOBA_ID": "33",
                                    "FOGLALAS_PK": "1344",
                                    "napok": "5",
                                    "Elöző foglalás": "6"
                                },
                                {
                                    "SZOBA_ID": "33",
                                    "FOGLALAS_PK": "1321",
                                    "napok": "4",
                                    "Elöző foglalás": "5"
                                },
                                {
                                    "SZOBA_ID": "34",
                                    "FOGLALAS_PK": "777",
                                    "napok": "3",
                                    "Elöző foglalás": "4"
                                },
                                {
                                    "SZOBA_ID": "34",
                                    "FOGLALAS_PK": "821",
                                    "napok": "1",
                                    "Elöző foglalás": "3"
                                },
                                {
                                    "SZOBA_ID": "34",
                                    "FOGLALAS_PK": "904",
                                    "napok": "2",
                                    "Elöző foglalás": "1"
                                },
                                {
                                    "SZOBA_ID": "34",
                                    "FOGLALAS_PK": "870",
                                    "napok": "6",
                                    "Elöző foglalás": "2"
                                },
                                {
                                    "SZOBA_ID": "35",
                                    "FOGLALAS_PK": "971",
                                    "napok": "3",
                                    "Elöző foglalás": "6"
                                },
                                {
                                    "SZOBA_ID": "35",
                                    "FOGLALAS_PK": "979",
                                    "napok": "7",
                                    "Elöző foglalás": "3"
                                },
                                {
                                    "SZOBA_ID": "35",
                                    "FOGLALAS_PK": "829",
                                    "napok": "2",
                                    "Elöző foglalás": "7"
                                },
                                {
                                    "SZOBA_ID": "35",
                                    "FOGLALAS_PK": "707",
                                    "napok": "2",
                                    "Elöző foglalás": "2"
                                },
                                {
                                    "SZOBA_ID": "35",
                                    "FOGLALAS_PK": "686",
                                    "napok": "6",
                                    "Elöző foglalás": "2"
                                },
                                {
                                    "SZOBA_ID": "35",
                                    "FOGLALAS_PK": "1411",
                                    "napok": "1",
                                    "Elöző foglalás": "6"
                                },
                                {
                                    "SZOBA_ID": "35",
                                    "FOGLALAS_PK": "1480",
                                    "napok": "37",
                                    "Elöző foglalás": "1"
                                },
                                {
                                    "SZOBA_ID": "35",
                                    "FOGLALAS_PK": "1436",
                                    "napok": "1",
                                    "Elöző foglalás": "37"
                                },
                                {
                                    "SZOBA_ID": "35",
                                    "FOGLALAS_PK": "1529",
                                    "napok": "4",
                                    "Elöző foglalás": "1"
                                },
                                {
                                    "SZOBA_ID": "36",
                                    "FOGLALAS_PK": "748",
                                    "napok": "2",
                                    "Elöző foglalás": "4"
                                },
                                {
                                    "SZOBA_ID": "36",
                                    "FOGLALAS_PK": "750",
                                    "napok": "6",
                                    "Elöző foglalás": "2"
                                },
                                {
                                    "SZOBA_ID": "36",
                                    "FOGLALAS_PK": "985",
                                    "napok": "6",
                                    "Elöző foglalás": "6"
                                },
                                {
                                    "SZOBA_ID": "36",
                                    "FOGLALAS_PK": "919",
                                    "napok": "1",
                                    "Elöző foglalás": "6"
                                },
                                {
                                    "SZOBA_ID": "36",
                                    "FOGLALAS_PK": "895",
                                    "napok": "5",
                                    "Elöző foglalás": "1"
                                },
                                {
                                    "SZOBA_ID": "36",
                                    "FOGLALAS_PK": "1003",
                                    "napok": "4",
                                    "Elöző foglalás": "5"
                                },
                                {
                                    "SZOBA_ID": "37",
                                    "FOGLALAS_PK": "705",
                                    "napok": "4",
                                    "Elöző foglalás": "4"
                                },
                                {
                                    "SZOBA_ID": "37",
                                    "FOGLALAS_PK": "688",
                                    "napok": "2",
                                    "Elöző foglalás": "4"
                                },
                                {
                                    "SZOBA_ID": "37",
                                    "FOGLALAS_PK": "1335",
                                    "napok": "7",
                                    "Elöző foglalás": "2"
                                },
                                {
                                    "SZOBA_ID": "38",
                                    "FOGLALAS_PK": "1416",
                                    "napok": "5",
                                    "Elöző foglalás": "7"
                                },
                                {
                                    "SZOBA_ID": "38",
                                    "FOGLALAS_PK": "1351",
                                    "napok": "4",
                                    "Elöző foglalás": "5"
                                },
                                {
                                    "SZOBA_ID": "38",
                                    "FOGLALAS_PK": "1556",
                                    "napok": "6",
                                    "Elöző foglalás": "4"
                                },
                                {
                                    "SZOBA_ID": "38",
                                    "FOGLALAS_PK": "1478",
                                    "napok": "4",
                                    "Elöző foglalás": "6"
                                },
                                {
                                    "SZOBA_ID": "38",
                                    "FOGLALAS_PK": "627",
                                    "napok": "6",
                                    "Elöző foglalás": "4"
                                },
                                {
                                    "SZOBA_ID": "38",
                                    "FOGLALAS_PK": "1033",
                                    "napok": "2",
                                    "Elöző foglalás": "6"
                                },
                                {
                                    "SZOBA_ID": "38",
                                    "FOGLALAS_PK": "1078",
                                    "napok": "7",
                                    "Elöző foglalás": "2"
                                },
                                {
                                    "SZOBA_ID": "38",
                                    "FOGLALAS_PK": "1060",
                                    "napok": "2",
                                    "Elöző foglalás": "7"
                                },
                                {
                                    "SZOBA_ID": "39",
                                    "FOGLALAS_PK": "899",
                                    "napok": "6",
                                    "Elöző foglalás": "2"
                                },
                                {
                                    "SZOBA_ID": "39",
                                    "FOGLALAS_PK": "601",
                                    "napok": "6",
                                    "Elöző foglalás": "6"
                                },
                                {
                                    "SZOBA_ID": "39",
                                    "FOGLALAS_PK": "1435",
                                    "napok": "7",
                                    "Elöző foglalás": "6"
                                },
                                {
                                    "SZOBA_ID": "39",
                                    "FOGLALAS_PK": "1454",
                                    "napok": "1",
                                    "Elöző foglalás": "7"
                                },
                                {
                                    "SZOBA_ID": "39",
                                    "FOGLALAS_PK": "1538",
                                    "napok": "2",
                                    "Elöző foglalás": "1"
                                },
                                {
                                    "SZOBA_ID": "39",
                                    "FOGLALAS_PK": "1380",
                                    "napok": "5",
                                    "Elöző foglalás": "2"
                                },
                                {
                                    "SZOBA_ID": "39",
                                    "FOGLALAS_PK": "1214",
                                    "napok": "5",
                                    "Elöző foglalás": "5"
                                },
                                {
                                    "SZOBA_ID": "40",
                                    "FOGLALAS_PK": "924",
                                    "napok": "5",
                                    "Elöző foglalás": "5"
                                },
                                {
                                    "SZOBA_ID": "40",
                                    "FOGLALAS_PK": "932",
                                    "napok": "6",
                                    "Elöző foglalás": "5"
                                },
                                {
                                    "SZOBA_ID": "40",
                                    "FOGLALAS_PK": "1118",
                                    "napok": "5",
                                    "Elöző foglalás": "6"
                                },
                                {
                                    "SZOBA_ID": "40",
                                    "FOGLALAS_PK": "1018",
                                    "napok": "5",
                                    "Elöző foglalás": "5"
                                },
                                {
                                    "SZOBA_ID": "41",
                                    "FOGLALAS_PK": "960",
                                    "napok": "6",
                                    "Elöző foglalás": "5"
                                },
                                {
                                    "SZOBA_ID": "41",
                                    "FOGLALAS_PK": "1144",
                                    "napok": "1",
                                    "Elöző foglalás": "6"
                                },
                                {
                                    "SZOBA_ID": "42",
                                    "FOGLALAS_PK": "1309",
                                    "napok": "2",
                                    "Elöző foglalás": "1"
                                },
                                {
                                    "SZOBA_ID": "42",
                                    "FOGLALAS_PK": "1444",
                                    "napok": "6",
                                    "Elöző foglalás": "2"
                                },
                                {
                                    "SZOBA_ID": "42",
                                    "FOGLALAS_PK": "851",
                                    "napok": "7",
                                    "Elöző foglalás": "6"
                                },
                                {
                                    "SZOBA_ID": "42",
                                    "FOGLALAS_PK": "561",
                                    "napok": "4",
                                    "Elöző foglalás": "7"
                                },
                                {
                                    "SZOBA_ID": "42",
                                    "FOGLALAS_PK": "590",
                                    "napok": "5",
                                    "Elöző foglalás": "4"
                                },
                                {
                                    "SZOBA_ID": "42",
                                    "FOGLALAS_PK": "770",
                                    "napok": "3",
                                    "Elöző foglalás": "5"
                                },
                                {
                                    "SZOBA_ID": "43",
                                    "FOGLALAS_PK": "670",
                                    "napok": "4",
                                    "Elöző foglalás": "3"
                                },
                                {
                                    "SZOBA_ID": "43",
                                    "FOGLALAS_PK": "1019",
                                    "napok": "4",
                                    "Elöző foglalás": "4"
                                },
                                {
                                    "SZOBA_ID": "43",
                                    "FOGLALAS_PK": "1088",
                                    "napok": "2",
                                    "Elöző foglalás": "4"
                                },
                                {
                                    "SZOBA_ID": "43",
                                    "FOGLALAS_PK": "1553",
                                    "napok": "5",
                                    "Elöző foglalás": "2"
                                },
                                {
                                    "SZOBA_ID": "43",
                                    "FOGLALAS_PK": "1524",
                                    "napok": "1",
                                    "Elöző foglalás": "5"
                                },
                                {
                                    "SZOBA_ID": "43",
                                    "FOGLALAS_PK": "1207",
                                    "napok": "1",
                                    "Elöző foglalás": "1"
                                },
                                {
                                    "SZOBA_ID": "43",
                                    "FOGLALAS_PK": "1227",
                                    "napok": "5",
                                    "Elöző foglalás": "1"
                                },
                                {
                                    "SZOBA_ID": "43",
                                    "FOGLALAS_PK": "1270",
                                    "napok": "4",
                                    "Elöző foglalás": "5"
                                },
                                {
                                    "SZOBA_ID": "44",
                                    "FOGLALAS_PK": "1295",
                                    "napok": "2",
                                    "Elöző foglalás": "4"
                                },
                                {
                                    "SZOBA_ID": "44",
                                    "FOGLALAS_PK": "1552",
                                    "napok": "2",
                                    "Elöző foglalás": "2"
                                },
                                {
                                    "SZOBA_ID": "44",
                                    "FOGLALAS_PK": "1425",
                                    "napok": "2",
                                    "Elöző foglalás": "2"
                                },
                                {
                                    "SZOBA_ID": "44",
                                    "FOGLALAS_PK": "658",
                                    "napok": "6",
                                    "Elöző foglalás": "2"
                                },
                                {
                                    "SZOBA_ID": "44",
                                    "FOGLALAS_PK": "589",
                                    "napok": "2",
                                    "Elöző foglalás": "6"
                                },
                                {
                                    "SZOBA_ID": "44",
                                    "FOGLALAS_PK": "823",
                                    "napok": "2",
                                    "Elöző foglalás": "2"
                                },
                                {
                                    "SZOBA_ID": "45",
                                    "FOGLALAS_PK": "802",
                                    "napok": "7",
                                    "Elöző foglalás": "2"
                                },
                                {
                                    "SZOBA_ID": "45",
                                    "FOGLALAS_PK": "800",
                                    "napok": "5",
                                    "Elöző foglalás": "7"
                                },
                                {
                                    "SZOBA_ID": "45",
                                    "FOGLALAS_PK": "846",
                                    "napok": "3",
                                    "Elöző foglalás": "5"
                                },
                                {
                                    "SZOBA_ID": "45",
                                    "FOGLALAS_PK": "1303",
                                    "napok": "2",
                                    "Elöző foglalás": "3"
                                },
                                {
                                    "SZOBA_ID": "45",
                                    "FOGLALAS_PK": "1135",
                                    "napok": "3",
                                    "Elöző foglalás": "2"
                                },
                                {
                                    "SZOBA_ID": "46",
                                    "FOGLALAS_PK": "1187",
                                    "napok": "7",
                                    "Elöző foglalás": "3"
                                },
                                {
                                    "SZOBA_ID": "46",
                                    "FOGLALAS_PK": "1291",
                                    "napok": "3",
                                    "Elöző foglalás": "7"
                                },
                                {
                                    "SZOBA_ID": "46",
                                    "FOGLALAS_PK": "1515",
                                    "napok": "4",
                                    "Elöző foglalás": "3"
                                },
                                {
                                    "SZOBA_ID": "46",
                                    "FOGLALAS_PK": "752",
                                    "napok": "5",
                                    "Elöző foglalás": "4"
                                },
                                {
                                    "SZOBA_ID": "47",
                                    "FOGLALAS_PK": "955",
                                    "napok": "1",
                                    "Elöző foglalás": "5"
                                },
                                {
                                    "SZOBA_ID": "47",
                                    "FOGLALAS_PK": "1056",
                                    "napok": "7",
                                    "Elöző foglalás": "1"
                                },
                                {
                                    "SZOBA_ID": "48",
                                    "FOGLALAS_PK": "986",
                                    "napok": "5",
                                    "Elöző foglalás": "7"
                                },
                                {
                                    "SZOBA_ID": "48",
                                    "FOGLALAS_PK": "914",
                                    "napok": "5",
                                    "Elöző foglalás": "5"
                                },
                                {
                                    "SZOBA_ID": "48",
                                    "FOGLALAS_PK": "824",
                                    "napok": "2",
                                    "Elöző foglalás": "5"
                                },
                                {
                                    "SZOBA_ID": "48",
                                    "FOGLALAS_PK": "603",
                                    "napok": "3",
                                    "Elöző foglalás": "2"
                                },
                                {
                                    "SZOBA_ID": "48",
                                    "FOGLALAS_PK": "628",
                                    "napok": "2",
                                    "Elöző foglalás": "3"
                                },
                                {
                                    "SZOBA_ID": "48",
                                    "FOGLALAS_PK": "1546",
                                    "napok": "3",
                                    "Elöző foglalás": "2"
                                },
                                {
                                    "SZOBA_ID": "48",
                                    "FOGLALAS_PK": "1547",
                                    "napok": "1",
                                    "Elöző foglalás": "3"
                                },
                                {
                                    "SZOBA_ID": "48",
                                    "FOGLALAS_PK": "1581",
                                    "napok": "5",
                                    "Elöző foglalás": "1"
                                },
                                {
                                    "SZOBA_ID": "48",
                                    "FOGLALAS_PK": "1243",
                                    "napok": "6",
                                    "Elöző foglalás": "5"
                                },
                                {
                                    "SZOBA_ID": "49",
                                    "FOGLALAS_PK": "1221",
                                    "napok": "2",
                                    "Elöző foglalás": "6"
                                },
                                {
                                    "SZOBA_ID": "49",
                                    "FOGLALAS_PK": "1200",
                                    "napok": "7",
                                    "Elöző foglalás": "2"
                                },
                                {
                                    "SZOBA_ID": "49",
                                    "FOGLALAS_PK": "1536",
                                    "napok": "6",
                                    "Elöző foglalás": "7"
                                },
                                {
                                    "SZOBA_ID": "49",
                                    "FOGLALAS_PK": "826",
                                    "napok": "4",
                                    "Elöző foglalás": "6"
                                },
                                {
                                    "SZOBA_ID": "49",
                                    "FOGLALAS_PK": "793",
                                    "napok": "6",
                                    "Elöző foglalás": "4"
                                },
                                {
                                    "SZOBA_ID": "49",
                                    "FOGLALAS_PK": "888",
                                    "napok": "7",
                                    "Elöző foglalás": "6"
                                },
                                {
                                    "SZOBA_ID": "49",
                                    "FOGLALAS_PK": "1066",
                                    "napok": "7",
                                    "Elöző foglalás": "7"
                                },
                                {
                                    "SZOBA_ID": "50",
                                    "FOGLALAS_PK": "1063",
                                    "napok": "2",
                                    "Elöző foglalás": "7"
                                },
                                {
                                    "SZOBA_ID": "50",
                                    "FOGLALAS_PK": "787",
                                    "napok": "3",
                                    "Elöző foglalás": "2"
                                },
                                {
                                    "SZOBA_ID": "50",
                                    "FOGLALAS_PK": "1224",
                                    "napok": "1",
                                    "Elöző foglalás": "3"
                                },
                                {
                                    "SZOBA_ID": "50",
                                    "FOGLALAS_PK": "1272",
                                    "napok": "1",
                                    "Elöző foglalás": "1"
                                },
                                {
                                    "SZOBA_ID": "51",
                                    "FOGLALAS_PK": "1165",
                                    "napok": "5",
                                    "Elöző foglalás": "1"
                                },
                                {
                                    "SZOBA_ID": "51",
                                    "FOGLALAS_PK": "1550",
                                    "napok": "1",
                                    "Elöző foglalás": "5"
                                },
                                {
                                    "SZOBA_ID": "51",
                                    "FOGLALAS_PK": "1477",
                                    "napok": "6",
                                    "Elöző foglalás": "1"
                                },
                                {
                                    "SZOBA_ID": "51",
                                    "FOGLALAS_PK": "811",
                                    "napok": "2",
                                    "Elöző foglalás": "6"
                                },
                                {
                                    "SZOBA_ID": "51",
                                    "FOGLALAS_PK": "865",
                                    "napok": "7",
                                    "Elöző foglalás": "2"
                                },
                                {
                                    "SZOBA_ID": "52",
                                    "FOGLALAS_PK": "822",
                                    "napok": "7",
                                    "Elöző foglalás": "7"
                                },
                                {
                                    "SZOBA_ID": "52",
                                    "FOGLALAS_PK": "1431",
                                    "napok": "5",
                                    "Elöző foglalás": "7"
                                },
                                {
                                    "SZOBA_ID": "52",
                                    "FOGLALAS_PK": "1534",
                                    "napok": "5",
                                    "Elöző foglalás": "5"
                                },
                                {
                                    "SZOBA_ID": "52",
                                    "FOGLALAS_PK": "1258",
                                    "napok": "5",
                                    "Elöző foglalás": "5"
                                },
                                {
                                    "SZOBA_ID": "52",
                                    "FOGLALAS_PK": "1202",
                                    "napok": "2",
                                    "Elöző foglalás": "5"
                                },
                                {
                                    "SZOBA_ID": "53",
                                    "FOGLALAS_PK": "855",
                                    "napok": "1",
                                    "Elöző foglalás": "2"
                                },
                                {
                                    "SZOBA_ID": "53",
                                    "FOGLALAS_PK": "987",
                                    "napok": "4",
                                    "Elöző foglalás": "1"
                                },
                                {
                                    "SZOBA_ID": "54",
                                    "FOGLALAS_PK": "889",
                                    "napok": "2",
                                    "Elöző foglalás": "4"
                                },
                                {
                                    "SZOBA_ID": "54",
                                    "FOGLALAS_PK": "1096",
                                    "napok": "4",
                                    "Elöző foglalás": "2"
                                },
                                {
                                    "SZOBA_ID": "54",
                                    "FOGLALAS_PK": "622",
                                    "napok": "7",
                                    "Elöző foglalás": "4"
                                },
                                {
                                    "SZOBA_ID": "54",
                                    "FOGLALAS_PK": "642",
                                    "napok": "5",
                                    "Elöző foglalás": "7"
                                },
                                {
                                    "SZOBA_ID": "54",
                                    "FOGLALAS_PK": "668",
                                    "napok": "1",
                                    "Elöző foglalás": "5"
                                },
                                {
                                    "SZOBA_ID": "54",
                                    "FOGLALAS_PK": "1328",
                                    "napok": "4",
                                    "Elöző foglalás": "1"
                                },
                                {
                                    "SZOBA_ID": "55",
                                    "FOGLALAS_PK": "1327",
                                    "napok": "6",
                                    "Elöző foglalás": "4"
                                },
                                {
                                    "SZOBA_ID": "55",
                                    "FOGLALAS_PK": "1386",
                                    "napok": "2",
                                    "Elöző foglalás": "6"
                                },
                                {
                                    "SZOBA_ID": "55",
                                    "FOGLALAS_PK": "1232",
                                    "napok": "7",
                                    "Elöző foglalás": "2"
                                },
                                {
                                    "SZOBA_ID": "55",
                                    "FOGLALAS_PK": "1163",
                                    "napok": "2",
                                    "Elöző foglalás": "7"
                                },
                                {
                                    "SZOBA_ID": "55",
                                    "FOGLALAS_PK": "1512",
                                    "napok": "1",
                                    "Elöző foglalás": "2"
                                },
                                {
                                    "SZOBA_ID": "55",
                                    "FOGLALAS_PK": "1520",
                                    "napok": "1",
                                    "Elöző foglalás": "1"
                                },
                                {
                                    "SZOBA_ID": "55",
                                    "FOGLALAS_PK": "734",
                                    "napok": "6",
                                    "Elöző foglalás": "1"
                                },
                                {
                                    "SZOBA_ID": "55",
                                    "FOGLALAS_PK": "1086",
                                    "napok": "5",
                                    "Elöző foglalás": "6"
                                },
                                {
                                    "SZOBA_ID": "56",
                                    "FOGLALAS_PK": "935",
                                    "napok": "4",
                                    "Elöző foglalás": "5"
                                },
                                {
                                    "SZOBA_ID": "56",
                                    "FOGLALAS_PK": "838",
                                    "napok": "2",
                                    "Elöző foglalás": "4"
                                },
                                {
                                    "SZOBA_ID": "57",
                                    "FOGLALAS_PK": "1504",
                                    "napok": "4",
                                    "Elöző foglalás": "2"
                                },
                                {
                                    "SZOBA_ID": "57",
                                    "FOGLALAS_PK": "1466",
                                    "napok": "7",
                                    "Elöző foglalás": "4"
                                },
                                {
                                    "SZOBA_ID": "57",
                                    "FOGLALAS_PK": "1389",
                                    "napok": "1",
                                    "Elöző foglalás": "7"
                                },
                                {
                                    "SZOBA_ID": "57",
                                    "FOGLALAS_PK": "1348",
                                    "napok": "1",
                                    "Elöző foglalás": "1"
                                },
                                {
                                    "SZOBA_ID": "58",
                                    "FOGLALAS_PK": "1322",
                                    "napok": "3",
                                    "Elöző foglalás": "1"
                                },
                                {
                                    "SZOBA_ID": "58",
                                    "FOGLALAS_PK": "1293",
                                    "napok": "3",
                                    "Elöző foglalás": "3"
                                },
                                {
                                    "SZOBA_ID": "58",
                                    "FOGLALAS_PK": "1285",
                                    "napok": "7",
                                    "Elöző foglalás": "3"
                                },
                                {
                                    "SZOBA_ID": "58",
                                    "FOGLALAS_PK": "1307",
                                    "napok": "6",
                                    "Elöző foglalás": "7"
                                },
                                {
                                    "SZOBA_ID": "58",
                                    "FOGLALAS_PK": "1186",
                                    "napok": "6",
                                    "Elöző foglalás": "6"
                                },
                                {
                                    "SZOBA_ID": "58",
                                    "FOGLALAS_PK": "1208",
                                    "napok": "6",
                                    "Elöző foglalás": "6"
                                },
                                {
                                    "SZOBA_ID": "58",
                                    "FOGLALAS_PK": "1255",
                                    "napok": "7",
                                    "Elöző foglalás": "6"
                                },
                                {
                                    "SZOBA_ID": "58",
                                    "FOGLALAS_PK": "1261",
                                    "napok": "6",
                                    "Elöző foglalás": "7"
                                },
                                {
                                    "SZOBA_ID": "58",
                                    "FOGLALAS_PK": "1451",
                                    "napok": "6",
                                    "Elöző foglalás": "6"
                                },
                                {
                                    "SZOBA_ID": "58",
                                    "FOGLALAS_PK": "719",
                                    "napok": "3",
                                    "Elöző foglalás": "6"
                                },
                                {
                                    "SZOBA_ID": "58",
                                    "FOGLALAS_PK": "773",
                                    "napok": "2",
                                    "Elöző foglalás": "3"
                                },
                                {
                                    "SZOBA_ID": "58",
                                    "FOGLALAS_PK": "883",
                                    "napok": "5",
                                    "Elöző foglalás": "2"
                                },
                                {
                                    "SZOBA_ID": "58",
                                    "FOGLALAS_PK": "1113",
                                    "napok": "3",
                                    "Elöző foglalás": "5"
                                },
                                {
                                    "SZOBA_ID": "59",
                                    "FOGLALAS_PK": "1084",
                                    "napok": "2",
                                    "Elöző foglalás": "3"
                                },
                                {
                                    "SZOBA_ID": "59",
                                    "FOGLALAS_PK": "1080",
                                    "napok": "1",
                                    "Elöző foglalás": "2"
                                },
                                {
                                    "SZOBA_ID": "59",
                                    "FOGLALAS_PK": "1573",
                                    "napok": "1",
                                    "Elöző foglalás": "1"
                                },
                                {
                                    "SZOBA_ID": "59",
                                    "FOGLALAS_PK": "1239",
                                    "napok": "2",
                                    "Elöző foglalás": "1"
                                },
                                {
                                    "SZOBA_ID": "59",
                                    "FOGLALAS_PK": "1191",
                                    "napok": "6",
                                    "Elöző foglalás": "2"
                                },
                                {
                                    "SZOBA_ID": "59",
                                    "FOGLALAS_PK": "1170",
                                    "napok": "5",
                                    "Elöző foglalás": "6"
                                },
                                {
                                    "SZOBA_ID": "59",
                                    "FOGLALAS_PK": "1288",
                                    "napok": "3",
                                    "Elöző foglalás": "5"
                                },
                                {
                                    "SZOBA_ID": "60",
                                    "FOGLALAS_PK": "676",
                                    "napok": "2",
                                    "Elöző foglalás": "3"
                                },
                                {
                                    "SZOBA_ID": "61",
                                    "FOGLALAS_PK": "756",
                                    "napok": "6",
                                    "Elöző foglalás": "2"
                                },
                                {
                                    "SZOBA_ID": "61",
                                    "FOGLALAS_PK": "701",
                                    "napok": "2",
                                    "Elöző foglalás": "6"
                                },
                                {
                                    "SZOBA_ID": "61",
                                    "FOGLALAS_PK": "1148",
                                    "napok": "3",
                                    "Elöző foglalás": "2"
                                },
                                {
                                    "SZOBA_ID": "61",
                                    "FOGLALAS_PK": "1218",
                                    "napok": "2",
                                    "Elöző foglalás": "3"
                                },
                                {
                                    "SZOBA_ID": "61",
                                    "FOGLALAS_PK": "1496",
                                    "napok": "7",
                                    "Elöző foglalás": "2"
                                },
                                {
                                    "SZOBA_ID": "62",
                                    "FOGLALAS_PK": "1426",
                                    "napok": "4",
                                    "Elöző foglalás": "7"
                                },
                                {
                                    "SZOBA_ID": "62",
                                    "FOGLALAS_PK": "702",
                                    "napok": "5",
                                    "Elöző foglalás": "4"
                                },
                                {
                                    "SZOBA_ID": "62",
                                    "FOGLALAS_PK": "1081",
                                    "napok": "7",
                                    "Elöző foglalás": "5"
                                },
                                {
                                    "SZOBA_ID": "62",
                                    "FOGLALAS_PK": "936",
                                    "napok": "3",
                                    "Elöző foglalás": "7"
                                },
                                {
                                    "SZOBA_ID": "62",
                                    "FOGLALAS_PK": "938",
                                    "napok": "1",
                                    "Elöző foglalás": "3"
                                },
                                {
                                    "SZOBA_ID": "63",
                                    "FOGLALAS_PK": "891",
                                    "napok": "6",
                                    "Elöző foglalás": "1"
                                },
                                {
                                    "SZOBA_ID": "63",
                                    "FOGLALAS_PK": "845",
                                    "napok": "1",
                                    "Elöző foglalás": "6"
                                },
                                {
                                    "SZOBA_ID": "63",
                                    "FOGLALAS_PK": "769",
                                    "napok": "5",
                                    "Elöző foglalás": "1"
                                },
                                {
                                    "SZOBA_ID": "63",
                                    "FOGLALAS_PK": "625",
                                    "napok": "3",
                                    "Elöző foglalás": "5"
                                },
                                {
                                    "SZOBA_ID": "64",
                                    "FOGLALAS_PK": "875",
                                    "napok": "2",
                                    "Elöző foglalás": "3"
                                },
                                {
                                    "SZOBA_ID": "64",
                                    "FOGLALAS_PK": "1122",
                                    "napok": "4",
                                    "Elöző foglalás": "2"
                                },
                                {
                                    "SZOBA_ID": "64",
                                    "FOGLALAS_PK": "1446",
                                    "napok": "6",
                                    "Elöző foglalás": "4"
                                },
                                {
                                    "SZOBA_ID": "64",
                                    "FOGLALAS_PK": "1465",
                                    "napok": "4",
                                    "Elöző foglalás": "6"
                                },
                                {
                                    "SZOBA_ID": "64",
                                    "FOGLALAS_PK": "1582",
                                    "napok": "1",
                                    "Elöző foglalás": "4"
                                },
                                {
                                    "SZOBA_ID": "64",
                                    "FOGLALAS_PK": "1233",
                                    "napok": "7",
                                    "Elöző foglalás": "1"
                                },
                                {
                                    "SZOBA_ID": "65",
                                    "FOGLALAS_PK": "650",
                                    "napok": "6",
                                    "Elöző foglalás": "7"
                                },
                                {
                                    "SZOBA_ID": "66",
                                    "FOGLALAS_PK": "736",
                                    "napok": "3",
                                    "Elöző foglalás": "6"
                                },
                                {
                                    "SZOBA_ID": "66",
                                    "FOGLALAS_PK": "950",
                                    "napok": "3",
                                    "Elöző foglalás": "3"
                                },
                                {
                                    "SZOBA_ID": "66",
                                    "FOGLALAS_PK": "1234",
                                    "napok": "3",
                                    "Elöző foglalás": "3"
                                },
                                {
                                    "SZOBA_ID": "66",
                                    "FOGLALAS_PK": "1264",
                                    "napok": "4",
                                    "Elöző foglalás": "3"
                                },
                                {
                                    "SZOBA_ID": "67",
                                    "FOGLALAS_PK": "1382",
                                    "napok": "1",
                                    "Elöző foglalás": "4"
                                },
                                {
                                    "SZOBA_ID": "67",
                                    "FOGLALAS_PK": "1584",
                                    "napok": "1",
                                    "Elöző foglalás": "1"
                                },
                                {
                                    "SZOBA_ID": "67",
                                    "FOGLALAS_PK": "1580",
                                    "napok": "5",
                                    "Elöző foglalás": "1"
                                },
                                {
                                    "SZOBA_ID": "67",
                                    "FOGLALAS_PK": "874",
                                    "napok": "6",
                                    "Elöző foglalás": "5"
                                },
                                {
                                    "SZOBA_ID": "67",
                                    "FOGLALAS_PK": "638",
                                    "napok": "5",
                                    "Elöző foglalás": "6"
                                },
                                {
                                    "SZOBA_ID": "67",
                                    "FOGLALAS_PK": "645",
                                    "napok": "6",
                                    "Elöző foglalás": "5"
                                },
                                {
                                    "SZOBA_ID": "68",
                                    "FOGLALAS_PK": "563",
                                    "napok": "5",
                                    "Elöző foglalás": "6"
                                },
                                {
                                    "SZOBA_ID": "68",
                                    "FOGLALAS_PK": "1027",
                                    "napok": "7",
                                    "Elöző foglalás": "5"
                                },
                                {
                                    "SZOBA_ID": "68",
                                    "FOGLALAS_PK": "1324",
                                    "napok": "4",
                                    "Elöző foglalás": "7"
                                },
                                {
                                    "SZOBA_ID": "69",
                                    "FOGLALAS_PK": "1246",
                                    "napok": "7",
                                    "Elöző foglalás": "4"
                                },
                                {
                                    "SZOBA_ID": "69",
                                    "FOGLALAS_PK": "1225",
                                    "napok": "5",
                                    "Elöző foglalás": "7"
                                },
                                {
                                    "SZOBA_ID": "69",
                                    "FOGLALAS_PK": "1055",
                                    "napok": "5",
                                    "Elöző foglalás": "5"
                                },
                                {
                                    "SZOBA_ID": "69",
                                    "FOGLALAS_PK": "885",
                                    "napok": "1",
                                    "Elöző foglalás": "5"
                                },
                                {
                                    "SZOBA_ID": "70",
                                    "FOGLALAS_PK": "860",
                                    "napok": "2",
                                    "Elöző foglalás": "1"
                                },
                                {
                                    "SZOBA_ID": "70",
                                    "FOGLALAS_PK": "1006",
                                    "napok": "3",
                                    "Elöző foglalás": "2"
                                },
                                {
                                    "SZOBA_ID": "70",
                                    "FOGLALAS_PK": "1126",
                                    "napok": "3",
                                    "Elöző foglalás": "3"
                                },
                                {
                                    "SZOBA_ID": "70",
                                    "FOGLALAS_PK": "1092",
                                    "napok": "3",
                                    "Elöző foglalás": "3"
                                },
                                {
                                    "SZOBA_ID": "70",
                                    "FOGLALAS_PK": "585",
                                    "napok": "5",
                                    "Elöző foglalás": "3"
                                },
                                {
                                    "SZOBA_ID": "70",
                                    "FOGLALAS_PK": "704",
                                    "napok": "3",
                                    "Elöző foglalás": "5"
                                },
                                {
                                    "SZOBA_ID": "70",
                                    "FOGLALAS_PK": "814",
                                    "napok": "3",
                                    "Elöző foglalás": "3"
                                },
                                {
                                    "SZOBA_ID": "70",
                                    "FOGLALAS_PK": "1325",
                                    "napok": "7",
                                    "Elöző foglalás": "3"
                                },
                                {
                                    "SZOBA_ID": "70",
                                    "FOGLALAS_PK": "1333",
                                    "napok": "6",
                                    "Elöző foglalás": "7"
                                },
                                {
                                    "SZOBA_ID": "70",
                                    "FOGLALAS_PK": "1365",
                                    "napok": "3",
                                    "Elöző foglalás": "6"
                                },
                                {
                                    "SZOBA_ID": "70",
                                    "FOGLALAS_PK": "1457",
                                    "napok": "7",
                                    "Elöző foglalás": "3"
                                },
                                {
                                    "SZOBA_ID": "71",
                                    "FOGLALAS_PK": "712",
                                    "napok": "1",
                                    "Elöző foglalás": "7"
                                },
                                {
                                    "SZOBA_ID": "71",
                                    "FOGLALAS_PK": "681",
                                    "napok": "3",
                                    "Elöző foglalás": "1"
                                },
                                {
                                    "SZOBA_ID": "71",
                                    "FOGLALAS_PK": "1009",
                                    "napok": "1",
                                    "Elöző foglalás": "3"
                                },
                                {
                                    "SZOBA_ID": "72",
                                    "FOGLALAS_PK": "902",
                                    "napok": "5",
                                    "Elöző foglalás": "1"
                                },
                                {
                                    "SZOBA_ID": "72",
                                    "FOGLALAS_PK": "961",
                                    "napok": "6",
                                    "Elöző foglalás": "5"
                                },
                                {
                                    "SZOBA_ID": "72",
                                    "FOGLALAS_PK": "1396",
                                    "napok": "3",
                                    "Elöző foglalás": "6"
                                },
                                {
                                    "SZOBA_ID": "72",
                                    "FOGLALAS_PK": "1318",
                                    "napok": "2",
                                    "Elöző foglalás": "3"
                                },
                                {
                                    "SZOBA_ID": "73",
                                    "FOGLALAS_PK": "1331",
                                    "napok": "4",
                                    "Elöző foglalás": "2"
                                },
                                {
                                    "SZOBA_ID": "73",
                                    "FOGLALAS_PK": "1159",
                                    "napok": "5",
                                    "Elöző foglalás": "4"
                                },
                                {
                                    "SZOBA_ID": "73",
                                    "FOGLALAS_PK": "1000",
                                    "napok": "4",
                                    "Elöző foglalás": "5"
                                },
                                {
                                    "SZOBA_ID": "73",
                                    "FOGLALAS_PK": "714",
                                    "napok": "7",
                                    "Elöző foglalás": "4"
                                },
                                {
                                    "SZOBA_ID": "74",
                                    "FOGLALAS_PK": "830",
                                    "napok": "1",
                                    "Elöző foglalás": "7"
                                },
                                {
                                    "SZOBA_ID": "74",
                                    "FOGLALAS_PK": "797",
                                    "napok": "5",
                                    "Elöző foglalás": "1"
                                },
                                {
                                    "SZOBA_ID": "74",
                                    "FOGLALAS_PK": "595",
                                    "napok": "7",
                                    "Elöző foglalás": "5"
                                },
                                {
                                    "SZOBA_ID": "74",
                                    "FOGLALAS_PK": "1093",
                                    "napok": "6",
                                    "Elöző foglalás": "7"
                                },
                                {
                                    "SZOBA_ID": "74",
                                    "FOGLALAS_PK": "963",
                                    "napok": "1",
                                    "Elöző foglalás": "6"
                                },
                                {
                                    "SZOBA_ID": "74",
                                    "FOGLALAS_PK": "940",
                                    "napok": "5",
                                    "Elöző foglalás": "1"
                                },
                                {
                                    "SZOBA_ID": "74",
                                    "FOGLALAS_PK": "877",
                                    "napok": "4",
                                    "Elöző foglalás": "5"
                                },
                                {
                                    "SZOBA_ID": "74",
                                    "FOGLALAS_PK": "847",
                                    "napok": "3",
                                    "Elöző foglalás": "4"
                                },
                                {
                                    "SZOBA_ID": "74",
                                    "FOGLALAS_PK": "1179",
                                    "napok": "7",
                                    "Elöző foglalás": "3"
                                },
                                {
                                    "SZOBA_ID": "75",
                                    "FOGLALAS_PK": "1412",
                                    "napok": "2",
                                    "Elöző foglalás": "7"
                                },
                                {
                                    "SZOBA_ID": "75",
                                    "FOGLALAS_PK": "1458",
                                    "napok": "1",
                                    "Elöző foglalás": "2"
                                },
                                {
                                    "SZOBA_ID": "75",
                                    "FOGLALAS_PK": "1013",
                                    "napok": "5",
                                    "Elöző foglalás": "1"
                                },
                                {
                                    "SZOBA_ID": "76",
                                    "FOGLALAS_PK": "976",
                                    "napok": "2",
                                    "Elöző foglalás": "5"
                                },
                                {
                                    "SZOBA_ID": "76",
                                    "FOGLALAS_PK": "683",
                                    "napok": "7",
                                    "Elöző foglalás": "2"
                                },
                                {
                                    "SZOBA_ID": "76",
                                    "FOGLALAS_PK": "1557",
                                    "napok": "3",
                                    "Elöző foglalás": "7"
                                },
                                {
                                    "SZOBA_ID": "77",
                                    "FOGLALAS_PK": "1461",
                                    "napok": "4",
                                    "Elöző foglalás": "3"
                                },
                                {
                                    "SZOBA_ID": "77",
                                    "FOGLALAS_PK": "1439",
                                    "napok": "6",
                                    "Elöző foglalás": "4"
                                },
                                {
                                    "SZOBA_ID": "77",
                                    "FOGLALAS_PK": "698",
                                    "napok": "4",
                                    "Elöző foglalás": "6"
                                },
                                {
                                    "SZOBA_ID": "77",
                                    "FOGLALAS_PK": "593",
                                    "napok": "3",
                                    "Elöző foglalás": "4"
                                },
                                {
                                    "SZOBA_ID": "77",
                                    "FOGLALAS_PK": "982",
                                    "napok": "3",
                                    "Elöző foglalás": "3"
                                },
                                {
                                    "SZOBA_ID": "77",
                                    "FOGLALAS_PK": "1104",
                                    "napok": "1",
                                    "Elöző foglalás": "3"
                                },
                                {
                                    "SZOBA_ID": "78",
                                    "FOGLALAS_PK": "568",
                                    "napok": "1",
                                    "Elöző foglalás": "1"
                                },
                                {
                                    "SZOBA_ID": "78",
                                    "FOGLALAS_PK": "700",
                                    "napok": "5",
                                    "Elöző foglalás": "1"
                                },
                                {
                                    "SZOBA_ID": "78",
                                    "FOGLALAS_PK": "646",
                                    "napok": "3",
                                    "Elöző foglalás": "5"
                                },
                                {
                                    "SZOBA_ID": "78",
                                    "FOGLALAS_PK": "1577",
                                    "napok": "7",
                                    "Elöző foglalás": "3"
                                },
                                {
                                    "SZOBA_ID": "78",
                                    "FOGLALAS_PK": "1281",
                                    "napok": "3",
                                    "Elöző foglalás": "7"
                                },
                                {
                                    "SZOBA_ID": "78",
                                    "FOGLALAS_PK": "1268",
                                    "napok": "2",
                                    "Elöző foglalás": "3"
                                },
                                {
                                    "SZOBA_ID": "79",
                                    "FOGLALAS_PK": "1229",
                                    "napok": "7",
                                    "Elöző foglalás": "2"
                                },
                                {
                                    "SZOBA_ID": "79",
                                    "FOGLALAS_PK": "1345",
                                    "napok": "3",
                                    "Elöző foglalás": "7"
                                },
                                {
                                    "SZOBA_ID": "79",
                                    "FOGLALAS_PK": "1447",
                                    "napok": "4",
                                    "Elöző foglalás": "3"
                                },
                                {
                                    "SZOBA_ID": "79",
                                    "FOGLALAS_PK": "583",
                                    "napok": "6",
                                    "Elöző foglalás": "4"
                                },
                                {
                                    "SZOBA_ID": "79",
                                    "FOGLALAS_PK": "1054",
                                    "napok": "1",
                                    "Elöző foglalás": "6"
                                },
                                {
                                    "SZOBA_ID": "80",
                                    "FOGLALAS_PK": "983",
                                    "napok": "6",
                                    "Elöző foglalás": "1"
                                },
                                {
                                    "SZOBA_ID": "80",
                                    "FOGLALAS_PK": "1071",
                                    "napok": "4",
                                    "Elöző foglalás": "6"
                                },
                                {
                                    "SZOBA_ID": "80",
                                    "FOGLALAS_PK": "929",
                                    "napok": "2",
                                    "Elöző foglalás": "4"
                                },
                                {
                                    "SZOBA_ID": "80",
                                    "FOGLALAS_PK": "887",
                                    "napok": "6",
                                    "Elöző foglalás": "2"
                                },
                                {
                                    "SZOBA_ID": "80",
                                    "FOGLALAS_PK": "667",
                                    "napok": "6",
                                    "Elöző foglalás": "6"
                                },
                                {
                                    "SZOBA_ID": "80",
                                    "FOGLALAS_PK": "1367",
                                    "napok": "3",
                                    "Elöző foglalás": "6"
                                },
                                {
                                    "SZOBA_ID": "80",
                                    "FOGLALAS_PK": "1279",
                                    "napok": "5",
                                    "Elöző foglalás": "3"
                                },
                                {
                                    "SZOBA_ID": "81",
                                    "FOGLALAS_PK": "1366",
                                    "napok": "5",
                                    "Elöző foglalás": "5"
                                },
                                {
                                    "SZOBA_ID": "81",
                                    "FOGLALAS_PK": "1443",
                                    "napok": "7",
                                    "Elöző foglalás": "5"
                                },
                                {
                                    "SZOBA_ID": "81",
                                    "FOGLALAS_PK": "1464",
                                    "napok": "7",
                                    "Elöző foglalás": "7"
                                },
                                {
                                    "SZOBA_ID": "81",
                                    "FOGLALAS_PK": "1562",
                                    "napok": "3",
                                    "Elöző foglalás": "7"
                                },
                                {
                                    "SZOBA_ID": "81",
                                    "FOGLALAS_PK": "1506",
                                    "napok": "3",
                                    "Elöző foglalás": "3"
                                },
                                {
                                    "SZOBA_ID": "82",
                                    "FOGLALAS_PK": "1406",
                                    "napok": "1",
                                    "Elöző foglalás": "3"
                                },
                                {
                                    "SZOBA_ID": "82",
                                    "FOGLALAS_PK": "1277",
                                    "napok": "5",
                                    "Elöző foglalás": "1"
                                },
                                {
                                    "SZOBA_ID": "82",
                                    "FOGLALAS_PK": "1341",
                                    "napok": "2",
                                    "Elöző foglalás": "5"
                                },
                                {
                                    "SZOBA_ID": "82",
                                    "FOGLALAS_PK": "862",
                                    "napok": "4",
                                    "Elöző foglalás": "2"
                                },
                                {
                                    "SZOBA_ID": "82",
                                    "FOGLALAS_PK": "871",
                                    "napok": "5",
                                    "Elöző foglalás": "4"
                                },
                                {
                                    "SZOBA_ID": "82",
                                    "FOGLALAS_PK": "997",
                                    "napok": "6",
                                    "Elöző foglalás": "5"
                                },
                                {
                                    "SZOBA_ID": "83",
                                    "FOGLALAS_PK": "995",
                                    "napok": "5",
                                    "Elöző foglalás": "6"
                                },
                                {
                                    "SZOBA_ID": "83",
                                    "FOGLALAS_PK": "1119",
                                    "napok": "6",
                                    "Elöző foglalás": "5"
                                },
                                {
                                    "SZOBA_ID": "83",
                                    "FOGLALAS_PK": "869",
                                    "napok": "6",
                                    "Elöző foglalás": "6"
                                },
                                {
                                    "SZOBA_ID": "83",
                                    "FOGLALAS_PK": "878",
                                    "napok": "6",
                                    "Elöző foglalás": "6"
                                },
                                {
                                    "SZOBA_ID": "83",
                                    "FOGLALAS_PK": "674",
                                    "napok": "4",
                                    "Elöző foglalás": "6"
                                },
                                {
                                    "SZOBA_ID": "83",
                                    "FOGLALAS_PK": "572",
                                    "napok": "7",
                                    "Elöző foglalás": "4"
                                },
                                {
                                    "SZOBA_ID": "83",
                                    "FOGLALAS_PK": "798",
                                    "napok": "4",
                                    "Elöző foglalás": "7"
                                },
                                {
                                    "SZOBA_ID": "83",
                                    "FOGLALAS_PK": "1379",
                                    "napok": "7",
                                    "Elöző foglalás": "4"
                                },
                                {
                                    "SZOBA_ID": "84",
                                    "FOGLALAS_PK": "1376",
                                    "napok": "5",
                                    "Elöző foglalás": "7"
                                },
                                {
                                    "SZOBA_ID": "84",
                                    "FOGLALAS_PK": "1384",
                                    "napok": "7",
                                    "Elöző foglalás": "5"
                                },
                                {
                                    "SZOBA_ID": "84",
                                    "FOGLALAS_PK": "819",
                                    "napok": "2",
                                    "Elöző foglalás": "7"
                                },
                                {
                                    "SZOBA_ID": "84",
                                    "FOGLALAS_PK": "954",
                                    "napok": "5",
                                    "Elöző foglalás": "2"
                                },
                                {
                                    "SZOBA_ID": "85",
                                    "FOGLALAS_PK": "1059",
                                    "napok": "3",
                                    "Elöző foglalás": "5"
                                },
                                {
                                    "SZOBA_ID": "85",
                                    "FOGLALAS_PK": "647",
                                    "napok": "3",
                                    "Elöző foglalás": "3"
                                },
                                {
                                    "SZOBA_ID": "85",
                                    "FOGLALAS_PK": "1320",
                                    "napok": "1",
                                    "Elöző foglalás": "3"
                                },
                                {
                                    "SZOBA_ID": "85",
                                    "FOGLALAS_PK": "1513",
                                    "napok": "7",
                                    "Elöző foglalás": "1"
                                },
                                {
                                    "SZOBA_ID": "86",
                                    "FOGLALAS_PK": "1453",
                                    "napok": "1",
                                    "Elöző foglalás": "7"
                                },
                                {
                                    "SZOBA_ID": "86",
                                    "FOGLALAS_PK": "1079",
                                    "napok": "4",
                                    "Elöző foglalás": "1"
                                },
                                {
                                    "SZOBA_ID": "86",
                                    "FOGLALAS_PK": "1108",
                                    "napok": "1",
                                    "Elöző foglalás": "4"
                                },
                                {
                                    "SZOBA_ID": "86",
                                    "FOGLALAS_PK": "1057",
                                    "napok": "5",
                                    "Elöző foglalás": "1"
                                },
                                {
                                    "SZOBA_ID": "86",
                                    "FOGLALAS_PK": "859",
                                    "napok": "1",
                                    "Elöző foglalás": "5"
                                },
                                {
                                    "SZOBA_ID": "87",
                                    "FOGLALAS_PK": "844",
                                    "napok": "1",
                                    "Elöző foglalás": "1"
                                },
                                {
                                    "SZOBA_ID": "87",
                                    "FOGLALAS_PK": "1103",
                                    "napok": "3",
                                    "Elöző foglalás": "1"
                                },
                                {
                                    "SZOBA_ID": "87",
                                    "FOGLALAS_PK": "558",
                                    "napok": "4",
                                    "Elöző foglalás": "3"
                                },
                                {
                                    "SZOBA_ID": "87",
                                    "FOGLALAS_PK": "1456",
                                    "napok": "5",
                                    "Elöző foglalás": "4"
                                },
                                {
                                    "SZOBA_ID": "87",
                                    "FOGLALAS_PK": "1349",
                                    "napok": "5",
                                    "Elöző foglalás": "5"
                                },
                                {
                                    "SZOBA_ID": "88",
                                    "FOGLALAS_PK": "1300",
                                    "napok": "3",
                                    "Elöző foglalás": "5"
                                },
                                {
                                    "SZOBA_ID": "88",
                                    "FOGLALAS_PK": "1359",
                                    "napok": "2",
                                    "Elöző foglalás": "3"
                                },
                                {
                                    "SZOBA_ID": "88",
                                    "FOGLALAS_PK": "1273",
                                    "napok": "7",
                                    "Elöző foglalás": "2"
                                },
                                {
                                    "SZOBA_ID": "88",
                                    "FOGLALAS_PK": "1196",
                                    "napok": "3",
                                    "Elöző foglalás": "7"
                                },
                                {
                                    "SZOBA_ID": "88",
                                    "FOGLALAS_PK": "1548",
                                    "napok": "7",
                                    "Elöző foglalás": "3"
                                },
                                {
                                    "SZOBA_ID": "88",
                                    "FOGLALAS_PK": "1575",
                                    "napok": "6",
                                    "Elöző foglalás": "7"
                                },
                                {
                                    "SZOBA_ID": "88",
                                    "FOGLALAS_PK": "757",
                                    "napok": "7",
                                    "Elöző foglalás": "6"
                                },
                                {
                                    "SZOBA_ID": "88",
                                    "FOGLALAS_PK": "866",
                                    "napok": "2",
                                    "Elöző foglalás": "7"
                                },
                                {
                                    "SZOBA_ID": "89",
                                    "FOGLALAS_PK": "1101",
                                    "napok": "5",
                                    "Elöző foglalás": "2"
                                },
                                {
                                    "SZOBA_ID": "89",
                                    "FOGLALAS_PK": "1037",
                                    "napok": "7",
                                    "Elöző foglalás": "5"
                                },
                                {
                                    "SZOBA_ID": "89",
                                    "FOGLALAS_PK": "817",
                                    "napok": "3",
                                    "Elöző foglalás": "7"
                                },
                                {
                                    "SZOBA_ID": "89",
                                    "FOGLALAS_PK": "1521",
                                    "napok": "7",
                                    "Elöző foglalás": "3"
                                },
                                {
                                    "SZOBA_ID": "89",
                                    "FOGLALAS_PK": "1189",
                                    "napok": "6",
                                    "Elöző foglalás": "7"
                                },
                                {
                                    "SZOBA_ID": "89",
                                    "FOGLALAS_PK": "1269",
                                    "napok": "2",
                                    "Elöző foglalás": "6"
                                },
                                {
                                    "SZOBA_ID": "89",
                                    "FOGLALAS_PK": "1253",
                                    "napok": "2",
                                    "Elöző foglalás": "2"
                                },
                                {
                                    "SZOBA_ID": "89",
                                    "FOGLALAS_PK": "1399",
                                    "napok": "2",
                                    "Elöző foglalás": "2"
                                },
                                {
                                    "SZOBA_ID": "90",
                                    "FOGLALAS_PK": "1405",
                                    "napok": "5",
                                    "Elöző foglalás": "2"
                                },
                                {
                                    "SZOBA_ID": "90",
                                    "FOGLALAS_PK": "1299",
                                    "napok": "6",
                                    "Elöző foglalás": "5"
                                },
                                {
                                    "SZOBA_ID": "90",
                                    "FOGLALAS_PK": "1174",
                                    "napok": "7",
                                    "Elöző foglalás": "6"
                                },
                                {
                                    "SZOBA_ID": "90",
                                    "FOGLALAS_PK": "729",
                                    "napok": "2",
                                    "Elöző foglalás": "7"
                                },
                                {
                                    "SZOBA_ID": "91",
                                    "FOGLALAS_PK": "732",
                                    "napok": "4",
                                    "Elöző foglalás": "2"
                                },
                                {
                                    "SZOBA_ID": "91",
                                    "FOGLALAS_PK": "636",
                                    "napok": "6",
                                    "Elöző foglalás": "4"
                                },
                                {
                                    "SZOBA_ID": "91",
                                    "FOGLALAS_PK": "1213",
                                    "napok": "3",
                                    "Elöző foglalás": "6"
                                },
                                {
                                    "SZOBA_ID": "91",
                                    "FOGLALAS_PK": "1397",
                                    "napok": "4",
                                    "Elöző foglalás": "3"
                                },
                                {
                                    "SZOBA_ID": "92",
                                    "FOGLALAS_PK": "1555",
                                    "napok": "4",
                                    "Elöző foglalás": "4"
                                },
                                {
                                    "SZOBA_ID": "92",
                                    "FOGLALAS_PK": "1527",
                                    "napok": "2",
                                    "Elöző foglalás": "4"
                                },
                                {
                                    "SZOBA_ID": "92",
                                    "FOGLALAS_PK": "809",
                                    "napok": "3",
                                    "Elöző foglalás": "2"
                                },
                                {
                                    "SZOBA_ID": "92",
                                    "FOGLALAS_PK": "841",
                                    "napok": "6",
                                    "Elöző foglalás": "3"
                                },
                                {
                                    "SZOBA_ID": "92",
                                    "FOGLALAS_PK": "1016",
                                    "napok": "2",
                                    "Elöző foglalás": "6"
                                },
                                {
                                    "SZOBA_ID": "92",
                                    "FOGLALAS_PK": "942",
                                    "napok": "6",
                                    "Elöző foglalás": "2"
                                },
                                {
                                    "SZOBA_ID": "93",
                                    "FOGLALAS_PK": "741",
                                    "napok": "7",
                                    "Elöző foglalás": "6"
                                },
                                {
                                    "SZOBA_ID": "93",
                                    "FOGLALAS_PK": "1391",
                                    "napok": "4",
                                    "Elöző foglalás": "7"
                                },
                                {
                                    "SZOBA_ID": "93",
                                    "FOGLALAS_PK": "1355",
                                    "napok": "2",
                                    "Elöző foglalás": "4"
                                },
                                {
                                    "SZOBA_ID": "93",
                                    "FOGLALAS_PK": "1217",
                                    "napok": "1",
                                    "Elöző foglalás": "2"
                                },
                                {
                                    "SZOBA_ID": "93",
                                    "FOGLALAS_PK": "1169",
                                    "napok": "4",
                                    "Elöző foglalás": "1"
                                },
                                {
                                    "SZOBA_ID": "94",
                                    "FOGLALAS_PK": "1241",
                                    "napok": "7",
                                    "Elöző foglalás": "4"
                                },
                                {
                                    "SZOBA_ID": "94",
                                    "FOGLALAS_PK": "1368",
                                    "napok": "1",
                                    "Elöző foglalás": "7"
                                },
                                {
                                    "SZOBA_ID": "94",
                                    "FOGLALAS_PK": "1305",
                                    "napok": "2",
                                    "Elöző foglalás": "1"
                                },
                                {
                                    "SZOBA_ID": "94",
                                    "FOGLALAS_PK": "1312",
                                    "napok": "3",
                                    "Elöző foglalás": "2"
                                },
                                {
                                    "SZOBA_ID": "94",
                                    "FOGLALAS_PK": "1518",
                                    "napok": "2",
                                    "Elöző foglalás": "3"
                                },
                                {
                                    "SZOBA_ID": "94",
                                    "FOGLALAS_PK": "1564",
                                    "napok": "7",
                                    "Elöző foglalás": "2"
                                },
                                {
                                    "SZOBA_ID": "94",
                                    "FOGLALAS_PK": "727",
                                    "napok": "3",
                                    "Elöző foglalás": "7"
                                },
                                {
                                    "SZOBA_ID": "94",
                                    "FOGLALAS_PK": "665",
                                    "napok": "7",
                                    "Elöző foglalás": "3"
                                },
                                {
                                    "SZOBA_ID": "94",
                                    "FOGLALAS_PK": "616",
                                    "napok": "4",
                                    "Elöző foglalás": "7"
                                },
                                {
                                    "SZOBA_ID": "94",
                                    "FOGLALAS_PK": "975",
                                    "napok": "5",
                                    "Elöző foglalás": "4"
                                },
                                {
                                    "SZOBA_ID": "95",
                                    "FOGLALAS_PK": "1048",
                                    "napok": "3",
                                    "Elöző foglalás": "5"
                                },
                                {
                                    "SZOBA_ID": "95",
                                    "FOGLALAS_PK": "1097",
                                    "napok": "4",
                                    "Elöző foglalás": "3"
                                },
                                {
                                    "SZOBA_ID": "95",
                                    "FOGLALAS_PK": "656",
                                    "napok": "7",
                                    "Elöző foglalás": "4"
                                },
                                {
                                    "SZOBA_ID": "95",
                                    "FOGLALAS_PK": "1543",
                                    "napok": "7",
                                    "Elöző foglalás": "7"
                                },
                                {
                                    "SZOBA_ID": "96",
                                    "FOGLALAS_PK": "1438",
                                    "napok": "2",
                                    "Elöző foglalás": "7"
                                },
                                {
                                    "SZOBA_ID": "96",
                                    "FOGLALAS_PK": "1569",
                                    "napok": "7",
                                    "Elöző foglalás": "2"
                                },
                                {
                                    "SZOBA_ID": "96",
                                    "FOGLALAS_PK": "1378",
                                    "napok": "3",
                                    "Elöző foglalás": "7"
                                },
                                {
                                    "SZOBA_ID": "96",
                                    "FOGLALAS_PK": "671",
                                    "napok": "4",
                                    "Elöző foglalás": "3"
                                },
                                {
                                    "SZOBA_ID": "96",
                                    "FOGLALAS_PK": "623",
                                    "napok": "7",
                                    "Elöző foglalás": "4"
                                },
                                {
                                    "SZOBA_ID": "96",
                                    "FOGLALAS_PK": "607",
                                    "napok": "4",
                                    "Elöző foglalás": "7"
                                },
                                {
                                    "SZOBA_ID": "96",
                                    "FOGLALAS_PK": "780",
                                    "napok": "1",
                                    "Elöző foglalás": "4"
                                },
                                {
                                    "SZOBA_ID": "97",
                                    "FOGLALAS_PK": "836",
                                    "napok": "2",
                                    "Elöző foglalás": "1"
                                },
                                {
                                    "SZOBA_ID": "97",
                                    "FOGLALAS_PK": "726",
                                    "napok": "4",
                                    "Elöző foglalás": "2"
                                },
                                {
                                    "SZOBA_ID": "97",
                                    "FOGLALAS_PK": "718",
                                    "napok": "7",
                                    "Elöző foglalás": "4"
                                },
                                {
                                    "SZOBA_ID": "97",
                                    "FOGLALAS_PK": "635",
                                    "napok": "3",
                                    "Elöző foglalás": "7"
                                },
                                {
                                    "SZOBA_ID": "97",
                                    "FOGLALAS_PK": "1395",
                                    "napok": "1",
                                    "Elöző foglalás": "3"
                                },
                                {
                                    "SZOBA_ID": "97",
                                    "FOGLALAS_PK": "1417",
                                    "napok": "7",
                                    "Elöző foglalás": "1"
                                },
                                {
                                    "SZOBA_ID": "97",
                                    "FOGLALAS_PK": "1528",
                                    "napok": "2",
                                    "Elöző foglalás": "7"
                                },
                                {
                                    "SZOBA_ID": "98",
                                    "FOGLALAS_PK": "1402",
                                    "napok": "2",
                                    "Elöző foglalás": "2"
                                },
                                {
                                    "SZOBA_ID": "98",
                                    "FOGLALAS_PK": "631",
                                    "napok": "6",
                                    "Elöző foglalás": "2"
                                },
                                {
                                    "SZOBA_ID": "98",
                                    "FOGLALAS_PK": "1050",
                                    "napok": "6",
                                    "Elöző foglalás": "6"
                                },
                                {
                                    "SZOBA_ID": "98",
                                    "FOGLALAS_PK": "884",
                                    "napok": "5",
                                    "Elöző foglalás": "6"
                                },
                                {
                                    "SZOBA_ID": "99",
                                    "FOGLALAS_PK": "1072",
                                    "napok": "1",
                                    "Elöző foglalás": "5"
                                },
                                {
                                    "SZOBA_ID": "99",
                                    "FOGLALAS_PK": "632",
                                    "napok": "1",
                                    "Elöző foglalás": "1"
                                },
                                {
                                    "SZOBA_ID": "99",
                                    "FOGLALAS_PK": "691",
                                    "napok": "5",
                                    "Elöző foglalás": "1"
                                },
                                {
                                    "SZOBA_ID": "99",
                                    "FOGLALAS_PK": "1408",
                                    "napok": "1",
                                    "Elöző foglalás": "5"
                                },
                                {
                                    "SZOBA_ID": "99",
                                    "FOGLALAS_PK": "1486",
                                    "napok": "5",
                                    "Elöző foglalás": "1"
                                },
                                {
                                    "SZOBA_ID": "100",
                                    "FOGLALAS_PK": "1482",
                                    "napok": "7",
                                    "Elöző foglalás": "5"
                                },
                                {
                                    "SZOBA_ID": "100",
                                    "FOGLALAS_PK": "1315",
                                    "napok": "5",
                                    "Elöző foglalás": "7"
                                },
                                {
                                    "SZOBA_ID": "100",
                                    "FOGLALAS_PK": "637",
                                    "napok": "5",
                                    "Elöző foglalás": "5"
                                },
                                {
                                    "SZOBA_ID": "100",
                                    "FOGLALAS_PK": "597",
                                    "napok": "1",
                                    "Elöző foglalás": "5"
                                },
                                {
                                    "SZOBA_ID": "101",
                                    "FOGLALAS_PK": "715",
                                    "napok": "3",
                                    "Elöző foglalás": "1"
                                },
                                {
                                    "SZOBA_ID": "101",
                                    "FOGLALAS_PK": "1332",
                                    "napok": "6",
                                    "Elöző foglalás": "3"
                                },
                                {
                                    "SZOBA_ID": "101",
                                    "FOGLALAS_PK": "1516",
                                    "napok": "4",
                                    "Elöző foglalás": "6"
                                },
                                {
                                    "SZOBA_ID": "102",
                                    "FOGLALAS_PK": "1343",
                                    "napok": "2",
                                    "Elöző foglalás": "4"
                                },
                                {
                                    "SZOBA_ID": "102",
                                    "FOGLALAS_PK": "689",
                                    "napok": "5",
                                    "Elöző foglalás": "2"
                                },
                                {
                                    "SZOBA_ID": "103",
                                    "FOGLALAS_PK": "992",
                                    "napok": "7",
                                    "Elöző foglalás": "5"
                                },
                                {
                                    "SZOBA_ID": "103",
                                    "FOGLALAS_PK": "972",
                                    "napok": "2",
                                    "Elöző foglalás": "7"
                                },
                                {
                                    "SZOBA_ID": "103",
                                    "FOGLALAS_PK": "1398",
                                    "napok": "1",
                                    "Elöző foglalás": "2"
                                },
                                {
                                    "SZOBA_ID": "103",
                                    "FOGLALAS_PK": "1485",
                                    "napok": "4",
                                    "Elöző foglalás": "1"
                                },
                                {
                                    "SZOBA_ID": "104",
                                    "FOGLALAS_PK": "1522",
                                    "napok": "2",
                                    "Elöző foglalás": "4"
                                },
                                {
                                    "SZOBA_ID": "104",
                                    "FOGLALAS_PK": "1532",
                                    "napok": "3",
                                    "Elöző foglalás": "2"
                                },
                                {
                                    "SZOBA_ID": "104",
                                    "FOGLALAS_PK": "1180",
                                    "napok": "1",
                                    "Elöző foglalás": "3"
                                },
                                {
                                    "SZOBA_ID": "104",
                                    "FOGLALAS_PK": "837",
                                    "napok": "4",
                                    "Elöző foglalás": "1"
                                },
                                {
                                    "SZOBA_ID": "105",
                                    "FOGLALAS_PK": "618",
                                    "napok": "1",
                                    "Elöző foglalás": "4"
                                },
                                {
                                    "SZOBA_ID": "105",
                                    "FOGLALAS_PK": "1525",
                                    "napok": "5",
                                    "Elöző foglalás": "1"
                                },
                                {
                                    "SZOBA_ID": "106",
                                    "FOGLALAS_PK": "1510",
                                    "napok": "6",
                                    "Elöző foglalás": "5"
                                },
                                {
                                    "SZOBA_ID": "106",
                                    "FOGLALAS_PK": "1271",
                                    "napok": "5",
                                    "Elöző foglalás": "6"
                                },
                                {
                                    "SZOBA_ID": "106",
                                    "FOGLALAS_PK": "1228",
                                    "napok": "7",
                                    "Elöző foglalás": "5"
                                },
                                {
                                    "SZOBA_ID": "106",
                                    "FOGLALAS_PK": "1372",
                                    "napok": "7",
                                    "Elöző foglalás": "7"
                                },
                                {
                                    "SZOBA_ID": "106",
                                    "FOGLALAS_PK": "610",
                                    "napok": "3",
                                    "Elöző foglalás": "7"
                                },
                                {
                                    "SZOBA_ID": "106",
                                    "FOGLALAS_PK": "708",
                                    "napok": "7",
                                    "Elöző foglalás": "3"
                                },
                                {
                                    "SZOBA_ID": "107",
                                    "FOGLALAS_PK": "586",
                                    "napok": "6",
                                    "Elöző foglalás": "7"
                                },
                                {
                                    "SZOBA_ID": "107",
                                    "FOGLALAS_PK": "1354",
                                    "napok": "1",
                                    "Elöző foglalás": "6"
                                },
                                {
                                    "SZOBA_ID": "107",
                                    "FOGLALAS_PK": "1250",
                                    "napok": "4",
                                    "Elöző foglalás": "1"
                                },
                                {
                                    "SZOBA_ID": "107",
                                    "FOGLALAS_PK": "1494",
                                    "napok": "2",
                                    "Elöző foglalás": "4"
                                },
                                {
                                    "SZOBA_ID": "107",
                                    "FOGLALAS_PK": "1452",
                                    "napok": "6",
                                    "Elöző foglalás": "2"
                                },
                                {
                                    "SZOBA_ID": "108",
                                    "FOGLALAS_PK": "1392",
                                    "napok": "6",
                                    "Elöző foglalás": "6"
                                },
                                {
                                    "SZOBA_ID": "108",
                                    "FOGLALAS_PK": "1102",
                                    "napok": "1",
                                    "Elöző foglalás": "6"
                                },
                                {
                                    "SZOBA_ID": "109",
                                    "FOGLALAS_PK": "1083",
                                    "napok": "1",
                                    "Elöző foglalás": "1"
                                },
                                {
                                    "SZOBA_ID": "109",
                                    "FOGLALAS_PK": "621",
                                    "napok": "7",
                                    "Elöző foglalás": "1"
                                },
                                {
                                    "SZOBA_ID": "109",
                                    "FOGLALAS_PK": "614",
                                    "napok": "4",
                                    "Elöző foglalás": "7"
                                },
                                {
                                    "SZOBA_ID": "109",
                                    "FOGLALAS_PK": "654",
                                    "napok": "5",
                                    "Elöző foglalás": "4"
                                },
                                {
                                    "SZOBA_ID": "109",
                                    "FOGLALAS_PK": "810",
                                    "napok": "2",
                                    "Elöző foglalás": "5"
                                },
                                {
                                    "SZOBA_ID": "109",
                                    "FOGLALAS_PK": "1298",
                                    "napok": "4",
                                    "Elöző foglalás": "2"
                                },
                                {
                                    "SZOBA_ID": "109",
                                    "FOGLALAS_PK": "1560",
                                    "napok": "1",
                                    "Elöző foglalás": "4"
                                },
                                {
                                    "SZOBA_ID": "110",
                                    "FOGLALAS_PK": "1424",
                                    "napok": "1",
                                    "Elöző foglalás": "1"
                                },
                                {
                                    "SZOBA_ID": "110",
                                    "FOGLALAS_PK": "1489",
                                    "napok": "6",
                                    "Elöző foglalás": "1"
                                },
                                {
                                    "SZOBA_ID": "110",
                                    "FOGLALAS_PK": "1162",
                                    "napok": "2",
                                    "Elöző foglalás": "6"
                                },
                                {
                                    "SZOBA_ID": "110",
                                    "FOGLALAS_PK": "685",
                                    "napok": "1",
                                    "Elöző foglalás": "2"
                                },
                                {
                                    "SZOBA_ID": "110",
                                    "FOGLALAS_PK": "1109",
                                    "napok": "5",
                                    "Elöző foglalás": "1"
                                },
                                {
                                    "SZOBA_ID": "110",
                                    "FOGLALAS_PK": "1041",
                                    "napok": "3",
                                    "Elöző foglalás": "5"
                                },
                                {
                                    "SZOBA_ID": "110",
                                    "FOGLALAS_PK": "964",
                                    "napok": "6",
                                    "Elöző foglalás": "3"
                                },
                                {
                                    "SZOBA_ID": "110",
                                    "FOGLALAS_PK": "931",
                                    "napok": "5",
                                    "Elöző foglalás": "6"
                                },
                                {
                                    "SZOBA_ID": "111",
                                    "FOGLALAS_PK": "959",
                                    "napok": "7",
                                    "Elöző foglalás": "5"
                                },
                                {
                                    "SZOBA_ID": "111",
                                    "FOGLALAS_PK": "605",
                                    "napok": "7",
                                    "Elöző foglalás": "7"
                                },
                                {
                                    "SZOBA_ID": "111",
                                    "FOGLALAS_PK": "786",
                                    "napok": "4",
                                    "Elöző foglalás": "7"
                                },
                                {
                                    "SZOBA_ID": "111",
                                    "FOGLALAS_PK": "1296",
                                    "napok": "3",
                                    "Elöző foglalás": "4"
                                },
                                {
                                    "SZOBA_ID": "111",
                                    "FOGLALAS_PK": "1353",
                                    "napok": "5",
                                    "Elöző foglalás": "3"
                                },
                                {
                                    "SZOBA_ID": "112",
                                    "FOGLALAS_PK": "1530",
                                    "napok": "6",
                                    "Elöző foglalás": "5"
                                },
                                {
                                    "SZOBA_ID": "112",
                                    "FOGLALAS_PK": "776",
                                    "napok": "4",
                                    "Elöző foglalás": "6"
                                },
                                {
                                    "SZOBA_ID": "112",
                                    "FOGLALAS_PK": "801",
                                    "napok": "5",
                                    "Elöző foglalás": "4"
                                },
                                {
                                    "SZOBA_ID": "112",
                                    "FOGLALAS_PK": "921",
                                    "napok": "1",
                                    "Elöző foglalás": "5"
                                },
                                {
                                    "SZOBA_ID": "112",
                                    "FOGLALAS_PK": "1124",
                                    "napok": "6",
                                    "Elöző foglalás": "1"
                                },
                                {
                                    "SZOBA_ID": "113",
                                    "FOGLALAS_PK": "1085",
                                    "napok": "4",
                                    "Elöző foglalás": "6"
                                },
                                {
                                    "SZOBA_ID": "113",
                                    "FOGLALAS_PK": "1029",
                                    "napok": "5",
                                    "Elöző foglalás": "4"
                                },
                                {
                                    "SZOBA_ID": "113",
                                    "FOGLALAS_PK": "1495",
                                    "napok": "7",
                                    "Elöző foglalás": "5"
                                },
                                {
                                    "SZOBA_ID": "113",
                                    "FOGLALAS_PK": "1499",
                                    "napok": "2",
                                    "Elöző foglalás": "7"
                                },
                                {
                                    "SZOBA_ID": "113",
                                    "FOGLALAS_PK": "1263",
                                    "napok": "1",
                                    "Elöző foglalás": "2"
                                },
                                {
                                    "SZOBA_ID": "114",
                                    "FOGLALAS_PK": "1540",
                                    "napok": "3",
                                    "Elöző foglalás": "1"
                                },
                                {
                                    "SZOBA_ID": "114",
                                    "FOGLALAS_PK": "966",
                                    "napok": "6",
                                    "Elöző foglalás": "3"
                                },
                                {
                                    "SZOBA_ID": "114",
                                    "FOGLALAS_PK": "827",
                                    "napok": "7",
                                    "Elöző foglalás": "6"
                                },
                                {
                                    "SZOBA_ID": "114",
                                    "FOGLALAS_PK": "737",
                                    "napok": "2",
                                    "Elöző foglalás": "7"
                                },
                                {
                                    "SZOBA_ID": "115",
                                    "FOGLALAS_PK": "596",
                                    "napok": "7",
                                    "Elöző foglalás": "2"
                                },
                                {
                                    "SZOBA_ID": "115",
                                    "FOGLALAS_PK": "943",
                                    "napok": "7",
                                    "Elöző foglalás": "7"
                                },
                                {
                                    "SZOBA_ID": "115",
                                    "FOGLALAS_PK": "1121",
                                    "napok": "7",
                                    "Elöző foglalás": "7"
                                },
                                {
                                    "SZOBA_ID": "115",
                                    "FOGLALAS_PK": "1554",
                                    "napok": "3",
                                    "Elöző foglalás": "7"
                                },
                                {
                                    "SZOBA_ID": "115",
                                    "FOGLALAS_PK": "1566",
                                    "napok": "1",
                                    "Elöző foglalás": "3"
                                },
                                {
                                    "SZOBA_ID": "115",
                                    "FOGLALAS_PK": "1154",
                                    "napok": "4",
                                    "Elöző foglalás": "1"
                                },
                                {
                                    "SZOBA_ID": "115",
                                    "FOGLALAS_PK": "1352",
                                    "napok": "3",
                                    "Elöző foglalás": "4"
                                },
                                {
                                    "SZOBA_ID": "116",
                                    "FOGLALAS_PK": "1501",
                                    "napok": "4",
                                    "Elöző foglalás": "3"
                                },
                                {
                                    "SZOBA_ID": "116",
                                    "FOGLALAS_PK": "1455",
                                    "napok": "2",
                                    "Elöző foglalás": "4"
                                },
                                {
                                    "SZOBA_ID": "117",
                                    "FOGLALAS_PK": "1468",
                                    "napok": "7",
                                    "Elöző foglalás": "2"
                                },
                                {
                                    "SZOBA_ID": "117",
                                    "FOGLALAS_PK": "1192",
                                    "napok": "2",
                                    "Elöző foglalás": "7"
                                },
                                {
                                    "SZOBA_ID": "117",
                                    "FOGLALAS_PK": "1247",
                                    "napok": "3",
                                    "Elöző foglalás": "2"
                                },
                                {
                                    "SZOBA_ID": "117",
                                    "FOGLALAS_PK": "1002",
                                    "napok": "1",
                                    "Elöző foglalás": "3"
                                },
                                {
                                    "SZOBA_ID": "117",
                                    "FOGLALAS_PK": "962",
                                    "napok": "4",
                                    "Elöző foglalás": "1"
                                },
                                {
                                    "SZOBA_ID": "117",
                                    "FOGLALAS_PK": "953",
                                    "napok": "5",
                                    "Elöző foglalás": "4"
                                },
                                {
                                    "SZOBA_ID": "117",
                                    "FOGLALAS_PK": "612",
                                    "napok": "2",
                                    "Elöző foglalás": "5"
                                },
                                {
                                    "SZOBA_ID": "117",
                                    "FOGLALAS_PK": "617",
                                    "napok": "3",
                                    "Elöző foglalás": "2"
                                },
                                {
                                    "SZOBA_ID": "118",
                                    "FOGLALAS_PK": "716",
                                    "napok": "1",
                                    "Elöző foglalás": "3"
                                },
                                {
                                    "SZOBA_ID": "118",
                                    "FOGLALAS_PK": "864",
                                    "napok": "6",
                                    "Elöző foglalás": "1"
                                },
                                {
                                    "SZOBA_ID": "118",
                                    "FOGLALAS_PK": "994",
                                    "napok": "7",
                                    "Elöző foglalás": "6"
                                },
                                {
                                    "SZOBA_ID": "118",
                                    "FOGLALAS_PK": "996",
                                    "napok": "3",
                                    "Elöző foglalás": "7"
                                },
                                {
                                    "SZOBA_ID": "118",
                                    "FOGLALAS_PK": "1374",
                                    "napok": "5",
                                    "Elöző foglalás": "3"
                                },
                                {
                                    "SZOBA_ID": "118",
                                    "FOGLALAS_PK": "1472",
                                    "napok": "6",
                                    "Elöző foglalás": "5"
                                },
                                {
                                    "SZOBA_ID": "118",
                                    "FOGLALAS_PK": "1481",
                                    "napok": "3",
                                    "Elöző foglalás": "6"
                                },
                                {
                                    "SZOBA_ID": "119",
                                    "FOGLALAS_PK": "1488",
                                    "napok": "3",
                                    "Elöző foglalás": "3"
                                },
                                {
                                    "SZOBA_ID": "119",
                                    "FOGLALAS_PK": "1413",
                                    "napok": "3",
                                    "Elöző foglalás": "3"
                                },
                                {
                                    "SZOBA_ID": "119",
                                    "FOGLALAS_PK": "1026",
                                    "napok": "3",
                                    "Elöző foglalás": "3"
                                },
                                {
                                    "SZOBA_ID": "119",
                                    "FOGLALAS_PK": "706",
                                    "napok": "2",
                                    "Elöző foglalás": "3"
                                },
                                {
                                    "SZOBA_ID": "119",
                                    "FOGLALAS_PK": "722",
                                    "napok": "1",
                                    "Elöző foglalás": "2"
                                },
                                {
                                    "SZOBA_ID": "120",
                                    "FOGLALAS_PK": "762",
                                    "napok": "3",
                                    "Elöző foglalás": "1"
                                },
                                {
                                    "SZOBA_ID": "120",
                                    "FOGLALAS_PK": "998",
                                    "napok": "3",
                                    "Elöző foglalás": "3"
                                },
                                {
                                    "SZOBA_ID": "120",
                                    "FOGLALAS_PK": "1089",
                                    "napok": "6",
                                    "Elöző foglalás": "3"
                                },
                                {
                                    "SZOBA_ID": "120",
                                    "FOGLALAS_PK": "1339",
                                    "napok": "6",
                                    "Elöző foglalás": "6"
                                },
                                {
                                    "SZOBA_ID": "120",
                                    "FOGLALAS_PK": "1493",
                                    "napok": "7",
                                    "Elöző foglalás": "6"
                                },
                                {
                                    "SZOBA_ID": "120",
                                    "FOGLALAS_PK": "1483",
                                    "napok": "1",
                                    "Elöző foglalás": "7"
                                },
                                {
                                    "SZOBA_ID": "121",
                                    "FOGLALAS_PK": "1393",
                                    "napok": "6",
                                    "Elöző foglalás": "1"
                                },
                                {
                                    "SZOBA_ID": "121",
                                    "FOGLALAS_PK": "1373",
                                    "napok": "5",
                                    "Elöző foglalás": "6"
                                },
                                {
                                    "SZOBA_ID": "121",
                                    "FOGLALAS_PK": "1215",
                                    "napok": "4",
                                    "Elöző foglalás": "5"
                                },
                                {
                                    "SZOBA_ID": "121",
                                    "FOGLALAS_PK": "1128",
                                    "napok": "4",
                                    "Elöző foglalás": "4"
                                },
                                {
                                    "SZOBA_ID": "121",
                                    "FOGLALAS_PK": "1049",
                                    "napok": "3",
                                    "Elöző foglalás": "4"
                                },
                                {
                                    "SZOBA_ID": "121",
                                    "FOGLALAS_PK": "858",
                                    "napok": "5",
                                    "Elöző foglalás": "3"
                                },
                                {
                                    "SZOBA_ID": "121",
                                    "FOGLALAS_PK": "739",
                                    "napok": "6",
                                    "Elöző foglalás": "5"
                                },
                                {
                                    "SZOBA_ID": "121",
                                    "FOGLALAS_PK": "735",
                                    "napok": "6",
                                    "Elöző foglalás": "6"
                                },
                                {
                                    "SZOBA_ID": "122",
                                    "FOGLALAS_PK": "1036",
                                    "napok": "2",
                                    "Elöző foglalás": "6"
                                },
                                {
                                    "SZOBA_ID": "122",
                                    "FOGLALAS_PK": "1007",
                                    "napok": "2",
                                    "Elöző foglalás": "2"
                                },
                                {
                                    "SZOBA_ID": "122",
                                    "FOGLALAS_PK": "1062",
                                    "napok": "3",
                                    "Elöző foglalás": "2"
                                },
                                {
                                    "SZOBA_ID": "122",
                                    "FOGLALAS_PK": "1209",
                                    "napok": "1",
                                    "Elöző foglalás": "3"
                                },
                                {
                                    "SZOBA_ID": "122",
                                    "FOGLALAS_PK": "1245",
                                    "napok": "2",
                                    "Elöző foglalás": "1"
                                },
                                {
                                    "SZOBA_ID": "122",
                                    "FOGLALAS_PK": "1166",
                                    "napok": "4",
                                    "Elöző foglalás": "2"
                                },
                                {
                                    "SZOBA_ID": "122",
                                    "FOGLALAS_PK": "1385",
                                    "napok": "5",
                                    "Elöző foglalás": "4"
                                },
                                {
                                    "SZOBA_ID": "122",
                                    "FOGLALAS_PK": "1337",
                                    "napok": "2",
                                    "Elöző foglalás": "5"
                                },
                                {
                                    "SZOBA_ID": "122",
                                    "FOGLALAS_PK": "1440",
                                    "napok": "3",
                                    "Elöző foglalás": "2"
                                },
                                {
                                    "SZOBA_ID": "123",
                                    "FOGLALAS_PK": "1282",
                                    "napok": "6",
                                    "Elöző foglalás": "3"
                                },
                                {
                                    "SZOBA_ID": "123",
                                    "FOGLALAS_PK": "1223",
                                    "napok": "1",
                                    "Elöző foglalás": "6"
                                },
                                {
                                    "SZOBA_ID": "123",
                                    "FOGLALAS_PK": "967",
                                    "napok": "5",
                                    "Elöző foglalás": "1"
                                },
                                {
                                    "SZOBA_ID": "123",
                                    "FOGLALAS_PK": "923",
                                    "napok": "4",
                                    "Elöző foglalás": "5"
                                },
                                {
                                    "SZOBA_ID": "123",
                                    "FOGLALAS_PK": "587",
                                    "napok": "7",
                                    "Elöző foglalás": "4"
                                },
                                {
                                    "SZOBA_ID": "124",
                                    "FOGLALAS_PK": "861",
                                    "napok": "1",
                                    "Elöző foglalás": "7"
                                },
                                {
                                    "SZOBA_ID": "124",
                                    "FOGLALAS_PK": "1210",
                                    "napok": "4",
                                    "Elöző foglalás": "1"
                                },
                                {
                                    "SZOBA_ID": "124",
                                    "FOGLALAS_PK": "1330",
                                    "napok": "7",
                                    "Elöző foglalás": "4"
                                },
                                {
                                    "SZOBA_ID": "124",
                                    "FOGLALAS_PK": "1419",
                                    "napok": "3",
                                    "Elöző foglalás": "7"
                                },
                                {
                                    "SZOBA_ID": "124",
                                    "FOGLALAS_PK": "1403",
                                    "napok": "6",
                                    "Elöző foglalás": "3"
                                },
                                {
                                    "SZOBA_ID": "124",
                                    "FOGLALAS_PK": "1531",
                                    "napok": "6",
                                    "Elöző foglalás": "6"
                                },
                                {
                                    "SZOBA_ID": "125",
                                    "FOGLALAS_PK": "576",
                                    "napok": "1",
                                    "Elöző foglalás": "6"
                                },
                                {
                                    "SZOBA_ID": "126",
                                    "FOGLALAS_PK": "754",
                                    "napok": "4",
                                    "Elöző foglalás": "1"
                                },
                                {
                                    "SZOBA_ID": "126",
                                    "FOGLALAS_PK": "806",
                                    "napok": "6",
                                    "Elöző foglalás": "4"
                                },
                                {
                                    "SZOBA_ID": "126",
                                    "FOGLALAS_PK": "1500",
                                    "napok": "4",
                                    "Elöző foglalás": "6"
                                },
                                {
                                    "SZOBA_ID": "126",
                                    "FOGLALAS_PK": "1428",
                                    "napok": "7",
                                    "Elöző foglalás": "4"
                                },
                                {
                                    "SZOBA_ID": "126",
                                    "FOGLALAS_PK": "1364",
                                    "napok": "6",
                                    "Elöző foglalás": "7"
                                },
                                {
                                    "SZOBA_ID": "126",
                                    "FOGLALAS_PK": "1134",
                                    "napok": "1",
                                    "Elöző foglalás": "6"
                                },
                                {
                                    "SZOBA_ID": "127",
                                    "FOGLALAS_PK": "1226",
                                    "napok": "5",
                                    "Elöző foglalás": "1"
                                },
                                {
                                    "SZOBA_ID": "127",
                                    "FOGLALAS_PK": "1286",
                                    "napok": "1",
                                    "Elöző foglalás": "5"
                                },
                                {
                                    "SZOBA_ID": "127",
                                    "FOGLALAS_PK": "1579",
                                    "napok": "5",
                                    "Elöző foglalás": "1"
                                },
                                {
                                    "SZOBA_ID": "127",
                                    "FOGLALAS_PK": "643",
                                    "napok": "2",
                                    "Elöző foglalás": "5"
                                },
                                {
                                    "SZOBA_ID": "127",
                                    "FOGLALAS_PK": "853",
                                    "napok": "5",
                                    "Elöző foglalás": "2"
                                },
                                {
                                    "SZOBA_ID": "127",
                                    "FOGLALAS_PK": "879",
                                    "napok": "2",
                                    "Elöző foglalás": "5"
                                },
                                {
                                    "SZOBA_ID": "127",
                                    "FOGLALAS_PK": "1034",
                                    "napok": "6",
                                    "Elöző foglalás": "2"
                                },
                                {
                                    "SZOBA_ID": "128",
                                    "FOGLALAS_PK": "815",
                                    "napok": "1",
                                    "Elöző foglalás": "6"
                                },
                                {
                                    "SZOBA_ID": "128",
                                    "FOGLALAS_PK": "717",
                                    "napok": "2",
                                    "Elöző foglalás": "1"
                                },
                                {
                                    "SZOBA_ID": "128",
                                    "FOGLALAS_PK": "1574",
                                    "napok": "1",
                                    "Elöző foglalás": "2"
                                },
                                {
                                    "SZOBA_ID": "128",
                                    "FOGLALAS_PK": "1583",
                                    "napok": "4",
                                    "Elöző foglalás": "1"
                                },
                                {
                                    "SZOBA_ID": "128",
                                    "FOGLALAS_PK": "1290",
                                    "napok": "1",
                                    "Elöző foglalás": "4"
                                },
                                {
                                    "SZOBA_ID": "129",
                                    "FOGLALAS_PK": "1360",
                                    "napok": "6",
                                    "Elöző foglalás": "1"
                                },
                                {
                                    "SZOBA_ID": "129",
                                    "FOGLALAS_PK": "1445",
                                    "napok": "7",
                                    "Elöző foglalás": "6"
                                },
                                {
                                    "SZOBA_ID": "129",
                                    "FOGLALAS_PK": "1509",
                                    "napok": "6",
                                    "Elöző foglalás": "7"
                                },
                                {
                                    "SZOBA_ID": "129",
                                    "FOGLALAS_PK": "723",
                                    "napok": "7",
                                    "Elöző foglalás": "6"
                                },
                                {
                                    "SZOBA_ID": "130",
                                    "FOGLALAS_PK": "779",
                                    "napok": "6",
                                    "Elöző foglalás": "7"
                                },
                                {
                                    "SZOBA_ID": "130",
                                    "FOGLALAS_PK": "580",
                                    "napok": "3",
                                    "Elöző foglalás": "6"
                                },
                                {
                                    "SZOBA_ID": "130",
                                    "FOGLALAS_PK": "613",
                                    "napok": "3",
                                    "Elöző foglalás": "3"
                                },
                                {
                                    "SZOBA_ID": "130",
                                    "FOGLALAS_PK": "1040",
                                    "napok": "1",
                                    "Elöző foglalás": "3"
                                },
                                {
                                    "SZOBA_ID": "130",
                                    "FOGLALAS_PK": "910",
                                    "napok": "2",
                                    "Elöző foglalás": "1"
                                },
                                {
                                    "SZOBA_ID": "130",
                                    "FOGLALAS_PK": "1475",
                                    "napok": "7",
                                    "Elöző foglalás": "2"
                                },
                                {
                                    "SZOBA_ID": "131",
                                    "FOGLALAS_PK": "1474",
                                    "napok": "5",
                                    "Elöző foglalás": "7"
                                },
                                {
                                    "SZOBA_ID": "131",
                                    "FOGLALAS_PK": "881",
                                    "napok": "6",
                                    "Elöző foglalás": "5"
                                },
                                {
                                    "SZOBA_ID": "131",
                                    "FOGLALAS_PK": "559",
                                    "napok": "2",
                                    "Elöző foglalás": "6"
                                },
                                {
                                    "SZOBA_ID": "131",
                                    "FOGLALAS_PK": "655",
                                    "napok": "1",
                                    "Elöző foglalás": "2"
                                },
                                {
                                    "SZOBA_ID": "131",
                                    "FOGLALAS_PK": "760",
                                    "napok": "4",
                                    "Elöző foglalás": "1"
                                },
                                {
                                    "SZOBA_ID": "132",
                                    "FOGLALAS_PK": "619",
                                    "napok": "7",
                                    "Elöző foglalás": "4"
                                },
                                {
                                    "SZOBA_ID": "132",
                                    "FOGLALAS_PK": "999",
                                    "napok": "6",
                                    "Elöző foglalás": "7"
                                },
                                {
                                    "SZOBA_ID": "132",
                                    "FOGLALAS_PK": "1090",
                                    "napok": "7",
                                    "Elöző foglalás": "6"
                                },
                                {
                                    "SZOBA_ID": "132",
                                    "FOGLALAS_PK": "1111",
                                    "napok": "3",
                                    "Elöző foglalás": "7"
                                },
                                {
                                    "SZOBA_ID": "132",
                                    "FOGLALAS_PK": "1519",
                                    "napok": "2",
                                    "Elöző foglalás": "3"
                                },
                                {
                                    "SZOBA_ID": "132",
                                    "FOGLALAS_PK": "1301",
                                    "napok": "2",
                                    "Elöző foglalás": "2"
                                },
                                {
                                    "SZOBA_ID": "133",
                                    "FOGLALAS_PK": "1306",
                                    "napok": "3",
                                    "Elöző foglalás": "2"
                                },
                                {
                                    "SZOBA_ID": "133",
                                    "FOGLALAS_PK": "1363",
                                    "napok": "5",
                                    "Elöző foglalás": "3"
                                },
                                {
                                    "SZOBA_ID": "133",
                                    "FOGLALAS_PK": "1409",
                                    "napok": "1",
                                    "Elöző foglalás": "5"
                                },
                                {
                                    "SZOBA_ID": "133",
                                    "FOGLALAS_PK": "1149",
                                    "napok": "7",
                                    "Elöző foglalás": "1"
                                },
                                {
                                    "SZOBA_ID": "133",
                                    "FOGLALAS_PK": "909",
                                    "napok": "4",
                                    "Elöző foglalás": "7"
                                },
                                {
                                    "SZOBA_ID": "133",
                                    "FOGLALAS_PK": "988",
                                    "napok": "3",
                                    "Elöző foglalás": "4"
                                },
                                {
                                    "SZOBA_ID": "134",
                                    "FOGLALAS_PK": "1004",
                                    "napok": "5",
                                    "Elöző foglalás": "3"
                                },
                                {
                                    "SZOBA_ID": "134",
                                    "FOGLALAS_PK": "1024",
                                    "napok": "1",
                                    "Elöző foglalás": "5"
                                },
                                {
                                    "SZOBA_ID": "134",
                                    "FOGLALAS_PK": "1045",
                                    "napok": "2",
                                    "Elöző foglalás": "1"
                                },
                                {
                                    "SZOBA_ID": "134",
                                    "FOGLALAS_PK": "1219",
                                    "napok": "6",
                                    "Elöző foglalás": "2"
                                },
                                {
                                    "SZOBA_ID": "134",
                                    "FOGLALAS_PK": "1178",
                                    "napok": "7",
                                    "Elöző foglalás": "6"
                                },
                                {
                                    "SZOBA_ID": "134",
                                    "FOGLALAS_PK": "1535",
                                    "napok": "7",
                                    "Elöző foglalás": "7"
                                },
                                {
                                    "SZOBA_ID": "135",
                                    "FOGLALAS_PK": "1289",
                                    "napok": "3",
                                    "Elöző foglalás": "7"
                                },
                                {
                                    "SZOBA_ID": "135",
                                    "FOGLALAS_PK": "849",
                                    "napok": "7",
                                    "Elöző foglalás": "3"
                                },
                                {
                                    "SZOBA_ID": "135",
                                    "FOGLALAS_PK": "724",
                                    "napok": "6",
                                    "Elöző foglalás": "7"
                                },
                                {
                                    "SZOBA_ID": "136",
                                    "FOGLALAS_PK": "584",
                                    "napok": "2",
                                    "Elöző foglalás": "6"
                                },
                                {
                                    "SZOBA_ID": "136",
                                    "FOGLALAS_PK": "661",
                                    "napok": "5",
                                    "Elöző foglalás": "2"
                                },
                                {
                                    "SZOBA_ID": "136",
                                    "FOGLALAS_PK": "1046",
                                    "napok": "4",
                                    "Elöző foglalás": "5"
                                },
                                {
                                    "SZOBA_ID": "137",
                                    "FOGLALAS_PK": "1014",
                                    "napok": "1",
                                    "Elöző foglalás": "4"
                                },
                                {
                                    "SZOBA_ID": "137",
                                    "FOGLALAS_PK": "657",
                                    "napok": "6",
                                    "Elöző foglalás": "1"
                                },
                                {
                                    "SZOBA_ID": "137",
                                    "FOGLALAS_PK": "649",
                                    "napok": "5",
                                    "Elöző foglalás": "6"
                                },
                                {
                                    "SZOBA_ID": "137",
                                    "FOGLALAS_PK": "582",
                                    "napok": "3",
                                    "Elöző foglalás": "5"
                                },
                                {
                                    "SZOBA_ID": "137",
                                    "FOGLALAS_PK": "1280",
                                    "napok": "3",
                                    "Elöző foglalás": "3"
                                },
                                {
                                    "SZOBA_ID": "137",
                                    "FOGLALAS_PK": "1201",
                                    "napok": "6",
                                    "Elöző foglalás": "3"
                                },
                                {
                                    "SZOBA_ID": "138",
                                    "FOGLALAS_PK": "1256",
                                    "napok": "4",
                                    "Elöző foglalás": "6"
                                },
                                {
                                    "SZOBA_ID": "138",
                                    "FOGLALAS_PK": "1283",
                                    "napok": "2",
                                    "Elöző foglalás": "4"
                                },
                                {
                                    "SZOBA_ID": "138",
                                    "FOGLALAS_PK": "1294",
                                    "napok": "5",
                                    "Elöző foglalás": "2"
                                },
                                {
                                    "SZOBA_ID": "138",
                                    "FOGLALAS_PK": "1358",
                                    "napok": "7",
                                    "Elöző foglalás": "5"
                                },
                                {
                                    "SZOBA_ID": "138",
                                    "FOGLALAS_PK": "1370",
                                    "napok": "5",
                                    "Elöző foglalás": "7"
                                },
                                {
                                    "SZOBA_ID": "138",
                                    "FOGLALAS_PK": "768",
                                    "napok": "6",
                                    "Elöző foglalás": "5"
                                },
                                {
                                    "SZOBA_ID": "138",
                                    "FOGLALAS_PK": "796",
                                    "napok": "4",
                                    "Elöző foglalás": "6"
                                },
                                {
                                    "SZOBA_ID": "139",
                                    "FOGLALAS_PK": "751",
                                    "napok": "4",
                                    "Elöző foglalás": "4"
                                },
                                {
                                    "SZOBA_ID": "139",
                                    "FOGLALAS_PK": "745",
                                    "napok": "1",
                                    "Elöző foglalás": "4"
                                },
                                {
                                    "SZOBA_ID": "139",
                                    "FOGLALAS_PK": "579",
                                    "napok": "2",
                                    "Elöző foglalás": "1"
                                },
                                {
                                    "SZOBA_ID": "139",
                                    "FOGLALAS_PK": "1042",
                                    "napok": "2",
                                    "Elöző foglalás": "2"
                                },
                                {
                                    "SZOBA_ID": "139",
                                    "FOGLALAS_PK": "1064",
                                    "napok": "6",
                                    "Elöző foglalás": "2"
                                },
                                {
                                    "SZOBA_ID": "139",
                                    "FOGLALAS_PK": "1450",
                                    "napok": "7",
                                    "Elöző foglalás": "6"
                                },
                                {
                                    "SZOBA_ID": "139",
                                    "FOGLALAS_PK": "1433",
                                    "napok": "6",
                                    "Elöző foglalás": "7"
                                },
                                {
                                    "SZOBA_ID": "140",
                                    "FOGLALAS_PK": "1371",
                                    "napok": "1",
                                    "Elöző foglalás": "6"
                                },
                                {
                                    "SZOBA_ID": "140",
                                    "FOGLALAS_PK": "1361",
                                    "napok": "3",
                                    "Elöző foglalás": "1"
                                },
                                {
                                    "SZOBA_ID": "140",
                                    "FOGLALAS_PK": "1357",
                                    "napok": "4",
                                    "Elöző foglalás": "3"
                                },
                                {
                                    "SZOBA_ID": "140",
                                    "FOGLALAS_PK": "1259",
                                    "napok": "7",
                                    "Elöző foglalás": "4"
                                },
                                {
                                    "SZOBA_ID": "140",
                                    "FOGLALAS_PK": "1156",
                                    "napok": "3",
                                    "Elöző foglalás": "7"
                                },
                                {
                                    "SZOBA_ID": "140",
                                    "FOGLALAS_PK": "1098",
                                    "napok": "2",
                                    "Elöző foglalás": "3"
                                },
                                {
                                    "SZOBA_ID": "140",
                                    "FOGLALAS_PK": "915",
                                    "napok": "2",
                                    "Elöző foglalás": "2"
                                },
                                {
                                    "SZOBA_ID": "140",
                                    "FOGLALAS_PK": "733",
                                    "napok": "1",
                                    "Elöző foglalás": "2"
                                },
                                {
                                    "SZOBA_ID": "141",
                                    "FOGLALAS_PK": "761",
                                    "napok": "3",
                                    "Elöző foglalás": "1"
                                },
                                {
                                    "SZOBA_ID": "141",
                                    "FOGLALAS_PK": "784",
                                    "napok": "7",
                                    "Elöző foglalás": "3"
                                },
                                {
                                    "SZOBA_ID": "141",
                                    "FOGLALAS_PK": "565",
                                    "napok": "6",
                                    "Elöző foglalás": "7"
                                },
                                {
                                    "SZOBA_ID": "141",
                                    "FOGLALAS_PK": "908",
                                    "napok": "2",
                                    "Elöző foglalás": "6"
                                },
                                {
                                    "SZOBA_ID": "141",
                                    "FOGLALAS_PK": "1254",
                                    "napok": "4",
                                    "Elöző foglalás": "2"
                                },
                                {
                                    "SZOBA_ID": "141",
                                    "FOGLALAS_PK": "1401",
                                    "napok": "6",
                                    "Elöző foglalás": "4"
                                },
                                {
                                    "SZOBA_ID": "142",
                                    "FOGLALAS_PK": "1369",
                                    "napok": "6",
                                    "Elöző foglalás": "6"
                                },
                                {
                                    "SZOBA_ID": "142",
                                    "FOGLALAS_PK": "1545",
                                    "napok": "3",
                                    "Elöző foglalás": "6"
                                },
                                {
                                    "SZOBA_ID": "143",
                                    "FOGLALAS_PK": "1448",
                                    "napok": "6",
                                    "Elöző foglalás": "3"
                                },
                                {
                                    "SZOBA_ID": "143",
                                    "FOGLALAS_PK": "1394",
                                    "napok": "3",
                                    "Elöző foglalás": "6"
                                },
                                {
                                    "SZOBA_ID": "143",
                                    "FOGLALAS_PK": "1313",
                                    "napok": "4",
                                    "Elöző foglalás": "3"
                                },
                                {
                                    "SZOBA_ID": "143",
                                    "FOGLALAS_PK": "1222",
                                    "napok": "2",
                                    "Elöző foglalás": "4"
                                },
                                {
                                    "SZOBA_ID": "143",
                                    "FOGLALAS_PK": "1155",
                                    "napok": "7",
                                    "Elöző foglalás": "2"
                                },
                                {
                                    "SZOBA_ID": "143",
                                    "FOGLALAS_PK": "1193",
                                    "napok": "6",
                                    "Elöző foglalás": "7"
                                },
                                {
                                    "SZOBA_ID": "143",
                                    "FOGLALAS_PK": "980",
                                    "napok": "3",
                                    "Elöző foglalás": "6"
                                },
                                {
                                    "SZOBA_ID": "144",
                                    "FOGLALAS_PK": "1087",
                                    "napok": "2",
                                    "Elöző foglalás": "3"
                                },
                                {
                                    "SZOBA_ID": "144",
                                    "FOGLALAS_PK": "581",
                                    "napok": "4",
                                    "Elöző foglalás": "2"
                                },
                                {
                                    "SZOBA_ID": "144",
                                    "FOGLALAS_PK": "1199",
                                    "napok": "7",
                                    "Elöző foglalás": "4"
                                },
                                {
                                    "SZOBA_ID": "144",
                                    "FOGLALAS_PK": "1297",
                                    "napok": "1",
                                    "Elöző foglalás": "7"
                                },
                                {
                                    "SZOBA_ID": "144",
                                    "FOGLALAS_PK": "1572",
                                    "napok": "2",
                                    "Elöző foglalás": "1"
                                },
                                {
                                    "SZOBA_ID": "145",
                                    "FOGLALAS_PK": "1471",
                                    "napok": "1",
                                    "Elöző foglalás": "2"
                                },
                                {
                                    "SZOBA_ID": "145",
                                    "FOGLALAS_PK": "1338",
                                    "napok": "2",
                                    "Elöző foglalás": "1"
                                },
                                {
                                    "SZOBA_ID": "145",
                                    "FOGLALAS_PK": "1145",
                                    "napok": "4",
                                    "Elöző foglalás": "2"
                                },
                                {
                                    "SZOBA_ID": "145",
                                    "FOGLALAS_PK": "703",
                                    "napok": "4",
                                    "Elöző foglalás": "4"
                                },
                                {
                                    "SZOBA_ID": "145",
                                    "FOGLALAS_PK": "1077",
                                    "napok": "1",
                                    "Elöző foglalás": "4"
                                },
                                {
                                    "SZOBA_ID": "145",
                                    "FOGLALAS_PK": "1120",
                                    "napok": "1",
                                    "Elöző foglalás": "1"
                                },
                                {
                                    "SZOBA_ID": "146",
                                    "FOGLALAS_PK": "1032",
                                    "napok": "5",
                                    "Elöző foglalás": "1"
                                },
                                {
                                    "SZOBA_ID": "146",
                                    "FOGLALAS_PK": "890",
                                    "napok": "3",
                                    "Elöző foglalás": "5"
                                },
                                {
                                    "SZOBA_ID": "146",
                                    "FOGLALAS_PK": "789",
                                    "napok": "7",
                                    "Elöző foglalás": "3"
                                },
                                {
                                    "SZOBA_ID": "146",
                                    "FOGLALAS_PK": "804",
                                    "napok": "7",
                                    "Elöző foglalás": "7"
                                },
                                {
                                    "SZOBA_ID": "146",
                                    "FOGLALAS_PK": "664",
                                    "napok": "3",
                                    "Elöző foglalás": "7"
                                },
                                {
                                    "SZOBA_ID": "146",
                                    "FOGLALAS_PK": "1479",
                                    "napok": "6",
                                    "Elöző foglalás": "3"
                                },
                                {
                                    "SZOBA_ID": "147",
                                    "FOGLALAS_PK": "771",
                                    "napok": "4",
                                    "Elöző foglalás": "6"
                                },
                                {
                                    "SZOBA_ID": "148",
                                    "FOGLALAS_PK": "765",
                                    "napok": "3",
                                    "Elöző foglalás": "4"
                                },
                                {
                                    "SZOBA_ID": "148",
                                    "FOGLALAS_PK": "808",
                                    "napok": "2",
                                    "Elöző foglalás": "3"
                                },
                                {
                                    "SZOBA_ID": "148",
                                    "FOGLALAS_PK": "783",
                                    "napok": "7",
                                    "Elöző foglalás": "2"
                                },
                                {
                                    "SZOBA_ID": "148",
                                    "FOGLALAS_PK": "812",
                                    "napok": "6",
                                    "Elöző foglalás": "7"
                                },
                                {
                                    "SZOBA_ID": "148",
                                    "FOGLALAS_PK": "678",
                                    "napok": "4",
                                    "Elöző foglalás": "6"
                                },
                                {
                                    "SZOBA_ID": "148",
                                    "FOGLALAS_PK": "1578",
                                    "napok": "7",
                                    "Elöző foglalás": "4"
                                },
                                {
                                    "SZOBA_ID": "149",
                                    "FOGLALAS_PK": "1514",
                                    "napok": "5",
                                    "Elöző foglalás": "7"
                                },
                                {
                                    "SZOBA_ID": "149",
                                    "FOGLALAS_PK": "1146",
                                    "napok": "6",
                                    "Elöző foglalás": "5"
                                },
                                {
                                    "SZOBA_ID": "149",
                                    "FOGLALAS_PK": "652",
                                    "napok": "1",
                                    "Elöző foglalás": "6"
                                },
                                {
                                    "SZOBA_ID": "149",
                                    "FOGLALAS_PK": "591",
                                    "napok": "1",
                                    "Elöző foglalás": "1"
                                },
                                {
                                    "SZOBA_ID": "149",
                                    "FOGLALAS_PK": "833",
                                    "napok": "2",
                                    "Elöző foglalás": "1"
                                },
                                {
                                    "SZOBA_ID": "149",
                                    "FOGLALAS_PK": "834",
                                    "napok": "5",
                                    "Elöző foglalás": "2"
                                },
                                {
                                    "SZOBA_ID": "149",
                                    "FOGLALAS_PK": "843",
                                    "napok": "4",
                                    "Elöző foglalás": "5"
                                },
                                {
                                    "SZOBA_ID": "150",
                                    "FOGLALAS_PK": "1100",
                                    "napok": "5",
                                    "Elöző foglalás": "4"
                                },
                                {
                                    "SZOBA_ID": "150",
                                    "FOGLALAS_PK": "1105",
                                    "napok": "1",
                                    "Elöző foglalás": "5"
                                },
                                {
                                    "SZOBA_ID": "150",
                                    "FOGLALAS_PK": "641",
                                    "napok": "3",
                                    "Elöző foglalás": "1"
                                },
                                {
                                    "SZOBA_ID": "150",
                                    "FOGLALAS_PK": "1177",
                                    "napok": "1",
                                    "Elöző foglalás": "3"
                                },
                                {
                                    "SZOBA_ID": "150",
                                    "FOGLALAS_PK": "1203",
                                    "napok": "4",
                                    "Elöző foglalás": "1"
                                },
                                {
                                    "SZOBA_ID": "150",
                                    "FOGLALAS_PK": "1432",
                                    "napok": "3",
                                    "Elöző foglalás": "4"
                                },
                                {
                                    "SZOBA_ID": "151",
                                    "FOGLALAS_PK": "1115",
                                    "napok": "3",
                                    "Elöző foglalás": "3"
                                },
                                {
                                    "SZOBA_ID": "151",
                                    "FOGLALAS_PK": "1058",
                                    "napok": "3",
                                    "Elöző foglalás": "3"
                                },
                                {
                                    "SZOBA_ID": "151",
                                    "FOGLALAS_PK": "893",
                                    "napok": "3",
                                    "Elöző foglalás": "3"
                                },
                                {
                                    "SZOBA_ID": "152",
                                    "FOGLALAS_PK": "730",
                                    "napok": "2",
                                    "Elöző foglalás": "3"
                                },
                                {
                                    "SZOBA_ID": "152",
                                    "FOGLALAS_PK": "1558",
                                    "napok": "2",
                                    "Elöző foglalás": "2"
                                },
                                {
                                    "SZOBA_ID": "152",
                                    "FOGLALAS_PK": "1197",
                                    "napok": "6",
                                    "Elöző foglalás": "2"
                                },
                                {
                                    "SZOBA_ID": "152",
                                    "FOGLALAS_PK": "1160",
                                    "napok": "7",
                                    "Elöző foglalás": "6"
                                },
                                {
                                    "SZOBA_ID": "153",
                                    "FOGLALAS_PK": "1507",
                                    "napok": "3",
                                    "Elöző foglalás": "7"
                                },
                                {
                                    "SZOBA_ID": "153",
                                    "FOGLALAS_PK": "1470",
                                    "napok": "5",
                                    "Elöző foglalás": "3"
                                },
                                {
                                    "SZOBA_ID": "153",
                                    "FOGLALAS_PK": "1460",
                                    "napok": "3",
                                    "Elöző foglalás": "5"
                                },
                                {
                                    "SZOBA_ID": "153",
                                    "FOGLALAS_PK": "594",
                                    "napok": "3",
                                    "Elöző foglalás": "3"
                                },
                                {
                                    "SZOBA_ID": "153",
                                    "FOGLALAS_PK": "969",
                                    "napok": "6",
                                    "Elöző foglalás": "3"
                                },
                                {
                                    "SZOBA_ID": "154",
                                    "FOGLALAS_PK": "968",
                                    "napok": "1",
                                    "Elöző foglalás": "6"
                                },
                                {
                                    "SZOBA_ID": "154",
                                    "FOGLALAS_PK": "1061",
                                    "napok": "7",
                                    "Elöző foglalás": "1"
                                },
                                {
                                    "SZOBA_ID": "154",
                                    "FOGLALAS_PK": "1539",
                                    "napok": "2",
                                    "Elöző foglalás": "7"
                                },
                                {
                                    "SZOBA_ID": "154",
                                    "FOGLALAS_PK": "1168",
                                    "napok": "6",
                                    "Elöző foglalás": "2"
                                },
                                {
                                    "SZOBA_ID": "154",
                                    "FOGLALAS_PK": "1262",
                                    "napok": "1",
                                    "Elöző foglalás": "6"
                                },
                                {
                                    "SZOBA_ID": "155",
                                    "FOGLALAS_PK": "1310",
                                    "napok": "1",
                                    "Elöző foglalás": "1"
                                },
                                {
                                    "SZOBA_ID": "155",
                                    "FOGLALAS_PK": "1541",
                                    "napok": "1",
                                    "Elöző foglalás": "1"
                                },
                                {
                                    "SZOBA_ID": "155",
                                    "FOGLALAS_PK": "1112",
                                    "napok": "4",
                                    "Elöző foglalás": "1"
                                },
                                {
                                    "SZOBA_ID": "155",
                                    "FOGLALAS_PK": "577",
                                    "napok": "3",
                                    "Elöző foglalás": "4"
                                },
                                {
                                    "SZOBA_ID": "155",
                                    "FOGLALAS_PK": "575",
                                    "napok": "1",
                                    "Elöző foglalás": "3"
                                },
                                {
                                    "SZOBA_ID": "156",
                                    "FOGLALAS_PK": "588",
                                    "napok": "7",
                                    "Elöző foglalás": "1"
                                },
                                {
                                    "SZOBA_ID": "156",
                                    "FOGLALAS_PK": "692",
                                    "napok": "6",
                                    "Elöző foglalás": "7"
                                },
                                {
                                    "SZOBA_ID": "156",
                                    "FOGLALAS_PK": "956",
                                    "napok": "6",
                                    "Elöző foglalás": "6"
                                },
                                {
                                    "SZOBA_ID": "156",
                                    "FOGLALAS_PK": "907",
                                    "napok": "3",
                                    "Elöző foglalás": "6"
                                },
                                {
                                    "SZOBA_ID": "156",
                                    "FOGLALAS_PK": "1561",
                                    "napok": "4",
                                    "Elöző foglalás": "3"
                                },
                                {
                                    "SZOBA_ID": "156",
                                    "FOGLALAS_PK": "1462",
                                    "napok": "7",
                                    "Elöző foglalás": "4"
                                },
                                {
                                    "SZOBA_ID": "156",
                                    "FOGLALAS_PK": "1490",
                                    "napok": "1",
                                    "Elöző foglalás": "7"
                                },
                                {
                                    "SZOBA_ID": "157",
                                    "FOGLALAS_PK": "1551",
                                    "napok": "3",
                                    "Elöző foglalás": "1"
                                },
                                {
                                    "SZOBA_ID": "157",
                                    "FOGLALAS_PK": "1240",
                                    "napok": "7",
                                    "Elöző foglalás": "3"
                                },
                                {
                                    "SZOBA_ID": "157",
                                    "FOGLALAS_PK": "1047",
                                    "napok": "4",
                                    "Elöző foglalás": "7"
                                },
                                {
                                    "SZOBA_ID": "157",
                                    "FOGLALAS_PK": "1025",
                                    "napok": "3",
                                    "Elöző foglalás": "4"
                                },
                                {
                                    "SZOBA_ID": "157",
                                    "FOGLALAS_PK": "648",
                                    "napok": "4",
                                    "Elöző foglalás": "3"
                                },
                                {
                                    "SZOBA_ID": "158",
                                    "FOGLALAS_PK": "825",
                                    "napok": "4",
                                    "Elöző foglalás": "4"
                                },
                                {
                                    "SZOBA_ID": "158",
                                    "FOGLALAS_PK": "1117",
                                    "napok": "3",
                                    "Elöző foglalás": "4"
                                },
                                {
                                    "SZOBA_ID": "158",
                                    "FOGLALAS_PK": "840",
                                    "napok": "4",
                                    "Elöző foglalás": "3"
                                },
                                {
                                    "SZOBA_ID": "160",
                                    "FOGLALAS_PK": "922",
                                    "napok": "2",
                                    "Elöző foglalás": "4"
                                },
                                {
                                    "SZOBA_ID": "160",
                                    "FOGLALAS_PK": "927",
                                    "napok": "4",
                                    "Elöző foglalás": "2"
                                },
                                {
                                    "SZOBA_ID": "160",
                                    "FOGLALAS_PK": "933",
                                    "napok": "4",
                                    "Elöző foglalás": "4"
                                },
                                {
                                    "SZOBA_ID": "160",
                                    "FOGLALAS_PK": "720",
                                    "napok": "2",
                                    "Elöző foglalás": "4"
                                },
                                {
                                    "SZOBA_ID": "160",
                                    "FOGLALAS_PK": "1565",
                                    "napok": "3",
                                    "Elöző foglalás": "2"
                                },
                                {
                                    "SZOBA_ID": "161",
                                    "FOGLALAS_PK": "1571",
                                    "napok": "4",
                                    "Elöző foglalás": "3"
                                },
                                {
                                    "SZOBA_ID": "161",
                                    "FOGLALAS_PK": "1190",
                                    "napok": "7",
                                    "Elöző foglalás": "4"
                                },
                                {
                                    "SZOBA_ID": "161",
                                    "FOGLALAS_PK": "639",
                                    "napok": "4",
                                    "Elöző foglalás": "7"
                                },
                                {
                                    "SZOBA_ID": "161",
                                    "FOGLALAS_PK": "653",
                                    "napok": "7",
                                    "Elöző foglalás": "4"
                                },
                                {
                                    "SZOBA_ID": "161",
                                    "FOGLALAS_PK": "911",
                                    "napok": "4",
                                    "Elöző foglalás": "7"
                                },
                                {
                                    "SZOBA_ID": "161",
                                    "FOGLALAS_PK": "1068",
                                    "napok": "6",
                                    "Elöző foglalás": "4"
                                },
                                {
                                    "SZOBA_ID": "162",
                                    "FOGLALAS_PK": "599",
                                    "napok": "4",
                                    "Elöző foglalás": "6"
                                },
                                {
                                    "SZOBA_ID": "162",
                                    "FOGLALAS_PK": "1205",
                                    "napok": "6",
                                    "Elöző foglalás": "4"
                                },
                                {
                                    "SZOBA_ID": "162",
                                    "FOGLALAS_PK": "1400",
                                    "napok": "1",
                                    "Elöző foglalás": "6"
                                },
                                {
                                    "SZOBA_ID": "163",
                                    "FOGLALAS_PK": "1265",
                                    "napok": "5",
                                    "Elöző foglalás": "1"
                                },
                                {
                                    "SZOBA_ID": "163",
                                    "FOGLALAS_PK": "1487",
                                    "napok": "3",
                                    "Elöző foglalás": "5"
                                },
                                {
                                    "SZOBA_ID": "163",
                                    "FOGLALAS_PK": "630",
                                    "napok": "2",
                                    "Elöző foglalás": "3"
                                },
                                {
                                    "SZOBA_ID": "163",
                                    "FOGLALAS_PK": "782",
                                    "napok": "3",
                                    "Elöző foglalás": "2"
                                },
                                {
                                    "SZOBA_ID": "163",
                                    "FOGLALAS_PK": "1075",
                                    "napok": "4",
                                    "Elöző foglalás": "3"
                                },
                                {
                                    "SZOBA_ID": "163",
                                    "FOGLALAS_PK": "1107",
                                    "napok": "3",
                                    "Elöző foglalás": "4"
                                },
                                {
                                    "SZOBA_ID": "163",
                                    "FOGLALAS_PK": "941",
                                    "napok": "1",
                                    "Elöző foglalás": "3"
                                },
                                {
                                    "SZOBA_ID": "164",
                                    "FOGLALAS_PK": "1010",
                                    "napok": "2",
                                    "Elöző foglalás": "1"
                                },
                                {
                                    "SZOBA_ID": "164",
                                    "FOGLALAS_PK": "742",
                                    "napok": "6",
                                    "Elöző foglalás": "2"
                                },
                                {
                                    "SZOBA_ID": "164",
                                    "FOGLALAS_PK": "570",
                                    "napok": "7",
                                    "Elöző foglalás": "6"
                                },
                                {
                                    "SZOBA_ID": "164",
                                    "FOGLALAS_PK": "1292",
                                    "napok": "2",
                                    "Elöző foglalás": "7"
                                },
                                {
                                    "SZOBA_ID": "164",
                                    "FOGLALAS_PK": "1284",
                                    "napok": "4",
                                    "Elöző foglalás": "2"
                                },
                                {
                                    "SZOBA_ID": "165",
                                    "FOGLALAS_PK": "1375",
                                    "napok": "4",
                                    "Elöző foglalás": "4"
                                },
                                {
                                    "SZOBA_ID": "165",
                                    "FOGLALAS_PK": "1141",
                                    "napok": "1",
                                    "Elöző foglalás": "4"
                                },
                                {
                                    "SZOBA_ID": "165",
                                    "FOGLALAS_PK": "640",
                                    "napok": "3",
                                    "Elöző foglalás": "1"
                                },
                                {
                                    "SZOBA_ID": "165",
                                    "FOGLALAS_PK": "900",
                                    "napok": "6",
                                    "Elöző foglalás": "3"
                                },
                                {
                                    "SZOBA_ID": "165",
                                    "FOGLALAS_PK": "897",
                                    "napok": "6",
                                    "Elöző foglalás": "6"
                                },
                                {
                                    "SZOBA_ID": "165",
                                    "FOGLALAS_PK": "892",
                                    "napok": "3",
                                    "Elöző foglalás": "6"
                                },
                                {
                                    "SZOBA_ID": "165",
                                    "FOGLALAS_PK": "857",
                                    "napok": "5",
                                    "Elöző foglalás": "3"
                                },
                                {
                                    "SZOBA_ID": "166",
                                    "FOGLALAS_PK": "644",
                                    "napok": "7",
                                    "Elöző foglalás": "5"
                                },
                                {
                                    "SZOBA_ID": "166",
                                    "FOGLALAS_PK": "781",
                                    "napok": "7",
                                    "Elöző foglalás": "7"
                                },
                                {
                                    "SZOBA_ID": "166",
                                    "FOGLALAS_PK": "1526",
                                    "napok": "2",
                                    "Elöző foglalás": "7"
                                },
                                {
                                    "SZOBA_ID": "167",
                                    "FOGLALAS_PK": "1414",
                                    "napok": "3",
                                    "Elöző foglalás": "2"
                                },
                                {
                                    "SZOBA_ID": "167",
                                    "FOGLALAS_PK": "854",
                                    "napok": "7",
                                    "Elöző foglalás": "3"
                                },
                                {
                                    "SZOBA_ID": "168",
                                    "FOGLALAS_PK": "930",
                                    "napok": "3",
                                    "Elöző foglalás": "7"
                                },
                                {
                                    "SZOBA_ID": "168",
                                    "FOGLALAS_PK": "794",
                                    "napok": "4",
                                    "Elöző foglalás": "3"
                                },
                                {
                                    "SZOBA_ID": "168",
                                    "FOGLALAS_PK": "792",
                                    "napok": "3",
                                    "Elöző foglalás": "4"
                                },
                                {
                                    "SZOBA_ID": "168",
                                    "FOGLALAS_PK": "1266",
                                    "napok": "4",
                                    "Elöző foglalás": "3"
                                },
                                {
                                    "SZOBA_ID": "168",
                                    "FOGLALAS_PK": "1249",
                                    "napok": "4",
                                    "Elöző foglalás": "4"
                                },
                                {
                                    "SZOBA_ID": "169",
                                    "FOGLALAS_PK": "1356",
                                    "napok": "4",
                                    "Elöző foglalás": "4"
                                },
                                {
                                    "SZOBA_ID": "169",
                                    "FOGLALAS_PK": "1427",
                                    "napok": "1",
                                    "Elöző foglalás": "4"
                                },
                                {
                                    "SZOBA_ID": "169",
                                    "FOGLALAS_PK": "746",
                                    "napok": "7",
                                    "Elöző foglalás": "1"
                                },
                                {
                                    "SZOBA_ID": "169",
                                    "FOGLALAS_PK": "659",
                                    "napok": "6",
                                    "Elöző foglalás": "7"
                                },
                                {
                                    "SZOBA_ID": "169",
                                    "FOGLALAS_PK": "573",
                                    "napok": "5",
                                    "Elöző foglalás": "6"
                                },
                                {
                                    "SZOBA_ID": "169",
                                    "FOGLALAS_PK": "974",
                                    "napok": "1",
                                    "Elöző foglalás": "5"
                                },
                                {
                                    "SZOBA_ID": "170",
                                    "FOGLALAS_PK": "944",
                                    "napok": "4",
                                    "Elöző foglalás": "1"
                                },
                                {
                                    "SZOBA_ID": "170",
                                    "FOGLALAS_PK": "567",
                                    "napok": "7",
                                    "Elöző foglalás": "4"
                                },
                                {
                                    "SZOBA_ID": "170",
                                    "FOGLALAS_PK": "1342",
                                    "napok": "6",
                                    "Elöző foglalás": "7"
                                },
                                {
                                    "SZOBA_ID": "170",
                                    "FOGLALAS_PK": "1267",
                                    "napok": "7",
                                    "Elöző foglalás": "6"
                                },
                                {
                                    "SZOBA_ID": "170",
                                    "FOGLALAS_PK": "1194",
                                    "napok": "4",
                                    "Elöző foglalás": "7"
                                },
                                {
                                    "SZOBA_ID": "171",
                                    "FOGLALAS_PK": "1181",
                                    "napok": "6",
                                    "Elöző foglalás": "4"
                                },
                                {
                                    "SZOBA_ID": "171",
                                    "FOGLALAS_PK": "1329",
                                    "napok": "5",
                                    "Elöző foglalás": "6"
                                },
                                {
                                    "SZOBA_ID": "171",
                                    "FOGLALAS_PK": "1567",
                                    "napok": "6",
                                    "Elöző foglalás": "5"
                                },
                                {
                                    "SZOBA_ID": "171",
                                    "FOGLALAS_PK": "574",
                                    "napok": "2",
                                    "Elöző foglalás": "6"
                                },
                                {
                                    "SZOBA_ID": "171",
                                    "FOGLALAS_PK": "981",
                                    "napok": "4",
                                    "Elöző foglalás": "2"
                                },
                                {
                                    "SZOBA_ID": "172",
                                    "FOGLALAS_PK": "984",
                                    "napok": "4",
                                    "Elöző foglalás": "4"
                                },
                                {
                                    "SZOBA_ID": "172",
                                    "FOGLALAS_PK": "749",
                                    "napok": "6",
                                    "Elöző foglalás": "4"
                                },
                                {
                                    "SZOBA_ID": "172",
                                    "FOGLALAS_PK": "709",
                                    "napok": "5",
                                    "Elöző foglalás": "6"
                                },
                                {
                                    "SZOBA_ID": "172",
                                    "FOGLALAS_PK": "839",
                                    "napok": "5",
                                    "Elöző foglalás": "5"
                                },
                                {
                                    "SZOBA_ID": "172",
                                    "FOGLALAS_PK": "1421",
                                    "napok": "5",
                                    "Elöző foglalás": "5"
                                },
                                {
                                    "SZOBA_ID": "172",
                                    "FOGLALAS_PK": "1491",
                                    "napok": "2",
                                    "Elöző foglalás": "5"
                                },
                                {
                                    "SZOBA_ID": "172",
                                    "FOGLALAS_PK": "1336",
                                    "napok": "5",
                                    "Elöző foglalás": "2"
                                },
                                {
                                    "SZOBA_ID": "172",
                                    "FOGLALAS_PK": "1171",
                                    "napok": "5",
                                    "Elöző foglalás": "5"
                                },
                                {
                                    "SZOBA_ID": "172",
                                    "FOGLALAS_PK": "1142",
                                    "napok": "4",
                                    "Elöző foglalás": "5"
                                },
                                {
                                    "SZOBA_ID": "173",
                                    "FOGLALAS_PK": "1350",
                                    "napok": "3",
                                    "Elöző foglalás": "4"
                                },
                                {
                                    "SZOBA_ID": "173",
                                    "FOGLALAS_PK": "1429",
                                    "napok": "4",
                                    "Elöző foglalás": "3"
                                },
                                {
                                    "SZOBA_ID": "173",
                                    "FOGLALAS_PK": "669",
                                    "napok": "7",
                                    "Elöző foglalás": "4"
                                },
                                {
                                    "SZOBA_ID": "173",
                                    "FOGLALAS_PK": "913",
                                    "napok": "1",
                                    "Elöző foglalás": "7"
                                },
                                {
                                    "SZOBA_ID": "174",
                                    "FOGLALAS_PK": "917",
                                    "napok": "2",
                                    "Elöző foglalás": "1"
                                },
                                {
                                    "SZOBA_ID": "174",
                                    "FOGLALAS_PK": "1015",
                                    "napok": "5",
                                    "Elöző foglalás": "2"
                                },
                                {
                                    "SZOBA_ID": "174",
                                    "FOGLALAS_PK": "682",
                                    "napok": "3",
                                    "Elöző foglalás": "5"
                                },
                                {
                                    "SZOBA_ID": "174",
                                    "FOGLALAS_PK": "1276",
                                    "napok": "1",
                                    "Elöző foglalás": "3"
                                },
                                {
                                    "SZOBA_ID": "175",
                                    "FOGLALAS_PK": "1133",
                                    "napok": "2",
                                    "Elöző foglalás": "1"
                                },
                                {
                                    "SZOBA_ID": "175",
                                    "FOGLALAS_PK": "1407",
                                    "napok": "7",
                                    "Elöző foglalás": "2"
                                },
                                {
                                    "SZOBA_ID": "175",
                                    "FOGLALAS_PK": "799",
                                    "napok": "4",
                                    "Elöző foglalás": "7"
                                },
                                {
                                    "SZOBA_ID": "175",
                                    "FOGLALAS_PK": "1094",
                                    "napok": "5",
                                    "Elöző foglalás": "4"
                                },
                                {
                                    "SZOBA_ID": "175",
                                    "FOGLALAS_PK": "867",
                                    "napok": "6",
                                    "Elöző foglalás": "5"
                                },
                                {
                                    "SZOBA_ID": "176",
                                    "FOGLALAS_PK": "592",
                                    "napok": "5",
                                    "Elöző foglalás": "6"
                                },
                                {
                                    "SZOBA_ID": "176",
                                    "FOGLALAS_PK": "1383",
                                    "napok": "4",
                                    "Elöző foglalás": "5"
                                },
                                {
                                    "SZOBA_ID": "176",
                                    "FOGLALAS_PK": "1278",
                                    "napok": "6",
                                    "Elöző foglalás": "4"
                                },
                                {
                                    "SZOBA_ID": "176",
                                    "FOGLALAS_PK": "1143",
                                    "napok": "6",
                                    "Elöző foglalás": "6"
                                },
                                {
                                    "SZOBA_ID": "176",
                                    "FOGLALAS_PK": "1511",
                                    "napok": "2",
                                    "Elöző foglalás": "6"
                                },
                                {
                                    "SZOBA_ID": "176",
                                    "FOGLALAS_PK": "1570",
                                    "napok": "3",
                                    "Elöző foglalás": "2"
                                },
                                {
                                    "SZOBA_ID": "177",
                                    "FOGLALAS_PK": "1503",
                                    "napok": "3",
                                    "Elöző foglalás": "3"
                                },
                                {
                                    "SZOBA_ID": "177",
                                    "FOGLALAS_PK": "1176",
                                    "napok": "3",
                                    "Elöző foglalás": "3"
                                },
                                {
                                    "SZOBA_ID": "177",
                                    "FOGLALAS_PK": "785",
                                    "napok": "3",
                                    "Elöző foglalás": "3"
                                },
                                {
                                    "SZOBA_ID": "177",
                                    "FOGLALAS_PK": "831",
                                    "napok": "7",
                                    "Elöző foglalás": "3"
                                },
                                {
                                    "SZOBA_ID": "178",
                                    "FOGLALAS_PK": "816",
                                    "napok": "4",
                                    "Elöző foglalás": "7"
                                },
                                {
                                    "SZOBA_ID": "178",
                                    "FOGLALAS_PK": "991",
                                    "napok": "7",
                                    "Elöző foglalás": "4"
                                },
                                {
                                    "SZOBA_ID": "178",
                                    "FOGLALAS_PK": "1242",
                                    "napok": "1",
                                    "Elöző foglalás": "7"
                                },
                                {
                                    "SZOBA_ID": "178",
                                    "FOGLALAS_PK": "1211",
                                    "napok": "3",
                                    "Elöző foglalás": "1"
                                },
                                {
                                    "SZOBA_ID": "179",
                                    "FOGLALAS_PK": "1497",
                                    "napok": "1",
                                    "Elöző foglalás": "3"
                                },
                                {
                                    "SZOBA_ID": "179",
                                    "FOGLALAS_PK": "1021",
                                    "napok": "1",
                                    "Elöző foglalás": "1"
                                },
                                {
                                    "SZOBA_ID": "179",
                                    "FOGLALAS_PK": "662",
                                    "napok": "2",
                                    "Elöző foglalás": "1"
                                },
                                {
                                    "SZOBA_ID": "180",
                                    "FOGLALAS_PK": "905",
                                    "napok": "5",
                                    "Elöző foglalás": "2"
                                },
                                {
                                    "SZOBA_ID": "180",
                                    "FOGLALAS_PK": "1563",
                                    "napok": "6",
                                    "Elöző foglalás": "5"
                                },
                                {
                                    "SZOBA_ID": "180",
                                    "FOGLALAS_PK": "1559",
                                    "napok": "3",
                                    "Elöző foglalás": "6"
                                },
                                {
                                    "SZOBA_ID": "181",
                                    "FOGLALAS_PK": "1346",
                                    "napok": "6",
                                    "Elöző foglalás": "3"
                                },
                                {
                                    "SZOBA_ID": "181",
                                    "FOGLALAS_PK": "937",
                                    "napok": "3",
                                    "Elöző foglalás": "6"
                                },
                                {
                                    "SZOBA_ID": "181",
                                    "FOGLALAS_PK": "958",
                                    "napok": "5",
                                    "Elöző foglalás": "3"
                                },
                                {
                                    "SZOBA_ID": "181",
                                    "FOGLALAS_PK": "1022",
                                    "napok": "1",
                                    "Elöző foglalás": "5"
                                },
                                {
                                    "SZOBA_ID": "181",
                                    "FOGLALAS_PK": "677",
                                    "napok": "4",
                                    "Elöző foglalás": "1"
                                },
                                {
                                    "SZOBA_ID": "181",
                                    "FOGLALAS_PK": "731",
                                    "napok": "6",
                                    "Elöző foglalás": "4"
                                },
                                {
                                    "SZOBA_ID": "182",
                                    "FOGLALAS_PK": "740",
                                    "napok": "3",
                                    "Elöző foglalás": "6"
                                },
                                {
                                    "SZOBA_ID": "182",
                                    "FOGLALAS_PK": "571",
                                    "napok": "2",
                                    "Elöző foglalás": "3"
                                },
                                {
                                    "SZOBA_ID": "182",
                                    "FOGLALAS_PK": "1008",
                                    "napok": "6",
                                    "Elöző foglalás": "2"
                                },
                                {
                                    "SZOBA_ID": "182",
                                    "FOGLALAS_PK": "928",
                                    "napok": "2",
                                    "Elöző foglalás": "6"
                                },
                                {
                                    "SZOBA_ID": "182",
                                    "FOGLALAS_PK": "1410",
                                    "napok": "4",
                                    "Elöző foglalás": "2"
                                },
                                {
                                    "SZOBA_ID": "182",
                                    "FOGLALAS_PK": "1308",
                                    "napok": "1",
                                    "Elöző foglalás": "4"
                                },
                                {
                                    "SZOBA_ID": "182",
                                    "FOGLALAS_PK": "1326",
                                    "napok": "4",
                                    "Elöző foglalás": "1"
                                },
                                {
                                    "SZOBA_ID": "182",
                                    "FOGLALAS_PK": "1317",
                                    "napok": "3",
                                    "Elöző foglalás": "4"
                                },
                                {
                                    "SZOBA_ID": "182",
                                    "FOGLALAS_PK": "1230",
                                    "napok": "7",
                                    "Elöző foglalás": "3"
                                },
                                {
                                    "SZOBA_ID": "182",
                                    "FOGLALAS_PK": "1231",
                                    "napok": "4",
                                    "Elöző foglalás": "7"
                                },
                                {
                                    "SZOBA_ID": "182",
                                    "FOGLALAS_PK": "1188",
                                    "napok": "1",
                                    "Elöző foglalás": "4"
                                },
                                {
                                    "SZOBA_ID": "182",
                                    "FOGLALAS_PK": "1422",
                                    "napok": "3",
                                    "Elöző foglalás": "1"
                                },
                                {
                                    "SZOBA_ID": "183",
                                    "FOGLALAS_PK": "1437",
                                    "napok": "4",
                                    "Elöző foglalás": "3"
                                },
                                {
                                    "SZOBA_ID": "183",
                                    "FOGLALAS_PK": "1147",
                                    "napok": "4",
                                    "Elöző foglalás": "4"
                                },
                                {
                                    "SZOBA_ID": "183",
                                    "FOGLALAS_PK": "939",
                                    "napok": "4",
                                    "Elöző foglalás": "4"
                                },
                                {
                                    "SZOBA_ID": "183",
                                    "FOGLALAS_PK": "1067",
                                    "napok": "7",
                                    "Elöző foglalás": "4"
                                },
                                {
                                    "SZOBA_ID": "184",
                                    "FOGLALAS_PK": "880",
                                    "napok": "4",
                                    "Elöző foglalás": "7"
                                },
                                {
                                    "SZOBA_ID": "184",
                                    "FOGLALAS_PK": "608",
                                    "napok": "2",
                                    "Elöző foglalás": "4"
                                },
                                {
                                    "SZOBA_ID": "184",
                                    "FOGLALAS_PK": "684",
                                    "napok": "3",
                                    "Elöző foglalás": "2"
                                },
                                {
                                    "SZOBA_ID": "184",
                                    "FOGLALAS_PK": "1251",
                                    "napok": "4",
                                    "Elöző foglalás": "3"
                                },
                                {
                                    "SZOBA_ID": "185",
                                    "FOGLALAS_PK": "1183",
                                    "napok": "5",
                                    "Elöző foglalás": "4"
                                },
                                {
                                    "SZOBA_ID": "185",
                                    "FOGLALAS_PK": "1441",
                                    "napok": "7",
                                    "Elöző foglalás": "5"
                                },
                                {
                                    "SZOBA_ID": "185",
                                    "FOGLALAS_PK": "1463",
                                    "napok": "7",
                                    "Elöző foglalás": "7"
                                },
                                {
                                    "SZOBA_ID": "185",
                                    "FOGLALAS_PK": "693",
                                    "napok": "2",
                                    "Elöző foglalás": "7"
                                },
                                {
                                    "SZOBA_ID": "185",
                                    "FOGLALAS_PK": "679",
                                    "napok": "5",
                                    "Elöző foglalás": "2"
                                },
                                {
                                    "SZOBA_ID": "185",
                                    "FOGLALAS_PK": "672",
                                    "napok": "3",
                                    "Elöző foglalás": "5"
                                },
                                {
                                    "SZOBA_ID": "185",
                                    "FOGLALAS_PK": "578",
                                    "napok": "6",
                                    "Elöző foglalás": "3"
                                },
                                {
                                    "SZOBA_ID": "185",
                                    "FOGLALAS_PK": "711",
                                    "napok": "3",
                                    "Elöző foglalás": "6"
                                },
                                {
                                    "SZOBA_ID": "185",
                                    "FOGLALAS_PK": "898",
                                    "napok": "4",
                                    "Elöző foglalás": "3"
                                },
                                {
                                    "SZOBA_ID": "185",
                                    "FOGLALAS_PK": "863",
                                    "napok": "4",
                                    "Elöző foglalás": "4"
                                },
                                {
                                    "SZOBA_ID": "185",
                                    "FOGLALAS_PK": "925",
                                    "napok": "6",
                                    "Elöző foglalás": "4"
                                },
                                {
                                    "SZOBA_ID": "185",
                                    "FOGLALAS_PK": "1125",
                                    "napok": "3",
                                    "Elöző foglalás": "6"
                                },
                                {
                                    "SZOBA_ID": "186",
                                    "FOGLALAS_PK": "615",
                                    "napok": "3",
                                    "Elöző foglalás": "3"
                                },
                                {
                                    "SZOBA_ID": "186",
                                    "FOGLALAS_PK": "1467",
                                    "napok": "3",
                                    "Elöző foglalás": "3"
                                },
                                {
                                    "SZOBA_ID": "186",
                                    "FOGLALAS_PK": "1153",
                                    "napok": "3",
                                    "Elöző foglalás": "3"
                                },
                                {
                                    "SZOBA_ID": "186",
                                    "FOGLALAS_PK": "1248",
                                    "napok": "2",
                                    "Elöző foglalás": "3"
                                },
                                {
                                    "SZOBA_ID": "187",
                                    "FOGLALAS_PK": "1404",
                                    "napok": "2",
                                    "Elöző foglalás": "2"
                                },
                                {
                                    "SZOBA_ID": "187",
                                    "FOGLALAS_PK": "695",
                                    "napok": "6",
                                    "Elöző foglalás": "2"
                                },
                                {
                                    "SZOBA_ID": "187",
                                    "FOGLALAS_PK": "633",
                                    "napok": "6",
                                    "Elöző foglalás": "6"
                                },
                                {
                                    "SZOBA_ID": "187",
                                    "FOGLALAS_PK": "743",
                                    "napok": "2",
                                    "Elöző foglalás": "6"
                                },
                                {
                                    "SZOBA_ID": "187",
                                    "FOGLALAS_PK": "766",
                                    "napok": "1",
                                    "Elöző foglalás": "2"
                                },
                                {
                                    "SZOBA_ID": "187",
                                    "FOGLALAS_PK": "957",
                                    "napok": "4",
                                    "Elöző foglalás": "1"
                                },
                                {
                                    "SZOBA_ID": "187",
                                    "FOGLALAS_PK": "868",
                                    "napok": "4",
                                    "Elöző foglalás": "4"
                                },
                                {
                                    "SZOBA_ID": "188",
                                    "FOGLALAS_PK": "912",
                                    "napok": "1",
                                    "Elöző foglalás": "4"
                                },
                                {
                                    "SZOBA_ID": "188",
                                    "FOGLALAS_PK": "1030",
                                    "napok": "4",
                                    "Elöző foglalás": "1"
                                },
                                {
                                    "SZOBA_ID": "188",
                                    "FOGLALAS_PK": "747",
                                    "napok": "3",
                                    "Elöző foglalás": "4"
                                },
                                {
                                    "SZOBA_ID": "188",
                                    "FOGLALAS_PK": "710",
                                    "napok": "7",
                                    "Elöző foglalás": "3"
                                },
                                {
                                    "SZOBA_ID": "188",
                                    "FOGLALAS_PK": "690",
                                    "napok": "4",
                                    "Elöző foglalás": "7"
                                },
                                {
                                    "SZOBA_ID": "188",
                                    "FOGLALAS_PK": "1390",
                                    "napok": "5",
                                    "Elöző foglalás": "4"
                                },
                                {
                                    "SZOBA_ID": "189",
                                    "FOGLALAS_PK": "1204",
                                    "napok": "2",
                                    "Elöző foglalás": "5"
                                },
                                {
                                    "SZOBA_ID": "189",
                                    "FOGLALAS_PK": "1449",
                                    "napok": "2",
                                    "Elöző foglalás": "2"
                                },
                                {
                                    "SZOBA_ID": "189",
                                    "FOGLALAS_PK": "1576",
                                    "napok": "3",
                                    "Elöző foglalás": "2"
                                },
                                {
                                    "SZOBA_ID": "189",
                                    "FOGLALAS_PK": "699",
                                    "napok": "2",
                                    "Elöző foglalás": "3"
                                },
                                {
                                    "SZOBA_ID": "189",
                                    "FOGLALAS_PK": "753",
                                    "napok": "1",
                                    "Elöző foglalás": "2"
                                },
                                {
                                    "SZOBA_ID": "190",
                                    "FOGLALAS_PK": "774",
                                    "napok": "5",
                                    "Elöző foglalás": "1"
                                },
                                {
                                    "SZOBA_ID": "190",
                                    "FOGLALAS_PK": "600",
                                    "napok": "7",
                                    "Elöző foglalás": "5"
                                },
                                {
                                    "SZOBA_ID": "190",
                                    "FOGLALAS_PK": "1017",
                                    "napok": "1",
                                    "Elöző foglalás": "7"
                                },
                                {
                                    "SZOBA_ID": "190",
                                    "FOGLALAS_PK": "989",
                                    "napok": "1",
                                    "Elöző foglalás": "1"
                                },
                                {
                                    "SZOBA_ID": "190",
                                    "FOGLALAS_PK": "1517",
                                    "napok": "5",
                                    "Elöző foglalás": "1"
                                },
                                {
                                    "SZOBA_ID": "191",
                                    "FOGLALAS_PK": "1502",
                                    "napok": "2",
                                    "Elöző foglalás": "5"
                                },
                                {
                                    "SZOBA_ID": "191",
                                    "FOGLALAS_PK": "1508",
                                    "napok": "7",
                                    "Elöző foglalás": "2"
                                },
                                {
                                    "SZOBA_ID": "191",
                                    "FOGLALAS_PK": "1323",
                                    "napok": "7",
                                    "Elöző foglalás": "7"
                                },
                                {
                                    "SZOBA_ID": "191",
                                    "FOGLALAS_PK": "1302",
                                    "napok": "1",
                                    "Elöző foglalás": "7"
                                },
                                {
                                    "SZOBA_ID": "191",
                                    "FOGLALAS_PK": "1039",
                                    "napok": "6",
                                    "Elöző foglalás": "1"
                                },
                                {
                                    "SZOBA_ID": "192",
                                    "FOGLALAS_PK": "903",
                                    "napok": "7",
                                    "Elöző foglalás": "6"
                                },
                                {
                                    "SZOBA_ID": "192",
                                    "FOGLALAS_PK": "680",
                                    "napok": "4",
                                    "Elöző foglalás": "7"
                                },
                                {
                                    "SZOBA_ID": "193",
                                    "FOGLALAS_PK": "675",
                                    "napok": "2",
                                    "Elöző foglalás": "4"
                                },
                                {
                                    "SZOBA_ID": "193",
                                    "FOGLALAS_PK": "634",
                                    "napok": "6",
                                    "Elöző foglalás": "2"
                                },
                                {
                                    "SZOBA_ID": "193",
                                    "FOGLALAS_PK": "835",
                                    "napok": "2",
                                    "Elöző foglalás": "6"
                                },
                                {
                                    "SZOBA_ID": "193",
                                    "FOGLALAS_PK": "977",
                                    "napok": "2",
                                    "Elöző foglalás": "2"
                                },
                                {
                                    "SZOBA_ID": "193",
                                    "FOGLALAS_PK": "926",
                                    "napok": "1",
                                    "Elöző foglalás": "2"
                                },
                                {
                                    "SZOBA_ID": "193",
                                    "FOGLALAS_PK": "1043",
                                    "napok": "6",
                                    "Elöző foglalás": "1"
                                },
                                {
                                    "SZOBA_ID": "193",
                                    "FOGLALAS_PK": "1238",
                                    "napok": "6",
                                    "Elöző foglalás": "6"
                                },
                                {
                                    "SZOBA_ID": "194",
                                    "FOGLALAS_PK": "1095",
                                    "napok": "5",
                                    "Elöző foglalás": "6"
                                },
                                {
                                    "SZOBA_ID": "195",
                                    "FOGLALAS_PK": "1074",
                                    "napok": "7",
                                    "Elöző foglalás": "5"
                                },
                                {
                                    "SZOBA_ID": "195",
                                    "FOGLALAS_PK": "842",
                                    "napok": "4",
                                    "Elöző foglalás": "7"
                                },
                                {
                                    "SZOBA_ID": "195",
                                    "FOGLALAS_PK": "721",
                                    "napok": "4",
                                    "Elöző foglalás": "4"
                                },
                                {
                                    "SZOBA_ID": "195",
                                    "FOGLALAS_PK": "1184",
                                    "napok": "5",
                                    "Elöző foglalás": "4"
                                },
                                {
                                    "SZOBA_ID": "195",
                                    "FOGLALAS_PK": "1473",
                                    "napok": "7",
                                    "Elöző foglalás": "5"
                                },
                                {
                                    "SZOBA_ID": "195",
                                    "FOGLALAS_PK": "1484",
                                    "napok": "1",
                                    "Elöző foglalás": "7"
                                },
                                {
                                    "SZOBA_ID": "196",
                                    "FOGLALAS_PK": "1314",
                                    "napok": "5",
                                    "Elöző foglalás": "1"
                                },
                                {
                                    "SZOBA_ID": "196",
                                    "FOGLALAS_PK": "1340",
                                    "napok": "5",
                                    "Elöző foglalás": "5"
                                },
                                {
                                    "SZOBA_ID": "196",
                                    "FOGLALAS_PK": "673",
                                    "napok": "5",
                                    "Elöző foglalás": "5"
                                },
                                {
                                    "SZOBA_ID": "196",
                                    "FOGLALAS_PK": "952",
                                    "napok": "3",
                                    "Elöző foglalás": "5"
                                },
                                {
                                    "SZOBA_ID": "197",
                                    "FOGLALAS_PK": "1091",
                                    "napok": "7",
                                    "Elöző foglalás": "3"
                                },
                                {
                                    "SZOBA_ID": "197",
                                    "FOGLALAS_PK": "993",
                                    "napok": "7",
                                    "Elöző foglalás": "7"
                                },
                                {
                                    "SZOBA_ID": "197",
                                    "FOGLALAS_PK": "764",
                                    "napok": "7",
                                    "Elöző foglalás": "7"
                                },
                                {
                                    "SZOBA_ID": "197",
                                    "FOGLALAS_PK": "1304",
                                    "napok": "7",
                                    "Elöző foglalás": "7"
                                },
                                {
                                    "SZOBA_ID": "197",
                                    "FOGLALAS_PK": "1387",
                                    "napok": "3",
                                    "Elöző foglalás": "7"
                                },
                                {
                                    "SZOBA_ID": "197",
                                    "FOGLALAS_PK": "1172",
                                    "napok": "7",
                                    "Elöző foglalás": "3"
                                },
                                {
                                    "SZOBA_ID": "198",
                                    "FOGLALAS_PK": "1138",
                                    "napok": "5",
                                    "Elöző foglalás": "7"
                                },
                                {
                                    "SZOBA_ID": "198",
                                    "FOGLALAS_PK": "1161",
                                    "napok": "5",
                                    "Elöző foglalás": "5"
                                },
                                {
                                    "SZOBA_ID": "198",
                                    "FOGLALAS_PK": "1216",
                                    "napok": "7",
                                    "Elöző foglalás": "5"
                                },
                                {
                                    "SZOBA_ID": "198",
                                    "FOGLALAS_PK": "1420",
                                    "napok": "5",
                                    "Elöző foglalás": "7"
                                },
                                {
                                    "SZOBA_ID": "198",
                                    "FOGLALAS_PK": "1011",
                                    "napok": "7",
                                    "Elöző foglalás": "5"
                                },
                                {
                                    "SZOBA_ID": "198",
                                    "FOGLALAS_PK": "1065",
                                    "napok": "3",
                                    "Elöző foglalás": "7"
                                },
                                {
                                    "SZOBA_ID": "198",
                                    "FOGLALAS_PK": "1116",
                                    "napok": "1",
                                    "Elöző foglalás": "3"
                                },
                                {
                                    "SZOBA_ID": "198",
                                    "FOGLALAS_PK": "978",
                                    "napok": "1",
                                    "Elöző foglalás": "1"
                                }
                            ]
                        },
                        "text/html": [
                            "<table>",
                            "<tr><th>SZOBA_ID</th><th>FOGLALAS_PK</th><th>napok</th><th>Elöző foglalás</th></tr>",
                            "<tr><td>1</td><td>620</td><td>5</td><td>0</td></tr>",
                            "<tr><td>1</td><td>738</td><td>7</td><td>5</td></tr>",
                            "<tr><td>1</td><td>803</td><td>4</td><td>7</td></tr>",
                            "<tr><td>1</td><td>949</td><td>1</td><td>4</td></tr>",
                            "<tr><td>1</td><td>1137</td><td>2</td><td>1</td></tr>",
                            "<tr><td>1</td><td>1152</td><td>1</td><td>2</td></tr>",
                            "<tr><td>1</td><td>1274</td><td>1</td><td>1</td></tr>",
                            "<tr><td>1</td><td>1334</td><td>4</td><td>1</td></tr>",
                            "<tr><td>2</td><td>1311</td><td>7</td><td>4</td></tr>",
                            "<tr><td>2</td><td>1051</td><td>1</td><td>7</td></tr>",
                            "<tr><td>2</td><td>1069</td><td>7</td><td>1</td></tr>",
                            "<tr><td>2</td><td>828</td><td>3</td><td>7</td></tr>",
                            "<tr><td>3</td><td>788</td><td>6</td><td>3</td></tr>",
                            "<tr><td>3</td><td>629</td><td>4</td><td>6</td></tr>",
                            "<tr><td>3</td><td>666</td><td>6</td><td>4</td></tr>",
                            "<tr><td>3</td><td>1110</td><td>7</td><td>6</td></tr>",
                            "<tr><td>3</td><td>1038</td><td>3</td><td>7</td></tr>",
                            "<tr><td>3</td><td>1151</td><td>1</td><td>3</td></tr>",
                            "<tr><td>3</td><td>1434</td><td>5</td><td>1</td></tr>",
                            "<tr><td>3</td><td>1544</td><td>5</td><td>5</td></tr>",
                            "<tr><td>4</td><td>1492</td><td>6</td><td>5</td></tr>",
                            "<tr><td>4</td><td>1132</td><td>6</td><td>6</td></tr>",
                            "<tr><td>4</td><td>1001</td><td>7</td><td>6</td></tr>",
                            "<tr><td>4</td><td>1127</td><td>3</td><td>7</td></tr>",
                            "<tr><td>4</td><td>946</td><td>5</td><td>3</td></tr>",
                            "<tr><td>4</td><td>651</td><td>7</td><td>5</td></tr>",
                            "<tr><td>5</td><td>564</td><td>2</td><td>7</td></tr>",
                            "<tr><td>5</td><td>965</td><td>7</td><td>2</td></tr>",
                            "<tr><td>5</td><td>1073</td><td>5</td><td>7</td></tr>",
                            "<tr><td>5</td><td>1257</td><td>3</td><td>5</td></tr>",
                            "<tr><td>6</td><td>1099</td><td>4</td><td>3</td></tr>",
                            "<tr><td>6</td><td>990</td><td>4</td><td>4</td></tr>",
                            "<tr><td>6</td><td>850</td><td>2</td><td>4</td></tr>",
                            "<tr><td>6</td><td>873</td><td>3</td><td>2</td></tr>",
                            "<tr><td>6</td><td>560</td><td>6</td><td>3</td></tr>",
                            "<tr><td>6</td><td>772</td><td>6</td><td>6</td></tr>",
                            "<tr><td>7</td><td>759</td><td>7</td><td>6</td></tr>",
                            "<tr><td>7</td><td>562</td><td>4</td><td>7</td></tr>",
                            "<tr><td>7</td><td>1252</td><td>2</td><td>4</td></tr>",
                            "<tr><td>7</td><td>1131</td><td>1</td><td>2</td></tr>",
                            "<tr><td>7</td><td>1175</td><td>4</td><td>1</td></tr>",
                            "<tr><td>7</td><td>1182</td><td>4</td><td>4</td></tr>",
                            "<tr><td>8</td><td>694</td><td>4</td><td>4</td></tr>",
                            "<tr><td>8</td><td>832</td><td>4</td><td>4</td></tr>",
                            "<tr><td>8</td><td>818</td><td>4</td><td>4</td></tr>",
                            "<tr><td>8</td><td>882</td><td>1</td><td>4</td></tr>",
                            "<tr><td>8</td><td>947</td><td>3</td><td>1</td></tr>",
                            "<tr><td>9</td><td>609</td><td>2</td><td>3</td></tr>",
                            "<tr><td>9</td><td>1157</td><td>6</td><td>2</td></tr>",
                            "<tr><td>9</td><td>1260</td><td>6</td><td>6</td></tr>",
                            "<tr><td>9</td><td>1220</td><td>3</td><td>6</td></tr>",
                            "<tr><td>9</td><td>1537</td><td>3</td><td>3</td></tr>",
                            "<tr><td>9</td><td>1423</td><td>3</td><td>3</td></tr>",
                            "<tr><td>10</td><td>1319</td><td>6</td><td>3</td></tr>",
                            "<tr><td>10</td><td>569</td><td>3</td><td>6</td></tr>",
                            "<tr><td>10</td><td>790</td><td>5</td><td>3</td></tr>",
                            "<tr><td>10</td><td>795</td><td>4</td><td>5</td></tr>",
                            "<tr><td>11</td><td>918</td><td>6</td><td>4</td></tr>",
                            "<tr><td>11</td><td>1123</td><td>5</td><td>6</td></tr>",
                            "<tr><td>11</td><td>1236</td><td>1</td><td>5</td></tr>",
                            "<tr><td>11</td><td>1523</td><td>1</td><td>1</td></tr>",
                            "<tr><td>12</td><td>1430</td><td>2</td><td>1</td></tr>",
                            "<tr><td>12</td><td>1140</td><td>3</td><td>2</td></tr>",
                            "<tr><td>12</td><td>1164</td><td>5</td><td>3</td></tr>",
                            "<tr><td>12</td><td>1020</td><td>5</td><td>5</td></tr>",
                            "<tr><td>12</td><td>951</td><td>3</td><td>5</td></tr>",
                            "<tr><td>12</td><td>970</td><td>2</td><td>3</td></tr>",
                            "<tr><td>12</td><td>876</td><td>7</td><td>2</td></tr>",
                            "<tr><td>12</td><td>775</td><td>4</td><td>7</td></tr>",
                            "<tr><td>12</td><td>697</td><td>2</td><td>4</td></tr>",
                            "<tr><td>13</td><td>763</td><td>4</td><td>2</td></tr>",
                            "<tr><td>13</td><td>1044</td><td>6</td><td>4</td></tr>",
                            "<tr><td>13</td><td>1347</td><td>3</td><td>6</td></tr>",
                            "<tr><td>13</td><td>1469</td><td>2</td><td>3</td></tr>",
                            "<tr><td>14</td><td>1542</td><td>4</td><td>2</td></tr>",
                            "<tr><td>14</td><td>813</td><td>3</td><td>4</td></tr>",
                            "<tr><td>14</td><td>663</td><td>1</td><td>3</td></tr>",
                            "<tr><td>15</td><td>791</td><td>5</td><td>1</td></tr>",
                            "<tr><td>15</td><td>1028</td><td>2</td><td>5</td></tr>",
                            "<tr><td>15</td><td>1442</td><td>3</td><td>2</td></tr>",
                            "<tr><td>15</td><td>1418</td><td>4</td><td>3</td></tr>",
                            "<tr><td>15</td><td>1129</td><td>4</td><td>4</td></tr>",
                            "<tr><td>15</td><td>1244</td><td>1</td><td>4</td></tr>",
                            "<tr><td>16</td><td>1498</td><td>7</td><td>1</td></tr>",
                            "<tr><td>16</td><td>896</td><td>1</td><td>7</td></tr>",
                            "<tr><td>16</td><td>856</td><td>6</td><td>1</td></tr>",
                            "<tr><td>16</td><td>973</td><td>1</td><td>6</td></tr>",
                            "<tr><td>16</td><td>687</td><td>3</td><td>1</td></tr>",
                            "<tr><td>17</td><td>602</td><td>6</td><td>3</td></tr>",
                            "<tr><td>17</td><td>744</td><td>1</td><td>6</td></tr>",
                            "<tr><td>17</td><td>713</td><td>6</td><td>1</td></tr>",
                            "<tr><td>17</td><td>916</td><td>2</td><td>6</td></tr>",
                            "<tr><td>17</td><td>1549</td><td>3</td><td>2</td></tr>",
                            "<tr><td>17</td><td>1316</td><td>5</td><td>3</td></tr>",
                            "<tr><td>18</td><td>1173</td><td>6</td><td>5</td></tr>",
                            "<tr><td>18</td><td>1198</td><td>4</td><td>6</td></tr>",
                            "<tr><td>18</td><td>1505</td><td>6</td><td>4</td></tr>",
                            "<tr><td>18</td><td>1035</td><td>6</td><td>6</td></tr>",
                            "<tr><td>18</td><td>767</td><td>3</td><td>6</td></tr>",
                            "<tr><td>18</td><td>626</td><td>3</td><td>3</td></tr>",
                            "<tr><td>19</td><td>696</td><td>1</td><td>3</td></tr>",
                            "<tr><td>19</td><td>778</td><td>1</td><td>1</td></tr>",
                            "<tr><td>19</td><td>948</td><td>2</td><td>1</td></tr>",
                            "<tr><td>19</td><td>1533</td><td>1</td><td>2</td></tr>",
                            "<tr><td>19</td><td>1139</td><td>7</td><td>1</td></tr>",
                            "<tr><td>19</td><td>1237</td><td>1</td><td>7</td></tr>",
                            "<tr><td>20</td><td>1114</td><td>5</td><td>1</td></tr>",
                            "<tr><td>20</td><td>1106</td><td>2</td><td>5</td></tr>",
                            "<tr><td>20</td><td>1070</td><td>1</td><td>2</td></tr>",
                            "<tr><td>20</td><td>820</td><td>1</td><td>1</td></tr>",
                            "<tr><td>20</td><td>755</td><td>6</td><td>1</td></tr>",
                            "<tr><td>21</td><td>805</td><td>1</td><td>6</td></tr>",
                            "<tr><td>21</td><td>660</td><td>5</td><td>1</td></tr>",
                            "<tr><td>21</td><td>566</td><td>6</td><td>5</td></tr>",
                            "<tr><td>21</td><td>1212</td><td>6</td><td>6</td></tr>",
                            "<tr><td>22</td><td>1206</td><td>7</td><td>6</td></tr>",
                            "<tr><td>22</td><td>1130</td><td>1</td><td>7</td></tr>",
                            "<tr><td>22</td><td>1195</td><td>6</td><td>1</td></tr>",
                            "<tr><td>22</td><td>1287</td><td>3</td><td>6</td></tr>",
                            "<tr><td>22</td><td>1005</td><td>3</td><td>3</td></tr>",
                            "<tr><td>22</td><td>906</td><td>1</td><td>3</td></tr>",
                            "<tr><td>23</td><td>848</td><td>1</td><td>1</td></tr>",
                            "<tr><td>23</td><td>945</td><td>7</td><td>1</td></tr>",
                            "<tr><td>23</td><td>934</td><td>1</td><td>7</td></tr>",
                            "<tr><td>24</td><td>852</td><td>2</td><td>1</td></tr>",
                            "<tr><td>24</td><td>1415</td><td>3</td><td>2</td></tr>",
                            "<tr><td>24</td><td>1167</td><td>1</td><td>3</td></tr>",
                            "<tr><td>25</td><td>1362</td><td>2</td><td>1</td></tr>",
                            "<tr><td>25</td><td>1052</td><td>3</td><td>2</td></tr>",
                            "<tr><td>26</td><td>1388</td><td>3</td><td>3</td></tr>",
                            "<tr><td>26</td><td>1158</td><td>2</td><td>3</td></tr>",
                            "<tr><td>27</td><td>1275</td><td>6</td><td>2</td></tr>",
                            "<tr><td>27</td><td>1377</td><td>1</td><td>6</td></tr>",
                            "<tr><td>27</td><td>1476</td><td>1</td><td>1</td></tr>",
                            "<tr><td>27</td><td>1031</td><td>2</td><td>1</td></tr>",
                            "<tr><td>27</td><td>1082</td><td>5</td><td>2</td></tr>",
                            "<tr><td>27</td><td>807</td><td>2</td><td>5</td></tr>",
                            "<tr><td>27</td><td>758</td><td>3</td><td>2</td></tr>",
                            "<tr><td>28</td><td>725</td><td>5</td><td>3</td></tr>",
                            "<tr><td>28</td><td>872</td><td>5</td><td>5</td></tr>",
                            "<tr><td>28</td><td>901</td><td>4</td><td>5</td></tr>",
                            "<tr><td>28</td><td>886</td><td>4</td><td>4</td></tr>",
                            "<tr><td>28</td><td>1459</td><td>2</td><td>4</td></tr>",
                            "<tr><td>28</td><td>1150</td><td>6</td><td>2</td></tr>",
                            "<tr><td>29</td><td>1185</td><td>5</td><td>6</td></tr>",
                            "<tr><td>29</td><td>1235</td><td>7</td><td>5</td></tr>",
                            "<tr><td>29</td><td>1568</td><td>7</td><td>7</td></tr>",
                            "<tr><td>29</td><td>894</td><td>1</td><td>7</td></tr>",
                            "<tr><td>29</td><td>1076</td><td>7</td><td>1</td></tr>",
                            "<tr><td>29</td><td>611</td><td>5</td><td>7</td></tr>",
                            "<tr><td>30</td><td>604</td><td>2</td><td>5</td></tr>",
                            "<tr><td>30</td><td>1023</td><td>7</td><td>2</td></tr>",
                            "<tr><td>30</td><td>1136</td><td>5</td><td>7</td></tr>",
                            "<tr><td>31</td><td>606</td><td>1</td><td>5</td></tr>",
                            "<tr><td>31</td><td>598</td><td>2</td><td>1</td></tr>",
                            "<tr><td>31</td><td>728</td><td>4</td><td>2</td></tr>",
                            "<tr><td>32</td><td>920</td><td>4</td><td>4</td></tr>",
                            "<tr><td>33</td><td>1053</td><td>1</td><td>4</td></tr>",
                            "<tr><td>33</td><td>1012</td><td>7</td><td>1</td></tr>",
                            "<tr><td>33</td><td>624</td><td>6</td><td>7</td></tr>",
                            "<tr><td>33</td><td>1381</td><td>6</td><td>6</td></tr>",
                            "<tr><td>33</td><td>1344</td><td>5</td><td>6</td></tr>",
                            "<tr><td>33</td><td>1321</td><td>4</td><td>5</td></tr>",
                            "<tr><td>34</td><td>777</td><td>3</td><td>4</td></tr>",
                            "<tr><td>34</td><td>821</td><td>1</td><td>3</td></tr>",
                            "<tr><td>34</td><td>904</td><td>2</td><td>1</td></tr>",
                            "<tr><td>34</td><td>870</td><td>6</td><td>2</td></tr>",
                            "<tr><td>35</td><td>971</td><td>3</td><td>6</td></tr>",
                            "<tr><td>35</td><td>979</td><td>7</td><td>3</td></tr>",
                            "<tr><td>35</td><td>829</td><td>2</td><td>7</td></tr>",
                            "<tr><td>35</td><td>707</td><td>2</td><td>2</td></tr>",
                            "<tr><td>35</td><td>686</td><td>6</td><td>2</td></tr>",
                            "<tr><td>35</td><td>1411</td><td>1</td><td>6</td></tr>",
                            "<tr><td>35</td><td>1480</td><td>37</td><td>1</td></tr>",
                            "<tr><td>35</td><td>1436</td><td>1</td><td>37</td></tr>",
                            "<tr><td>35</td><td>1529</td><td>4</td><td>1</td></tr>",
                            "<tr><td>36</td><td>748</td><td>2</td><td>4</td></tr>",
                            "<tr><td>36</td><td>750</td><td>6</td><td>2</td></tr>",
                            "<tr><td>36</td><td>985</td><td>6</td><td>6</td></tr>",
                            "<tr><td>36</td><td>919</td><td>1</td><td>6</td></tr>",
                            "<tr><td>36</td><td>895</td><td>5</td><td>1</td></tr>",
                            "<tr><td>36</td><td>1003</td><td>4</td><td>5</td></tr>",
                            "<tr><td>37</td><td>705</td><td>4</td><td>4</td></tr>",
                            "<tr><td>37</td><td>688</td><td>2</td><td>4</td></tr>",
                            "<tr><td>37</td><td>1335</td><td>7</td><td>2</td></tr>",
                            "<tr><td>38</td><td>1416</td><td>5</td><td>7</td></tr>",
                            "<tr><td>38</td><td>1351</td><td>4</td><td>5</td></tr>",
                            "<tr><td>38</td><td>1556</td><td>6</td><td>4</td></tr>",
                            "<tr><td>38</td><td>1478</td><td>4</td><td>6</td></tr>",
                            "<tr><td>38</td><td>627</td><td>6</td><td>4</td></tr>",
                            "<tr><td>38</td><td>1033</td><td>2</td><td>6</td></tr>",
                            "<tr><td>38</td><td>1078</td><td>7</td><td>2</td></tr>",
                            "<tr><td>38</td><td>1060</td><td>2</td><td>7</td></tr>",
                            "<tr><td>39</td><td>899</td><td>6</td><td>2</td></tr>",
                            "<tr><td>39</td><td>601</td><td>6</td><td>6</td></tr>",
                            "<tr><td>39</td><td>1435</td><td>7</td><td>6</td></tr>",
                            "<tr><td>39</td><td>1454</td><td>1</td><td>7</td></tr>",
                            "<tr><td>39</td><td>1538</td><td>2</td><td>1</td></tr>",
                            "<tr><td>39</td><td>1380</td><td>5</td><td>2</td></tr>",
                            "<tr><td>39</td><td>1214</td><td>5</td><td>5</td></tr>",
                            "<tr><td>40</td><td>924</td><td>5</td><td>5</td></tr>",
                            "<tr><td>40</td><td>932</td><td>6</td><td>5</td></tr>",
                            "<tr><td>40</td><td>1118</td><td>5</td><td>6</td></tr>",
                            "<tr><td>40</td><td>1018</td><td>5</td><td>5</td></tr>",
                            "<tr><td>41</td><td>960</td><td>6</td><td>5</td></tr>",
                            "<tr><td>41</td><td>1144</td><td>1</td><td>6</td></tr>",
                            "<tr><td>42</td><td>1309</td><td>2</td><td>1</td></tr>",
                            "<tr><td>42</td><td>1444</td><td>6</td><td>2</td></tr>",
                            "<tr><td>42</td><td>851</td><td>7</td><td>6</td></tr>",
                            "<tr><td>42</td><td>561</td><td>4</td><td>7</td></tr>",
                            "<tr><td>42</td><td>590</td><td>5</td><td>4</td></tr>",
                            "<tr><td>42</td><td>770</td><td>3</td><td>5</td></tr>",
                            "<tr><td>43</td><td>670</td><td>4</td><td>3</td></tr>",
                            "<tr><td>43</td><td>1019</td><td>4</td><td>4</td></tr>",
                            "<tr><td>43</td><td>1088</td><td>2</td><td>4</td></tr>",
                            "<tr><td>43</td><td>1553</td><td>5</td><td>2</td></tr>",
                            "<tr><td>43</td><td>1524</td><td>1</td><td>5</td></tr>",
                            "<tr><td>43</td><td>1207</td><td>1</td><td>1</td></tr>",
                            "<tr><td>43</td><td>1227</td><td>5</td><td>1</td></tr>",
                            "<tr><td>43</td><td>1270</td><td>4</td><td>5</td></tr>",
                            "<tr><td>44</td><td>1295</td><td>2</td><td>4</td></tr>",
                            "<tr><td>44</td><td>1552</td><td>2</td><td>2</td></tr>",
                            "<tr><td>44</td><td>1425</td><td>2</td><td>2</td></tr>",
                            "<tr><td>44</td><td>658</td><td>6</td><td>2</td></tr>",
                            "<tr><td>44</td><td>589</td><td>2</td><td>6</td></tr>",
                            "<tr><td>44</td><td>823</td><td>2</td><td>2</td></tr>",
                            "<tr><td>45</td><td>802</td><td>7</td><td>2</td></tr>",
                            "<tr><td>45</td><td>800</td><td>5</td><td>7</td></tr>",
                            "<tr><td>45</td><td>846</td><td>3</td><td>5</td></tr>",
                            "<tr><td>45</td><td>1303</td><td>2</td><td>3</td></tr>",
                            "<tr><td>45</td><td>1135</td><td>3</td><td>2</td></tr>",
                            "<tr><td>46</td><td>1187</td><td>7</td><td>3</td></tr>",
                            "<tr><td>46</td><td>1291</td><td>3</td><td>7</td></tr>",
                            "<tr><td>46</td><td>1515</td><td>4</td><td>3</td></tr>",
                            "<tr><td>46</td><td>752</td><td>5</td><td>4</td></tr>",
                            "<tr><td>47</td><td>955</td><td>1</td><td>5</td></tr>",
                            "<tr><td>47</td><td>1056</td><td>7</td><td>1</td></tr>",
                            "<tr><td>48</td><td>986</td><td>5</td><td>7</td></tr>",
                            "<tr><td>48</td><td>914</td><td>5</td><td>5</td></tr>",
                            "<tr><td>48</td><td>824</td><td>2</td><td>5</td></tr>",
                            "<tr><td>48</td><td>603</td><td>3</td><td>2</td></tr>",
                            "<tr><td>48</td><td>628</td><td>2</td><td>3</td></tr>",
                            "<tr><td>48</td><td>1546</td><td>3</td><td>2</td></tr>",
                            "<tr><td>48</td><td>1547</td><td>1</td><td>3</td></tr>",
                            "<tr><td>48</td><td>1581</td><td>5</td><td>1</td></tr>",
                            "<tr><td>48</td><td>1243</td><td>6</td><td>5</td></tr>",
                            "<tr><td>49</td><td>1221</td><td>2</td><td>6</td></tr>",
                            "<tr><td>49</td><td>1200</td><td>7</td><td>2</td></tr>",
                            "<tr><td>49</td><td>1536</td><td>6</td><td>7</td></tr>",
                            "<tr><td>49</td><td>826</td><td>4</td><td>6</td></tr>",
                            "<tr><td>49</td><td>793</td><td>6</td><td>4</td></tr>",
                            "<tr><td>49</td><td>888</td><td>7</td><td>6</td></tr>",
                            "<tr><td>49</td><td>1066</td><td>7</td><td>7</td></tr>",
                            "<tr><td>50</td><td>1063</td><td>2</td><td>7</td></tr>",
                            "<tr><td>50</td><td>787</td><td>3</td><td>2</td></tr>",
                            "<tr><td>50</td><td>1224</td><td>1</td><td>3</td></tr>",
                            "<tr><td>50</td><td>1272</td><td>1</td><td>1</td></tr>",
                            "<tr><td>51</td><td>1165</td><td>5</td><td>1</td></tr>",
                            "<tr><td>51</td><td>1550</td><td>1</td><td>5</td></tr>",
                            "<tr><td>51</td><td>1477</td><td>6</td><td>1</td></tr>",
                            "<tr><td>51</td><td>811</td><td>2</td><td>6</td></tr>",
                            "<tr><td>51</td><td>865</td><td>7</td><td>2</td></tr>",
                            "<tr><td>52</td><td>822</td><td>7</td><td>7</td></tr>",
                            "<tr><td>52</td><td>1431</td><td>5</td><td>7</td></tr>",
                            "<tr><td>52</td><td>1534</td><td>5</td><td>5</td></tr>",
                            "<tr><td>52</td><td>1258</td><td>5</td><td>5</td></tr>",
                            "<tr><td>52</td><td>1202</td><td>2</td><td>5</td></tr>",
                            "<tr><td>53</td><td>855</td><td>1</td><td>2</td></tr>",
                            "<tr><td>53</td><td>987</td><td>4</td><td>1</td></tr>",
                            "<tr><td>54</td><td>889</td><td>2</td><td>4</td></tr>",
                            "<tr><td>54</td><td>1096</td><td>4</td><td>2</td></tr>",
                            "<tr><td>54</td><td>622</td><td>7</td><td>4</td></tr>",
                            "<tr><td>54</td><td>642</td><td>5</td><td>7</td></tr>",
                            "<tr><td>54</td><td>668</td><td>1</td><td>5</td></tr>",
                            "<tr><td>54</td><td>1328</td><td>4</td><td>1</td></tr>",
                            "<tr><td>55</td><td>1327</td><td>6</td><td>4</td></tr>",
                            "<tr><td>55</td><td>1386</td><td>2</td><td>6</td></tr>",
                            "<tr><td>55</td><td>1232</td><td>7</td><td>2</td></tr>",
                            "<tr><td>55</td><td>1163</td><td>2</td><td>7</td></tr>",
                            "<tr><td>55</td><td>1512</td><td>1</td><td>2</td></tr>",
                            "<tr><td>55</td><td>1520</td><td>1</td><td>1</td></tr>",
                            "<tr><td>55</td><td>734</td><td>6</td><td>1</td></tr>",
                            "<tr><td>55</td><td>1086</td><td>5</td><td>6</td></tr>",
                            "<tr><td>56</td><td>935</td><td>4</td><td>5</td></tr>",
                            "<tr><td>56</td><td>838</td><td>2</td><td>4</td></tr>",
                            "<tr><td>57</td><td>1504</td><td>4</td><td>2</td></tr>",
                            "<tr><td>57</td><td>1466</td><td>7</td><td>4</td></tr>",
                            "<tr><td>57</td><td>1389</td><td>1</td><td>7</td></tr>",
                            "<tr><td>57</td><td>1348</td><td>1</td><td>1</td></tr>",
                            "<tr><td>58</td><td>1322</td><td>3</td><td>1</td></tr>",
                            "<tr><td>58</td><td>1293</td><td>3</td><td>3</td></tr>",
                            "<tr><td>58</td><td>1285</td><td>7</td><td>3</td></tr>",
                            "<tr><td>58</td><td>1307</td><td>6</td><td>7</td></tr>",
                            "<tr><td>58</td><td>1186</td><td>6</td><td>6</td></tr>",
                            "<tr><td>58</td><td>1208</td><td>6</td><td>6</td></tr>",
                            "<tr><td>58</td><td>1255</td><td>7</td><td>6</td></tr>",
                            "<tr><td>58</td><td>1261</td><td>6</td><td>7</td></tr>",
                            "<tr><td>58</td><td>1451</td><td>6</td><td>6</td></tr>",
                            "<tr><td>58</td><td>719</td><td>3</td><td>6</td></tr>",
                            "<tr><td>58</td><td>773</td><td>2</td><td>3</td></tr>",
                            "<tr><td>58</td><td>883</td><td>5</td><td>2</td></tr>",
                            "<tr><td>58</td><td>1113</td><td>3</td><td>5</td></tr>",
                            "<tr><td>59</td><td>1084</td><td>2</td><td>3</td></tr>",
                            "<tr><td>59</td><td>1080</td><td>1</td><td>2</td></tr>",
                            "<tr><td>59</td><td>1573</td><td>1</td><td>1</td></tr>",
                            "<tr><td>59</td><td>1239</td><td>2</td><td>1</td></tr>",
                            "<tr><td>59</td><td>1191</td><td>6</td><td>2</td></tr>",
                            "<tr><td>59</td><td>1170</td><td>5</td><td>6</td></tr>",
                            "<tr><td>59</td><td>1288</td><td>3</td><td>5</td></tr>",
                            "<tr><td>60</td><td>676</td><td>2</td><td>3</td></tr>",
                            "<tr><td>61</td><td>756</td><td>6</td><td>2</td></tr>",
                            "<tr><td>61</td><td>701</td><td>2</td><td>6</td></tr>",
                            "<tr><td>61</td><td>1148</td><td>3</td><td>2</td></tr>",
                            "<tr><td>61</td><td>1218</td><td>2</td><td>3</td></tr>",
                            "<tr><td>61</td><td>1496</td><td>7</td><td>2</td></tr>",
                            "<tr><td>62</td><td>1426</td><td>4</td><td>7</td></tr>",
                            "<tr><td>62</td><td>702</td><td>5</td><td>4</td></tr>",
                            "<tr><td>62</td><td>1081</td><td>7</td><td>5</td></tr>",
                            "<tr><td>62</td><td>936</td><td>3</td><td>7</td></tr>",
                            "<tr><td>62</td><td>938</td><td>1</td><td>3</td></tr>",
                            "<tr><td>63</td><td>891</td><td>6</td><td>1</td></tr>",
                            "<tr><td>63</td><td>845</td><td>1</td><td>6</td></tr>",
                            "<tr><td>63</td><td>769</td><td>5</td><td>1</td></tr>",
                            "<tr><td>63</td><td>625</td><td>3</td><td>5</td></tr>",
                            "<tr><td>64</td><td>875</td><td>2</td><td>3</td></tr>",
                            "<tr><td>64</td><td>1122</td><td>4</td><td>2</td></tr>",
                            "<tr><td>64</td><td>1446</td><td>6</td><td>4</td></tr>",
                            "<tr><td>64</td><td>1465</td><td>4</td><td>6</td></tr>",
                            "<tr><td>64</td><td>1582</td><td>1</td><td>4</td></tr>",
                            "<tr><td>64</td><td>1233</td><td>7</td><td>1</td></tr>",
                            "<tr><td>65</td><td>650</td><td>6</td><td>7</td></tr>",
                            "<tr><td>66</td><td>736</td><td>3</td><td>6</td></tr>",
                            "<tr><td>66</td><td>950</td><td>3</td><td>3</td></tr>",
                            "<tr><td>66</td><td>1234</td><td>3</td><td>3</td></tr>",
                            "<tr><td>66</td><td>1264</td><td>4</td><td>3</td></tr>",
                            "<tr><td>67</td><td>1382</td><td>1</td><td>4</td></tr>",
                            "<tr><td>67</td><td>1584</td><td>1</td><td>1</td></tr>",
                            "<tr><td>67</td><td>1580</td><td>5</td><td>1</td></tr>",
                            "<tr><td>67</td><td>874</td><td>6</td><td>5</td></tr>",
                            "<tr><td>67</td><td>638</td><td>5</td><td>6</td></tr>",
                            "<tr><td>67</td><td>645</td><td>6</td><td>5</td></tr>",
                            "<tr><td>68</td><td>563</td><td>5</td><td>6</td></tr>",
                            "<tr><td>68</td><td>1027</td><td>7</td><td>5</td></tr>",
                            "<tr><td>68</td><td>1324</td><td>4</td><td>7</td></tr>",
                            "<tr><td>69</td><td>1246</td><td>7</td><td>4</td></tr>",
                            "<tr><td>69</td><td>1225</td><td>5</td><td>7</td></tr>",
                            "<tr><td>69</td><td>1055</td><td>5</td><td>5</td></tr>",
                            "<tr><td>69</td><td>885</td><td>1</td><td>5</td></tr>",
                            "<tr><td>70</td><td>860</td><td>2</td><td>1</td></tr>",
                            "<tr><td>70</td><td>1006</td><td>3</td><td>2</td></tr>",
                            "<tr><td>70</td><td>1126</td><td>3</td><td>3</td></tr>",
                            "<tr><td>70</td><td>1092</td><td>3</td><td>3</td></tr>",
                            "<tr><td>70</td><td>585</td><td>5</td><td>3</td></tr>",
                            "<tr><td>70</td><td>704</td><td>3</td><td>5</td></tr>",
                            "<tr><td>70</td><td>814</td><td>3</td><td>3</td></tr>",
                            "<tr><td>70</td><td>1325</td><td>7</td><td>3</td></tr>",
                            "<tr><td>70</td><td>1333</td><td>6</td><td>7</td></tr>",
                            "<tr><td>70</td><td>1365</td><td>3</td><td>6</td></tr>",
                            "<tr><td>70</td><td>1457</td><td>7</td><td>3</td></tr>",
                            "<tr><td>71</td><td>712</td><td>1</td><td>7</td></tr>",
                            "<tr><td>71</td><td>681</td><td>3</td><td>1</td></tr>",
                            "<tr><td>71</td><td>1009</td><td>1</td><td>3</td></tr>",
                            "<tr><td>72</td><td>902</td><td>5</td><td>1</td></tr>",
                            "<tr><td>72</td><td>961</td><td>6</td><td>5</td></tr>",
                            "<tr><td>72</td><td>1396</td><td>3</td><td>6</td></tr>",
                            "<tr><td>72</td><td>1318</td><td>2</td><td>3</td></tr>",
                            "<tr><td>73</td><td>1331</td><td>4</td><td>2</td></tr>",
                            "<tr><td>73</td><td>1159</td><td>5</td><td>4</td></tr>",
                            "<tr><td>73</td><td>1000</td><td>4</td><td>5</td></tr>",
                            "<tr><td>73</td><td>714</td><td>7</td><td>4</td></tr>",
                            "<tr><td>74</td><td>830</td><td>1</td><td>7</td></tr>",
                            "<tr><td>74</td><td>797</td><td>5</td><td>1</td></tr>",
                            "<tr><td>74</td><td>595</td><td>7</td><td>5</td></tr>",
                            "<tr><td>74</td><td>1093</td><td>6</td><td>7</td></tr>",
                            "<tr><td>74</td><td>963</td><td>1</td><td>6</td></tr>",
                            "<tr><td>74</td><td>940</td><td>5</td><td>1</td></tr>",
                            "<tr><td>74</td><td>877</td><td>4</td><td>5</td></tr>",
                            "<tr><td>74</td><td>847</td><td>3</td><td>4</td></tr>",
                            "<tr><td>74</td><td>1179</td><td>7</td><td>3</td></tr>",
                            "<tr><td>75</td><td>1412</td><td>2</td><td>7</td></tr>",
                            "<tr><td>75</td><td>1458</td><td>1</td><td>2</td></tr>",
                            "<tr><td>75</td><td>1013</td><td>5</td><td>1</td></tr>",
                            "<tr><td>76</td><td>976</td><td>2</td><td>5</td></tr>",
                            "<tr><td>76</td><td>683</td><td>7</td><td>2</td></tr>",
                            "<tr><td>76</td><td>1557</td><td>3</td><td>7</td></tr>",
                            "<tr><td>77</td><td>1461</td><td>4</td><td>3</td></tr>",
                            "<tr><td>77</td><td>1439</td><td>6</td><td>4</td></tr>",
                            "<tr><td>77</td><td>698</td><td>4</td><td>6</td></tr>",
                            "<tr><td>77</td><td>593</td><td>3</td><td>4</td></tr>",
                            "<tr><td>77</td><td>982</td><td>3</td><td>3</td></tr>",
                            "<tr><td>77</td><td>1104</td><td>1</td><td>3</td></tr>",
                            "<tr><td>78</td><td>568</td><td>1</td><td>1</td></tr>",
                            "<tr><td>78</td><td>700</td><td>5</td><td>1</td></tr>",
                            "<tr><td>78</td><td>646</td><td>3</td><td>5</td></tr>",
                            "<tr><td>78</td><td>1577</td><td>7</td><td>3</td></tr>",
                            "<tr><td>78</td><td>1281</td><td>3</td><td>7</td></tr>",
                            "<tr><td>78</td><td>1268</td><td>2</td><td>3</td></tr>",
                            "<tr><td>79</td><td>1229</td><td>7</td><td>2</td></tr>",
                            "<tr><td>79</td><td>1345</td><td>3</td><td>7</td></tr>",
                            "<tr><td>79</td><td>1447</td><td>4</td><td>3</td></tr>",
                            "<tr><td>79</td><td>583</td><td>6</td><td>4</td></tr>",
                            "<tr><td>79</td><td>1054</td><td>1</td><td>6</td></tr>",
                            "<tr><td>80</td><td>983</td><td>6</td><td>1</td></tr>",
                            "<tr><td>80</td><td>1071</td><td>4</td><td>6</td></tr>",
                            "<tr><td>80</td><td>929</td><td>2</td><td>4</td></tr>",
                            "<tr><td>80</td><td>887</td><td>6</td><td>2</td></tr>",
                            "<tr><td>80</td><td>667</td><td>6</td><td>6</td></tr>",
                            "<tr><td>80</td><td>1367</td><td>3</td><td>6</td></tr>",
                            "<tr><td>80</td><td>1279</td><td>5</td><td>3</td></tr>",
                            "<tr><td>81</td><td>1366</td><td>5</td><td>5</td></tr>",
                            "<tr><td>81</td><td>1443</td><td>7</td><td>5</td></tr>",
                            "<tr><td>81</td><td>1464</td><td>7</td><td>7</td></tr>",
                            "<tr><td>81</td><td>1562</td><td>3</td><td>7</td></tr>",
                            "<tr><td>81</td><td>1506</td><td>3</td><td>3</td></tr>",
                            "<tr><td>82</td><td>1406</td><td>1</td><td>3</td></tr>",
                            "<tr><td>82</td><td>1277</td><td>5</td><td>1</td></tr>",
                            "<tr><td>82</td><td>1341</td><td>2</td><td>5</td></tr>",
                            "<tr><td>82</td><td>862</td><td>4</td><td>2</td></tr>",
                            "<tr><td>82</td><td>871</td><td>5</td><td>4</td></tr>",
                            "<tr><td>82</td><td>997</td><td>6</td><td>5</td></tr>",
                            "<tr><td>83</td><td>995</td><td>5</td><td>6</td></tr>",
                            "<tr><td>83</td><td>1119</td><td>6</td><td>5</td></tr>",
                            "<tr><td>83</td><td>869</td><td>6</td><td>6</td></tr>",
                            "<tr><td>83</td><td>878</td><td>6</td><td>6</td></tr>",
                            "<tr><td>83</td><td>674</td><td>4</td><td>6</td></tr>",
                            "<tr><td>83</td><td>572</td><td>7</td><td>4</td></tr>",
                            "<tr><td>83</td><td>798</td><td>4</td><td>7</td></tr>",
                            "<tr><td>83</td><td>1379</td><td>7</td><td>4</td></tr>",
                            "<tr><td>84</td><td>1376</td><td>5</td><td>7</td></tr>",
                            "<tr><td>84</td><td>1384</td><td>7</td><td>5</td></tr>",
                            "<tr><td>84</td><td>819</td><td>2</td><td>7</td></tr>",
                            "<tr><td>84</td><td>954</td><td>5</td><td>2</td></tr>",
                            "<tr><td>85</td><td>1059</td><td>3</td><td>5</td></tr>",
                            "<tr><td>85</td><td>647</td><td>3</td><td>3</td></tr>",
                            "<tr><td>85</td><td>1320</td><td>1</td><td>3</td></tr>",
                            "<tr><td>85</td><td>1513</td><td>7</td><td>1</td></tr>",
                            "<tr><td>86</td><td>1453</td><td>1</td><td>7</td></tr>",
                            "<tr><td>86</td><td>1079</td><td>4</td><td>1</td></tr>",
                            "<tr><td>86</td><td>1108</td><td>1</td><td>4</td></tr>",
                            "<tr><td>86</td><td>1057</td><td>5</td><td>1</td></tr>",
                            "<tr><td>86</td><td>859</td><td>1</td><td>5</td></tr>",
                            "<tr><td>87</td><td>844</td><td>1</td><td>1</td></tr>",
                            "<tr><td>87</td><td>1103</td><td>3</td><td>1</td></tr>",
                            "<tr><td>87</td><td>558</td><td>4</td><td>3</td></tr>",
                            "<tr><td>87</td><td>1456</td><td>5</td><td>4</td></tr>",
                            "<tr><td>87</td><td>1349</td><td>5</td><td>5</td></tr>",
                            "<tr><td>88</td><td>1300</td><td>3</td><td>5</td></tr>",
                            "<tr><td>88</td><td>1359</td><td>2</td><td>3</td></tr>",
                            "<tr><td>88</td><td>1273</td><td>7</td><td>2</td></tr>",
                            "<tr><td>88</td><td>1196</td><td>3</td><td>7</td></tr>",
                            "<tr><td>88</td><td>1548</td><td>7</td><td>3</td></tr>",
                            "<tr><td>88</td><td>1575</td><td>6</td><td>7</td></tr>",
                            "<tr><td>88</td><td>757</td><td>7</td><td>6</td></tr>",
                            "<tr><td>88</td><td>866</td><td>2</td><td>7</td></tr>",
                            "<tr><td>89</td><td>1101</td><td>5</td><td>2</td></tr>",
                            "<tr><td>89</td><td>1037</td><td>7</td><td>5</td></tr>",
                            "<tr><td>89</td><td>817</td><td>3</td><td>7</td></tr>",
                            "<tr><td>89</td><td>1521</td><td>7</td><td>3</td></tr>",
                            "<tr><td>89</td><td>1189</td><td>6</td><td>7</td></tr>",
                            "<tr><td>89</td><td>1269</td><td>2</td><td>6</td></tr>",
                            "<tr><td>89</td><td>1253</td><td>2</td><td>2</td></tr>",
                            "<tr><td>89</td><td>1399</td><td>2</td><td>2</td></tr>",
                            "<tr><td>90</td><td>1405</td><td>5</td><td>2</td></tr>",
                            "<tr><td>90</td><td>1299</td><td>6</td><td>5</td></tr>",
                            "<tr><td>90</td><td>1174</td><td>7</td><td>6</td></tr>",
                            "<tr><td>90</td><td>729</td><td>2</td><td>7</td></tr>",
                            "<tr><td>91</td><td>732</td><td>4</td><td>2</td></tr>",
                            "<tr><td>91</td><td>636</td><td>6</td><td>4</td></tr>",
                            "<tr><td>91</td><td>1213</td><td>3</td><td>6</td></tr>",
                            "<tr><td>91</td><td>1397</td><td>4</td><td>3</td></tr>",
                            "<tr><td>92</td><td>1555</td><td>4</td><td>4</td></tr>",
                            "<tr><td>92</td><td>1527</td><td>2</td><td>4</td></tr>",
                            "<tr><td>92</td><td>809</td><td>3</td><td>2</td></tr>",
                            "<tr><td>92</td><td>841</td><td>6</td><td>3</td></tr>",
                            "<tr><td>92</td><td>1016</td><td>2</td><td>6</td></tr>",
                            "<tr><td>92</td><td>942</td><td>6</td><td>2</td></tr>",
                            "<tr><td>93</td><td>741</td><td>7</td><td>6</td></tr>",
                            "<tr><td>93</td><td>1391</td><td>4</td><td>7</td></tr>",
                            "<tr><td>93</td><td>1355</td><td>2</td><td>4</td></tr>",
                            "<tr><td>93</td><td>1217</td><td>1</td><td>2</td></tr>",
                            "<tr><td>93</td><td>1169</td><td>4</td><td>1</td></tr>",
                            "<tr><td>94</td><td>1241</td><td>7</td><td>4</td></tr>",
                            "<tr><td>94</td><td>1368</td><td>1</td><td>7</td></tr>",
                            "<tr><td>94</td><td>1305</td><td>2</td><td>1</td></tr>",
                            "<tr><td>94</td><td>1312</td><td>3</td><td>2</td></tr>",
                            "<tr><td>94</td><td>1518</td><td>2</td><td>3</td></tr>",
                            "<tr><td>94</td><td>1564</td><td>7</td><td>2</td></tr>",
                            "<tr><td>94</td><td>727</td><td>3</td><td>7</td></tr>",
                            "<tr><td>94</td><td>665</td><td>7</td><td>3</td></tr>",
                            "<tr><td>94</td><td>616</td><td>4</td><td>7</td></tr>",
                            "<tr><td>94</td><td>975</td><td>5</td><td>4</td></tr>",
                            "<tr><td>95</td><td>1048</td><td>3</td><td>5</td></tr>",
                            "<tr><td>95</td><td>1097</td><td>4</td><td>3</td></tr>",
                            "<tr><td>95</td><td>656</td><td>7</td><td>4</td></tr>",
                            "<tr><td>95</td><td>1543</td><td>7</td><td>7</td></tr>",
                            "<tr><td>96</td><td>1438</td><td>2</td><td>7</td></tr>",
                            "<tr><td>96</td><td>1569</td><td>7</td><td>2</td></tr>",
                            "<tr><td>96</td><td>1378</td><td>3</td><td>7</td></tr>",
                            "<tr><td>96</td><td>671</td><td>4</td><td>3</td></tr>",
                            "<tr><td>96</td><td>623</td><td>7</td><td>4</td></tr>",
                            "<tr><td>96</td><td>607</td><td>4</td><td>7</td></tr>",
                            "<tr><td>96</td><td>780</td><td>1</td><td>4</td></tr>",
                            "<tr><td>97</td><td>836</td><td>2</td><td>1</td></tr>",
                            "<tr><td>97</td><td>726</td><td>4</td><td>2</td></tr>",
                            "<tr><td>97</td><td>718</td><td>7</td><td>4</td></tr>",
                            "<tr><td>97</td><td>635</td><td>3</td><td>7</td></tr>",
                            "<tr><td>97</td><td>1395</td><td>1</td><td>3</td></tr>",
                            "<tr><td>97</td><td>1417</td><td>7</td><td>1</td></tr>",
                            "<tr><td>97</td><td>1528</td><td>2</td><td>7</td></tr>",
                            "<tr><td>98</td><td>1402</td><td>2</td><td>2</td></tr>",
                            "<tr><td>98</td><td>631</td><td>6</td><td>2</td></tr>",
                            "<tr><td>98</td><td>1050</td><td>6</td><td>6</td></tr>",
                            "<tr><td>98</td><td>884</td><td>5</td><td>6</td></tr>",
                            "<tr><td>99</td><td>1072</td><td>1</td><td>5</td></tr>",
                            "<tr><td>99</td><td>632</td><td>1</td><td>1</td></tr>",
                            "<tr><td>99</td><td>691</td><td>5</td><td>1</td></tr>",
                            "<tr><td>99</td><td>1408</td><td>1</td><td>5</td></tr>",
                            "<tr><td>99</td><td>1486</td><td>5</td><td>1</td></tr>",
                            "<tr><td>100</td><td>1482</td><td>7</td><td>5</td></tr>",
                            "<tr><td>100</td><td>1315</td><td>5</td><td>7</td></tr>",
                            "<tr><td>100</td><td>637</td><td>5</td><td>5</td></tr>",
                            "<tr><td>100</td><td>597</td><td>1</td><td>5</td></tr>",
                            "<tr><td>101</td><td>715</td><td>3</td><td>1</td></tr>",
                            "<tr><td>101</td><td>1332</td><td>6</td><td>3</td></tr>",
                            "<tr><td>101</td><td>1516</td><td>4</td><td>6</td></tr>",
                            "<tr><td>102</td><td>1343</td><td>2</td><td>4</td></tr>",
                            "<tr><td>102</td><td>689</td><td>5</td><td>2</td></tr>",
                            "<tr><td>103</td><td>992</td><td>7</td><td>5</td></tr>",
                            "<tr><td>103</td><td>972</td><td>2</td><td>7</td></tr>",
                            "<tr><td>103</td><td>1398</td><td>1</td><td>2</td></tr>",
                            "<tr><td>103</td><td>1485</td><td>4</td><td>1</td></tr>",
                            "<tr><td>104</td><td>1522</td><td>2</td><td>4</td></tr>",
                            "<tr><td>104</td><td>1532</td><td>3</td><td>2</td></tr>",
                            "<tr><td>104</td><td>1180</td><td>1</td><td>3</td></tr>",
                            "<tr><td>104</td><td>837</td><td>4</td><td>1</td></tr>",
                            "<tr><td>105</td><td>618</td><td>1</td><td>4</td></tr>",
                            "<tr><td>105</td><td>1525</td><td>5</td><td>1</td></tr>",
                            "<tr><td>106</td><td>1510</td><td>6</td><td>5</td></tr>",
                            "<tr><td>106</td><td>1271</td><td>5</td><td>6</td></tr>",
                            "<tr><td>106</td><td>1228</td><td>7</td><td>5</td></tr>",
                            "<tr><td>106</td><td>1372</td><td>7</td><td>7</td></tr>",
                            "<tr><td>106</td><td>610</td><td>3</td><td>7</td></tr>",
                            "<tr><td>106</td><td>708</td><td>7</td><td>3</td></tr>",
                            "<tr><td>107</td><td>586</td><td>6</td><td>7</td></tr>",
                            "<tr><td>107</td><td>1354</td><td>1</td><td>6</td></tr>",
                            "<tr><td>107</td><td>1250</td><td>4</td><td>1</td></tr>",
                            "<tr><td>107</td><td>1494</td><td>2</td><td>4</td></tr>",
                            "<tr><td>107</td><td>1452</td><td>6</td><td>2</td></tr>",
                            "<tr><td>108</td><td>1392</td><td>6</td><td>6</td></tr>",
                            "<tr><td>108</td><td>1102</td><td>1</td><td>6</td></tr>",
                            "<tr><td>109</td><td>1083</td><td>1</td><td>1</td></tr>",
                            "<tr><td>109</td><td>621</td><td>7</td><td>1</td></tr>",
                            "<tr><td>109</td><td>614</td><td>4</td><td>7</td></tr>",
                            "<tr><td>109</td><td>654</td><td>5</td><td>4</td></tr>",
                            "<tr><td>109</td><td>810</td><td>2</td><td>5</td></tr>",
                            "<tr><td>109</td><td>1298</td><td>4</td><td>2</td></tr>",
                            "<tr><td>109</td><td>1560</td><td>1</td><td>4</td></tr>",
                            "<tr><td>110</td><td>1424</td><td>1</td><td>1</td></tr>",
                            "<tr><td>110</td><td>1489</td><td>6</td><td>1</td></tr>",
                            "<tr><td>110</td><td>1162</td><td>2</td><td>6</td></tr>",
                            "<tr><td>110</td><td>685</td><td>1</td><td>2</td></tr>",
                            "<tr><td>110</td><td>1109</td><td>5</td><td>1</td></tr>",
                            "<tr><td>110</td><td>1041</td><td>3</td><td>5</td></tr>",
                            "<tr><td>110</td><td>964</td><td>6</td><td>3</td></tr>",
                            "<tr><td>110</td><td>931</td><td>5</td><td>6</td></tr>",
                            "<tr><td>111</td><td>959</td><td>7</td><td>5</td></tr>",
                            "<tr><td>111</td><td>605</td><td>7</td><td>7</td></tr>",
                            "<tr><td>111</td><td>786</td><td>4</td><td>7</td></tr>",
                            "<tr><td>111</td><td>1296</td><td>3</td><td>4</td></tr>",
                            "<tr><td>111</td><td>1353</td><td>5</td><td>3</td></tr>",
                            "<tr><td>112</td><td>1530</td><td>6</td><td>5</td></tr>",
                            "<tr><td>112</td><td>776</td><td>4</td><td>6</td></tr>",
                            "<tr><td>112</td><td>801</td><td>5</td><td>4</td></tr>",
                            "<tr><td>112</td><td>921</td><td>1</td><td>5</td></tr>",
                            "<tr><td>112</td><td>1124</td><td>6</td><td>1</td></tr>",
                            "<tr><td>113</td><td>1085</td><td>4</td><td>6</td></tr>",
                            "<tr><td>113</td><td>1029</td><td>5</td><td>4</td></tr>",
                            "<tr><td>113</td><td>1495</td><td>7</td><td>5</td></tr>",
                            "<tr><td>113</td><td>1499</td><td>2</td><td>7</td></tr>",
                            "<tr><td>113</td><td>1263</td><td>1</td><td>2</td></tr>",
                            "<tr><td>114</td><td>1540</td><td>3</td><td>1</td></tr>",
                            "<tr><td>114</td><td>966</td><td>6</td><td>3</td></tr>",
                            "<tr><td>114</td><td>827</td><td>7</td><td>6</td></tr>",
                            "<tr><td>114</td><td>737</td><td>2</td><td>7</td></tr>",
                            "<tr><td>115</td><td>596</td><td>7</td><td>2</td></tr>",
                            "<tr><td>115</td><td>943</td><td>7</td><td>7</td></tr>",
                            "<tr><td>115</td><td>1121</td><td>7</td><td>7</td></tr>",
                            "<tr><td>115</td><td>1554</td><td>3</td><td>7</td></tr>",
                            "<tr><td>115</td><td>1566</td><td>1</td><td>3</td></tr>",
                            "<tr><td>115</td><td>1154</td><td>4</td><td>1</td></tr>",
                            "<tr><td>115</td><td>1352</td><td>3</td><td>4</td></tr>",
                            "<tr><td>116</td><td>1501</td><td>4</td><td>3</td></tr>",
                            "<tr><td>116</td><td>1455</td><td>2</td><td>4</td></tr>",
                            "<tr><td>117</td><td>1468</td><td>7</td><td>2</td></tr>",
                            "<tr><td>117</td><td>1192</td><td>2</td><td>7</td></tr>",
                            "<tr><td>117</td><td>1247</td><td>3</td><td>2</td></tr>",
                            "<tr><td>117</td><td>1002</td><td>1</td><td>3</td></tr>",
                            "<tr><td>117</td><td>962</td><td>4</td><td>1</td></tr>",
                            "<tr><td>117</td><td>953</td><td>5</td><td>4</td></tr>",
                            "<tr><td>117</td><td>612</td><td>2</td><td>5</td></tr>",
                            "<tr><td>117</td><td>617</td><td>3</td><td>2</td></tr>",
                            "<tr><td>118</td><td>716</td><td>1</td><td>3</td></tr>",
                            "<tr><td>118</td><td>864</td><td>6</td><td>1</td></tr>",
                            "<tr><td>118</td><td>994</td><td>7</td><td>6</td></tr>",
                            "<tr><td>118</td><td>996</td><td>3</td><td>7</td></tr>",
                            "<tr><td>118</td><td>1374</td><td>5</td><td>3</td></tr>",
                            "<tr><td>118</td><td>1472</td><td>6</td><td>5</td></tr>",
                            "<tr><td>118</td><td>1481</td><td>3</td><td>6</td></tr>",
                            "<tr><td>119</td><td>1488</td><td>3</td><td>3</td></tr>",
                            "<tr><td>119</td><td>1413</td><td>3</td><td>3</td></tr>",
                            "<tr><td>119</td><td>1026</td><td>3</td><td>3</td></tr>",
                            "<tr><td>119</td><td>706</td><td>2</td><td>3</td></tr>",
                            "<tr><td>119</td><td>722</td><td>1</td><td>2</td></tr>",
                            "<tr><td>120</td><td>762</td><td>3</td><td>1</td></tr>",
                            "<tr><td>120</td><td>998</td><td>3</td><td>3</td></tr>",
                            "<tr><td>120</td><td>1089</td><td>6</td><td>3</td></tr>",
                            "<tr><td>120</td><td>1339</td><td>6</td><td>6</td></tr>",
                            "<tr><td>120</td><td>1493</td><td>7</td><td>6</td></tr>",
                            "<tr><td>120</td><td>1483</td><td>1</td><td>7</td></tr>",
                            "<tr><td>121</td><td>1393</td><td>6</td><td>1</td></tr>",
                            "<tr><td>121</td><td>1373</td><td>5</td><td>6</td></tr>",
                            "<tr><td>121</td><td>1215</td><td>4</td><td>5</td></tr>",
                            "<tr><td>121</td><td>1128</td><td>4</td><td>4</td></tr>",
                            "<tr><td>121</td><td>1049</td><td>3</td><td>4</td></tr>",
                            "<tr><td>121</td><td>858</td><td>5</td><td>3</td></tr>",
                            "<tr><td>121</td><td>739</td><td>6</td><td>5</td></tr>",
                            "<tr><td>121</td><td>735</td><td>6</td><td>6</td></tr>",
                            "<tr><td>122</td><td>1036</td><td>2</td><td>6</td></tr>",
                            "<tr><td>122</td><td>1007</td><td>2</td><td>2</td></tr>",
                            "<tr><td>122</td><td>1062</td><td>3</td><td>2</td></tr>",
                            "<tr><td>122</td><td>1209</td><td>1</td><td>3</td></tr>",
                            "<tr><td>122</td><td>1245</td><td>2</td><td>1</td></tr>",
                            "<tr><td>122</td><td>1166</td><td>4</td><td>2</td></tr>",
                            "<tr><td>122</td><td>1385</td><td>5</td><td>4</td></tr>",
                            "<tr><td>122</td><td>1337</td><td>2</td><td>5</td></tr>",
                            "<tr><td>122</td><td>1440</td><td>3</td><td>2</td></tr>",
                            "<tr><td>123</td><td>1282</td><td>6</td><td>3</td></tr>",
                            "<tr><td>123</td><td>1223</td><td>1</td><td>6</td></tr>",
                            "<tr><td>123</td><td>967</td><td>5</td><td>1</td></tr>",
                            "<tr><td>123</td><td>923</td><td>4</td><td>5</td></tr>",
                            "<tr><td>123</td><td>587</td><td>7</td><td>4</td></tr>",
                            "<tr><td>124</td><td>861</td><td>1</td><td>7</td></tr>",
                            "<tr><td>124</td><td>1210</td><td>4</td><td>1</td></tr>",
                            "<tr><td>124</td><td>1330</td><td>7</td><td>4</td></tr>",
                            "<tr><td>124</td><td>1419</td><td>3</td><td>7</td></tr>",
                            "<tr><td>124</td><td>1403</td><td>6</td><td>3</td></tr>",
                            "<tr><td>124</td><td>1531</td><td>6</td><td>6</td></tr>",
                            "<tr><td>125</td><td>576</td><td>1</td><td>6</td></tr>",
                            "<tr><td>126</td><td>754</td><td>4</td><td>1</td></tr>",
                            "<tr><td>126</td><td>806</td><td>6</td><td>4</td></tr>",
                            "<tr><td>126</td><td>1500</td><td>4</td><td>6</td></tr>",
                            "<tr><td>126</td><td>1428</td><td>7</td><td>4</td></tr>",
                            "<tr><td>126</td><td>1364</td><td>6</td><td>7</td></tr>",
                            "<tr><td>126</td><td>1134</td><td>1</td><td>6</td></tr>",
                            "<tr><td>127</td><td>1226</td><td>5</td><td>1</td></tr>",
                            "<tr><td>127</td><td>1286</td><td>1</td><td>5</td></tr>",
                            "<tr><td>127</td><td>1579</td><td>5</td><td>1</td></tr>",
                            "<tr><td>127</td><td>643</td><td>2</td><td>5</td></tr>",
                            "<tr><td>127</td><td>853</td><td>5</td><td>2</td></tr>",
                            "<tr><td>127</td><td>879</td><td>2</td><td>5</td></tr>",
                            "<tr><td>127</td><td>1034</td><td>6</td><td>2</td></tr>",
                            "<tr><td>128</td><td>815</td><td>1</td><td>6</td></tr>",
                            "<tr><td>128</td><td>717</td><td>2</td><td>1</td></tr>",
                            "<tr><td>128</td><td>1574</td><td>1</td><td>2</td></tr>",
                            "<tr><td>128</td><td>1583</td><td>4</td><td>1</td></tr>",
                            "<tr><td>128</td><td>1290</td><td>1</td><td>4</td></tr>",
                            "<tr><td>129</td><td>1360</td><td>6</td><td>1</td></tr>",
                            "<tr><td>129</td><td>1445</td><td>7</td><td>6</td></tr>",
                            "<tr><td>129</td><td>1509</td><td>6</td><td>7</td></tr>",
                            "<tr><td>129</td><td>723</td><td>7</td><td>6</td></tr>",
                            "<tr><td>130</td><td>779</td><td>6</td><td>7</td></tr>",
                            "<tr><td>130</td><td>580</td><td>3</td><td>6</td></tr>",
                            "<tr><td>130</td><td>613</td><td>3</td><td>3</td></tr>",
                            "<tr><td>130</td><td>1040</td><td>1</td><td>3</td></tr>",
                            "<tr><td>130</td><td>910</td><td>2</td><td>1</td></tr>",
                            "<tr><td>130</td><td>1475</td><td>7</td><td>2</td></tr>",
                            "<tr><td>131</td><td>1474</td><td>5</td><td>7</td></tr>",
                            "<tr><td>131</td><td>881</td><td>6</td><td>5</td></tr>",
                            "<tr><td>131</td><td>559</td><td>2</td><td>6</td></tr>",
                            "<tr><td>131</td><td>655</td><td>1</td><td>2</td></tr>",
                            "<tr><td>131</td><td>760</td><td>4</td><td>1</td></tr>",
                            "<tr><td>132</td><td>619</td><td>7</td><td>4</td></tr>",
                            "<tr><td>132</td><td>999</td><td>6</td><td>7</td></tr>",
                            "<tr><td>132</td><td>1090</td><td>7</td><td>6</td></tr>",
                            "<tr><td>132</td><td>1111</td><td>3</td><td>7</td></tr>",
                            "<tr><td>132</td><td>1519</td><td>2</td><td>3</td></tr>",
                            "<tr><td>132</td><td>1301</td><td>2</td><td>2</td></tr>",
                            "<tr><td>133</td><td>1306</td><td>3</td><td>2</td></tr>",
                            "<tr><td>133</td><td>1363</td><td>5</td><td>3</td></tr>",
                            "<tr><td>133</td><td>1409</td><td>1</td><td>5</td></tr>",
                            "<tr><td>133</td><td>1149</td><td>7</td><td>1</td></tr>",
                            "<tr><td>133</td><td>909</td><td>4</td><td>7</td></tr>",
                            "<tr><td>133</td><td>988</td><td>3</td><td>4</td></tr>",
                            "<tr><td>134</td><td>1004</td><td>5</td><td>3</td></tr>",
                            "<tr><td>134</td><td>1024</td><td>1</td><td>5</td></tr>",
                            "<tr><td>134</td><td>1045</td><td>2</td><td>1</td></tr>",
                            "<tr><td>134</td><td>1219</td><td>6</td><td>2</td></tr>",
                            "<tr><td>134</td><td>1178</td><td>7</td><td>6</td></tr>",
                            "<tr><td>134</td><td>1535</td><td>7</td><td>7</td></tr>",
                            "<tr><td>135</td><td>1289</td><td>3</td><td>7</td></tr>",
                            "<tr><td>135</td><td>849</td><td>7</td><td>3</td></tr>",
                            "<tr><td>135</td><td>724</td><td>6</td><td>7</td></tr>",
                            "<tr><td>136</td><td>584</td><td>2</td><td>6</td></tr>",
                            "<tr><td>136</td><td>661</td><td>5</td><td>2</td></tr>",
                            "<tr><td>136</td><td>1046</td><td>4</td><td>5</td></tr>",
                            "<tr><td>137</td><td>1014</td><td>1</td><td>4</td></tr>",
                            "<tr><td>137</td><td>657</td><td>6</td><td>1</td></tr>",
                            "<tr><td>137</td><td>649</td><td>5</td><td>6</td></tr>",
                            "<tr><td>137</td><td>582</td><td>3</td><td>5</td></tr>",
                            "<tr><td>137</td><td>1280</td><td>3</td><td>3</td></tr>",
                            "<tr><td>137</td><td>1201</td><td>6</td><td>3</td></tr>",
                            "<tr><td>138</td><td>1256</td><td>4</td><td>6</td></tr>",
                            "<tr><td>138</td><td>1283</td><td>2</td><td>4</td></tr>",
                            "<tr><td>138</td><td>1294</td><td>5</td><td>2</td></tr>",
                            "<tr><td>138</td><td>1358</td><td>7</td><td>5</td></tr>",
                            "<tr><td>138</td><td>1370</td><td>5</td><td>7</td></tr>",
                            "<tr><td>138</td><td>768</td><td>6</td><td>5</td></tr>",
                            "<tr><td>138</td><td>796</td><td>4</td><td>6</td></tr>",
                            "<tr><td>139</td><td>751</td><td>4</td><td>4</td></tr>",
                            "<tr><td>139</td><td>745</td><td>1</td><td>4</td></tr>",
                            "<tr><td>139</td><td>579</td><td>2</td><td>1</td></tr>",
                            "<tr><td>139</td><td>1042</td><td>2</td><td>2</td></tr>",
                            "<tr><td>139</td><td>1064</td><td>6</td><td>2</td></tr>",
                            "<tr><td>139</td><td>1450</td><td>7</td><td>6</td></tr>",
                            "<tr><td>139</td><td>1433</td><td>6</td><td>7</td></tr>",
                            "<tr><td>140</td><td>1371</td><td>1</td><td>6</td></tr>",
                            "<tr><td>140</td><td>1361</td><td>3</td><td>1</td></tr>",
                            "<tr><td>140</td><td>1357</td><td>4</td><td>3</td></tr>",
                            "<tr><td>140</td><td>1259</td><td>7</td><td>4</td></tr>",
                            "<tr><td>140</td><td>1156</td><td>3</td><td>7</td></tr>",
                            "<tr><td>140</td><td>1098</td><td>2</td><td>3</td></tr>",
                            "<tr><td>140</td><td>915</td><td>2</td><td>2</td></tr>",
                            "<tr><td>140</td><td>733</td><td>1</td><td>2</td></tr>",
                            "<tr><td>141</td><td>761</td><td>3</td><td>1</td></tr>",
                            "<tr><td>141</td><td>784</td><td>7</td><td>3</td></tr>",
                            "<tr><td>141</td><td>565</td><td>6</td><td>7</td></tr>",
                            "<tr><td>141</td><td>908</td><td>2</td><td>6</td></tr>",
                            "<tr><td>141</td><td>1254</td><td>4</td><td>2</td></tr>",
                            "<tr><td>141</td><td>1401</td><td>6</td><td>4</td></tr>",
                            "<tr><td>142</td><td>1369</td><td>6</td><td>6</td></tr>",
                            "<tr><td>142</td><td>1545</td><td>3</td><td>6</td></tr>",
                            "<tr><td>143</td><td>1448</td><td>6</td><td>3</td></tr>",
                            "<tr><td>143</td><td>1394</td><td>3</td><td>6</td></tr>",
                            "<tr><td>143</td><td>1313</td><td>4</td><td>3</td></tr>",
                            "<tr><td>143</td><td>1222</td><td>2</td><td>4</td></tr>",
                            "<tr><td>143</td><td>1155</td><td>7</td><td>2</td></tr>",
                            "<tr><td>143</td><td>1193</td><td>6</td><td>7</td></tr>",
                            "<tr><td>143</td><td>980</td><td>3</td><td>6</td></tr>",
                            "<tr><td>144</td><td>1087</td><td>2</td><td>3</td></tr>",
                            "<tr><td>144</td><td>581</td><td>4</td><td>2</td></tr>",
                            "<tr><td>144</td><td>1199</td><td>7</td><td>4</td></tr>",
                            "<tr><td>144</td><td>1297</td><td>1</td><td>7</td></tr>",
                            "<tr><td>144</td><td>1572</td><td>2</td><td>1</td></tr>",
                            "<tr><td>145</td><td>1471</td><td>1</td><td>2</td></tr>",
                            "<tr><td>145</td><td>1338</td><td>2</td><td>1</td></tr>",
                            "<tr><td>145</td><td>1145</td><td>4</td><td>2</td></tr>",
                            "<tr><td>145</td><td>703</td><td>4</td><td>4</td></tr>",
                            "<tr><td>145</td><td>1077</td><td>1</td><td>4</td></tr>",
                            "<tr><td>145</td><td>1120</td><td>1</td><td>1</td></tr>",
                            "<tr><td>146</td><td>1032</td><td>5</td><td>1</td></tr>",
                            "<tr><td>146</td><td>890</td><td>3</td><td>5</td></tr>",
                            "<tr><td>146</td><td>789</td><td>7</td><td>3</td></tr>",
                            "<tr><td>146</td><td>804</td><td>7</td><td>7</td></tr>",
                            "<tr><td>146</td><td>664</td><td>3</td><td>7</td></tr>",
                            "<tr><td>146</td><td>1479</td><td>6</td><td>3</td></tr>",
                            "<tr><td>147</td><td>771</td><td>4</td><td>6</td></tr>",
                            "<tr><td>148</td><td>765</td><td>3</td><td>4</td></tr>",
                            "<tr><td>148</td><td>808</td><td>2</td><td>3</td></tr>",
                            "<tr><td>148</td><td>783</td><td>7</td><td>2</td></tr>",
                            "<tr><td>148</td><td>812</td><td>6</td><td>7</td></tr>",
                            "<tr><td>148</td><td>678</td><td>4</td><td>6</td></tr>",
                            "<tr><td>148</td><td>1578</td><td>7</td><td>4</td></tr>",
                            "<tr><td>149</td><td>1514</td><td>5</td><td>7</td></tr>",
                            "<tr><td>149</td><td>1146</td><td>6</td><td>5</td></tr>",
                            "<tr><td>149</td><td>652</td><td>1</td><td>6</td></tr>",
                            "<tr><td>149</td><td>591</td><td>1</td><td>1</td></tr>",
                            "<tr><td>149</td><td>833</td><td>2</td><td>1</td></tr>",
                            "<tr><td>149</td><td>834</td><td>5</td><td>2</td></tr>",
                            "<tr><td>149</td><td>843</td><td>4</td><td>5</td></tr>",
                            "<tr><td>150</td><td>1100</td><td>5</td><td>4</td></tr>",
                            "<tr><td>150</td><td>1105</td><td>1</td><td>5</td></tr>",
                            "<tr><td>150</td><td>641</td><td>3</td><td>1</td></tr>",
                            "<tr><td>150</td><td>1177</td><td>1</td><td>3</td></tr>",
                            "<tr><td>150</td><td>1203</td><td>4</td><td>1</td></tr>",
                            "<tr><td>150</td><td>1432</td><td>3</td><td>4</td></tr>",
                            "<tr><td>151</td><td>1115</td><td>3</td><td>3</td></tr>",
                            "<tr><td>151</td><td>1058</td><td>3</td><td>3</td></tr>",
                            "<tr><td>151</td><td>893</td><td>3</td><td>3</td></tr>",
                            "<tr><td>152</td><td>730</td><td>2</td><td>3</td></tr>",
                            "<tr><td>152</td><td>1558</td><td>2</td><td>2</td></tr>",
                            "<tr><td>152</td><td>1197</td><td>6</td><td>2</td></tr>",
                            "<tr><td>152</td><td>1160</td><td>7</td><td>6</td></tr>",
                            "<tr><td>153</td><td>1507</td><td>3</td><td>7</td></tr>",
                            "<tr><td>153</td><td>1470</td><td>5</td><td>3</td></tr>",
                            "<tr><td>153</td><td>1460</td><td>3</td><td>5</td></tr>",
                            "<tr><td>153</td><td>594</td><td>3</td><td>3</td></tr>",
                            "<tr><td>153</td><td>969</td><td>6</td><td>3</td></tr>",
                            "<tr><td>154</td><td>968</td><td>1</td><td>6</td></tr>",
                            "<tr><td>154</td><td>1061</td><td>7</td><td>1</td></tr>",
                            "<tr><td>154</td><td>1539</td><td>2</td><td>7</td></tr>",
                            "<tr><td>154</td><td>1168</td><td>6</td><td>2</td></tr>",
                            "<tr><td>154</td><td>1262</td><td>1</td><td>6</td></tr>",
                            "<tr><td>155</td><td>1310</td><td>1</td><td>1</td></tr>",
                            "<tr><td>155</td><td>1541</td><td>1</td><td>1</td></tr>",
                            "<tr><td>155</td><td>1112</td><td>4</td><td>1</td></tr>",
                            "<tr><td>155</td><td>577</td><td>3</td><td>4</td></tr>",
                            "<tr><td>155</td><td>575</td><td>1</td><td>3</td></tr>",
                            "<tr><td>156</td><td>588</td><td>7</td><td>1</td></tr>",
                            "<tr><td>156</td><td>692</td><td>6</td><td>7</td></tr>",
                            "<tr><td>156</td><td>956</td><td>6</td><td>6</td></tr>",
                            "<tr><td>156</td><td>907</td><td>3</td><td>6</td></tr>",
                            "<tr><td>156</td><td>1561</td><td>4</td><td>3</td></tr>",
                            "<tr><td>156</td><td>1462</td><td>7</td><td>4</td></tr>",
                            "<tr><td>156</td><td>1490</td><td>1</td><td>7</td></tr>",
                            "<tr><td>157</td><td>1551</td><td>3</td><td>1</td></tr>",
                            "<tr><td>157</td><td>1240</td><td>7</td><td>3</td></tr>",
                            "<tr><td>157</td><td>1047</td><td>4</td><td>7</td></tr>",
                            "<tr><td>157</td><td>1025</td><td>3</td><td>4</td></tr>",
                            "<tr><td>157</td><td>648</td><td>4</td><td>3</td></tr>",
                            "<tr><td>158</td><td>825</td><td>4</td><td>4</td></tr>",
                            "<tr><td>158</td><td>1117</td><td>3</td><td>4</td></tr>",
                            "<tr><td>158</td><td>840</td><td>4</td><td>3</td></tr>",
                            "<tr><td>160</td><td>922</td><td>2</td><td>4</td></tr>",
                            "<tr><td>160</td><td>927</td><td>4</td><td>2</td></tr>",
                            "<tr><td>160</td><td>933</td><td>4</td><td>4</td></tr>",
                            "<tr><td>160</td><td>720</td><td>2</td><td>4</td></tr>",
                            "<tr><td>160</td><td>1565</td><td>3</td><td>2</td></tr>",
                            "<tr><td>161</td><td>1571</td><td>4</td><td>3</td></tr>",
                            "<tr><td>161</td><td>1190</td><td>7</td><td>4</td></tr>",
                            "<tr><td>161</td><td>639</td><td>4</td><td>7</td></tr>",
                            "<tr><td>161</td><td>653</td><td>7</td><td>4</td></tr>",
                            "<tr><td>161</td><td>911</td><td>4</td><td>7</td></tr>",
                            "<tr><td>161</td><td>1068</td><td>6</td><td>4</td></tr>",
                            "<tr><td>162</td><td>599</td><td>4</td><td>6</td></tr>",
                            "<tr><td>162</td><td>1205</td><td>6</td><td>4</td></tr>",
                            "<tr><td>162</td><td>1400</td><td>1</td><td>6</td></tr>",
                            "<tr><td>163</td><td>1265</td><td>5</td><td>1</td></tr>",
                            "<tr><td>163</td><td>1487</td><td>3</td><td>5</td></tr>",
                            "<tr><td>163</td><td>630</td><td>2</td><td>3</td></tr>",
                            "<tr><td>163</td><td>782</td><td>3</td><td>2</td></tr>",
                            "<tr><td>163</td><td>1075</td><td>4</td><td>3</td></tr>",
                            "<tr><td>163</td><td>1107</td><td>3</td><td>4</td></tr>",
                            "<tr><td>163</td><td>941</td><td>1</td><td>3</td></tr>",
                            "<tr><td>164</td><td>1010</td><td>2</td><td>1</td></tr>",
                            "<tr><td>164</td><td>742</td><td>6</td><td>2</td></tr>",
                            "<tr><td>164</td><td>570</td><td>7</td><td>6</td></tr>",
                            "<tr><td>164</td><td>1292</td><td>2</td><td>7</td></tr>",
                            "<tr><td>164</td><td>1284</td><td>4</td><td>2</td></tr>",
                            "<tr><td>165</td><td>1375</td><td>4</td><td>4</td></tr>",
                            "<tr><td>165</td><td>1141</td><td>1</td><td>4</td></tr>",
                            "<tr><td>165</td><td>640</td><td>3</td><td>1</td></tr>",
                            "<tr><td>165</td><td>900</td><td>6</td><td>3</td></tr>",
                            "<tr><td>165</td><td>897</td><td>6</td><td>6</td></tr>",
                            "<tr><td>165</td><td>892</td><td>3</td><td>6</td></tr>",
                            "<tr><td>165</td><td>857</td><td>5</td><td>3</td></tr>",
                            "<tr><td>166</td><td>644</td><td>7</td><td>5</td></tr>",
                            "<tr><td>166</td><td>781</td><td>7</td><td>7</td></tr>",
                            "<tr><td>166</td><td>1526</td><td>2</td><td>7</td></tr>",
                            "<tr><td>167</td><td>1414</td><td>3</td><td>2</td></tr>",
                            "<tr><td>167</td><td>854</td><td>7</td><td>3</td></tr>",
                            "<tr><td>168</td><td>930</td><td>3</td><td>7</td></tr>",
                            "<tr><td>168</td><td>794</td><td>4</td><td>3</td></tr>",
                            "<tr><td>168</td><td>792</td><td>3</td><td>4</td></tr>",
                            "<tr><td>168</td><td>1266</td><td>4</td><td>3</td></tr>",
                            "<tr><td>168</td><td>1249</td><td>4</td><td>4</td></tr>",
                            "<tr><td>169</td><td>1356</td><td>4</td><td>4</td></tr>",
                            "<tr><td>169</td><td>1427</td><td>1</td><td>4</td></tr>",
                            "<tr><td>169</td><td>746</td><td>7</td><td>1</td></tr>",
                            "<tr><td>169</td><td>659</td><td>6</td><td>7</td></tr>",
                            "<tr><td>169</td><td>573</td><td>5</td><td>6</td></tr>",
                            "<tr><td>169</td><td>974</td><td>1</td><td>5</td></tr>",
                            "<tr><td>170</td><td>944</td><td>4</td><td>1</td></tr>",
                            "<tr><td>170</td><td>567</td><td>7</td><td>4</td></tr>",
                            "<tr><td>170</td><td>1342</td><td>6</td><td>7</td></tr>",
                            "<tr><td>170</td><td>1267</td><td>7</td><td>6</td></tr>",
                            "<tr><td>170</td><td>1194</td><td>4</td><td>7</td></tr>",
                            "<tr><td>171</td><td>1181</td><td>6</td><td>4</td></tr>",
                            "<tr><td>171</td><td>1329</td><td>5</td><td>6</td></tr>",
                            "<tr><td>171</td><td>1567</td><td>6</td><td>5</td></tr>",
                            "<tr><td>171</td><td>574</td><td>2</td><td>6</td></tr>",
                            "<tr><td>171</td><td>981</td><td>4</td><td>2</td></tr>",
                            "<tr><td>172</td><td>984</td><td>4</td><td>4</td></tr>",
                            "<tr><td>172</td><td>749</td><td>6</td><td>4</td></tr>",
                            "<tr><td>172</td><td>709</td><td>5</td><td>6</td></tr>",
                            "<tr><td>172</td><td>839</td><td>5</td><td>5</td></tr>",
                            "<tr><td>172</td><td>1421</td><td>5</td><td>5</td></tr>",
                            "<tr><td>172</td><td>1491</td><td>2</td><td>5</td></tr>",
                            "<tr><td>172</td><td>1336</td><td>5</td><td>2</td></tr>",
                            "<tr><td>172</td><td>1171</td><td>5</td><td>5</td></tr>",
                            "<tr><td>172</td><td>1142</td><td>4</td><td>5</td></tr>",
                            "<tr><td>173</td><td>1350</td><td>3</td><td>4</td></tr>",
                            "<tr><td>173</td><td>1429</td><td>4</td><td>3</td></tr>",
                            "<tr><td>173</td><td>669</td><td>7</td><td>4</td></tr>",
                            "<tr><td>173</td><td>913</td><td>1</td><td>7</td></tr>",
                            "<tr><td>174</td><td>917</td><td>2</td><td>1</td></tr>",
                            "<tr><td>174</td><td>1015</td><td>5</td><td>2</td></tr>",
                            "<tr><td>174</td><td>682</td><td>3</td><td>5</td></tr>",
                            "<tr><td>174</td><td>1276</td><td>1</td><td>3</td></tr>",
                            "<tr><td>175</td><td>1133</td><td>2</td><td>1</td></tr>",
                            "<tr><td>175</td><td>1407</td><td>7</td><td>2</td></tr>",
                            "<tr><td>175</td><td>799</td><td>4</td><td>7</td></tr>",
                            "<tr><td>175</td><td>1094</td><td>5</td><td>4</td></tr>",
                            "<tr><td>175</td><td>867</td><td>6</td><td>5</td></tr>",
                            "<tr><td>176</td><td>592</td><td>5</td><td>6</td></tr>",
                            "<tr><td>176</td><td>1383</td><td>4</td><td>5</td></tr>",
                            "<tr><td>176</td><td>1278</td><td>6</td><td>4</td></tr>",
                            "<tr><td>176</td><td>1143</td><td>6</td><td>6</td></tr>",
                            "<tr><td>176</td><td>1511</td><td>2</td><td>6</td></tr>",
                            "<tr><td>176</td><td>1570</td><td>3</td><td>2</td></tr>",
                            "<tr><td>177</td><td>1503</td><td>3</td><td>3</td></tr>",
                            "<tr><td>177</td><td>1176</td><td>3</td><td>3</td></tr>",
                            "<tr><td>177</td><td>785</td><td>3</td><td>3</td></tr>",
                            "<tr><td>177</td><td>831</td><td>7</td><td>3</td></tr>",
                            "<tr><td>178</td><td>816</td><td>4</td><td>7</td></tr>",
                            "<tr><td>178</td><td>991</td><td>7</td><td>4</td></tr>",
                            "<tr><td>178</td><td>1242</td><td>1</td><td>7</td></tr>",
                            "<tr><td>178</td><td>1211</td><td>3</td><td>1</td></tr>",
                            "<tr><td>179</td><td>1497</td><td>1</td><td>3</td></tr>",
                            "<tr><td>179</td><td>1021</td><td>1</td><td>1</td></tr>",
                            "<tr><td>179</td><td>662</td><td>2</td><td>1</td></tr>",
                            "<tr><td>180</td><td>905</td><td>5</td><td>2</td></tr>",
                            "<tr><td>180</td><td>1563</td><td>6</td><td>5</td></tr>",
                            "<tr><td>180</td><td>1559</td><td>3</td><td>6</td></tr>",
                            "<tr><td>181</td><td>1346</td><td>6</td><td>3</td></tr>",
                            "<tr><td>181</td><td>937</td><td>3</td><td>6</td></tr>",
                            "<tr><td>181</td><td>958</td><td>5</td><td>3</td></tr>",
                            "<tr><td>181</td><td>1022</td><td>1</td><td>5</td></tr>",
                            "<tr><td>181</td><td>677</td><td>4</td><td>1</td></tr>",
                            "<tr><td>181</td><td>731</td><td>6</td><td>4</td></tr>",
                            "<tr><td>182</td><td>740</td><td>3</td><td>6</td></tr>",
                            "<tr><td>182</td><td>571</td><td>2</td><td>3</td></tr>",
                            "<tr><td>182</td><td>1008</td><td>6</td><td>2</td></tr>",
                            "<tr><td>182</td><td>928</td><td>2</td><td>6</td></tr>",
                            "<tr><td>182</td><td>1410</td><td>4</td><td>2</td></tr>",
                            "<tr><td>182</td><td>1308</td><td>1</td><td>4</td></tr>",
                            "<tr><td>182</td><td>1326</td><td>4</td><td>1</td></tr>",
                            "<tr><td>182</td><td>1317</td><td>3</td><td>4</td></tr>",
                            "<tr><td>182</td><td>1230</td><td>7</td><td>3</td></tr>",
                            "<tr><td>182</td><td>1231</td><td>4</td><td>7</td></tr>",
                            "<tr><td>182</td><td>1188</td><td>1</td><td>4</td></tr>",
                            "<tr><td>182</td><td>1422</td><td>3</td><td>1</td></tr>",
                            "<tr><td>183</td><td>1437</td><td>4</td><td>3</td></tr>",
                            "<tr><td>183</td><td>1147</td><td>4</td><td>4</td></tr>",
                            "<tr><td>183</td><td>939</td><td>4</td><td>4</td></tr>",
                            "<tr><td>183</td><td>1067</td><td>7</td><td>4</td></tr>",
                            "<tr><td>184</td><td>880</td><td>4</td><td>7</td></tr>",
                            "<tr><td>184</td><td>608</td><td>2</td><td>4</td></tr>",
                            "<tr><td>184</td><td>684</td><td>3</td><td>2</td></tr>",
                            "<tr><td>184</td><td>1251</td><td>4</td><td>3</td></tr>",
                            "<tr><td>185</td><td>1183</td><td>5</td><td>4</td></tr>",
                            "<tr><td>185</td><td>1441</td><td>7</td><td>5</td></tr>",
                            "<tr><td>185</td><td>1463</td><td>7</td><td>7</td></tr>",
                            "<tr><td>185</td><td>693</td><td>2</td><td>7</td></tr>",
                            "<tr><td>185</td><td>679</td><td>5</td><td>2</td></tr>",
                            "<tr><td>185</td><td>672</td><td>3</td><td>5</td></tr>",
                            "<tr><td>185</td><td>578</td><td>6</td><td>3</td></tr>",
                            "<tr><td>185</td><td>711</td><td>3</td><td>6</td></tr>",
                            "<tr><td>185</td><td>898</td><td>4</td><td>3</td></tr>",
                            "<tr><td>185</td><td>863</td><td>4</td><td>4</td></tr>",
                            "<tr><td>185</td><td>925</td><td>6</td><td>4</td></tr>",
                            "<tr><td>185</td><td>1125</td><td>3</td><td>6</td></tr>",
                            "<tr><td>186</td><td>615</td><td>3</td><td>3</td></tr>",
                            "<tr><td>186</td><td>1467</td><td>3</td><td>3</td></tr>",
                            "<tr><td>186</td><td>1153</td><td>3</td><td>3</td></tr>",
                            "<tr><td>186</td><td>1248</td><td>2</td><td>3</td></tr>",
                            "<tr><td>187</td><td>1404</td><td>2</td><td>2</td></tr>",
                            "<tr><td>187</td><td>695</td><td>6</td><td>2</td></tr>",
                            "<tr><td>187</td><td>633</td><td>6</td><td>6</td></tr>",
                            "<tr><td>187</td><td>743</td><td>2</td><td>6</td></tr>",
                            "<tr><td>187</td><td>766</td><td>1</td><td>2</td></tr>",
                            "<tr><td>187</td><td>957</td><td>4</td><td>1</td></tr>",
                            "<tr><td>187</td><td>868</td><td>4</td><td>4</td></tr>",
                            "<tr><td>188</td><td>912</td><td>1</td><td>4</td></tr>",
                            "<tr><td>188</td><td>1030</td><td>4</td><td>1</td></tr>",
                            "<tr><td>188</td><td>747</td><td>3</td><td>4</td></tr>",
                            "<tr><td>188</td><td>710</td><td>7</td><td>3</td></tr>",
                            "<tr><td>188</td><td>690</td><td>4</td><td>7</td></tr>",
                            "<tr><td>188</td><td>1390</td><td>5</td><td>4</td></tr>",
                            "<tr><td>189</td><td>1204</td><td>2</td><td>5</td></tr>",
                            "<tr><td>189</td><td>1449</td><td>2</td><td>2</td></tr>",
                            "<tr><td>189</td><td>1576</td><td>3</td><td>2</td></tr>",
                            "<tr><td>189</td><td>699</td><td>2</td><td>3</td></tr>",
                            "<tr><td>189</td><td>753</td><td>1</td><td>2</td></tr>",
                            "<tr><td>190</td><td>774</td><td>5</td><td>1</td></tr>",
                            "<tr><td>190</td><td>600</td><td>7</td><td>5</td></tr>",
                            "<tr><td>190</td><td>1017</td><td>1</td><td>7</td></tr>",
                            "<tr><td>190</td><td>989</td><td>1</td><td>1</td></tr>",
                            "<tr><td>190</td><td>1517</td><td>5</td><td>1</td></tr>",
                            "<tr><td>191</td><td>1502</td><td>2</td><td>5</td></tr>",
                            "<tr><td>191</td><td>1508</td><td>7</td><td>2</td></tr>",
                            "<tr><td>191</td><td>1323</td><td>7</td><td>7</td></tr>",
                            "<tr><td>191</td><td>1302</td><td>1</td><td>7</td></tr>",
                            "<tr><td>191</td><td>1039</td><td>6</td><td>1</td></tr>",
                            "<tr><td>192</td><td>903</td><td>7</td><td>6</td></tr>",
                            "<tr><td>192</td><td>680</td><td>4</td><td>7</td></tr>",
                            "<tr><td>193</td><td>675</td><td>2</td><td>4</td></tr>",
                            "<tr><td>193</td><td>634</td><td>6</td><td>2</td></tr>",
                            "<tr><td>193</td><td>835</td><td>2</td><td>6</td></tr>",
                            "<tr><td>193</td><td>977</td><td>2</td><td>2</td></tr>",
                            "<tr><td>193</td><td>926</td><td>1</td><td>2</td></tr>",
                            "<tr><td>193</td><td>1043</td><td>6</td><td>1</td></tr>",
                            "<tr><td>193</td><td>1238</td><td>6</td><td>6</td></tr>",
                            "<tr><td>194</td><td>1095</td><td>5</td><td>6</td></tr>",
                            "<tr><td>195</td><td>1074</td><td>7</td><td>5</td></tr>",
                            "<tr><td>195</td><td>842</td><td>4</td><td>7</td></tr>",
                            "<tr><td>195</td><td>721</td><td>4</td><td>4</td></tr>",
                            "<tr><td>195</td><td>1184</td><td>5</td><td>4</td></tr>",
                            "<tr><td>195</td><td>1473</td><td>7</td><td>5</td></tr>",
                            "<tr><td>195</td><td>1484</td><td>1</td><td>7</td></tr>",
                            "<tr><td>196</td><td>1314</td><td>5</td><td>1</td></tr>",
                            "<tr><td>196</td><td>1340</td><td>5</td><td>5</td></tr>",
                            "<tr><td>196</td><td>673</td><td>5</td><td>5</td></tr>",
                            "<tr><td>196</td><td>952</td><td>3</td><td>5</td></tr>",
                            "<tr><td>197</td><td>1091</td><td>7</td><td>3</td></tr>",
                            "<tr><td>197</td><td>993</td><td>7</td><td>7</td></tr>",
                            "<tr><td>197</td><td>764</td><td>7</td><td>7</td></tr>",
                            "<tr><td>197</td><td>1304</td><td>7</td><td>7</td></tr>",
                            "<tr><td>197</td><td>1387</td><td>3</td><td>7</td></tr>",
                            "<tr><td>197</td><td>1172</td><td>7</td><td>3</td></tr>",
                            "<tr><td>198</td><td>1138</td><td>5</td><td>7</td></tr>",
                            "<tr><td>198</td><td>1161</td><td>5</td><td>5</td></tr>",
                            "<tr><td>198</td><td>1216</td><td>7</td><td>5</td></tr>",
                            "<tr><td>198</td><td>1420</td><td>5</td><td>7</td></tr>",
                            "<tr><td>198</td><td>1011</td><td>7</td><td>5</td></tr>",
                            "<tr><td>198</td><td>1065</td><td>3</td><td>7</td></tr>",
                            "<tr><td>198</td><td>1116</td><td>1</td><td>3</td></tr>",
                            "<tr><td>198</td><td>978</td><td>1</td><td>1</td></tr>",
                            "</table>"
                        ]
                    }
                }
            ],
            "execution_count": 27
        },
        {
            "cell_type": "markdown",
            "source": [
                "<span style=\"color: rgb(0, 0, 0); font-family: &quot;Open Sans&quot;, sans-serif; font-size: 14.44px; background-color: rgb(255, 255, 255);\">Jelenítsük meg azon ügyfelek nevét, akik még sohasem foglaltak VAGY volt foglalásuk, de nem volt közöttük 2 napnál hosszabb</span>"
            ],
            "metadata": {
                "language": "sql",
                "azdata_cell_guid": "dbb15ba2-8b89-4201-b46f-219e54dc3924"
            },
            "attachments": {}
        },
        {
            "cell_type": "code",
            "source": [
                "select UGYFEL_FK\r\n",
                "from Foglalas f JOIN Szoba sz ON f.SZOBA_FK = sz.SZOBA_ID"
            ],
            "metadata": {
                "language": "sql",
                "azdata_cell_guid": "f8b3640f-3919-44af-8dcf-cc41299e1d69"
            },
            "outputs": [
                {
                    "output_type": "display_data",
                    "data": {
                        "text/html": "(1027 rows affected)"
                    },
                    "metadata": {}
                },
                {
                    "output_type": "display_data",
                    "data": {
                        "text/html": "Total execution time: 00:00:00.011"
                    },
                    "metadata": {}
                },
                {
                    "output_type": "execute_result",
                    "metadata": {},
                    "execution_count": 30,
                    "data": {
                        "application/vnd.dataresource+json": {
                            "schema": {
                                "fields": [
                                    {
                                        "name": "UGYFEL_FK"
                                    }
                                ]
                            },
                            "data": [
                                {
                                    "UGYFEL_FK": "NANDORF"
                                },
                                {
                                    "UGYFEL_FK": "ARONK"
                                },
                                {
                                    "UGYFEL_FK": "SEBASTIANF"
                                },
                                {
                                    "UGYFEL_FK": "laszlo2"
                                },
                                {
                                    "UGYFEL_FK": "PETERB"
                                },
                                {
                                    "UGYFEL_FK": "sebestyen"
                                },
                                {
                                    "UGYFEL_FK": "nikoletta4"
                                },
                                {
                                    "UGYFEL_FK": "kristof4"
                                },
                                {
                                    "UGYFEL_FK": "KRISZTIANM"
                                },
                                {
                                    "UGYFEL_FK": "anett3"
                                },
                                {
                                    "UGYFEL_FK": "kata"
                                },
                                {
                                    "UGYFEL_FK": "norbert4"
                                },
                                {
                                    "UGYFEL_FK": "BERNADETTO"
                                },
                                {
                                    "UGYFEL_FK": "AGNESH"
                                },
                                {
                                    "UGYFEL_FK": "katalin"
                                },
                                {
                                    "UGYFEL_FK": "daniel1"
                                },
                                {
                                    "UGYFEL_FK": "katka"
                                },
                                {
                                    "UGYFEL_FK": "daniel"
                                },
                                {
                                    "UGYFEL_FK": "aron2"
                                },
                                {
                                    "UGYFEL_FK": "peter4"
                                },
                                {
                                    "UGYFEL_FK": "anett3"
                                },
                                {
                                    "UGYFEL_FK": "ZSUZSAV"
                                },
                                {
                                    "UGYFEL_FK": "zsolt1"
                                },
                                {
                                    "UGYFEL_FK": "anett3"
                                },
                                {
                                    "UGYFEL_FK": "balazs2"
                                },
                                {
                                    "UGYFEL_FK": "istvan1"
                                },
                                {
                                    "UGYFEL_FK": "BERNADETTO"
                                },
                                {
                                    "UGYFEL_FK": "polla"
                                },
                                {
                                    "UGYFEL_FK": "BEATRIXS"
                                },
                                {
                                    "UGYFEL_FK": "norbert2"
                                },
                                {
                                    "UGYFEL_FK": "mark"
                                },
                                {
                                    "UGYFEL_FK": "miklos2"
                                },
                                {
                                    "UGYFEL_FK": "ANIKOS"
                                },
                                {
                                    "UGYFEL_FK": "beata4"
                                },
                                {
                                    "UGYFEL_FK": "julia"
                                },
                                {
                                    "UGYFEL_FK": "gabriella1"
                                },
                                {
                                    "UGYFEL_FK": "daniel"
                                },
                                {
                                    "UGYFEL_FK": "balint"
                                },
                                {
                                    "UGYFEL_FK": "SZILARDS"
                                },
                                {
                                    "UGYFEL_FK": "KRISZTINAG"
                                },
                                {
                                    "UGYFEL_FK": "ZSOLTJ"
                                },
                                {
                                    "UGYFEL_FK": "istvan1"
                                },
                                {
                                    "UGYFEL_FK": "ANDRASE"
                                },
                                {
                                    "UGYFEL_FK": "kata"
                                },
                                {
                                    "UGYFEL_FK": "sebestyen"
                                },
                                {
                                    "UGYFEL_FK": "gabor4"
                                },
                                {
                                    "UGYFEL_FK": "laszlo2"
                                },
                                {
                                    "UGYFEL_FK": "marton"
                                },
                                {
                                    "UGYFEL_FK": "AGNESH"
                                },
                                {
                                    "UGYFEL_FK": "anett3"
                                },
                                {
                                    "UGYFEL_FK": "krisztina1"
                                },
                                {
                                    "UGYFEL_FK": "MONIKAM"
                                },
                                {
                                    "UGYFEL_FK": "VIKTORIAU"
                                },
                                {
                                    "UGYFEL_FK": "andras3"
                                },
                                {
                                    "UGYFEL_FK": "bernadett2"
                                },
                                {
                                    "UGYFEL_FK": "csongor3"
                                },
                                {
                                    "UGYFEL_FK": "EVAV"
                                },
                                {
                                    "UGYFEL_FK": "ZOLTANT"
                                },
                                {
                                    "UGYFEL_FK": "JOZSEFG"
                                },
                                {
                                    "UGYFEL_FK": "vivien3"
                                },
                                {
                                    "UGYFEL_FK": "TAMASF"
                                },
                                {
                                    "UGYFEL_FK": "RENATAS"
                                },
                                {
                                    "UGYFEL_FK": "marton"
                                },
                                {
                                    "UGYFEL_FK": "gusztav"
                                },
                                {
                                    "UGYFEL_FK": "balazs1"
                                },
                                {
                                    "UGYFEL_FK": "csongor3"
                                },
                                {
                                    "UGYFEL_FK": "andi"
                                },
                                {
                                    "UGYFEL_FK": "ferenc1"
                                },
                                {
                                    "UGYFEL_FK": "bence"
                                },
                                {
                                    "UGYFEL_FK": "kornel4"
                                },
                                {
                                    "UGYFEL_FK": "agnes"
                                },
                                {
                                    "UGYFEL_FK": "daniel"
                                },
                                {
                                    "UGYFEL_FK": "ZSOLTJ"
                                },
                                {
                                    "UGYFEL_FK": "JANOSG"
                                },
                                {
                                    "UGYFEL_FK": "norbert2"
                                },
                                {
                                    "UGYFEL_FK": "katka"
                                },
                                {
                                    "UGYFEL_FK": "nikoletta4"
                                },
                                {
                                    "UGYFEL_FK": "daniel1"
                                },
                                {
                                    "UGYFEL_FK": "MATYASS"
                                },
                                {
                                    "UGYFEL_FK": "RENATAS"
                                },
                                {
                                    "UGYFEL_FK": "julia"
                                },
                                {
                                    "UGYFEL_FK": "zoltan4"
                                },
                                {
                                    "UGYFEL_FK": "sandor3"
                                },
                                {
                                    "UGYFEL_FK": "zoltan4"
                                },
                                {
                                    "UGYFEL_FK": "maria1"
                                },
                                {
                                    "UGYFEL_FK": "andras41"
                                },
                                {
                                    "UGYFEL_FK": "szilvia1"
                                },
                                {
                                    "UGYFEL_FK": "ARONK"
                                },
                                {
                                    "UGYFEL_FK": "BENCEB"
                                },
                                {
                                    "UGYFEL_FK": "robert2"
                                },
                                {
                                    "UGYFEL_FK": "krisztina1"
                                },
                                {
                                    "UGYFEL_FK": "tamas"
                                },
                                {
                                    "UGYFEL_FK": "zsuzsanna"
                                },
                                {
                                    "UGYFEL_FK": "aladar"
                                },
                                {
                                    "UGYFEL_FK": "maria1"
                                },
                                {
                                    "UGYFEL_FK": "david"
                                },
                                {
                                    "UGYFEL_FK": "bertalan"
                                },
                                {
                                    "UGYFEL_FK": "akos"
                                },
                                {
                                    "UGYFEL_FK": "kriszti"
                                },
                                {
                                    "UGYFEL_FK": "attila1"
                                },
                                {
                                    "UGYFEL_FK": "alexandra"
                                },
                                {
                                    "UGYFEL_FK": "krisztina"
                                },
                                {
                                    "UGYFEL_FK": "ATTILAO"
                                },
                                {
                                    "UGYFEL_FK": "katalin"
                                },
                                {
                                    "UGYFEL_FK": "andras41"
                                },
                                {
                                    "UGYFEL_FK": "NIKOLETTAT"
                                },
                                {
                                    "UGYFEL_FK": "matyas2"
                                },
                                {
                                    "UGYFEL_FK": "kati"
                                },
                                {
                                    "UGYFEL_FK": "agnes"
                                },
                                {
                                    "UGYFEL_FK": "fruzsina4"
                                },
                                {
                                    "UGYFEL_FK": "ZOLTANT"
                                },
                                {
                                    "UGYFEL_FK": "tunde"
                                },
                                {
                                    "UGYFEL_FK": "ARPADH"
                                },
                                {
                                    "UGYFEL_FK": "peter1"
                                },
                                {
                                    "UGYFEL_FK": "edit"
                                },
                                {
                                    "UGYFEL_FK": "akos"
                                },
                                {
                                    "UGYFEL_FK": "andras3"
                                },
                                {
                                    "UGYFEL_FK": "sara"
                                },
                                {
                                    "UGYFEL_FK": "akos"
                                },
                                {
                                    "UGYFEL_FK": "jozsef2"
                                },
                                {
                                    "UGYFEL_FK": "balazs3"
                                },
                                {
                                    "UGYFEL_FK": "ANIKOS"
                                },
                                {
                                    "UGYFEL_FK": "SEBASTIANF"
                                },
                                {
                                    "UGYFEL_FK": "david"
                                },
                                {
                                    "UGYFEL_FK": "lajos"
                                },
                                {
                                    "UGYFEL_FK": "GYORGYO"
                                },
                                {
                                    "UGYFEL_FK": "ANNAMARIAR"
                                },
                                {
                                    "UGYFEL_FK": "ZSOLTJ"
                                },
                                {
                                    "UGYFEL_FK": "sandor"
                                },
                                {
                                    "UGYFEL_FK": "MIKLOSB"
                                },
                                {
                                    "UGYFEL_FK": "ESZTERE"
                                },
                                {
                                    "UGYFEL_FK": "istvan1"
                                },
                                {
                                    "UGYFEL_FK": "denes"
                                },
                                {
                                    "UGYFEL_FK": "balazs2"
                                },
                                {
                                    "UGYFEL_FK": "julianna4"
                                },
                                {
                                    "UGYFEL_FK": "andras2"
                                },
                                {
                                    "UGYFEL_FK": "PETERB"
                                },
                                {
                                    "UGYFEL_FK": "veronika4"
                                },
                                {
                                    "UGYFEL_FK": "lala"
                                },
                                {
                                    "UGYFEL_FK": "andras21"
                                },
                                {
                                    "UGYFEL_FK": "tihamer"
                                },
                                {
                                    "UGYFEL_FK": "julia"
                                },
                                {
                                    "UGYFEL_FK": "ZOLTANP"
                                },
                                {
                                    "UGYFEL_FK": "andras3"
                                },
                                {
                                    "UGYFEL_FK": "balint2"
                                },
                                {
                                    "UGYFEL_FK": "balazs1"
                                },
                                {
                                    "UGYFEL_FK": "aniko4"
                                },
                                {
                                    "UGYFEL_FK": "akos"
                                },
                                {
                                    "UGYFEL_FK": "emese"
                                },
                                {
                                    "UGYFEL_FK": "MATYASS"
                                },
                                {
                                    "UGYFEL_FK": "MONIKAM"
                                },
                                {
                                    "UGYFEL_FK": "valentin"
                                },
                                {
                                    "UGYFEL_FK": "gabriella1"
                                },
                                {
                                    "UGYFEL_FK": "sara"
                                },
                                {
                                    "UGYFEL_FK": "zsuzsa"
                                },
                                {
                                    "UGYFEL_FK": "bence"
                                },
                                {
                                    "UGYFEL_FK": "bence"
                                },
                                {
                                    "UGYFEL_FK": "szilvia1"
                                },
                                {
                                    "UGYFEL_FK": "lala"
                                },
                                {
                                    "UGYFEL_FK": "balint1"
                                },
                                {
                                    "UGYFEL_FK": "SZILARDS"
                                },
                                {
                                    "UGYFEL_FK": "BELAF"
                                },
                                {
                                    "UGYFEL_FK": "NIKOLETTAT"
                                },
                                {
                                    "UGYFEL_FK": "reka4"
                                },
                                {
                                    "UGYFEL_FK": "andrea"
                                },
                                {
                                    "UGYFEL_FK": "kati"
                                },
                                {
                                    "UGYFEL_FK": "norbert2"
                                },
                                {
                                    "UGYFEL_FK": "ANDREAT"
                                },
                                {
                                    "UGYFEL_FK": "peter3"
                                },
                                {
                                    "UGYFEL_FK": "alexandra"
                                },
                                {
                                    "UGYFEL_FK": "balazs3"
                                },
                                {
                                    "UGYFEL_FK": "JUDITH"
                                },
                                {
                                    "UGYFEL_FK": "gabor1"
                                },
                                {
                                    "UGYFEL_FK": "andras41"
                                },
                                {
                                    "UGYFEL_FK": "krisztian4"
                                },
                                {
                                    "UGYFEL_FK": "katalin"
                                },
                                {
                                    "UGYFEL_FK": "GYORGYO"
                                },
                                {
                                    "UGYFEL_FK": "SZABOLCSM"
                                },
                                {
                                    "UGYFEL_FK": "AGNESK"
                                },
                                {
                                    "UGYFEL_FK": "BELAF"
                                },
                                {
                                    "UGYFEL_FK": "agnes"
                                },
                                {
                                    "UGYFEL_FK": "ROBERTP"
                                },
                                {
                                    "UGYFEL_FK": "zsuzsa3"
                                },
                                {
                                    "UGYFEL_FK": "SEBASTIANF"
                                },
                                {
                                    "UGYFEL_FK": "ilona3"
                                },
                                {
                                    "UGYFEL_FK": "zsolt1"
                                },
                                {
                                    "UGYFEL_FK": "andrea"
                                },
                                {
                                    "UGYFEL_FK": "BENCEB"
                                },
                                {
                                    "UGYFEL_FK": "denes"
                                },
                                {
                                    "UGYFEL_FK": "krisztian4"
                                },
                                {
                                    "UGYFEL_FK": "reka4"
                                },
                                {
                                    "UGYFEL_FK": "KRISZTIANM"
                                },
                                {
                                    "UGYFEL_FK": "edit"
                                },
                                {
                                    "UGYFEL_FK": "kati"
                                },
                                {
                                    "UGYFEL_FK": "balint1"
                                },
                                {
                                    "UGYFEL_FK": "VIKTORIAU"
                                },
                                {
                                    "UGYFEL_FK": "ilona3"
                                },
                                {
                                    "UGYFEL_FK": "agnes3"
                                },
                                {
                                    "UGYFEL_FK": "gusztav"
                                },
                                {
                                    "UGYFEL_FK": "david"
                                },
                                {
                                    "UGYFEL_FK": "ARONK"
                                },
                                {
                                    "UGYFEL_FK": "peter4"
                                },
                                {
                                    "UGYFEL_FK": "balu"
                                },
                                {
                                    "UGYFEL_FK": "dani"
                                },
                                {
                                    "UGYFEL_FK": "timea2"
                                },
                                {
                                    "UGYFEL_FK": "KRISZTINAG"
                                },
                                {
                                    "UGYFEL_FK": "mark"
                                },
                                {
                                    "UGYFEL_FK": "emese"
                                },
                                {
                                    "UGYFEL_FK": "norbert5"
                                },
                                {
                                    "UGYFEL_FK": "maria1"
                                },
                                {
                                    "UGYFEL_FK": "BEATRIXK"
                                },
                                {
                                    "UGYFEL_FK": "marton"
                                },
                                {
                                    "UGYFEL_FK": "tamara2"
                                },
                                {
                                    "UGYFEL_FK": "ARPADM"
                                },
                                {
                                    "UGYFEL_FK": "eszter"
                                },
                                {
                                    "UGYFEL_FK": "edit"
                                },
                                {
                                    "UGYFEL_FK": "vivien3"
                                },
                                {
                                    "UGYFEL_FK": "nikoletta4"
                                },
                                {
                                    "UGYFEL_FK": "pal"
                                },
                                {
                                    "UGYFEL_FK": "polla"
                                },
                                {
                                    "UGYFEL_FK": "laszlo2"
                                },
                                {
                                    "UGYFEL_FK": "zoltan4"
                                },
                                {
                                    "UGYFEL_FK": "anett3"
                                },
                                {
                                    "UGYFEL_FK": "PETERB"
                                },
                                {
                                    "UGYFEL_FK": "norbert2"
                                },
                                {
                                    "UGYFEL_FK": "denes"
                                },
                                {
                                    "UGYFEL_FK": "zoltan4"
                                },
                                {
                                    "UGYFEL_FK": "dora3"
                                },
                                {
                                    "UGYFEL_FK": "ANDRASE"
                                },
                                {
                                    "UGYFEL_FK": "krisztian4"
                                },
                                {
                                    "UGYFEL_FK": "georgij"
                                },
                                {
                                    "UGYFEL_FK": "JANOSG"
                                },
                                {
                                    "UGYFEL_FK": "veronika4"
                                },
                                {
                                    "UGYFEL_FK": "ROBERTI"
                                },
                                {
                                    "UGYFEL_FK": "polla"
                                },
                                {
                                    "UGYFEL_FK": "anett3"
                                },
                                {
                                    "UGYFEL_FK": "MATEK"
                                },
                                {
                                    "UGYFEL_FK": "GYONGYIK"
                                },
                                {
                                    "UGYFEL_FK": "andras41"
                                },
                                {
                                    "UGYFEL_FK": "attila4"
                                },
                                {
                                    "UGYFEL_FK": "tihamer"
                                },
                                {
                                    "UGYFEL_FK": "andras41"
                                },
                                {
                                    "UGYFEL_FK": "sandor"
                                },
                                {
                                    "UGYFEL_FK": "david"
                                },
                                {
                                    "UGYFEL_FK": "robert2"
                                },
                                {
                                    "UGYFEL_FK": "adam1"
                                },
                                {
                                    "UGYFEL_FK": "denes"
                                },
                                {
                                    "UGYFEL_FK": "balazs2"
                                },
                                {
                                    "UGYFEL_FK": "imre1"
                                },
                                {
                                    "UGYFEL_FK": "david"
                                },
                                {
                                    "UGYFEL_FK": "ROBERTI"
                                },
                                {
                                    "UGYFEL_FK": "andrea"
                                },
                                {
                                    "UGYFEL_FK": "imre1"
                                },
                                {
                                    "UGYFEL_FK": "arpad2"
                                },
                                {
                                    "UGYFEL_FK": "bernadett2"
                                },
                                {
                                    "UGYFEL_FK": "JOZSEFG"
                                },
                                {
                                    "UGYFEL_FK": "kata"
                                },
                                {
                                    "UGYFEL_FK": "peter4"
                                },
                                {
                                    "UGYFEL_FK": "balazs3"
                                },
                                {
                                    "UGYFEL_FK": "tamas"
                                },
                                {
                                    "UGYFEL_FK": "henrik3"
                                },
                                {
                                    "UGYFEL_FK": "katka"
                                },
                                {
                                    "UGYFEL_FK": "janos3"
                                },
                                {
                                    "UGYFEL_FK": "kriszti"
                                },
                                {
                                    "UGYFEL_FK": "zoltan"
                                },
                                {
                                    "UGYFEL_FK": "beata4"
                                },
                                {
                                    "UGYFEL_FK": "bernadett2"
                                },
                                {
                                    "UGYFEL_FK": "dora3"
                                },
                                {
                                    "UGYFEL_FK": "andrea"
                                },
                                {
                                    "UGYFEL_FK": "ANIKOS"
                                },
                                {
                                    "UGYFEL_FK": "fruzsina4"
                                },
                                {
                                    "UGYFEL_FK": "adam4"
                                },
                                {
                                    "UGYFEL_FK": "SZILARDS"
                                },
                                {
                                    "UGYFEL_FK": "georgij"
                                },
                                {
                                    "UGYFEL_FK": "brigitta"
                                },
                                {
                                    "UGYFEL_FK": "zsuzsa"
                                },
                                {
                                    "UGYFEL_FK": "krisztian4"
                                },
                                {
                                    "UGYFEL_FK": "IBOLYAA"
                                },
                                {
                                    "UGYFEL_FK": "imre1"
                                },
                                {
                                    "UGYFEL_FK": "andras3"
                                },
                                {
                                    "UGYFEL_FK": "BELAF"
                                },
                                {
                                    "UGYFEL_FK": "MIHALYJ"
                                },
                                {
                                    "UGYFEL_FK": "JANOSG"
                                },
                                {
                                    "UGYFEL_FK": "gabor4"
                                },
                                {
                                    "UGYFEL_FK": "EVAV"
                                },
                                {
                                    "UGYFEL_FK": "vivien3"
                                },
                                {
                                    "UGYFEL_FK": "gabor1"
                                },
                                {
                                    "UGYFEL_FK": "eva2"
                                },
                                {
                                    "UGYFEL_FK": "maria1"
                                },
                                {
                                    "UGYFEL_FK": "bence"
                                },
                                {
                                    "UGYFEL_FK": "roland"
                                },
                                {
                                    "UGYFEL_FK": "tunde"
                                },
                                {
                                    "UGYFEL_FK": "rajmond4"
                                },
                                {
                                    "UGYFEL_FK": "balazs2"
                                },
                                {
                                    "UGYFEL_FK": "JOZSEFG"
                                },
                                {
                                    "UGYFEL_FK": "nikolett3"
                                },
                                {
                                    "UGYFEL_FK": "KRISZTINAG"
                                },
                                {
                                    "UGYFEL_FK": "ANIKOS"
                                },
                                {
                                    "UGYFEL_FK": "valentin"
                                },
                                {
                                    "UGYFEL_FK": "agnes"
                                },
                                {
                                    "UGYFEL_FK": "sandor3"
                                },
                                {
                                    "UGYFEL_FK": "daniel1"
                                },
                                {
                                    "UGYFEL_FK": "andrea4"
                                },
                                {
                                    "UGYFEL_FK": "GYORGYO"
                                },
                                {
                                    "UGYFEL_FK": "denes"
                                },
                                {
                                    "UGYFEL_FK": "balazs2"
                                },
                                {
                                    "UGYFEL_FK": "maria1"
                                },
                                {
                                    "UGYFEL_FK": "polla"
                                },
                                {
                                    "UGYFEL_FK": "sara"
                                },
                                {
                                    "UGYFEL_FK": "ZSOLTJ"
                                },
                                {
                                    "UGYFEL_FK": "ZSUZSAV"
                                },
                                {
                                    "UGYFEL_FK": "adam1"
                                },
                                {
                                    "UGYFEL_FK": "szilvia1"
                                },
                                {
                                    "UGYFEL_FK": "norbert4"
                                },
                                {
                                    "UGYFEL_FK": "bence"
                                },
                                {
                                    "UGYFEL_FK": "ARPADM"
                                },
                                {
                                    "UGYFEL_FK": "ESZTERE"
                                },
                                {
                                    "UGYFEL_FK": "MIHALYJ"
                                },
                                {
                                    "UGYFEL_FK": "brigitta"
                                },
                                {
                                    "UGYFEL_FK": "nikoletta4"
                                },
                                {
                                    "UGYFEL_FK": "gabor4"
                                },
                                {
                                    "UGYFEL_FK": "VIKTORK"
                                },
                                {
                                    "UGYFEL_FK": "andras3"
                                },
                                {
                                    "UGYFEL_FK": "tihamer"
                                },
                                {
                                    "UGYFEL_FK": "sara"
                                },
                                {
                                    "UGYFEL_FK": "veronika4"
                                },
                                {
                                    "UGYFEL_FK": "andras2"
                                },
                                {
                                    "UGYFEL_FK": "kata"
                                },
                                {
                                    "UGYFEL_FK": "brigitta3"
                                },
                                {
                                    "UGYFEL_FK": "GYORGYO"
                                },
                                {
                                    "UGYFEL_FK": "kornel4"
                                },
                                {
                                    "UGYFEL_FK": "fruzsina4"
                                },
                                {
                                    "UGYFEL_FK": "GYONGYIK"
                                },
                                {
                                    "UGYFEL_FK": "MATYASS"
                                },
                                {
                                    "UGYFEL_FK": "LASZLON"
                                },
                                {
                                    "UGYFEL_FK": "zoltan4"
                                },
                                {
                                    "UGYFEL_FK": "krisztian4"
                                },
                                {
                                    "UGYFEL_FK": "tihamer"
                                },
                                {
                                    "UGYFEL_FK": "beata4"
                                },
                                {
                                    "UGYFEL_FK": "nikolett3"
                                },
                                {
                                    "UGYFEL_FK": "tunde"
                                },
                                {
                                    "UGYFEL_FK": "LASZLOA"
                                },
                                {
                                    "UGYFEL_FK": "BENCEB"
                                },
                                {
                                    "UGYFEL_FK": "KRISZTIANM"
                                },
                                {
                                    "UGYFEL_FK": "ARONK"
                                },
                                {
                                    "UGYFEL_FK": "ATTILAO"
                                },
                                {
                                    "UGYFEL_FK": "janos3"
                                },
                                {
                                    "UGYFEL_FK": "JOZSEFG"
                                },
                                {
                                    "UGYFEL_FK": "csongor3"
                                },
                                {
                                    "UGYFEL_FK": "ZOLTANP"
                                },
                                {
                                    "UGYFEL_FK": "arpad2"
                                },
                                {
                                    "UGYFEL_FK": "dani"
                                },
                                {
                                    "UGYFEL_FK": "sara"
                                },
                                {
                                    "UGYFEL_FK": "kati"
                                },
                                {
                                    "UGYFEL_FK": "ARPADH"
                                },
                                {
                                    "UGYFEL_FK": "timea2"
                                },
                                {
                                    "UGYFEL_FK": "kati"
                                },
                                {
                                    "UGYFEL_FK": "ZOLTANP"
                                },
                                {
                                    "UGYFEL_FK": "marton"
                                },
                                {
                                    "UGYFEL_FK": "zsolt1"
                                },
                                {
                                    "UGYFEL_FK": "tunde"
                                },
                                {
                                    "UGYFEL_FK": "VIKTORK"
                                },
                                {
                                    "UGYFEL_FK": "JUDITH"
                                },
                                {
                                    "UGYFEL_FK": "annamaria1"
                                },
                                {
                                    "UGYFEL_FK": "klaudia2"
                                },
                                {
                                    "UGYFEL_FK": "LASZLOA"
                                },
                                {
                                    "UGYFEL_FK": "balint1"
                                },
                                {
                                    "UGYFEL_FK": "BERNADETTO"
                                },
                                {
                                    "UGYFEL_FK": "julia"
                                },
                                {
                                    "UGYFEL_FK": "andras41"
                                },
                                {
                                    "UGYFEL_FK": "NIKOLETTAT"
                                },
                                {
                                    "UGYFEL_FK": "krisztian4"
                                },
                                {
                                    "UGYFEL_FK": "zsolt1"
                                },
                                {
                                    "UGYFEL_FK": "kata"
                                },
                                {
                                    "UGYFEL_FK": "ARONK"
                                },
                                {
                                    "UGYFEL_FK": "balint1"
                                },
                                {
                                    "UGYFEL_FK": "LASZLON"
                                },
                                {
                                    "UGYFEL_FK": "KRISZTINAG"
                                },
                                {
                                    "UGYFEL_FK": "ANNAMARIAR"
                                },
                                {
                                    "UGYFEL_FK": "alexandra"
                                },
                                {
                                    "UGYFEL_FK": "david"
                                },
                                {
                                    "UGYFEL_FK": "roland"
                                },
                                {
                                    "UGYFEL_FK": "sebestyen"
                                },
                                {
                                    "UGYFEL_FK": "BEATRIXK"
                                },
                                {
                                    "UGYFEL_FK": "BERNADETTO"
                                },
                                {
                                    "UGYFEL_FK": "csongor3"
                                },
                                {
                                    "UGYFEL_FK": "BEATRIXK"
                                },
                                {
                                    "UGYFEL_FK": "GYONGYIK"
                                },
                                {
                                    "UGYFEL_FK": "GYORGYO"
                                },
                                {
                                    "UGYFEL_FK": "LASZLOA"
                                },
                                {
                                    "UGYFEL_FK": "balint1"
                                },
                                {
                                    "UGYFEL_FK": "andras3"
                                },
                                {
                                    "UGYFEL_FK": "TAMASF"
                                },
                                {
                                    "UGYFEL_FK": "csongor3"
                                },
                                {
                                    "UGYFEL_FK": "BEATRIXS"
                                },
                                {
                                    "UGYFEL_FK": "bernadett1"
                                },
                                {
                                    "UGYFEL_FK": "katka"
                                },
                                {
                                    "UGYFEL_FK": "andi"
                                },
                                {
                                    "UGYFEL_FK": "katka"
                                },
                                {
                                    "UGYFEL_FK": "brigitta3"
                                },
                                {
                                    "UGYFEL_FK": "mark"
                                },
                                {
                                    "UGYFEL_FK": "tamas"
                                },
                                {
                                    "UGYFEL_FK": "ZSUZSAV"
                                },
                                {
                                    "UGYFEL_FK": "lala"
                                },
                                {
                                    "UGYFEL_FK": "georgij"
                                },
                                {
                                    "UGYFEL_FK": "norbert4"
                                },
                                {
                                    "UGYFEL_FK": "krisztina1"
                                },
                                {
                                    "UGYFEL_FK": "ANIKOS"
                                },
                                {
                                    "UGYFEL_FK": "ferenc1"
                                },
                                {
                                    "UGYFEL_FK": "norbert4"
                                },
                                {
                                    "UGYFEL_FK": "zsofi1"
                                },
                                {
                                    "UGYFEL_FK": "bernadett2"
                                },
                                {
                                    "UGYFEL_FK": "ZSOLTJ"
                                },
                                {
                                    "UGYFEL_FK": "SZABOLCSM"
                                },
                                {
                                    "UGYFEL_FK": "BEATRIXK"
                                },
                                {
                                    "UGYFEL_FK": "gabor1"
                                },
                                {
                                    "UGYFEL_FK": "bertalan"
                                },
                                {
                                    "UGYFEL_FK": "andras21"
                                },
                                {
                                    "UGYFEL_FK": "nikolett3"
                                },
                                {
                                    "UGYFEL_FK": "debora"
                                },
                                {
                                    "UGYFEL_FK": "roland"
                                },
                                {
                                    "UGYFEL_FK": "marton"
                                },
                                {
                                    "UGYFEL_FK": "AGNESH"
                                },
                                {
                                    "UGYFEL_FK": "maria1"
                                },
                                {
                                    "UGYFEL_FK": "imre1"
                                },
                                {
                                    "UGYFEL_FK": "andras41"
                                },
                                {
                                    "UGYFEL_FK": "norbert5"
                                },
                                {
                                    "UGYFEL_FK": "RENATAS"
                                },
                                {
                                    "UGYFEL_FK": "aniko"
                                },
                                {
                                    "UGYFEL_FK": "MIKLOSB"
                                },
                                {
                                    "UGYFEL_FK": "ANIKOS"
                                },
                                {
                                    "UGYFEL_FK": "imre1"
                                },
                                {
                                    "UGYFEL_FK": "MIHALYJ"
                                },
                                {
                                    "UGYFEL_FK": "TAMASF"
                                },
                                {
                                    "UGYFEL_FK": "nikoletta4"
                                },
                                {
                                    "UGYFEL_FK": "eszter2"
                                },
                                {
                                    "UGYFEL_FK": "david"
                                },
                                {
                                    "UGYFEL_FK": "peter3"
                                },
                                {
                                    "UGYFEL_FK": "fruzsina4"
                                },
                                {
                                    "UGYFEL_FK": "katalin4"
                                },
                                {
                                    "UGYFEL_FK": "ISTVANV"
                                },
                                {
                                    "UGYFEL_FK": "kata"
                                },
                                {
                                    "UGYFEL_FK": "GYONGYIK"
                                },
                                {
                                    "UGYFEL_FK": "aniko4"
                                },
                                {
                                    "UGYFEL_FK": "katalin4"
                                },
                                {
                                    "UGYFEL_FK": "ARONK"
                                },
                                {
                                    "UGYFEL_FK": "peter2"
                                },
                                {
                                    "UGYFEL_FK": "beata4"
                                },
                                {
                                    "UGYFEL_FK": "kata"
                                },
                                {
                                    "UGYFEL_FK": "aron2"
                                },
                                {
                                    "UGYFEL_FK": "TAMASF"
                                },
                                {
                                    "UGYFEL_FK": "andras21"
                                },
                                {
                                    "UGYFEL_FK": "sandor"
                                },
                                {
                                    "UGYFEL_FK": "JANOSP"
                                },
                                {
                                    "UGYFEL_FK": "krisztina"
                                },
                                {
                                    "UGYFEL_FK": "jozsef2"
                                },
                                {
                                    "UGYFEL_FK": "ANDRASE"
                                },
                                {
                                    "UGYFEL_FK": "katalin"
                                },
                                {
                                    "UGYFEL_FK": "kata"
                                },
                                {
                                    "UGYFEL_FK": "eszter2"
                                },
                                {
                                    "UGYFEL_FK": "norbert"
                                },
                                {
                                    "UGYFEL_FK": "balazs2"
                                },
                                {
                                    "UGYFEL_FK": "KRISZTIANM"
                                },
                                {
                                    "UGYFEL_FK": "csongor3"
                                },
                                {
                                    "UGYFEL_FK": "gabriella1"
                                },
                                {
                                    "UGYFEL_FK": "balazs2"
                                },
                                {
                                    "UGYFEL_FK": "dani"
                                },
                                {
                                    "UGYFEL_FK": "zsuzsanna"
                                },
                                {
                                    "UGYFEL_FK": "gabor1"
                                },
                                {
                                    "UGYFEL_FK": "ROBERTI"
                                },
                                {
                                    "UGYFEL_FK": "norbert2"
                                },
                                {
                                    "UGYFEL_FK": "katka"
                                },
                                {
                                    "UGYFEL_FK": "zoltan"
                                },
                                {
                                    "UGYFEL_FK": "aniko4"
                                },
                                {
                                    "UGYFEL_FK": "laszlo2"
                                },
                                {
                                    "UGYFEL_FK": "reka4"
                                },
                                {
                                    "UGYFEL_FK": "akos"
                                },
                                {
                                    "UGYFEL_FK": "bernadett2"
                                },
                                {
                                    "UGYFEL_FK": "daniel"
                                },
                                {
                                    "UGYFEL_FK": "ARONK"
                                },
                                {
                                    "UGYFEL_FK": "ROBERTP"
                                },
                                {
                                    "UGYFEL_FK": "jozsef2"
                                },
                                {
                                    "UGYFEL_FK": "zsuzsa3"
                                },
                                {
                                    "UGYFEL_FK": "roza2"
                                },
                                {
                                    "UGYFEL_FK": "marton"
                                },
                                {
                                    "UGYFEL_FK": "peter4"
                                },
                                {
                                    "UGYFEL_FK": "TAMASF"
                                },
                                {
                                    "UGYFEL_FK": "balazs2"
                                },
                                {
                                    "UGYFEL_FK": "adam3"
                                },
                                {
                                    "UGYFEL_FK": "andrea4"
                                },
                                {
                                    "UGYFEL_FK": "krisztina"
                                },
                                {
                                    "UGYFEL_FK": "andi"
                                },
                                {
                                    "UGYFEL_FK": "jozsef"
                                },
                                {
                                    "UGYFEL_FK": "SEBASTIANF"
                                },
                                {
                                    "UGYFEL_FK": "MARKH"
                                },
                                {
                                    "UGYFEL_FK": "ANDREAT"
                                },
                                {
                                    "UGYFEL_FK": "balazs3"
                                },
                                {
                                    "UGYFEL_FK": "krisztina1"
                                },
                                {
                                    "UGYFEL_FK": "ARPADH"
                                },
                                {
                                    "UGYFEL_FK": "balint1"
                                },
                                {
                                    "UGYFEL_FK": "pal"
                                },
                                {
                                    "UGYFEL_FK": "andras4"
                                },
                                {
                                    "UGYFEL_FK": "imre"
                                },
                                {
                                    "UGYFEL_FK": "edit"
                                },
                                {
                                    "UGYFEL_FK": "SEBASTIANF"
                                },
                                {
                                    "UGYFEL_FK": "ZSUZSAV"
                                },
                                {
                                    "UGYFEL_FK": "georgij"
                                },
                                {
                                    "UGYFEL_FK": "edit"
                                },
                                {
                                    "UGYFEL_FK": "ARPADH"
                                },
                                {
                                    "UGYFEL_FK": "krisztina"
                                },
                                {
                                    "UGYFEL_FK": "dani"
                                },
                                {
                                    "UGYFEL_FK": "sandor"
                                },
                                {
                                    "UGYFEL_FK": "kata"
                                },
                                {
                                    "UGYFEL_FK": "SZILARDS"
                                },
                                {
                                    "UGYFEL_FK": "david1"
                                },
                                {
                                    "UGYFEL_FK": "NIKOLETTAT"
                                },
                                {
                                    "UGYFEL_FK": "andras41"
                                },
                                {
                                    "UGYFEL_FK": "ANNAMARIAR"
                                },
                                {
                                    "UGYFEL_FK": "MARKH"
                                },
                                {
                                    "UGYFEL_FK": "kornel4"
                                },
                                {
                                    "UGYFEL_FK": "laszlo1"
                                },
                                {
                                    "UGYFEL_FK": "aladar"
                                },
                                {
                                    "UGYFEL_FK": "peter4"
                                },
                                {
                                    "UGYFEL_FK": "veronika4"
                                },
                                {
                                    "UGYFEL_FK": "MARKH"
                                },
                                {
                                    "UGYFEL_FK": "emese"
                                },
                                {
                                    "UGYFEL_FK": "arpad2"
                                },
                                {
                                    "UGYFEL_FK": "anita"
                                },
                                {
                                    "UGYFEL_FK": "zsuzsa3"
                                },
                                {
                                    "UGYFEL_FK": "ISTVANV"
                                },
                                {
                                    "UGYFEL_FK": "fruzsina4"
                                },
                                {
                                    "UGYFEL_FK": "reka4"
                                },
                                {
                                    "UGYFEL_FK": "attila"
                                },
                                {
                                    "UGYFEL_FK": "zoltan4"
                                },
                                {
                                    "UGYFEL_FK": "andras2"
                                },
                                {
                                    "UGYFEL_FK": "peter4"
                                },
                                {
                                    "UGYFEL_FK": "andras41"
                                },
                                {
                                    "UGYFEL_FK": "kriszti"
                                },
                                {
                                    "UGYFEL_FK": "kristof4"
                                },
                                {
                                    "UGYFEL_FK": "eszter2"
                                },
                                {
                                    "UGYFEL_FK": "BEATRIXS"
                                },
                                {
                                    "UGYFEL_FK": "BEATRIXS"
                                },
                                {
                                    "UGYFEL_FK": "ZSOLTJ"
                                },
                                {
                                    "UGYFEL_FK": "andras21"
                                },
                                {
                                    "UGYFEL_FK": "dani"
                                },
                                {
                                    "UGYFEL_FK": "vivien3"
                                },
                                {
                                    "UGYFEL_FK": "david1"
                                },
                                {
                                    "UGYFEL_FK": "kriszti"
                                },
                                {
                                    "UGYFEL_FK": "gusztav"
                                },
                                {
                                    "UGYFEL_FK": "MATEK"
                                },
                                {
                                    "UGYFEL_FK": "klaudia2"
                                },
                                {
                                    "UGYFEL_FK": "eszter2"
                                },
                                {
                                    "UGYFEL_FK": "SZILARDS"
                                },
                                {
                                    "UGYFEL_FK": "LASZLON"
                                },
                                {
                                    "UGYFEL_FK": "beata4"
                                },
                                {
                                    "UGYFEL_FK": "anita"
                                },
                                {
                                    "UGYFEL_FK": "gabriella10"
                                },
                                {
                                    "UGYFEL_FK": "klaudia2"
                                },
                                {
                                    "UGYFEL_FK": "rajmond4"
                                },
                                {
                                    "UGYFEL_FK": "beata4"
                                },
                                {
                                    "UGYFEL_FK": "janos3"
                                },
                                {
                                    "UGYFEL_FK": "eszter"
                                },
                                {
                                    "UGYFEL_FK": "BERNADETTO"
                                },
                                {
                                    "UGYFEL_FK": "andras21"
                                },
                                {
                                    "UGYFEL_FK": "akos"
                                },
                                {
                                    "UGYFEL_FK": "norbert4"
                                },
                                {
                                    "UGYFEL_FK": "sara"
                                },
                                {
                                    "UGYFEL_FK": "eva"
                                },
                                {
                                    "UGYFEL_FK": "andras2"
                                },
                                {
                                    "UGYFEL_FK": "istvan"
                                },
                                {
                                    "UGYFEL_FK": "ANDREAT"
                                },
                                {
                                    "UGYFEL_FK": "ROBERTI"
                                },
                                {
                                    "UGYFEL_FK": "bernadett1"
                                },
                                {
                                    "UGYFEL_FK": "ferenc1"
                                },
                                {
                                    "UGYFEL_FK": "ANIKOS"
                                },
                                {
                                    "UGYFEL_FK": "jozsef"
                                },
                                {
                                    "UGYFEL_FK": "miklos2"
                                },
                                {
                                    "UGYFEL_FK": "attila1"
                                },
                                {
                                    "UGYFEL_FK": "LASZLON"
                                },
                                {
                                    "UGYFEL_FK": "balint"
                                },
                                {
                                    "UGYFEL_FK": "sandor3"
                                },
                                {
                                    "UGYFEL_FK": "peter4"
                                },
                                {
                                    "UGYFEL_FK": "dora3"
                                },
                                {
                                    "UGYFEL_FK": "ROBERTI"
                                },
                                {
                                    "UGYFEL_FK": "andras41"
                                },
                                {
                                    "UGYFEL_FK": "MATYASS"
                                },
                                {
                                    "UGYFEL_FK": "szilvia1"
                                },
                                {
                                    "UGYFEL_FK": "tibor"
                                },
                                {
                                    "UGYFEL_FK": "peter2"
                                },
                                {
                                    "UGYFEL_FK": "brigitta3"
                                },
                                {
                                    "UGYFEL_FK": "sara"
                                },
                                {
                                    "UGYFEL_FK": "anett3"
                                },
                                {
                                    "UGYFEL_FK": "arpad2"
                                },
                                {
                                    "UGYFEL_FK": "VIKTORIAU"
                                },
                                {
                                    "UGYFEL_FK": "attila1"
                                },
                                {
                                    "UGYFEL_FK": "andras41"
                                },
                                {
                                    "UGYFEL_FK": "attila"
                                },
                                {
                                    "UGYFEL_FK": "bernadett1"
                                },
                                {
                                    "UGYFEL_FK": "sandor4"
                                },
                                {
                                    "UGYFEL_FK": "EVAV"
                                },
                                {
                                    "UGYFEL_FK": "aniko4"
                                },
                                {
                                    "UGYFEL_FK": "anett3"
                                },
                                {
                                    "UGYFEL_FK": "EVAV"
                                },
                                {
                                    "UGYFEL_FK": "krisztian4"
                                },
                                {
                                    "UGYFEL_FK": "AGNESK"
                                },
                                {
                                    "UGYFEL_FK": "SZABOLCSM"
                                },
                                {
                                    "UGYFEL_FK": "akos"
                                },
                                {
                                    "UGYFEL_FK": "adam1"
                                },
                                {
                                    "UGYFEL_FK": "tihamer"
                                },
                                {
                                    "UGYFEL_FK": "PETERB"
                                },
                                {
                                    "UGYFEL_FK": "ZOLTANP"
                                },
                                {
                                    "UGYFEL_FK": "gabor1"
                                },
                                {
                                    "UGYFEL_FK": "tibor2"
                                },
                                {
                                    "UGYFEL_FK": "eszter2"
                                },
                                {
                                    "UGYFEL_FK": "mark"
                                },
                                {
                                    "UGYFEL_FK": "andrea"
                                },
                                {
                                    "UGYFEL_FK": "brigitta"
                                },
                                {
                                    "UGYFEL_FK": "alexandra"
                                },
                                {
                                    "UGYFEL_FK": "zoltan4"
                                },
                                {
                                    "UGYFEL_FK": "janos3"
                                },
                                {
                                    "UGYFEL_FK": "nikolett3"
                                },
                                {
                                    "UGYFEL_FK": "BENCEB"
                                },
                                {
                                    "UGYFEL_FK": "agnes3"
                                },
                                {
                                    "UGYFEL_FK": "sandor3"
                                },
                                {
                                    "UGYFEL_FK": "aron2"
                                },
                                {
                                    "UGYFEL_FK": "robert2"
                                },
                                {
                                    "UGYFEL_FK": "IBOLYAA"
                                },
                                {
                                    "UGYFEL_FK": "BEATRIXK"
                                },
                                {
                                    "UGYFEL_FK": "ROBERTI"
                                },
                                {
                                    "UGYFEL_FK": "eszter2"
                                },
                                {
                                    "UGYFEL_FK": "peter4"
                                },
                                {
                                    "UGYFEL_FK": "tunde"
                                },
                                {
                                    "UGYFEL_FK": "MATYASS"
                                },
                                {
                                    "UGYFEL_FK": "szilvia1"
                                },
                                {
                                    "UGYFEL_FK": "kati"
                                },
                                {
                                    "UGYFEL_FK": "eszter"
                                },
                                {
                                    "UGYFEL_FK": "zoltan4"
                                },
                                {
                                    "UGYFEL_FK": "sebestyen"
                                },
                                {
                                    "UGYFEL_FK": "timea2"
                                },
                                {
                                    "UGYFEL_FK": "ROBERTI"
                                },
                                {
                                    "UGYFEL_FK": "katalin"
                                },
                                {
                                    "UGYFEL_FK": "VIKTORIAU"
                                },
                                {
                                    "UGYFEL_FK": "bernadett1"
                                },
                                {
                                    "UGYFEL_FK": "peter1"
                                },
                                {
                                    "UGYFEL_FK": "ZSUZSAV"
                                },
                                {
                                    "UGYFEL_FK": "valentin"
                                },
                                {
                                    "UGYFEL_FK": "RENATAK"
                                },
                                {
                                    "UGYFEL_FK": "adam4"
                                },
                                {
                                    "UGYFEL_FK": "zsuzsa3"
                                },
                                {
                                    "UGYFEL_FK": "szilvia1"
                                },
                                {
                                    "UGYFEL_FK": "SZABOLCSM"
                                },
                                {
                                    "UGYFEL_FK": "imre"
                                },
                                {
                                    "UGYFEL_FK": "bernadett1"
                                },
                                {
                                    "UGYFEL_FK": "norbert4"
                                },
                                {
                                    "UGYFEL_FK": "sara"
                                },
                                {
                                    "UGYFEL_FK": "GYORGYO"
                                },
                                {
                                    "UGYFEL_FK": "debora"
                                },
                                {
                                    "UGYFEL_FK": "dora3"
                                },
                                {
                                    "UGYFEL_FK": "ANIKOS"
                                },
                                {
                                    "UGYFEL_FK": "krisztina1"
                                },
                                {
                                    "UGYFEL_FK": "julianna4"
                                },
                                {
                                    "UGYFEL_FK": "attila1"
                                },
                                {
                                    "UGYFEL_FK": "bence"
                                },
                                {
                                    "UGYFEL_FK": "kati"
                                },
                                {
                                    "UGYFEL_FK": "peter4"
                                },
                                {
                                    "UGYFEL_FK": "lala"
                                },
                                {
                                    "UGYFEL_FK": "RENATAK"
                                },
                                {
                                    "UGYFEL_FK": "AGNESH"
                                },
                                {
                                    "UGYFEL_FK": "MATYASS"
                                },
                                {
                                    "UGYFEL_FK": "david"
                                },
                                {
                                    "UGYFEL_FK": "peter3"
                                },
                                {
                                    "UGYFEL_FK": "bernadett2"
                                },
                                {
                                    "UGYFEL_FK": "zoltan4"
                                },
                                {
                                    "UGYFEL_FK": "ATTILAO"
                                },
                                {
                                    "UGYFEL_FK": "andrea4"
                                },
                                {
                                    "UGYFEL_FK": "norbert2"
                                },
                                {
                                    "UGYFEL_FK": "MIHALYJ"
                                },
                                {
                                    "UGYFEL_FK": "ESZTERE"
                                },
                                {
                                    "UGYFEL_FK": "peter2"
                                },
                                {
                                    "UGYFEL_FK": "krisztian4"
                                },
                                {
                                    "UGYFEL_FK": "BELAF"
                                },
                                {
                                    "UGYFEL_FK": "balazs2"
                                },
                                {
                                    "UGYFEL_FK": "ARONK"
                                },
                                {
                                    "UGYFEL_FK": "bertalan"
                                },
                                {
                                    "UGYFEL_FK": "NANDORF"
                                },
                                {
                                    "UGYFEL_FK": "brigitta3"
                                },
                                {
                                    "UGYFEL_FK": "julianna4"
                                },
                                {
                                    "UGYFEL_FK": "ilona3"
                                },
                                {
                                    "UGYFEL_FK": "eszter2"
                                },
                                {
                                    "UGYFEL_FK": "katka"
                                },
                                {
                                    "UGYFEL_FK": "ARONK"
                                },
                                {
                                    "UGYFEL_FK": "aron2"
                                },
                                {
                                    "UGYFEL_FK": "emese"
                                },
                                {
                                    "UGYFEL_FK": "tibor"
                                },
                                {
                                    "UGYFEL_FK": "norbert5"
                                },
                                {
                                    "UGYFEL_FK": "roland1"
                                },
                                {
                                    "UGYFEL_FK": "denes"
                                },
                                {
                                    "UGYFEL_FK": "eva2"
                                },
                                {
                                    "UGYFEL_FK": "arpad2"
                                },
                                {
                                    "UGYFEL_FK": "balint1"
                                },
                                {
                                    "UGYFEL_FK": "julia4"
                                },
                                {
                                    "UGYFEL_FK": "JANOSG"
                                },
                                {
                                    "UGYFEL_FK": "gabor4"
                                },
                                {
                                    "UGYFEL_FK": "agnes"
                                },
                                {
                                    "UGYFEL_FK": "ferenc1"
                                },
                                {
                                    "UGYFEL_FK": "rajmond4"
                                },
                                {
                                    "UGYFEL_FK": "maria1"
                                },
                                {
                                    "UGYFEL_FK": "GYONGYIK"
                                },
                                {
                                    "UGYFEL_FK": "krisztina"
                                },
                                {
                                    "UGYFEL_FK": "MONIKAM"
                                },
                                {
                                    "UGYFEL_FK": "ARPADM"
                                },
                                {
                                    "UGYFEL_FK": "daniel1"
                                },
                                {
                                    "UGYFEL_FK": "attila1"
                                },
                                {
                                    "UGYFEL_FK": "ANIKOS"
                                },
                                {
                                    "UGYFEL_FK": "sandor3"
                                },
                                {
                                    "UGYFEL_FK": "peter4"
                                },
                                {
                                    "UGYFEL_FK": "ANNAMARIAR"
                                },
                                {
                                    "UGYFEL_FK": "valentin"
                                },
                                {
                                    "UGYFEL_FK": "SZABOLCSM"
                                },
                                {
                                    "UGYFEL_FK": "csongor3"
                                },
                                {
                                    "UGYFEL_FK": "daniel"
                                },
                                {
                                    "UGYFEL_FK": "BEATRIXK"
                                },
                                {
                                    "UGYFEL_FK": "tamara2"
                                },
                                {
                                    "UGYFEL_FK": "adam4"
                                },
                                {
                                    "UGYFEL_FK": "peter2"
                                },
                                {
                                    "UGYFEL_FK": "miklos2"
                                },
                                {
                                    "UGYFEL_FK": "rajmond4"
                                },
                                {
                                    "UGYFEL_FK": "norbert"
                                },
                                {
                                    "UGYFEL_FK": "andi"
                                },
                                {
                                    "UGYFEL_FK": "PETERB"
                                },
                                {
                                    "UGYFEL_FK": "vivien3"
                                },
                                {
                                    "UGYFEL_FK": "sara"
                                },
                                {
                                    "UGYFEL_FK": "tunde"
                                },
                                {
                                    "UGYFEL_FK": "gabor1"
                                },
                                {
                                    "UGYFEL_FK": "zoltan4"
                                },
                                {
                                    "UGYFEL_FK": "mark"
                                },
                                {
                                    "UGYFEL_FK": "roland"
                                },
                                {
                                    "UGYFEL_FK": "andrea3"
                                },
                                {
                                    "UGYFEL_FK": "david1"
                                },
                                {
                                    "UGYFEL_FK": "ANDRASE"
                                },
                                {
                                    "UGYFEL_FK": "andras41"
                                },
                                {
                                    "UGYFEL_FK": "akos"
                                },
                                {
                                    "UGYFEL_FK": "ZSUZSAV"
                                },
                                {
                                    "UGYFEL_FK": "istvan"
                                },
                                {
                                    "UGYFEL_FK": "aladar"
                                },
                                {
                                    "UGYFEL_FK": "dani"
                                },
                                {
                                    "UGYFEL_FK": "dora3"
                                },
                                {
                                    "UGYFEL_FK": "fruzsina4"
                                },
                                {
                                    "UGYFEL_FK": "krisztina"
                                },
                                {
                                    "UGYFEL_FK": "jozsef2"
                                },
                                {
                                    "UGYFEL_FK": "andras41"
                                },
                                {
                                    "UGYFEL_FK": "daniel1"
                                },
                                {
                                    "UGYFEL_FK": "andras21"
                                },
                                {
                                    "UGYFEL_FK": "sara"
                                },
                                {
                                    "UGYFEL_FK": "RENATAK"
                                },
                                {
                                    "UGYFEL_FK": "emese"
                                },
                                {
                                    "UGYFEL_FK": "JANOSP"
                                },
                                {
                                    "UGYFEL_FK": "balint"
                                },
                                {
                                    "UGYFEL_FK": "peter4"
                                },
                                {
                                    "UGYFEL_FK": "andras4"
                                },
                                {
                                    "UGYFEL_FK": "JANOSP"
                                },
                                {
                                    "UGYFEL_FK": "ANDRASN"
                                },
                                {
                                    "UGYFEL_FK": "laszlo2"
                                },
                                {
                                    "UGYFEL_FK": "jozsef2"
                                },
                                {
                                    "UGYFEL_FK": "bertalan"
                                },
                                {
                                    "UGYFEL_FK": "julianna4"
                                },
                                {
                                    "UGYFEL_FK": "timea2"
                                },
                                {
                                    "UGYFEL_FK": "katalin4"
                                },
                                {
                                    "UGYFEL_FK": "BENCEB"
                                },
                                {
                                    "UGYFEL_FK": "zsuzsa"
                                },
                                {
                                    "UGYFEL_FK": "andras3"
                                },
                                {
                                    "UGYFEL_FK": "LASZLON"
                                },
                                {
                                    "UGYFEL_FK": "ANDRASE"
                                },
                                {
                                    "UGYFEL_FK": "sandor4"
                                },
                                {
                                    "UGYFEL_FK": "alexandra"
                                },
                                {
                                    "UGYFEL_FK": "norbert4"
                                },
                                {
                                    "UGYFEL_FK": "valentin"
                                },
                                {
                                    "UGYFEL_FK": "GYONGYIK"
                                },
                                {
                                    "UGYFEL_FK": "eszter2"
                                },
                                {
                                    "UGYFEL_FK": "BELAF"
                                },
                                {
                                    "UGYFEL_FK": "TAMASF"
                                },
                                {
                                    "UGYFEL_FK": "sandor4"
                                },
                                {
                                    "UGYFEL_FK": "katalin4"
                                },
                                {
                                    "UGYFEL_FK": "balint2"
                                },
                                {
                                    "UGYFEL_FK": "ARPADH"
                                },
                                {
                                    "UGYFEL_FK": "szabolcs"
                                },
                                {
                                    "UGYFEL_FK": "MIKLOSB"
                                },
                                {
                                    "UGYFEL_FK": "eszter2"
                                },
                                {
                                    "UGYFEL_FK": "balazs3"
                                },
                                {
                                    "UGYFEL_FK": "adam4"
                                },
                                {
                                    "UGYFEL_FK": "jozsef"
                                },
                                {
                                    "UGYFEL_FK": "eva2"
                                },
                                {
                                    "UGYFEL_FK": "BELAF"
                                },
                                {
                                    "UGYFEL_FK": "sara"
                                },
                                {
                                    "UGYFEL_FK": "ZOLTANP"
                                },
                                {
                                    "UGYFEL_FK": "ARONK"
                                },
                                {
                                    "UGYFEL_FK": "emese"
                                },
                                {
                                    "UGYFEL_FK": "nikoletta4"
                                },
                                {
                                    "UGYFEL_FK": "matyas2"
                                },
                                {
                                    "UGYFEL_FK": "TAMASF"
                                },
                                {
                                    "UGYFEL_FK": "krisztian4"
                                },
                                {
                                    "UGYFEL_FK": "BEATRIXK"
                                },
                                {
                                    "UGYFEL_FK": "katalin"
                                },
                                {
                                    "UGYFEL_FK": "ARPADM"
                                },
                                {
                                    "UGYFEL_FK": "timea2"
                                },
                                {
                                    "UGYFEL_FK": "tunde"
                                },
                                {
                                    "UGYFEL_FK": "akos"
                                },
                                {
                                    "UGYFEL_FK": "norbert"
                                },
                                {
                                    "UGYFEL_FK": "fruzsina4"
                                },
                                {
                                    "UGYFEL_FK": "bernadett2"
                                },
                                {
                                    "UGYFEL_FK": "bence"
                                },
                                {
                                    "UGYFEL_FK": "pal"
                                },
                                {
                                    "UGYFEL_FK": "BEATRIXK"
                                },
                                {
                                    "UGYFEL_FK": "AGNESK"
                                },
                                {
                                    "UGYFEL_FK": "katalin"
                                },
                                {
                                    "UGYFEL_FK": "brigitta"
                                },
                                {
                                    "UGYFEL_FK": "robert2"
                                },
                                {
                                    "UGYFEL_FK": "vivien3"
                                },
                                {
                                    "UGYFEL_FK": "balint1"
                                },
                                {
                                    "UGYFEL_FK": "ARPADH"
                                },
                                {
                                    "UGYFEL_FK": "JANOSP"
                                },
                                {
                                    "UGYFEL_FK": "JUDITH"
                                },
                                {
                                    "UGYFEL_FK": "MATYASS"
                                },
                                {
                                    "UGYFEL_FK": "BEATRIXS"
                                },
                                {
                                    "UGYFEL_FK": "balu"
                                },
                                {
                                    "UGYFEL_FK": "attila"
                                },
                                {
                                    "UGYFEL_FK": "roland1"
                                },
                                {
                                    "UGYFEL_FK": "eszter"
                                },
                                {
                                    "UGYFEL_FK": "vivien3"
                                },
                                {
                                    "UGYFEL_FK": "arpad2"
                                },
                                {
                                    "UGYFEL_FK": "katalin"
                                },
                                {
                                    "UGYFEL_FK": "tihamer"
                                },
                                {
                                    "UGYFEL_FK": "sara"
                                },
                                {
                                    "UGYFEL_FK": "szilvia1"
                                },
                                {
                                    "UGYFEL_FK": "KRISZTIANM"
                                },
                                {
                                    "UGYFEL_FK": "ilona3"
                                },
                                {
                                    "UGYFEL_FK": "lajos"
                                },
                                {
                                    "UGYFEL_FK": "daniel"
                                },
                                {
                                    "UGYFEL_FK": "peter3"
                                },
                                {
                                    "UGYFEL_FK": "ZOLTANP"
                                },
                                {
                                    "UGYFEL_FK": "timea"
                                },
                                {
                                    "UGYFEL_FK": "balazs1"
                                },
                                {
                                    "UGYFEL_FK": "bence"
                                },
                                {
                                    "UGYFEL_FK": "szilvia1"
                                },
                                {
                                    "UGYFEL_FK": "JANOSG"
                                },
                                {
                                    "UGYFEL_FK": "zoltan4"
                                },
                                {
                                    "UGYFEL_FK": "balint1"
                                },
                                {
                                    "UGYFEL_FK": "henrik3"
                                },
                                {
                                    "UGYFEL_FK": "akos"
                                },
                                {
                                    "UGYFEL_FK": "david1"
                                },
                                {
                                    "UGYFEL_FK": "attila4"
                                },
                                {
                                    "UGYFEL_FK": "zoltan4"
                                },
                                {
                                    "UGYFEL_FK": "balazs1"
                                },
                                {
                                    "UGYFEL_FK": "BERNADETTO"
                                },
                                {
                                    "UGYFEL_FK": "ARONK"
                                },
                                {
                                    "UGYFEL_FK": "istvan"
                                },
                                {
                                    "UGYFEL_FK": "katka"
                                },
                                {
                                    "UGYFEL_FK": "tunde"
                                },
                                {
                                    "UGYFEL_FK": "balint1"
                                },
                                {
                                    "UGYFEL_FK": "AGNESH"
                                },
                                {
                                    "UGYFEL_FK": "roland1"
                                },
                                {
                                    "UGYFEL_FK": "daniel1"
                                },
                                {
                                    "UGYFEL_FK": "ARPADM"
                                },
                                {
                                    "UGYFEL_FK": "eszter4"
                                },
                                {
                                    "UGYFEL_FK": "krisztian4"
                                },
                                {
                                    "UGYFEL_FK": "eva2"
                                },
                                {
                                    "UGYFEL_FK": "SZABOLCSM"
                                },
                                {
                                    "UGYFEL_FK": "lala"
                                },
                                {
                                    "UGYFEL_FK": "JOZSEFG"
                                },
                                {
                                    "UGYFEL_FK": "andras4"
                                },
                                {
                                    "UGYFEL_FK": "zsuzsanna"
                                },
                                {
                                    "UGYFEL_FK": "MATYASS"
                                },
                                {
                                    "UGYFEL_FK": "daniel"
                                },
                                {
                                    "UGYFEL_FK": "JANOSG"
                                },
                                {
                                    "UGYFEL_FK": "ANNAMARIAR"
                                },
                                {
                                    "UGYFEL_FK": "roza2"
                                },
                                {
                                    "UGYFEL_FK": "peter3"
                                },
                                {
                                    "UGYFEL_FK": "adam4"
                                },
                                {
                                    "UGYFEL_FK": "alexandra"
                                },
                                {
                                    "UGYFEL_FK": "andi"
                                },
                                {
                                    "UGYFEL_FK": "eva"
                                },
                                {
                                    "UGYFEL_FK": "kata"
                                },
                                {
                                    "UGYFEL_FK": "edit"
                                },
                                {
                                    "UGYFEL_FK": "AGNESH"
                                },
                                {
                                    "UGYFEL_FK": "SZILARDS"
                                },
                                {
                                    "UGYFEL_FK": "KRISZTIANM"
                                },
                                {
                                    "UGYFEL_FK": "zsuzsanna"
                                },
                                {
                                    "UGYFEL_FK": "krisztian4"
                                },
                                {
                                    "UGYFEL_FK": "MATEK"
                                },
                                {
                                    "UGYFEL_FK": "ZOLTANT"
                                },
                                {
                                    "UGYFEL_FK": "roland1"
                                },
                                {
                                    "UGYFEL_FK": "lala"
                                },
                                {
                                    "UGYFEL_FK": "MONIKAM"
                                },
                                {
                                    "UGYFEL_FK": "dani"
                                },
                                {
                                    "UGYFEL_FK": "IBOLYAA"
                                },
                                {
                                    "UGYFEL_FK": "aron2"
                                },
                                {
                                    "UGYFEL_FK": "david"
                                },
                                {
                                    "UGYFEL_FK": "katalin4"
                                },
                                {
                                    "UGYFEL_FK": "veronika4"
                                },
                                {
                                    "UGYFEL_FK": "alexandra"
                                },
                                {
                                    "UGYFEL_FK": "katka"
                                },
                                {
                                    "UGYFEL_FK": "balazs3"
                                },
                                {
                                    "UGYFEL_FK": "krisztina1"
                                },
                                {
                                    "UGYFEL_FK": "JOZSEFG"
                                },
                                {
                                    "UGYFEL_FK": "MARKH"
                                },
                                {
                                    "UGYFEL_FK": "GYONGYIK"
                                },
                                {
                                    "UGYFEL_FK": "andrea4"
                                },
                                {
                                    "UGYFEL_FK": "sandor4"
                                },
                                {
                                    "UGYFEL_FK": "dani"
                                },
                                {
                                    "UGYFEL_FK": "fruzsina4"
                                },
                                {
                                    "UGYFEL_FK": "attila1"
                                },
                                {
                                    "UGYFEL_FK": "brigitta"
                                },
                                {
                                    "UGYFEL_FK": "debora"
                                },
                                {
                                    "UGYFEL_FK": "RENATAK"
                                },
                                {
                                    "UGYFEL_FK": "bernadett2"
                                },
                                {
                                    "UGYFEL_FK": "katalin4"
                                },
                                {
                                    "UGYFEL_FK": "KRISZTINAG"
                                },
                                {
                                    "UGYFEL_FK": "eszter4"
                                },
                                {
                                    "UGYFEL_FK": "henrik3"
                                },
                                {
                                    "UGYFEL_FK": "BERNADETTO"
                                },
                                {
                                    "UGYFEL_FK": "andras21"
                                },
                                {
                                    "UGYFEL_FK": "szilvia1"
                                },
                                {
                                    "UGYFEL_FK": "eszter2"
                                },
                                {
                                    "UGYFEL_FK": "polla"
                                },
                                {
                                    "UGYFEL_FK": "norbert2"
                                },
                                {
                                    "UGYFEL_FK": "annamaria1"
                                },
                                {
                                    "UGYFEL_FK": "emese"
                                },
                                {
                                    "UGYFEL_FK": "ARONK"
                                },
                                {
                                    "UGYFEL_FK": "JANOSG"
                                },
                                {
                                    "UGYFEL_FK": "imre1"
                                },
                                {
                                    "UGYFEL_FK": "nikoletta4"
                                },
                                {
                                    "UGYFEL_FK": "andras3"
                                },
                                {
                                    "UGYFEL_FK": "BEATRIXS"
                                },
                                {
                                    "UGYFEL_FK": "veronika4"
                                },
                                {
                                    "UGYFEL_FK": "gusztav"
                                },
                                {
                                    "UGYFEL_FK": "julia4"
                                },
                                {
                                    "UGYFEL_FK": "debora"
                                },
                                {
                                    "UGYFEL_FK": "EVAV"
                                },
                                {
                                    "UGYFEL_FK": "gabriella1"
                                },
                                {
                                    "UGYFEL_FK": "SZABOLCSM"
                                },
                                {
                                    "UGYFEL_FK": "kriszti"
                                },
                                {
                                    "UGYFEL_FK": "imre1"
                                },
                                {
                                    "UGYFEL_FK": "peter4"
                                },
                                {
                                    "UGYFEL_FK": "bence"
                                },
                                {
                                    "UGYFEL_FK": "krisztina"
                                },
                                {
                                    "UGYFEL_FK": "NANDORF"
                                },
                                {
                                    "UGYFEL_FK": "adam3"
                                },
                                {
                                    "UGYFEL_FK": "MIHALYJ"
                                },
                                {
                                    "UGYFEL_FK": "MONIKAM"
                                },
                                {
                                    "UGYFEL_FK": "istvan1"
                                },
                                {
                                    "UGYFEL_FK": "SZILARDS"
                                },
                                {
                                    "UGYFEL_FK": "edit"
                                },
                                {
                                    "UGYFEL_FK": "LASZLOA"
                                },
                                {
                                    "UGYFEL_FK": "andras2"
                                },
                                {
                                    "UGYFEL_FK": "BEATRIXK"
                                },
                                {
                                    "UGYFEL_FK": "brigitta3"
                                },
                                {
                                    "UGYFEL_FK": "andrea"
                                },
                                {
                                    "UGYFEL_FK": "balazs1"
                                },
                                {
                                    "UGYFEL_FK": "ESZTERE"
                                },
                                {
                                    "UGYFEL_FK": "polla"
                                },
                                {
                                    "UGYFEL_FK": "balazs1"
                                },
                                {
                                    "UGYFEL_FK": "aniko"
                                },
                                {
                                    "UGYFEL_FK": "daniel"
                                },
                                {
                                    "UGYFEL_FK": "BENCEB"
                                },
                                {
                                    "UGYFEL_FK": "ARPADM"
                                },
                                {
                                    "UGYFEL_FK": "lajos"
                                },
                                {
                                    "UGYFEL_FK": "gabriella1"
                                },
                                {
                                    "UGYFEL_FK": "TAMASF"
                                },
                                {
                                    "UGYFEL_FK": "janos3"
                                },
                                {
                                    "UGYFEL_FK": "GYORGYO"
                                },
                                {
                                    "UGYFEL_FK": "norbert"
                                },
                                {
                                    "UGYFEL_FK": "RENATAS"
                                },
                                {
                                    "UGYFEL_FK": "pal"
                                },
                                {
                                    "UGYFEL_FK": "csongor3"
                                },
                                {
                                    "UGYFEL_FK": "RENATAS"
                                },
                                {
                                    "UGYFEL_FK": "bernadett1"
                                },
                                {
                                    "UGYFEL_FK": "tamas"
                                },
                                {
                                    "UGYFEL_FK": "attila4"
                                },
                                {
                                    "UGYFEL_FK": "bertalan"
                                },
                                {
                                    "UGYFEL_FK": "TAMASF"
                                },
                                {
                                    "UGYFEL_FK": "ARPADH"
                                },
                                {
                                    "UGYFEL_FK": "ANNAMARIAR"
                                },
                                {
                                    "UGYFEL_FK": "david4"
                                },
                                {
                                    "UGYFEL_FK": "norbert4"
                                },
                                {
                                    "UGYFEL_FK": "krisztina"
                                },
                                {
                                    "UGYFEL_FK": "RENATAK"
                                },
                                {
                                    "UGYFEL_FK": "agnes3"
                                },
                                {
                                    "UGYFEL_FK": "ROBERTI"
                                },
                                {
                                    "UGYFEL_FK": "david1"
                                },
                                {
                                    "UGYFEL_FK": "zsofi1"
                                },
                                {
                                    "UGYFEL_FK": "LASZLON"
                                },
                                {
                                    "UGYFEL_FK": "roza2"
                                },
                                {
                                    "UGYFEL_FK": "arpad2"
                                },
                                {
                                    "UGYFEL_FK": "anita"
                                },
                                {
                                    "UGYFEL_FK": "pal"
                                },
                                {
                                    "UGYFEL_FK": "anita"
                                },
                                {
                                    "UGYFEL_FK": "daniel"
                                },
                                {
                                    "UGYFEL_FK": "bertalan"
                                },
                                {
                                    "UGYFEL_FK": "gabriella1"
                                },
                                {
                                    "UGYFEL_FK": "peter3"
                                },
                                {
                                    "UGYFEL_FK": "ARONK"
                                },
                                {
                                    "UGYFEL_FK": "ATTILAO"
                                },
                                {
                                    "UGYFEL_FK": "aniko"
                                },
                                {
                                    "UGYFEL_FK": "adam4"
                                },
                                {
                                    "UGYFEL_FK": "MONIKAM"
                                },
                                {
                                    "UGYFEL_FK": "gusztav"
                                },
                                {
                                    "UGYFEL_FK": "krisztian4"
                                },
                                {
                                    "UGYFEL_FK": "peter1"
                                },
                                {
                                    "UGYFEL_FK": "GYORGYO"
                                },
                                {
                                    "UGYFEL_FK": "maria1"
                                },
                                {
                                    "UGYFEL_FK": "bernadett1"
                                },
                                {
                                    "UGYFEL_FK": "JOZSEFG"
                                },
                                {
                                    "UGYFEL_FK": "katalin"
                                },
                                {
                                    "UGYFEL_FK": "dani"
                                },
                                {
                                    "UGYFEL_FK": "david1"
                                },
                                {
                                    "UGYFEL_FK": "aron2"
                                },
                                {
                                    "UGYFEL_FK": "eszter4"
                                },
                                {
                                    "UGYFEL_FK": "reka4"
                                },
                                {
                                    "UGYFEL_FK": "norbert"
                                },
                                {
                                    "UGYFEL_FK": "julia"
                                },
                                {
                                    "UGYFEL_FK": "balazs2"
                                },
                                {
                                    "UGYFEL_FK": "peter1"
                                },
                                {
                                    "UGYFEL_FK": "daniel1"
                                },
                                {
                                    "UGYFEL_FK": "RENATAK"
                                },
                                {
                                    "UGYFEL_FK": "marton"
                                },
                                {
                                    "UGYFEL_FK": "norbert4"
                                },
                                {
                                    "UGYFEL_FK": "kriszti"
                                }
                            ]
                        },
                        "text/html": [
                            "<table>",
                            "<tr><th>UGYFEL_FK</th></tr>",
                            "<tr><td>NANDORF</td></tr>",
                            "<tr><td>ARONK</td></tr>",
                            "<tr><td>SEBASTIANF</td></tr>",
                            "<tr><td>laszlo2</td></tr>",
                            "<tr><td>PETERB</td></tr>",
                            "<tr><td>sebestyen</td></tr>",
                            "<tr><td>nikoletta4</td></tr>",
                            "<tr><td>kristof4</td></tr>",
                            "<tr><td>KRISZTIANM</td></tr>",
                            "<tr><td>anett3</td></tr>",
                            "<tr><td>kata</td></tr>",
                            "<tr><td>norbert4</td></tr>",
                            "<tr><td>BERNADETTO</td></tr>",
                            "<tr><td>AGNESH</td></tr>",
                            "<tr><td>katalin</td></tr>",
                            "<tr><td>daniel1</td></tr>",
                            "<tr><td>katka</td></tr>",
                            "<tr><td>daniel</td></tr>",
                            "<tr><td>aron2</td></tr>",
                            "<tr><td>peter4</td></tr>",
                            "<tr><td>anett3</td></tr>",
                            "<tr><td>ZSUZSAV</td></tr>",
                            "<tr><td>zsolt1</td></tr>",
                            "<tr><td>anett3</td></tr>",
                            "<tr><td>balazs2</td></tr>",
                            "<tr><td>istvan1</td></tr>",
                            "<tr><td>BERNADETTO</td></tr>",
                            "<tr><td>polla</td></tr>",
                            "<tr><td>BEATRIXS</td></tr>",
                            "<tr><td>norbert2</td></tr>",
                            "<tr><td>mark</td></tr>",
                            "<tr><td>miklos2</td></tr>",
                            "<tr><td>ANIKOS</td></tr>",
                            "<tr><td>beata4</td></tr>",
                            "<tr><td>julia</td></tr>",
                            "<tr><td>gabriella1</td></tr>",
                            "<tr><td>daniel</td></tr>",
                            "<tr><td>balint</td></tr>",
                            "<tr><td>SZILARDS</td></tr>",
                            "<tr><td>KRISZTINAG</td></tr>",
                            "<tr><td>ZSOLTJ</td></tr>",
                            "<tr><td>istvan1</td></tr>",
                            "<tr><td>ANDRASE</td></tr>",
                            "<tr><td>kata</td></tr>",
                            "<tr><td>sebestyen</td></tr>",
                            "<tr><td>gabor4</td></tr>",
                            "<tr><td>laszlo2</td></tr>",
                            "<tr><td>marton</td></tr>",
                            "<tr><td>AGNESH</td></tr>",
                            "<tr><td>anett3</td></tr>",
                            "<tr><td>krisztina1</td></tr>",
                            "<tr><td>MONIKAM</td></tr>",
                            "<tr><td>VIKTORIAU</td></tr>",
                            "<tr><td>andras3</td></tr>",
                            "<tr><td>bernadett2</td></tr>",
                            "<tr><td>csongor3</td></tr>",
                            "<tr><td>EVAV</td></tr>",
                            "<tr><td>ZOLTANT</td></tr>",
                            "<tr><td>JOZSEFG</td></tr>",
                            "<tr><td>vivien3</td></tr>",
                            "<tr><td>TAMASF</td></tr>",
                            "<tr><td>RENATAS</td></tr>",
                            "<tr><td>marton</td></tr>",
                            "<tr><td>gusztav</td></tr>",
                            "<tr><td>balazs1</td></tr>",
                            "<tr><td>csongor3</td></tr>",
                            "<tr><td>andi</td></tr>",
                            "<tr><td>ferenc1</td></tr>",
                            "<tr><td>bence</td></tr>",
                            "<tr><td>kornel4</td></tr>",
                            "<tr><td>agnes</td></tr>",
                            "<tr><td>daniel</td></tr>",
                            "<tr><td>ZSOLTJ</td></tr>",
                            "<tr><td>JANOSG</td></tr>",
                            "<tr><td>norbert2</td></tr>",
                            "<tr><td>katka</td></tr>",
                            "<tr><td>nikoletta4</td></tr>",
                            "<tr><td>daniel1</td></tr>",
                            "<tr><td>MATYASS</td></tr>",
                            "<tr><td>RENATAS</td></tr>",
                            "<tr><td>julia</td></tr>",
                            "<tr><td>zoltan4</td></tr>",
                            "<tr><td>sandor3</td></tr>",
                            "<tr><td>zoltan4</td></tr>",
                            "<tr><td>maria1</td></tr>",
                            "<tr><td>andras41</td></tr>",
                            "<tr><td>szilvia1</td></tr>",
                            "<tr><td>ARONK</td></tr>",
                            "<tr><td>BENCEB</td></tr>",
                            "<tr><td>robert2</td></tr>",
                            "<tr><td>krisztina1</td></tr>",
                            "<tr><td>tamas</td></tr>",
                            "<tr><td>zsuzsanna</td></tr>",
                            "<tr><td>aladar</td></tr>",
                            "<tr><td>maria1</td></tr>",
                            "<tr><td>david</td></tr>",
                            "<tr><td>bertalan</td></tr>",
                            "<tr><td>akos</td></tr>",
                            "<tr><td>kriszti</td></tr>",
                            "<tr><td>attila1</td></tr>",
                            "<tr><td>alexandra</td></tr>",
                            "<tr><td>krisztina</td></tr>",
                            "<tr><td>ATTILAO</td></tr>",
                            "<tr><td>katalin</td></tr>",
                            "<tr><td>andras41</td></tr>",
                            "<tr><td>NIKOLETTAT</td></tr>",
                            "<tr><td>matyas2</td></tr>",
                            "<tr><td>kati</td></tr>",
                            "<tr><td>agnes</td></tr>",
                            "<tr><td>fruzsina4</td></tr>",
                            "<tr><td>ZOLTANT</td></tr>",
                            "<tr><td>tunde</td></tr>",
                            "<tr><td>ARPADH</td></tr>",
                            "<tr><td>peter1</td></tr>",
                            "<tr><td>edit</td></tr>",
                            "<tr><td>akos</td></tr>",
                            "<tr><td>andras3</td></tr>",
                            "<tr><td>sara</td></tr>",
                            "<tr><td>akos</td></tr>",
                            "<tr><td>jozsef2</td></tr>",
                            "<tr><td>balazs3</td></tr>",
                            "<tr><td>ANIKOS</td></tr>",
                            "<tr><td>SEBASTIANF</td></tr>",
                            "<tr><td>david</td></tr>",
                            "<tr><td>lajos</td></tr>",
                            "<tr><td>GYORGYO</td></tr>",
                            "<tr><td>ANNAMARIAR</td></tr>",
                            "<tr><td>ZSOLTJ</td></tr>",
                            "<tr><td>sandor</td></tr>",
                            "<tr><td>MIKLOSB</td></tr>",
                            "<tr><td>ESZTERE</td></tr>",
                            "<tr><td>istvan1</td></tr>",
                            "<tr><td>denes</td></tr>",
                            "<tr><td>balazs2</td></tr>",
                            "<tr><td>julianna4</td></tr>",
                            "<tr><td>andras2</td></tr>",
                            "<tr><td>PETERB</td></tr>",
                            "<tr><td>veronika4</td></tr>",
                            "<tr><td>lala</td></tr>",
                            "<tr><td>andras21</td></tr>",
                            "<tr><td>tihamer</td></tr>",
                            "<tr><td>julia</td></tr>",
                            "<tr><td>ZOLTANP</td></tr>",
                            "<tr><td>andras3</td></tr>",
                            "<tr><td>balint2</td></tr>",
                            "<tr><td>balazs1</td></tr>",
                            "<tr><td>aniko4</td></tr>",
                            "<tr><td>akos</td></tr>",
                            "<tr><td>emese</td></tr>",
                            "<tr><td>MATYASS</td></tr>",
                            "<tr><td>MONIKAM</td></tr>",
                            "<tr><td>valentin</td></tr>",
                            "<tr><td>gabriella1</td></tr>",
                            "<tr><td>sara</td></tr>",
                            "<tr><td>zsuzsa</td></tr>",
                            "<tr><td>bence</td></tr>",
                            "<tr><td>bence</td></tr>",
                            "<tr><td>szilvia1</td></tr>",
                            "<tr><td>lala</td></tr>",
                            "<tr><td>balint1</td></tr>",
                            "<tr><td>SZILARDS</td></tr>",
                            "<tr><td>BELAF</td></tr>",
                            "<tr><td>NIKOLETTAT</td></tr>",
                            "<tr><td>reka4</td></tr>",
                            "<tr><td>andrea</td></tr>",
                            "<tr><td>kati</td></tr>",
                            "<tr><td>norbert2</td></tr>",
                            "<tr><td>ANDREAT</td></tr>",
                            "<tr><td>peter3</td></tr>",
                            "<tr><td>alexandra</td></tr>",
                            "<tr><td>balazs3</td></tr>",
                            "<tr><td>JUDITH</td></tr>",
                            "<tr><td>gabor1</td></tr>",
                            "<tr><td>andras41</td></tr>",
                            "<tr><td>krisztian4</td></tr>",
                            "<tr><td>katalin</td></tr>",
                            "<tr><td>GYORGYO</td></tr>",
                            "<tr><td>SZABOLCSM</td></tr>",
                            "<tr><td>AGNESK</td></tr>",
                            "<tr><td>BELAF</td></tr>",
                            "<tr><td>agnes</td></tr>",
                            "<tr><td>ROBERTP</td></tr>",
                            "<tr><td>zsuzsa3</td></tr>",
                            "<tr><td>SEBASTIANF</td></tr>",
                            "<tr><td>ilona3</td></tr>",
                            "<tr><td>zsolt1</td></tr>",
                            "<tr><td>andrea</td></tr>",
                            "<tr><td>BENCEB</td></tr>",
                            "<tr><td>denes</td></tr>",
                            "<tr><td>krisztian4</td></tr>",
                            "<tr><td>reka4</td></tr>",
                            "<tr><td>KRISZTIANM</td></tr>",
                            "<tr><td>edit</td></tr>",
                            "<tr><td>kati</td></tr>",
                            "<tr><td>balint1</td></tr>",
                            "<tr><td>VIKTORIAU</td></tr>",
                            "<tr><td>ilona3</td></tr>",
                            "<tr><td>agnes3</td></tr>",
                            "<tr><td>gusztav</td></tr>",
                            "<tr><td>david</td></tr>",
                            "<tr><td>ARONK</td></tr>",
                            "<tr><td>peter4</td></tr>",
                            "<tr><td>balu</td></tr>",
                            "<tr><td>dani</td></tr>",
                            "<tr><td>timea2</td></tr>",
                            "<tr><td>KRISZTINAG</td></tr>",
                            "<tr><td>mark</td></tr>",
                            "<tr><td>emese</td></tr>",
                            "<tr><td>norbert5</td></tr>",
                            "<tr><td>maria1</td></tr>",
                            "<tr><td>BEATRIXK</td></tr>",
                            "<tr><td>marton</td></tr>",
                            "<tr><td>tamara2</td></tr>",
                            "<tr><td>ARPADM</td></tr>",
                            "<tr><td>eszter</td></tr>",
                            "<tr><td>edit</td></tr>",
                            "<tr><td>vivien3</td></tr>",
                            "<tr><td>nikoletta4</td></tr>",
                            "<tr><td>pal</td></tr>",
                            "<tr><td>polla</td></tr>",
                            "<tr><td>laszlo2</td></tr>",
                            "<tr><td>zoltan4</td></tr>",
                            "<tr><td>anett3</td></tr>",
                            "<tr><td>PETERB</td></tr>",
                            "<tr><td>norbert2</td></tr>",
                            "<tr><td>denes</td></tr>",
                            "<tr><td>zoltan4</td></tr>",
                            "<tr><td>dora3</td></tr>",
                            "<tr><td>ANDRASE</td></tr>",
                            "<tr><td>krisztian4</td></tr>",
                            "<tr><td>georgij</td></tr>",
                            "<tr><td>JANOSG</td></tr>",
                            "<tr><td>veronika4</td></tr>",
                            "<tr><td>ROBERTI</td></tr>",
                            "<tr><td>polla</td></tr>",
                            "<tr><td>anett3</td></tr>",
                            "<tr><td>MATEK</td></tr>",
                            "<tr><td>GYONGYIK</td></tr>",
                            "<tr><td>andras41</td></tr>",
                            "<tr><td>attila4</td></tr>",
                            "<tr><td>tihamer</td></tr>",
                            "<tr><td>andras41</td></tr>",
                            "<tr><td>sandor</td></tr>",
                            "<tr><td>david</td></tr>",
                            "<tr><td>robert2</td></tr>",
                            "<tr><td>adam1</td></tr>",
                            "<tr><td>denes</td></tr>",
                            "<tr><td>balazs2</td></tr>",
                            "<tr><td>imre1</td></tr>",
                            "<tr><td>david</td></tr>",
                            "<tr><td>ROBERTI</td></tr>",
                            "<tr><td>andrea</td></tr>",
                            "<tr><td>imre1</td></tr>",
                            "<tr><td>arpad2</td></tr>",
                            "<tr><td>bernadett2</td></tr>",
                            "<tr><td>JOZSEFG</td></tr>",
                            "<tr><td>kata</td></tr>",
                            "<tr><td>peter4</td></tr>",
                            "<tr><td>balazs3</td></tr>",
                            "<tr><td>tamas</td></tr>",
                            "<tr><td>henrik3</td></tr>",
                            "<tr><td>katka</td></tr>",
                            "<tr><td>janos3</td></tr>",
                            "<tr><td>kriszti</td></tr>",
                            "<tr><td>zoltan</td></tr>",
                            "<tr><td>beata4</td></tr>",
                            "<tr><td>bernadett2</td></tr>",
                            "<tr><td>dora3</td></tr>",
                            "<tr><td>andrea</td></tr>",
                            "<tr><td>ANIKOS</td></tr>",
                            "<tr><td>fruzsina4</td></tr>",
                            "<tr><td>adam4</td></tr>",
                            "<tr><td>SZILARDS</td></tr>",
                            "<tr><td>georgij</td></tr>",
                            "<tr><td>brigitta</td></tr>",
                            "<tr><td>zsuzsa</td></tr>",
                            "<tr><td>krisztian4</td></tr>",
                            "<tr><td>IBOLYAA</td></tr>",
                            "<tr><td>imre1</td></tr>",
                            "<tr><td>andras3</td></tr>",
                            "<tr><td>BELAF</td></tr>",
                            "<tr><td>MIHALYJ</td></tr>",
                            "<tr><td>JANOSG</td></tr>",
                            "<tr><td>gabor4</td></tr>",
                            "<tr><td>EVAV</td></tr>",
                            "<tr><td>vivien3</td></tr>",
                            "<tr><td>gabor1</td></tr>",
                            "<tr><td>eva2</td></tr>",
                            "<tr><td>maria1</td></tr>",
                            "<tr><td>bence</td></tr>",
                            "<tr><td>roland</td></tr>",
                            "<tr><td>tunde</td></tr>",
                            "<tr><td>rajmond4</td></tr>",
                            "<tr><td>balazs2</td></tr>",
                            "<tr><td>JOZSEFG</td></tr>",
                            "<tr><td>nikolett3</td></tr>",
                            "<tr><td>KRISZTINAG</td></tr>",
                            "<tr><td>ANIKOS</td></tr>",
                            "<tr><td>valentin</td></tr>",
                            "<tr><td>agnes</td></tr>",
                            "<tr><td>sandor3</td></tr>",
                            "<tr><td>daniel1</td></tr>",
                            "<tr><td>andrea4</td></tr>",
                            "<tr><td>GYORGYO</td></tr>",
                            "<tr><td>denes</td></tr>",
                            "<tr><td>balazs2</td></tr>",
                            "<tr><td>maria1</td></tr>",
                            "<tr><td>polla</td></tr>",
                            "<tr><td>sara</td></tr>",
                            "<tr><td>ZSOLTJ</td></tr>",
                            "<tr><td>ZSUZSAV</td></tr>",
                            "<tr><td>adam1</td></tr>",
                            "<tr><td>szilvia1</td></tr>",
                            "<tr><td>norbert4</td></tr>",
                            "<tr><td>bence</td></tr>",
                            "<tr><td>ARPADM</td></tr>",
                            "<tr><td>ESZTERE</td></tr>",
                            "<tr><td>MIHALYJ</td></tr>",
                            "<tr><td>brigitta</td></tr>",
                            "<tr><td>nikoletta4</td></tr>",
                            "<tr><td>gabor4</td></tr>",
                            "<tr><td>VIKTORK</td></tr>",
                            "<tr><td>andras3</td></tr>",
                            "<tr><td>tihamer</td></tr>",
                            "<tr><td>sara</td></tr>",
                            "<tr><td>veronika4</td></tr>",
                            "<tr><td>andras2</td></tr>",
                            "<tr><td>kata</td></tr>",
                            "<tr><td>brigitta3</td></tr>",
                            "<tr><td>GYORGYO</td></tr>",
                            "<tr><td>kornel4</td></tr>",
                            "<tr><td>fruzsina4</td></tr>",
                            "<tr><td>GYONGYIK</td></tr>",
                            "<tr><td>MATYASS</td></tr>",
                            "<tr><td>LASZLON</td></tr>",
                            "<tr><td>zoltan4</td></tr>",
                            "<tr><td>krisztian4</td></tr>",
                            "<tr><td>tihamer</td></tr>",
                            "<tr><td>beata4</td></tr>",
                            "<tr><td>nikolett3</td></tr>",
                            "<tr><td>tunde</td></tr>",
                            "<tr><td>LASZLOA</td></tr>",
                            "<tr><td>BENCEB</td></tr>",
                            "<tr><td>KRISZTIANM</td></tr>",
                            "<tr><td>ARONK</td></tr>",
                            "<tr><td>ATTILAO</td></tr>",
                            "<tr><td>janos3</td></tr>",
                            "<tr><td>JOZSEFG</td></tr>",
                            "<tr><td>csongor3</td></tr>",
                            "<tr><td>ZOLTANP</td></tr>",
                            "<tr><td>arpad2</td></tr>",
                            "<tr><td>dani</td></tr>",
                            "<tr><td>sara</td></tr>",
                            "<tr><td>kati</td></tr>",
                            "<tr><td>ARPADH</td></tr>",
                            "<tr><td>timea2</td></tr>",
                            "<tr><td>kati</td></tr>",
                            "<tr><td>ZOLTANP</td></tr>",
                            "<tr><td>marton</td></tr>",
                            "<tr><td>zsolt1</td></tr>",
                            "<tr><td>tunde</td></tr>",
                            "<tr><td>VIKTORK</td></tr>",
                            "<tr><td>JUDITH</td></tr>",
                            "<tr><td>annamaria1</td></tr>",
                            "<tr><td>klaudia2</td></tr>",
                            "<tr><td>LASZLOA</td></tr>",
                            "<tr><td>balint1</td></tr>",
                            "<tr><td>BERNADETTO</td></tr>",
                            "<tr><td>julia</td></tr>",
                            "<tr><td>andras41</td></tr>",
                            "<tr><td>NIKOLETTAT</td></tr>",
                            "<tr><td>krisztian4</td></tr>",
                            "<tr><td>zsolt1</td></tr>",
                            "<tr><td>kata</td></tr>",
                            "<tr><td>ARONK</td></tr>",
                            "<tr><td>balint1</td></tr>",
                            "<tr><td>LASZLON</td></tr>",
                            "<tr><td>KRISZTINAG</td></tr>",
                            "<tr><td>ANNAMARIAR</td></tr>",
                            "<tr><td>alexandra</td></tr>",
                            "<tr><td>david</td></tr>",
                            "<tr><td>roland</td></tr>",
                            "<tr><td>sebestyen</td></tr>",
                            "<tr><td>BEATRIXK</td></tr>",
                            "<tr><td>BERNADETTO</td></tr>",
                            "<tr><td>csongor3</td></tr>",
                            "<tr><td>BEATRIXK</td></tr>",
                            "<tr><td>GYONGYIK</td></tr>",
                            "<tr><td>GYORGYO</td></tr>",
                            "<tr><td>LASZLOA</td></tr>",
                            "<tr><td>balint1</td></tr>",
                            "<tr><td>andras3</td></tr>",
                            "<tr><td>TAMASF</td></tr>",
                            "<tr><td>csongor3</td></tr>",
                            "<tr><td>BEATRIXS</td></tr>",
                            "<tr><td>bernadett1</td></tr>",
                            "<tr><td>katka</td></tr>",
                            "<tr><td>andi</td></tr>",
                            "<tr><td>katka</td></tr>",
                            "<tr><td>brigitta3</td></tr>",
                            "<tr><td>mark</td></tr>",
                            "<tr><td>tamas</td></tr>",
                            "<tr><td>ZSUZSAV</td></tr>",
                            "<tr><td>lala</td></tr>",
                            "<tr><td>georgij</td></tr>",
                            "<tr><td>norbert4</td></tr>",
                            "<tr><td>krisztina1</td></tr>",
                            "<tr><td>ANIKOS</td></tr>",
                            "<tr><td>ferenc1</td></tr>",
                            "<tr><td>norbert4</td></tr>",
                            "<tr><td>zsofi1</td></tr>",
                            "<tr><td>bernadett2</td></tr>",
                            "<tr><td>ZSOLTJ</td></tr>",
                            "<tr><td>SZABOLCSM</td></tr>",
                            "<tr><td>BEATRIXK</td></tr>",
                            "<tr><td>gabor1</td></tr>",
                            "<tr><td>bertalan</td></tr>",
                            "<tr><td>andras21</td></tr>",
                            "<tr><td>nikolett3</td></tr>",
                            "<tr><td>debora</td></tr>",
                            "<tr><td>roland</td></tr>",
                            "<tr><td>marton</td></tr>",
                            "<tr><td>AGNESH</td></tr>",
                            "<tr><td>maria1</td></tr>",
                            "<tr><td>imre1</td></tr>",
                            "<tr><td>andras41</td></tr>",
                            "<tr><td>norbert5</td></tr>",
                            "<tr><td>RENATAS</td></tr>",
                            "<tr><td>aniko</td></tr>",
                            "<tr><td>MIKLOSB</td></tr>",
                            "<tr><td>ANIKOS</td></tr>",
                            "<tr><td>imre1</td></tr>",
                            "<tr><td>MIHALYJ</td></tr>",
                            "<tr><td>TAMASF</td></tr>",
                            "<tr><td>nikoletta4</td></tr>",
                            "<tr><td>eszter2</td></tr>",
                            "<tr><td>david</td></tr>",
                            "<tr><td>peter3</td></tr>",
                            "<tr><td>fruzsina4</td></tr>",
                            "<tr><td>katalin4</td></tr>",
                            "<tr><td>ISTVANV</td></tr>",
                            "<tr><td>kata</td></tr>",
                            "<tr><td>GYONGYIK</td></tr>",
                            "<tr><td>aniko4</td></tr>",
                            "<tr><td>katalin4</td></tr>",
                            "<tr><td>ARONK</td></tr>",
                            "<tr><td>peter2</td></tr>",
                            "<tr><td>beata4</td></tr>",
                            "<tr><td>kata</td></tr>",
                            "<tr><td>aron2</td></tr>",
                            "<tr><td>TAMASF</td></tr>",
                            "<tr><td>andras21</td></tr>",
                            "<tr><td>sandor</td></tr>",
                            "<tr><td>JANOSP</td></tr>",
                            "<tr><td>krisztina</td></tr>",
                            "<tr><td>jozsef2</td></tr>",
                            "<tr><td>ANDRASE</td></tr>",
                            "<tr><td>katalin</td></tr>",
                            "<tr><td>kata</td></tr>",
                            "<tr><td>eszter2</td></tr>",
                            "<tr><td>norbert</td></tr>",
                            "<tr><td>balazs2</td></tr>",
                            "<tr><td>KRISZTIANM</td></tr>",
                            "<tr><td>csongor3</td></tr>",
                            "<tr><td>gabriella1</td></tr>",
                            "<tr><td>balazs2</td></tr>",
                            "<tr><td>dani</td></tr>",
                            "<tr><td>zsuzsanna</td></tr>",
                            "<tr><td>gabor1</td></tr>",
                            "<tr><td>ROBERTI</td></tr>",
                            "<tr><td>norbert2</td></tr>",
                            "<tr><td>katka</td></tr>",
                            "<tr><td>zoltan</td></tr>",
                            "<tr><td>aniko4</td></tr>",
                            "<tr><td>laszlo2</td></tr>",
                            "<tr><td>reka4</td></tr>",
                            "<tr><td>akos</td></tr>",
                            "<tr><td>bernadett2</td></tr>",
                            "<tr><td>daniel</td></tr>",
                            "<tr><td>ARONK</td></tr>",
                            "<tr><td>ROBERTP</td></tr>",
                            "<tr><td>jozsef2</td></tr>",
                            "<tr><td>zsuzsa3</td></tr>",
                            "<tr><td>roza2</td></tr>",
                            "<tr><td>marton</td></tr>",
                            "<tr><td>peter4</td></tr>",
                            "<tr><td>TAMASF</td></tr>",
                            "<tr><td>balazs2</td></tr>",
                            "<tr><td>adam3</td></tr>",
                            "<tr><td>andrea4</td></tr>",
                            "<tr><td>krisztina</td></tr>",
                            "<tr><td>andi</td></tr>",
                            "<tr><td>jozsef</td></tr>",
                            "<tr><td>SEBASTIANF</td></tr>",
                            "<tr><td>MARKH</td></tr>",
                            "<tr><td>ANDREAT</td></tr>",
                            "<tr><td>balazs3</td></tr>",
                            "<tr><td>krisztina1</td></tr>",
                            "<tr><td>ARPADH</td></tr>",
                            "<tr><td>balint1</td></tr>",
                            "<tr><td>pal</td></tr>",
                            "<tr><td>andras4</td></tr>",
                            "<tr><td>imre</td></tr>",
                            "<tr><td>edit</td></tr>",
                            "<tr><td>SEBASTIANF</td></tr>",
                            "<tr><td>ZSUZSAV</td></tr>",
                            "<tr><td>georgij</td></tr>",
                            "<tr><td>edit</td></tr>",
                            "<tr><td>ARPADH</td></tr>",
                            "<tr><td>krisztina</td></tr>",
                            "<tr><td>dani</td></tr>",
                            "<tr><td>sandor</td></tr>",
                            "<tr><td>kata</td></tr>",
                            "<tr><td>SZILARDS</td></tr>",
                            "<tr><td>david1</td></tr>",
                            "<tr><td>NIKOLETTAT</td></tr>",
                            "<tr><td>andras41</td></tr>",
                            "<tr><td>ANNAMARIAR</td></tr>",
                            "<tr><td>MARKH</td></tr>",
                            "<tr><td>kornel4</td></tr>",
                            "<tr><td>laszlo1</td></tr>",
                            "<tr><td>aladar</td></tr>",
                            "<tr><td>peter4</td></tr>",
                            "<tr><td>veronika4</td></tr>",
                            "<tr><td>MARKH</td></tr>",
                            "<tr><td>emese</td></tr>",
                            "<tr><td>arpad2</td></tr>",
                            "<tr><td>anita</td></tr>",
                            "<tr><td>zsuzsa3</td></tr>",
                            "<tr><td>ISTVANV</td></tr>",
                            "<tr><td>fruzsina4</td></tr>",
                            "<tr><td>reka4</td></tr>",
                            "<tr><td>attila</td></tr>",
                            "<tr><td>zoltan4</td></tr>",
                            "<tr><td>andras2</td></tr>",
                            "<tr><td>peter4</td></tr>",
                            "<tr><td>andras41</td></tr>",
                            "<tr><td>kriszti</td></tr>",
                            "<tr><td>kristof4</td></tr>",
                            "<tr><td>eszter2</td></tr>",
                            "<tr><td>BEATRIXS</td></tr>",
                            "<tr><td>BEATRIXS</td></tr>",
                            "<tr><td>ZSOLTJ</td></tr>",
                            "<tr><td>andras21</td></tr>",
                            "<tr><td>dani</td></tr>",
                            "<tr><td>vivien3</td></tr>",
                            "<tr><td>david1</td></tr>",
                            "<tr><td>kriszti</td></tr>",
                            "<tr><td>gusztav</td></tr>",
                            "<tr><td>MATEK</td></tr>",
                            "<tr><td>klaudia2</td></tr>",
                            "<tr><td>eszter2</td></tr>",
                            "<tr><td>SZILARDS</td></tr>",
                            "<tr><td>LASZLON</td></tr>",
                            "<tr><td>beata4</td></tr>",
                            "<tr><td>anita</td></tr>",
                            "<tr><td>gabriella10</td></tr>",
                            "<tr><td>klaudia2</td></tr>",
                            "<tr><td>rajmond4</td></tr>",
                            "<tr><td>beata4</td></tr>",
                            "<tr><td>janos3</td></tr>",
                            "<tr><td>eszter</td></tr>",
                            "<tr><td>BERNADETTO</td></tr>",
                            "<tr><td>andras21</td></tr>",
                            "<tr><td>akos</td></tr>",
                            "<tr><td>norbert4</td></tr>",
                            "<tr><td>sara</td></tr>",
                            "<tr><td>eva</td></tr>",
                            "<tr><td>andras2</td></tr>",
                            "<tr><td>istvan</td></tr>",
                            "<tr><td>ANDREAT</td></tr>",
                            "<tr><td>ROBERTI</td></tr>",
                            "<tr><td>bernadett1</td></tr>",
                            "<tr><td>ferenc1</td></tr>",
                            "<tr><td>ANIKOS</td></tr>",
                            "<tr><td>jozsef</td></tr>",
                            "<tr><td>miklos2</td></tr>",
                            "<tr><td>attila1</td></tr>",
                            "<tr><td>LASZLON</td></tr>",
                            "<tr><td>balint</td></tr>",
                            "<tr><td>sandor3</td></tr>",
                            "<tr><td>peter4</td></tr>",
                            "<tr><td>dora3</td></tr>",
                            "<tr><td>ROBERTI</td></tr>",
                            "<tr><td>andras41</td></tr>",
                            "<tr><td>MATYASS</td></tr>",
                            "<tr><td>szilvia1</td></tr>",
                            "<tr><td>tibor</td></tr>",
                            "<tr><td>peter2</td></tr>",
                            "<tr><td>brigitta3</td></tr>",
                            "<tr><td>sara</td></tr>",
                            "<tr><td>anett3</td></tr>",
                            "<tr><td>arpad2</td></tr>",
                            "<tr><td>VIKTORIAU</td></tr>",
                            "<tr><td>attila1</td></tr>",
                            "<tr><td>andras41</td></tr>",
                            "<tr><td>attila</td></tr>",
                            "<tr><td>bernadett1</td></tr>",
                            "<tr><td>sandor4</td></tr>",
                            "<tr><td>EVAV</td></tr>",
                            "<tr><td>aniko4</td></tr>",
                            "<tr><td>anett3</td></tr>",
                            "<tr><td>EVAV</td></tr>",
                            "<tr><td>krisztian4</td></tr>",
                            "<tr><td>AGNESK</td></tr>",
                            "<tr><td>SZABOLCSM</td></tr>",
                            "<tr><td>akos</td></tr>",
                            "<tr><td>adam1</td></tr>",
                            "<tr><td>tihamer</td></tr>",
                            "<tr><td>PETERB</td></tr>",
                            "<tr><td>ZOLTANP</td></tr>",
                            "<tr><td>gabor1</td></tr>",
                            "<tr><td>tibor2</td></tr>",
                            "<tr><td>eszter2</td></tr>",
                            "<tr><td>mark</td></tr>",
                            "<tr><td>andrea</td></tr>",
                            "<tr><td>brigitta</td></tr>",
                            "<tr><td>alexandra</td></tr>",
                            "<tr><td>zoltan4</td></tr>",
                            "<tr><td>janos3</td></tr>",
                            "<tr><td>nikolett3</td></tr>",
                            "<tr><td>BENCEB</td></tr>",
                            "<tr><td>agnes3</td></tr>",
                            "<tr><td>sandor3</td></tr>",
                            "<tr><td>aron2</td></tr>",
                            "<tr><td>robert2</td></tr>",
                            "<tr><td>IBOLYAA</td></tr>",
                            "<tr><td>BEATRIXK</td></tr>",
                            "<tr><td>ROBERTI</td></tr>",
                            "<tr><td>eszter2</td></tr>",
                            "<tr><td>peter4</td></tr>",
                            "<tr><td>tunde</td></tr>",
                            "<tr><td>MATYASS</td></tr>",
                            "<tr><td>szilvia1</td></tr>",
                            "<tr><td>kati</td></tr>",
                            "<tr><td>eszter</td></tr>",
                            "<tr><td>zoltan4</td></tr>",
                            "<tr><td>sebestyen</td></tr>",
                            "<tr><td>timea2</td></tr>",
                            "<tr><td>ROBERTI</td></tr>",
                            "<tr><td>katalin</td></tr>",
                            "<tr><td>VIKTORIAU</td></tr>",
                            "<tr><td>bernadett1</td></tr>",
                            "<tr><td>peter1</td></tr>",
                            "<tr><td>ZSUZSAV</td></tr>",
                            "<tr><td>valentin</td></tr>",
                            "<tr><td>RENATAK</td></tr>",
                            "<tr><td>adam4</td></tr>",
                            "<tr><td>zsuzsa3</td></tr>",
                            "<tr><td>szilvia1</td></tr>",
                            "<tr><td>SZABOLCSM</td></tr>",
                            "<tr><td>imre</td></tr>",
                            "<tr><td>bernadett1</td></tr>",
                            "<tr><td>norbert4</td></tr>",
                            "<tr><td>sara</td></tr>",
                            "<tr><td>GYORGYO</td></tr>",
                            "<tr><td>debora</td></tr>",
                            "<tr><td>dora3</td></tr>",
                            "<tr><td>ANIKOS</td></tr>",
                            "<tr><td>krisztina1</td></tr>",
                            "<tr><td>julianna4</td></tr>",
                            "<tr><td>attila1</td></tr>",
                            "<tr><td>bence</td></tr>",
                            "<tr><td>kati</td></tr>",
                            "<tr><td>peter4</td></tr>",
                            "<tr><td>lala</td></tr>",
                            "<tr><td>RENATAK</td></tr>",
                            "<tr><td>AGNESH</td></tr>",
                            "<tr><td>MATYASS</td></tr>",
                            "<tr><td>david</td></tr>",
                            "<tr><td>peter3</td></tr>",
                            "<tr><td>bernadett2</td></tr>",
                            "<tr><td>zoltan4</td></tr>",
                            "<tr><td>ATTILAO</td></tr>",
                            "<tr><td>andrea4</td></tr>",
                            "<tr><td>norbert2</td></tr>",
                            "<tr><td>MIHALYJ</td></tr>",
                            "<tr><td>ESZTERE</td></tr>",
                            "<tr><td>peter2</td></tr>",
                            "<tr><td>krisztian4</td></tr>",
                            "<tr><td>BELAF</td></tr>",
                            "<tr><td>balazs2</td></tr>",
                            "<tr><td>ARONK</td></tr>",
                            "<tr><td>bertalan</td></tr>",
                            "<tr><td>NANDORF</td></tr>",
                            "<tr><td>brigitta3</td></tr>",
                            "<tr><td>julianna4</td></tr>",
                            "<tr><td>ilona3</td></tr>",
                            "<tr><td>eszter2</td></tr>",
                            "<tr><td>katka</td></tr>",
                            "<tr><td>ARONK</td></tr>",
                            "<tr><td>aron2</td></tr>",
                            "<tr><td>emese</td></tr>",
                            "<tr><td>tibor</td></tr>",
                            "<tr><td>norbert5</td></tr>",
                            "<tr><td>roland1</td></tr>",
                            "<tr><td>denes</td></tr>",
                            "<tr><td>eva2</td></tr>",
                            "<tr><td>arpad2</td></tr>",
                            "<tr><td>balint1</td></tr>",
                            "<tr><td>julia4</td></tr>",
                            "<tr><td>JANOSG</td></tr>",
                            "<tr><td>gabor4</td></tr>",
                            "<tr><td>agnes</td></tr>",
                            "<tr><td>ferenc1</td></tr>",
                            "<tr><td>rajmond4</td></tr>",
                            "<tr><td>maria1</td></tr>",
                            "<tr><td>GYONGYIK</td></tr>",
                            "<tr><td>krisztina</td></tr>",
                            "<tr><td>MONIKAM</td></tr>",
                            "<tr><td>ARPADM</td></tr>",
                            "<tr><td>daniel1</td></tr>",
                            "<tr><td>attila1</td></tr>",
                            "<tr><td>ANIKOS</td></tr>",
                            "<tr><td>sandor3</td></tr>",
                            "<tr><td>peter4</td></tr>",
                            "<tr><td>ANNAMARIAR</td></tr>",
                            "<tr><td>valentin</td></tr>",
                            "<tr><td>SZABOLCSM</td></tr>",
                            "<tr><td>csongor3</td></tr>",
                            "<tr><td>daniel</td></tr>",
                            "<tr><td>BEATRIXK</td></tr>",
                            "<tr><td>tamara2</td></tr>",
                            "<tr><td>adam4</td></tr>",
                            "<tr><td>peter2</td></tr>",
                            "<tr><td>miklos2</td></tr>",
                            "<tr><td>rajmond4</td></tr>",
                            "<tr><td>norbert</td></tr>",
                            "<tr><td>andi</td></tr>",
                            "<tr><td>PETERB</td></tr>",
                            "<tr><td>vivien3</td></tr>",
                            "<tr><td>sara</td></tr>",
                            "<tr><td>tunde</td></tr>",
                            "<tr><td>gabor1</td></tr>",
                            "<tr><td>zoltan4</td></tr>",
                            "<tr><td>mark</td></tr>",
                            "<tr><td>roland</td></tr>",
                            "<tr><td>andrea3</td></tr>",
                            "<tr><td>david1</td></tr>",
                            "<tr><td>ANDRASE</td></tr>",
                            "<tr><td>andras41</td></tr>",
                            "<tr><td>akos</td></tr>",
                            "<tr><td>ZSUZSAV</td></tr>",
                            "<tr><td>istvan</td></tr>",
                            "<tr><td>aladar</td></tr>",
                            "<tr><td>dani</td></tr>",
                            "<tr><td>dora3</td></tr>",
                            "<tr><td>fruzsina4</td></tr>",
                            "<tr><td>krisztina</td></tr>",
                            "<tr><td>jozsef2</td></tr>",
                            "<tr><td>andras41</td></tr>",
                            "<tr><td>daniel1</td></tr>",
                            "<tr><td>andras21</td></tr>",
                            "<tr><td>sara</td></tr>",
                            "<tr><td>RENATAK</td></tr>",
                            "<tr><td>emese</td></tr>",
                            "<tr><td>JANOSP</td></tr>",
                            "<tr><td>balint</td></tr>",
                            "<tr><td>peter4</td></tr>",
                            "<tr><td>andras4</td></tr>",
                            "<tr><td>JANOSP</td></tr>",
                            "<tr><td>ANDRASN</td></tr>",
                            "<tr><td>laszlo2</td></tr>",
                            "<tr><td>jozsef2</td></tr>",
                            "<tr><td>bertalan</td></tr>",
                            "<tr><td>julianna4</td></tr>",
                            "<tr><td>timea2</td></tr>",
                            "<tr><td>katalin4</td></tr>",
                            "<tr><td>BENCEB</td></tr>",
                            "<tr><td>zsuzsa</td></tr>",
                            "<tr><td>andras3</td></tr>",
                            "<tr><td>LASZLON</td></tr>",
                            "<tr><td>ANDRASE</td></tr>",
                            "<tr><td>sandor4</td></tr>",
                            "<tr><td>alexandra</td></tr>",
                            "<tr><td>norbert4</td></tr>",
                            "<tr><td>valentin</td></tr>",
                            "<tr><td>GYONGYIK</td></tr>",
                            "<tr><td>eszter2</td></tr>",
                            "<tr><td>BELAF</td></tr>",
                            "<tr><td>TAMASF</td></tr>",
                            "<tr><td>sandor4</td></tr>",
                            "<tr><td>katalin4</td></tr>",
                            "<tr><td>balint2</td></tr>",
                            "<tr><td>ARPADH</td></tr>",
                            "<tr><td>szabolcs</td></tr>",
                            "<tr><td>MIKLOSB</td></tr>",
                            "<tr><td>eszter2</td></tr>",
                            "<tr><td>balazs3</td></tr>",
                            "<tr><td>adam4</td></tr>",
                            "<tr><td>jozsef</td></tr>",
                            "<tr><td>eva2</td></tr>",
                            "<tr><td>BELAF</td></tr>",
                            "<tr><td>sara</td></tr>",
                            "<tr><td>ZOLTANP</td></tr>",
                            "<tr><td>ARONK</td></tr>",
                            "<tr><td>emese</td></tr>",
                            "<tr><td>nikoletta4</td></tr>",
                            "<tr><td>matyas2</td></tr>",
                            "<tr><td>TAMASF</td></tr>",
                            "<tr><td>krisztian4</td></tr>",
                            "<tr><td>BEATRIXK</td></tr>",
                            "<tr><td>katalin</td></tr>",
                            "<tr><td>ARPADM</td></tr>",
                            "<tr><td>timea2</td></tr>",
                            "<tr><td>tunde</td></tr>",
                            "<tr><td>akos</td></tr>",
                            "<tr><td>norbert</td></tr>",
                            "<tr><td>fruzsina4</td></tr>",
                            "<tr><td>bernadett2</td></tr>",
                            "<tr><td>bence</td></tr>",
                            "<tr><td>pal</td></tr>",
                            "<tr><td>BEATRIXK</td></tr>",
                            "<tr><td>AGNESK</td></tr>",
                            "<tr><td>katalin</td></tr>",
                            "<tr><td>brigitta</td></tr>",
                            "<tr><td>robert2</td></tr>",
                            "<tr><td>vivien3</td></tr>",
                            "<tr><td>balint1</td></tr>",
                            "<tr><td>ARPADH</td></tr>",
                            "<tr><td>JANOSP</td></tr>",
                            "<tr><td>JUDITH</td></tr>",
                            "<tr><td>MATYASS</td></tr>",
                            "<tr><td>BEATRIXS</td></tr>",
                            "<tr><td>balu</td></tr>",
                            "<tr><td>attila</td></tr>",
                            "<tr><td>roland1</td></tr>",
                            "<tr><td>eszter</td></tr>",
                            "<tr><td>vivien3</td></tr>",
                            "<tr><td>arpad2</td></tr>",
                            "<tr><td>katalin</td></tr>",
                            "<tr><td>tihamer</td></tr>",
                            "<tr><td>sara</td></tr>",
                            "<tr><td>szilvia1</td></tr>",
                            "<tr><td>KRISZTIANM</td></tr>",
                            "<tr><td>ilona3</td></tr>",
                            "<tr><td>lajos</td></tr>",
                            "<tr><td>daniel</td></tr>",
                            "<tr><td>peter3</td></tr>",
                            "<tr><td>ZOLTANP</td></tr>",
                            "<tr><td>timea</td></tr>",
                            "<tr><td>balazs1</td></tr>",
                            "<tr><td>bence</td></tr>",
                            "<tr><td>szilvia1</td></tr>",
                            "<tr><td>JANOSG</td></tr>",
                            "<tr><td>zoltan4</td></tr>",
                            "<tr><td>balint1</td></tr>",
                            "<tr><td>henrik3</td></tr>",
                            "<tr><td>akos</td></tr>",
                            "<tr><td>david1</td></tr>",
                            "<tr><td>attila4</td></tr>",
                            "<tr><td>zoltan4</td></tr>",
                            "<tr><td>balazs1</td></tr>",
                            "<tr><td>BERNADETTO</td></tr>",
                            "<tr><td>ARONK</td></tr>",
                            "<tr><td>istvan</td></tr>",
                            "<tr><td>katka</td></tr>",
                            "<tr><td>tunde</td></tr>",
                            "<tr><td>balint1</td></tr>",
                            "<tr><td>AGNESH</td></tr>",
                            "<tr><td>roland1</td></tr>",
                            "<tr><td>daniel1</td></tr>",
                            "<tr><td>ARPADM</td></tr>",
                            "<tr><td>eszter4</td></tr>",
                            "<tr><td>krisztian4</td></tr>",
                            "<tr><td>eva2</td></tr>",
                            "<tr><td>SZABOLCSM</td></tr>",
                            "<tr><td>lala</td></tr>",
                            "<tr><td>JOZSEFG</td></tr>",
                            "<tr><td>andras4</td></tr>",
                            "<tr><td>zsuzsanna</td></tr>",
                            "<tr><td>MATYASS</td></tr>",
                            "<tr><td>daniel</td></tr>",
                            "<tr><td>JANOSG</td></tr>",
                            "<tr><td>ANNAMARIAR</td></tr>",
                            "<tr><td>roza2</td></tr>",
                            "<tr><td>peter3</td></tr>",
                            "<tr><td>adam4</td></tr>",
                            "<tr><td>alexandra</td></tr>",
                            "<tr><td>andi</td></tr>",
                            "<tr><td>eva</td></tr>",
                            "<tr><td>kata</td></tr>",
                            "<tr><td>edit</td></tr>",
                            "<tr><td>AGNESH</td></tr>",
                            "<tr><td>SZILARDS</td></tr>",
                            "<tr><td>KRISZTIANM</td></tr>",
                            "<tr><td>zsuzsanna</td></tr>",
                            "<tr><td>krisztian4</td></tr>",
                            "<tr><td>MATEK</td></tr>",
                            "<tr><td>ZOLTANT</td></tr>",
                            "<tr><td>roland1</td></tr>",
                            "<tr><td>lala</td></tr>",
                            "<tr><td>MONIKAM</td></tr>",
                            "<tr><td>dani</td></tr>",
                            "<tr><td>IBOLYAA</td></tr>",
                            "<tr><td>aron2</td></tr>",
                            "<tr><td>david</td></tr>",
                            "<tr><td>katalin4</td></tr>",
                            "<tr><td>veronika4</td></tr>",
                            "<tr><td>alexandra</td></tr>",
                            "<tr><td>katka</td></tr>",
                            "<tr><td>balazs3</td></tr>",
                            "<tr><td>krisztina1</td></tr>",
                            "<tr><td>JOZSEFG</td></tr>",
                            "<tr><td>MARKH</td></tr>",
                            "<tr><td>GYONGYIK</td></tr>",
                            "<tr><td>andrea4</td></tr>",
                            "<tr><td>sandor4</td></tr>",
                            "<tr><td>dani</td></tr>",
                            "<tr><td>fruzsina4</td></tr>",
                            "<tr><td>attila1</td></tr>",
                            "<tr><td>brigitta</td></tr>",
                            "<tr><td>debora</td></tr>",
                            "<tr><td>RENATAK</td></tr>",
                            "<tr><td>bernadett2</td></tr>",
                            "<tr><td>katalin4</td></tr>",
                            "<tr><td>KRISZTINAG</td></tr>",
                            "<tr><td>eszter4</td></tr>",
                            "<tr><td>henrik3</td></tr>",
                            "<tr><td>BERNADETTO</td></tr>",
                            "<tr><td>andras21</td></tr>",
                            "<tr><td>szilvia1</td></tr>",
                            "<tr><td>eszter2</td></tr>",
                            "<tr><td>polla</td></tr>",
                            "<tr><td>norbert2</td></tr>",
                            "<tr><td>annamaria1</td></tr>",
                            "<tr><td>emese</td></tr>",
                            "<tr><td>ARONK</td></tr>",
                            "<tr><td>JANOSG</td></tr>",
                            "<tr><td>imre1</td></tr>",
                            "<tr><td>nikoletta4</td></tr>",
                            "<tr><td>andras3</td></tr>",
                            "<tr><td>BEATRIXS</td></tr>",
                            "<tr><td>veronika4</td></tr>",
                            "<tr><td>gusztav</td></tr>",
                            "<tr><td>julia4</td></tr>",
                            "<tr><td>debora</td></tr>",
                            "<tr><td>EVAV</td></tr>",
                            "<tr><td>gabriella1</td></tr>",
                            "<tr><td>SZABOLCSM</td></tr>",
                            "<tr><td>kriszti</td></tr>",
                            "<tr><td>imre1</td></tr>",
                            "<tr><td>peter4</td></tr>",
                            "<tr><td>bence</td></tr>",
                            "<tr><td>krisztina</td></tr>",
                            "<tr><td>NANDORF</td></tr>",
                            "<tr><td>adam3</td></tr>",
                            "<tr><td>MIHALYJ</td></tr>",
                            "<tr><td>MONIKAM</td></tr>",
                            "<tr><td>istvan1</td></tr>",
                            "<tr><td>SZILARDS</td></tr>",
                            "<tr><td>edit</td></tr>",
                            "<tr><td>LASZLOA</td></tr>",
                            "<tr><td>andras2</td></tr>",
                            "<tr><td>BEATRIXK</td></tr>",
                            "<tr><td>brigitta3</td></tr>",
                            "<tr><td>andrea</td></tr>",
                            "<tr><td>balazs1</td></tr>",
                            "<tr><td>ESZTERE</td></tr>",
                            "<tr><td>polla</td></tr>",
                            "<tr><td>balazs1</td></tr>",
                            "<tr><td>aniko</td></tr>",
                            "<tr><td>daniel</td></tr>",
                            "<tr><td>BENCEB</td></tr>",
                            "<tr><td>ARPADM</td></tr>",
                            "<tr><td>lajos</td></tr>",
                            "<tr><td>gabriella1</td></tr>",
                            "<tr><td>TAMASF</td></tr>",
                            "<tr><td>janos3</td></tr>",
                            "<tr><td>GYORGYO</td></tr>",
                            "<tr><td>norbert</td></tr>",
                            "<tr><td>RENATAS</td></tr>",
                            "<tr><td>pal</td></tr>",
                            "<tr><td>csongor3</td></tr>",
                            "<tr><td>RENATAS</td></tr>",
                            "<tr><td>bernadett1</td></tr>",
                            "<tr><td>tamas</td></tr>",
                            "<tr><td>attila4</td></tr>",
                            "<tr><td>bertalan</td></tr>",
                            "<tr><td>TAMASF</td></tr>",
                            "<tr><td>ARPADH</td></tr>",
                            "<tr><td>ANNAMARIAR</td></tr>",
                            "<tr><td>david4</td></tr>",
                            "<tr><td>norbert4</td></tr>",
                            "<tr><td>krisztina</td></tr>",
                            "<tr><td>RENATAK</td></tr>",
                            "<tr><td>agnes3</td></tr>",
                            "<tr><td>ROBERTI</td></tr>",
                            "<tr><td>david1</td></tr>",
                            "<tr><td>zsofi1</td></tr>",
                            "<tr><td>LASZLON</td></tr>",
                            "<tr><td>roza2</td></tr>",
                            "<tr><td>arpad2</td></tr>",
                            "<tr><td>anita</td></tr>",
                            "<tr><td>pal</td></tr>",
                            "<tr><td>anita</td></tr>",
                            "<tr><td>daniel</td></tr>",
                            "<tr><td>bertalan</td></tr>",
                            "<tr><td>gabriella1</td></tr>",
                            "<tr><td>peter3</td></tr>",
                            "<tr><td>ARONK</td></tr>",
                            "<tr><td>ATTILAO</td></tr>",
                            "<tr><td>aniko</td></tr>",
                            "<tr><td>adam4</td></tr>",
                            "<tr><td>MONIKAM</td></tr>",
                            "<tr><td>gusztav</td></tr>",
                            "<tr><td>krisztian4</td></tr>",
                            "<tr><td>peter1</td></tr>",
                            "<tr><td>GYORGYO</td></tr>",
                            "<tr><td>maria1</td></tr>",
                            "<tr><td>bernadett1</td></tr>",
                            "<tr><td>JOZSEFG</td></tr>",
                            "<tr><td>katalin</td></tr>",
                            "<tr><td>dani</td></tr>",
                            "<tr><td>david1</td></tr>",
                            "<tr><td>aron2</td></tr>",
                            "<tr><td>eszter4</td></tr>",
                            "<tr><td>reka4</td></tr>",
                            "<tr><td>norbert</td></tr>",
                            "<tr><td>julia</td></tr>",
                            "<tr><td>balazs2</td></tr>",
                            "<tr><td>peter1</td></tr>",
                            "<tr><td>daniel1</td></tr>",
                            "<tr><td>RENATAK</td></tr>",
                            "<tr><td>marton</td></tr>",
                            "<tr><td>norbert4</td></tr>",
                            "<tr><td>kriszti</td></tr>",
                            "</table>"
                        ]
                    }
                }
            ],
            "execution_count": 30
        }
    ]
}