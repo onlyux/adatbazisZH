{
    "metadata": {
        "kernelspec": {
            "name": "SQL",
            "display_name": "SQL",
            "language": "sql"
        },
        "language_info": {
            "name": "sql",
            "version": ""
        }
    },
    "nbformat_minor": 2,
    "nbformat": 4,
    "cells": [
        {
            "cell_type": "code",
            "source": [
                ""
            ],
            "metadata": {
                "azdata_cell_guid": "5595b9f8-1350-42e5-a99a-44165ff58560",
                "language": "sql"
            },
            "outputs": [],
            "execution_count": null
        }
    ]
}