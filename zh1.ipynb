{
    "metadata": {
        "kernelspec": {
            "name": "SQL",
            "display_name": "SQL",
            "language": "sql"
        },
        "language_info": {
            "name": "sql",
            "version": ""
        }
    },
    "nbformat_minor": 2,
    "nbformat": 4,
    "cells": [
        {
            "cell_type": "code",
            "source": [
                "-- 1. feladat\r\n",
                "\r\n",
                "SELECT FOGLALAS_PK,\r\n",
                "       METTOL,\r\n",
                "       DATEADD(MONTH, 1, METTOL) as 'Módosított kezdődátum'\r\n",
                "FROM Foglalas\r\n",
                "WHERE UGYFEL_FK LIKE 'emese'"
            ],
            "metadata": {
                "azdata_cell_guid": "5595b9f8-1350-42e5-a99a-44165ff58560",
                "language": "sql"
            },
            "outputs": [
                {
                    "output_type": "display_data",
                    "data": {
                        "text/html": "(7 rows affected)"
                    },
                    "metadata": {}
                },
                {
                    "output_type": "display_data",
                    "data": {
                        "text/html": "Total execution time: 00:00:00.006"
                    },
                    "metadata": {}
                },
                {
                    "output_type": "execute_result",
                    "metadata": {},
                    "execution_count": 4,
                    "data": {
                        "application/vnd.dataresource+json": {
                            "schema": {
                                "fields": [
                                    {
                                        "name": "FOGLALAS_PK"
                                    },
                                    {
                                        "name": "METTOL"
                                    },
                                    {
                                        "name": "Módosított kezdődátum"
                                    }
                                ]
                            },
                            "data": [
                                {
                                    "FOGLALAS_PK": "706",
                                    "METTOL": "2016-07-22",
                                    "Módosított kezdődátum": "2016-08-22"
                                },
                                {
                                    "FOGLALAS_PK": "765",
                                    "METTOL": "2016-08-09",
                                    "Módosított kezdődátum": "2016-09-09"
                                },
                                {
                                    "FOGLALAS_PK": "1083",
                                    "METTOL": "2016-09-27",
                                    "Módosított kezdődátum": "2016-10-27"
                                },
                                {
                                    "FOGLALAS_PK": "1250",
                                    "METTOL": "2016-11-05",
                                    "Módosított kezdődátum": "2016-12-05"
                                },
                                {
                                    "FOGLALAS_PK": "1313",
                                    "METTOL": "2016-11-23",
                                    "Módosított kezdődátum": "2016-12-23"
                                },
                                {
                                    "FOGLALAS_PK": "1354",
                                    "METTOL": "2016-12-07",
                                    "Módosított kezdődátum": "2017-01-07"
                                },
                                {
                                    "FOGLALAS_PK": "1484",
                                    "METTOL": "2017-01-30",
                                    "Módosított kezdődátum": "2017-02-28"
                                }
                            ]
                        },
                        "text/html": [
                            "<table>",
                            "<tr><th>FOGLALAS_PK</th><th>METTOL</th><th>Módosított kezdődátum</th></tr>",
                            "<tr><td>706</td><td>2016-07-22</td><td>2016-08-22</td></tr>",
                            "<tr><td>765</td><td>2016-08-09</td><td>2016-09-09</td></tr>",
                            "<tr><td>1083</td><td>2016-09-27</td><td>2016-10-27</td></tr>",
                            "<tr><td>1250</td><td>2016-11-05</td><td>2016-12-05</td></tr>",
                            "<tr><td>1313</td><td>2016-11-23</td><td>2016-12-23</td></tr>",
                            "<tr><td>1354</td><td>2016-12-07</td><td>2017-01-07</td></tr>",
                            "<tr><td>1484</td><td>2017-01-30</td><td>2017-02-28</td></tr>",
                            "</table>"
                        ]
                    }
                }
            ],
            "execution_count": 4
        },
        {
            "cell_type": "code",
            "source": [
                "-- 2. feladat\r\n",
                "\r\n",
                "SELECT tipus, \r\n",
                "       AVG(CSILLAGOK_SZAMA)\r\n",
                "FROM szallashely\r\n",
                "GROUP BY TIPUS\r\n",
                "HAVING TIPUS NOT LIKE 'panzió' AND AVG(CSILLAGOK_SZAMA) >= 3"
            ],
            "metadata": {
                "azdata_cell_guid": "476fdd80-1889-4e1d-8f7e-a1dbce92ea30",
                "language": "sql"
            },
            "outputs": [
                {
                    "output_type": "display_data",
                    "data": {
                        "text/html": "(1 row affected)"
                    },
                    "metadata": {}
                },
                {
                    "output_type": "display_data",
                    "data": {
                        "text/html": "Total execution time: 00:00:00.010"
                    },
                    "metadata": {}
                },
                {
                    "output_type": "execute_result",
                    "metadata": {},
                    "execution_count": 12,
                    "data": {
                        "application/vnd.dataresource+json": {
                            "schema": {
                                "fields": [
                                    {
                                        "name": "tipus"
                                    },
                                    {
                                        "name": "(No column name)"
                                    }
                                ]
                            },
                            "data": [
                                {
                                    "tipus": "Hotel",
                                    "(No column name)": "3"
                                }
                            ]
                        },
                        "text/html": [
                            "<table>",
                            "<tr><th>tipus</th><th>(No column name)</th></tr>",
                            "<tr><td>Hotel</td><td>3</td></tr>",
                            "</table>"
                        ]
                    }
                }
            ],
            "execution_count": 12
        }
    ]
}