{
    "metadata": {
        "kernelspec": {
            "name": "SQL",
            "display_name": "SQL",
            "language": "sql"
        },
        "language_info": {
            "name": "sql",
            "version": ""
        }
    },
    "nbformat_minor": 2,
    "nbformat": 4,
    "cells": [
        {
            "cell_type": "markdown",
            "source": [
                "1\\. Listázzuk azon vendégek nevét, email-címét és felhasználói nevét, akik egynél többször foglaltak!\n",
                "\n",
                "- Hagyjuk ki azokat a vendégeket, akik május hónapban születtek!"
            ],
            "metadata": {
                "azdata_cell_guid": "e7631df7-1644-48a4-840d-c2180b3ff6af"
            },
            "attachments": {}
        },
        {
            "cell_type": "code",
            "source": [
                "SELECT v.USERNEV, v.NEV, COUNT(UGYFEL_FK)\r\n",
                "FROM Vendeg v JOIN Foglalas f ON v.USERNEV = f.UGYFEL_FK\r\n",
                "GROUP BY v.USERNEV\r\n",
                "HAVING COUNT(UGYFEL_FK) > 1"
            ],
            "metadata": {
                "azdata_cell_guid": "bb9bfdbc-0e91-4d9f-9841-71523ecd7ac2",
                "language": "sql"
            },
            "outputs": [
                {
                    "output_type": "error",
                    "evalue": "Msg 8120, Level 16, State 1, Line 1\r\nColumn 'Vendeg.NEV' is invalid in the select list because it is not contained in either an aggregate function or the GROUP BY clause.",
                    "ename": "",
                    "traceback": []
                },
                {
                    "output_type": "display_data",
                    "data": {
                        "text/html": "Total execution time: 00:00:00.001"
                    },
                    "metadata": {}
                }
            ],
            "execution_count": 7
        },
        {
            "cell_type": "markdown",
            "source": [
                "2\\. Listázzuk azon vendégek adatait, akik a legtöbb férőhelyes szobát (vagy szobákat) már lefoglalták!\n",
                "\n",
                "- Csak klímás szoba jöhet számításba"
            ],
            "metadata": {
                "azdata_cell_guid": "e14bf614-d7cc-485d-a689-d4534e0df1a8"
            },
            "attachments": {}
        },
        {
            "cell_type": "code",
            "source": [
                "SELECT *\r\n",
                "FROM Vendeg v JOIN Foglalas f ON v.USERNEV = f.UGYFEL_FK\r\n",
                "              JOIN Szoba sz ON f.SZOBA_FK = sz.SZOBA_ID\r\n",
                "WHERE sz.KLIMAS LIKE 'i' AND sz.Ferohely IN \r\n",
                "(\r\n",
                "    SELECT MAX(FEROHELY)\r\n",
                "    FROM Szoba\r\n",
                ")"
            ],
            "metadata": {
                "azdata_cell_guid": "c901a53b-1bf2-4ffb-b33e-016daa59ee3f",
                "language": "sql",
                "tags": []
            },
            "outputs": [
                {
                    "output_type": "display_data",
                    "data": {
                        "text/html": "(3 rows affected)"
                    },
                    "metadata": {}
                },
                {
                    "output_type": "display_data",
                    "data": {
                        "text/html": "Total execution time: 00:00:00.011"
                    },
                    "metadata": {}
                },
                {
                    "output_type": "execute_result",
                    "metadata": {},
                    "execution_count": 9,
                    "data": {
                        "application/vnd.dataresource+json": {
                            "schema": {
                                "fields": [
                                    {
                                        "name": "USERNEV"
                                    },
                                    {
                                        "name": "NEV"
                                    },
                                    {
                                        "name": "EMAIL"
                                    },
                                    {
                                        "name": "SZAML_CIM"
                                    },
                                    {
                                        "name": "SZUL_DAT"
                                    },
                                    {
                                        "name": "FOGLALAS_PK"
                                    },
                                    {
                                        "name": "UGYFEL_FK"
                                    },
                                    {
                                        "name": "SZOBA_FK"
                                    },
                                    {
                                        "name": "METTOL"
                                    },
                                    {
                                        "name": "MEDDIG"
                                    },
                                    {
                                        "name": "FELNOTT_SZAM"
                                    },
                                    {
                                        "name": "GYERMEK_SZAM"
                                    },
                                    {
                                        "name": "SZOBA_ID"
                                    },
                                    {
                                        "name": "SZOBA_SZAMA"
                                    },
                                    {
                                        "name": "FEROHELY"
                                    },
                                    {
                                        "name": "POTAGY"
                                    },
                                    {
                                        "name": "KLIMAS"
                                    },
                                    {
                                        "name": "SZALLAS_FK"
                                    }
                                ]
                            },
                            "data": [
                                {
                                    "USERNEV": "JOZSEFG",
                                    "NEV": "Gyuris József",
                                    "EMAIL": "józsef.gyuris@mail.hu",
                                    "SZAML_CIM": "2660 Balassagyarmat Petőfi utca 1/2.",
                                    "SZUL_DAT": "1975-05-26",
                                    "FOGLALAS_PK": "852",
                                    "UGYFEL_FK": "JOZSEFG",
                                    "SZOBA_FK": "24",
                                    "METTOL": "2016-05-23",
                                    "MEDDIG": "2016-05-25",
                                    "FELNOTT_SZAM": "1",
                                    "GYERMEK_SZAM": "0",
                                    "SZOBA_ID": "24",
                                    "SZOBA_SZAMA": "8",
                                    "FEROHELY": "4",
                                    "POTAGY": "1",
                                    "KLIMAS": "i",
                                    "SZALLAS_FK": "3"
                                },
                                {
                                    "USERNEV": "PETERB",
                                    "NEV": "Berendi Péter",
                                    "EMAIL": "péter.berendi@mail.hu",
                                    "SZAML_CIM": "3980 Sátoraljaújhely Vasút utca 4/10.",
                                    "SZUL_DAT": "1969-01-01",
                                    "FOGLALAS_PK": "1167",
                                    "UGYFEL_FK": "PETERB",
                                    "SZOBA_FK": "24",
                                    "METTOL": "2016-10-19",
                                    "MEDDIG": "2016-10-20",
                                    "FELNOTT_SZAM": "3",
                                    "GYERMEK_SZAM": "1",
                                    "SZOBA_ID": "24",
                                    "SZOBA_SZAMA": "8",
                                    "FEROHELY": "4",
                                    "POTAGY": "1",
                                    "KLIMAS": "i",
                                    "SZALLAS_FK": "3"
                                },
                                {
                                    "USERNEV": "tunde",
                                    "NEV": "Turcsik Tünde",
                                    "EMAIL": "tunde@gmail.com",
                                    "SZAML_CIM": "7130 Tolna Fő út 122.",
                                    "SZUL_DAT": "1974-02-12",
                                    "FOGLALAS_PK": "1415",
                                    "UGYFEL_FK": "tunde",
                                    "SZOBA_FK": "24",
                                    "METTOL": "2017-01-03",
                                    "MEDDIG": "2017-01-06",
                                    "FELNOTT_SZAM": "4",
                                    "GYERMEK_SZAM": "1",
                                    "SZOBA_ID": "24",
                                    "SZOBA_SZAMA": "8",
                                    "FEROHELY": "4",
                                    "POTAGY": "1",
                                    "KLIMAS": "i",
                                    "SZALLAS_FK": "3"
                                }
                            ]
                        },
                        "text/html": [
                            "<table>",
                            "<tr><th>USERNEV</th><th>NEV</th><th>EMAIL</th><th>SZAML_CIM</th><th>SZUL_DAT</th><th>FOGLALAS_PK</th><th>UGYFEL_FK</th><th>SZOBA_FK</th><th>METTOL</th><th>MEDDIG</th><th>FELNOTT_SZAM</th><th>GYERMEK_SZAM</th><th>SZOBA_ID</th><th>SZOBA_SZAMA</th><th>FEROHELY</th><th>POTAGY</th><th>KLIMAS</th><th>SZALLAS_FK</th></tr>",
                            "<tr><td>JOZSEFG</td><td>Gyuris József</td><td>józsef.gyuris@mail.hu</td><td>2660 Balassagyarmat Petőfi utca 1/2.</td><td>1975-05-26</td><td>852</td><td>JOZSEFG</td><td>24</td><td>2016-05-23</td><td>2016-05-25</td><td>1</td><td>0</td><td>24</td><td>8</td><td>4</td><td>1</td><td>i</td><td>3</td></tr>",
                            "<tr><td>PETERB</td><td>Berendi Péter</td><td>péter.berendi@mail.hu</td><td>3980 Sátoraljaújhely Vasút utca 4/10.</td><td>1969-01-01</td><td>1167</td><td>PETERB</td><td>24</td><td>2016-10-19</td><td>2016-10-20</td><td>3</td><td>1</td><td>24</td><td>8</td><td>4</td><td>1</td><td>i</td><td>3</td></tr>",
                            "<tr><td>tunde</td><td>Turcsik Tünde</td><td>tunde@gmail.com</td><td>7130 Tolna Fő út 122.</td><td>1974-02-12</td><td>1415</td><td>tunde</td><td>24</td><td>2017-01-03</td><td>2017-01-06</td><td>4</td><td>1</td><td>24</td><td>8</td><td>4</td><td>1</td><td>i</td><td>3</td></tr>",
                            "</table>"
                        ]
                    }
                }
            ],
            "execution_count": 9
        },
        {
            "cell_type": "markdown",
            "source": [
                "3\\. Jelenítsük meg, hogy az egyes szálláshelyek szobáit esetén a legutolsó 5 foglalás átlagosan hány főre történt!\n",
                "\n",
                "- A számításnál vegyük figyelembe a felnőtteket és a gyermekeket is\n",
                "- A foglalás dátumánál a METTOL mezőt használjuk"
            ],
            "metadata": {
                "azdata_cell_guid": "2703a396-0f33-45ad-a28d-1dba47fec812"
            },
            "attachments": {}
        },
        {
            "cell_type": "code",
            "source": [
                ""
            ],
            "metadata": {
                "azdata_cell_guid": "221b2319-d58d-4026-a080-73833d6044cf",
                "language": "sql"
            },
            "outputs": [
                {
                    "output_type": "display_data",
                    "data": {
                        "text/html": "(1 row affected)"
                    },
                    "metadata": {}
                },
                {
                    "output_type": "display_data",
                    "data": {
                        "text/html": "Total execution time: 00:00:00.013"
                    },
                    "metadata": {}
                },
                {
                    "output_type": "execute_result",
                    "metadata": {},
                    "execution_count": 3,
                    "data": {
                        "application/vnd.dataresource+json": {
                            "schema": {
                                "fields": [
                                    {
                                        "name": "Kulonbozo_Ertekek_Szama"
                                    },
                                    {
                                        "name": "Minimum_Ertek"
                                    },
                                    {
                                        "name": "Maximum_Ertek"
                                    },
                                    {
                                        "name": "Atlag_Ertek"
                                    },
                                    {
                                        "name": "Not_Null_Szazalek"
                                    },
                                    {
                                        "name": "Null_Szazalek"
                                    }
                                ]
                            },
                            "data": [
                                {
                                    "Kulonbozo_Ertekek_Szama": "4",
                                    "Minimum_Ertek": "1",
                                    "Maximum_Ertek": "4",
                                    "Atlag_Ertek": "2",
                                    "Not_Null_Szazalek": "100.000000000000",
                                    "Null_Szazalek": "0.000000000000"
                                }
                            ]
                        },
                        "text/html": [
                            "<table>",
                            "<tr><th>Kulonbozo_Ertekek_Szama</th><th>Minimum_Ertek</th><th>Maximum_Ertek</th><th>Atlag_Ertek</th><th>Not_Null_Szazalek</th><th>Null_Szazalek</th></tr>",
                            "<tr><td>4</td><td>1</td><td>4</td><td>2</td><td>100.000000000000</td><td>0.000000000000</td></tr>",
                            "</table>"
                        ]
                    }
                }
            ],
            "execution_count": 3
        },
        {
            "cell_type": "markdown",
            "source": [
                "4\\. Készítsen lekérdezést, amely megjeleníti, hogy szálláshelyenként, azon belül a pótágyak száma szerint hány főre foglaltak összesen (felnőtt + gyermek)!\n",
                "\n",
                "- Jelenjenek meg a részösszegek és a végösszeg is!"
            ],
            "metadata": {
                "language": "sql",
                "azdata_cell_guid": "8a017163-c4aa-4d71-8520-9a3e1c09abc8"
            },
            "attachments": {}
        },
        {
            "cell_type": "code",
            "source": [
                "SELECT IIF(SZALLAS_NEV IS NULL, 'Végösszeg', SZALLAS_NEV),\r\n",
                "       COALESCE(CAST(POTAGY AS VARCHAR), 'Összesen') AS 'Pótágyak száma',\r\n",
                "       SUM(FELNOTT_SZAM + GYERMEK_SZAM) AS 'Fő'\r\n",
                "FROM szallashely szh JOIN Szoba sz ON szh.SZALLAS_ID = sz.SZALLAS_FK\r\n",
                "                     JOIN Foglalas f ON sz.SZOBA_ID = f.SZOBA_FK\r\n",
                "GROUP BY ROLLUP(SZALLAS_NEV, POTAGY)\r\n",
                "ORDER BY SZALLAS_NEV, POTAGY;\r\n",
                ""
            ],
            "metadata": {
                "language": "sql",
                "azdata_cell_guid": "859b1a96-9050-45dd-95c3-1e80ec0d0af6",
                "tags": []
            },
            "outputs": [
                {
                    "output_type": "display_data",
                    "data": {
                        "text/html": "(41 rows affected)"
                    },
                    "metadata": {}
                },
                {
                    "output_type": "display_data",
                    "data": {
                        "text/html": "Total execution time: 00:00:00.017"
                    },
                    "metadata": {}
                },
                {
                    "output_type": "execute_result",
                    "metadata": {},
                    "execution_count": 15,
                    "data": {
                        "application/vnd.dataresource+json": {
                            "schema": {
                                "fields": [
                                    {
                                        "name": "(No column name)"
                                    },
                                    {
                                        "name": "Pótágyak száma"
                                    },
                                    {
                                        "name": "Fő"
                                    }
                                ]
                            },
                            "data": [
                                {
                                    "(No column name)": "Végösszeg",
                                    "Pótágyak száma": "Összesen",
                                    "Fő": "2490"
                                },
                                {
                                    "(No column name)": "Családi Ház",
                                    "Pótágyak száma": "Összesen",
                                    "Fő": "52"
                                },
                                {
                                    "(No column name)": "Családi Ház",
                                    "Pótágyak száma": "0",
                                    "Fő": "10"
                                },
                                {
                                    "(No column name)": "Családi Ház",
                                    "Pótágyak száma": "1",
                                    "Fő": "31"
                                },
                                {
                                    "(No column name)": "Családi Ház",
                                    "Pótágyak száma": "2",
                                    "Fő": "11"
                                },
                                {
                                    "(No column name)": "Fortuna Apartman",
                                    "Pótágyak száma": "Összesen",
                                    "Fő": "106"
                                },
                                {
                                    "(No column name)": "Fortuna Apartman",
                                    "Pótágyak száma": "0",
                                    "Fő": "18"
                                },
                                {
                                    "(No column name)": "Fortuna Apartman",
                                    "Pótágyak száma": "1",
                                    "Fő": "52"
                                },
                                {
                                    "(No column name)": "Fortuna Apartman",
                                    "Pótágyak száma": "2",
                                    "Fő": "36"
                                },
                                {
                                    "(No column name)": "Fortuna Panzió",
                                    "Pótágyak száma": "Összesen",
                                    "Fő": "311"
                                },
                                {
                                    "(No column name)": "Fortuna Panzió",
                                    "Pótágyak száma": "0",
                                    "Fő": "158"
                                },
                                {
                                    "(No column name)": "Fortuna panzió",
                                    "Pótágyak száma": "1",
                                    "Fő": "113"
                                },
                                {
                                    "(No column name)": "Fortuna panzió",
                                    "Pótágyak száma": "2",
                                    "Fő": "40"
                                },
                                {
                                    "(No column name)": "Gold Hotel",
                                    "Pótágyak száma": "Összesen",
                                    "Fő": "428"
                                },
                                {
                                    "(No column name)": "Gold Hotel",
                                    "Pótágyak száma": "0",
                                    "Fő": "216"
                                },
                                {
                                    "(No column name)": "Gold Hotel",
                                    "Pótágyak száma": "1",
                                    "Fő": "93"
                                },
                                {
                                    "(No column name)": "Gold Hotel",
                                    "Pótágyak száma": "2",
                                    "Fő": "119"
                                },
                                {
                                    "(No column name)": "Hotel Három Hattyú",
                                    "Pótágyak száma": "Összesen",
                                    "Fő": "504"
                                },
                                {
                                    "(No column name)": "Hotel Három Hattyú",
                                    "Pótágyak száma": "0",
                                    "Fő": "183"
                                },
                                {
                                    "(No column name)": "Hotel Három Hattyú",
                                    "Pótágyak száma": "1",
                                    "Fő": "258"
                                },
                                {
                                    "(No column name)": "Hotel Három Hattyú",
                                    "Pótágyak száma": "2",
                                    "Fő": "63"
                                },
                                {
                                    "(No column name)": "Jáde panzió",
                                    "Pótágyak száma": "Összesen",
                                    "Fő": "66"
                                },
                                {
                                    "(No column name)": "Jáde panzió",
                                    "Pótágyak száma": "0",
                                    "Fő": "66"
                                },
                                {
                                    "(No column name)": "Kentaur Hotel",
                                    "Pótágyak száma": "Összesen",
                                    "Fő": "420"
                                },
                                {
                                    "(No column name)": "Kentaur Hotel",
                                    "Pótágyak száma": "0",
                                    "Fő": "168"
                                },
                                {
                                    "(No column name)": "Kentaur Hotel",
                                    "Pótágyak száma": "1",
                                    "Fő": "224"
                                },
                                {
                                    "(No column name)": "Kentaur Hotel",
                                    "Pótágyak száma": "2",
                                    "Fő": "28"
                                },
                                {
                                    "(No column name)": "Lagúna Hotel",
                                    "Pótágyak száma": "Összesen",
                                    "Fő": "291"
                                },
                                {
                                    "(No column name)": "Lagúna Hotel",
                                    "Pótágyak száma": "0",
                                    "Fő": "105"
                                },
                                {
                                    "(No column name)": "Lagúna Hotel",
                                    "Pótágyak száma": "1",
                                    "Fő": "150"
                                },
                                {
                                    "(No column name)": "Lagúna Hotel",
                                    "Pótágyak száma": "2",
                                    "Fő": "36"
                                },
                                {
                                    "(No column name)": "Partiszél Vendégház",
                                    "Pótágyak száma": "Összesen",
                                    "Fő": "63"
                                },
                                {
                                    "(No column name)": "Partiszél Vendégház",
                                    "Pótágyak száma": "0",
                                    "Fő": "31"
                                },
                                {
                                    "(No column name)": "Partiszél Vendégház",
                                    "Pótágyak száma": "1",
                                    "Fő": "17"
                                },
                                {
                                    "(No column name)": "Partiszél Vendégház",
                                    "Pótágyak száma": "2",
                                    "Fő": "15"
                                },
                                {
                                    "(No column name)": "Sába-Ház",
                                    "Pótágyak száma": "Összesen",
                                    "Fő": "166"
                                },
                                {
                                    "(No column name)": "Sába-Ház",
                                    "Pótágyak száma": "0",
                                    "Fő": "67"
                                },
                                {
                                    "(No column name)": "Sába-Ház",
                                    "Pótágyak száma": "1",
                                    "Fő": "99"
                                },
                                {
                                    "(No column name)": "Szieszta Apartmanház",
                                    "Pótágyak száma": "Összesen",
                                    "Fő": "83"
                                },
                                {
                                    "(No column name)": "Szieszta Apartmanház",
                                    "Pótágyak száma": "0",
                                    "Fő": "64"
                                },
                                {
                                    "(No column name)": "Szieszta Apartmanház",
                                    "Pótágyak száma": "1",
                                    "Fő": "19"
                                }
                            ]
                        },
                        "text/html": [
                            "<table>",
                            "<tr><th>(No column name)</th><th>Pótágyak száma</th><th>Fő</th></tr>",
                            "<tr><td>Végösszeg</td><td>Összesen</td><td>2490</td></tr>",
                            "<tr><td>Családi Ház</td><td>Összesen</td><td>52</td></tr>",
                            "<tr><td>Családi Ház</td><td>0</td><td>10</td></tr>",
                            "<tr><td>Családi Ház</td><td>1</td><td>31</td></tr>",
                            "<tr><td>Családi Ház</td><td>2</td><td>11</td></tr>",
                            "<tr><td>Fortuna Apartman</td><td>Összesen</td><td>106</td></tr>",
                            "<tr><td>Fortuna Apartman</td><td>0</td><td>18</td></tr>",
                            "<tr><td>Fortuna Apartman</td><td>1</td><td>52</td></tr>",
                            "<tr><td>Fortuna Apartman</td><td>2</td><td>36</td></tr>",
                            "<tr><td>Fortuna Panzió</td><td>Összesen</td><td>311</td></tr>",
                            "<tr><td>Fortuna Panzió</td><td>0</td><td>158</td></tr>",
                            "<tr><td>Fortuna panzió</td><td>1</td><td>113</td></tr>",
                            "<tr><td>Fortuna panzió</td><td>2</td><td>40</td></tr>",
                            "<tr><td>Gold Hotel</td><td>Összesen</td><td>428</td></tr>",
                            "<tr><td>Gold Hotel</td><td>0</td><td>216</td></tr>",
                            "<tr><td>Gold Hotel</td><td>1</td><td>93</td></tr>",
                            "<tr><td>Gold Hotel</td><td>2</td><td>119</td></tr>",
                            "<tr><td>Hotel Három Hattyú</td><td>Összesen</td><td>504</td></tr>",
                            "<tr><td>Hotel Három Hattyú</td><td>0</td><td>183</td></tr>",
                            "<tr><td>Hotel Három Hattyú</td><td>1</td><td>258</td></tr>",
                            "<tr><td>Hotel Három Hattyú</td><td>2</td><td>63</td></tr>",
                            "<tr><td>Jáde panzió</td><td>Összesen</td><td>66</td></tr>",
                            "<tr><td>Jáde panzió</td><td>0</td><td>66</td></tr>",
                            "<tr><td>Kentaur Hotel</td><td>Összesen</td><td>420</td></tr>",
                            "<tr><td>Kentaur Hotel</td><td>0</td><td>168</td></tr>",
                            "<tr><td>Kentaur Hotel</td><td>1</td><td>224</td></tr>",
                            "<tr><td>Kentaur Hotel</td><td>2</td><td>28</td></tr>",
                            "<tr><td>Lagúna Hotel</td><td>Összesen</td><td>291</td></tr>",
                            "<tr><td>Lagúna Hotel</td><td>0</td><td>105</td></tr>",
                            "<tr><td>Lagúna Hotel</td><td>1</td><td>150</td></tr>",
                            "<tr><td>Lagúna Hotel</td><td>2</td><td>36</td></tr>",
                            "<tr><td>Partiszél Vendégház</td><td>Összesen</td><td>63</td></tr>",
                            "<tr><td>Partiszél Vendégház</td><td>0</td><td>31</td></tr>",
                            "<tr><td>Partiszél Vendégház</td><td>1</td><td>17</td></tr>",
                            "<tr><td>Partiszél Vendégház</td><td>2</td><td>15</td></tr>",
                            "<tr><td>Sába-Ház</td><td>Összesen</td><td>166</td></tr>",
                            "<tr><td>Sába-Ház</td><td>0</td><td>67</td></tr>",
                            "<tr><td>Sába-Ház</td><td>1</td><td>99</td></tr>",
                            "<tr><td>Szieszta Apartmanház</td><td>Összesen</td><td>83</td></tr>",
                            "<tr><td>Szieszta Apartmanház</td><td>0</td><td>64</td></tr>",
                            "<tr><td>Szieszta Apartmanház</td><td>1</td><td>19</td></tr>",
                            "</table>"
                        ]
                    }
                }
            ],
            "execution_count": 15
        },
        {
            "cell_type": "markdown",
            "source": [
                "5\\. A Szoba tábla Ferohely oszlopára végezzük el a következő számításokat:\n",
                "\n",
                "- Különböző értékek száma\n",
                "- Minimum, maximum, átlag\n",
                "- Null és Not null értékek százalékos aránya"
            ],
            "metadata": {
                "language": "sql",
                "azdata_cell_guid": "aa7f0da3-8b24-42dd-bdc5-76583e574e22"
            },
            "attachments": {}
        },
        {
            "cell_type": "code",
            "source": [
                "SELECT \r\n",
                "    COUNT(DISTINCT Ferohely) AS 'Különböző értékek száma',\r\n",
                "    MIN(Ferohely) AS 'Minimum',\r\n",
                "    MAX(Ferohely) AS 'Maximum',\r\n",
                "    AVG(Ferohely) AS 'Átlag',\r\n",
                "    (COUNT(Ferohely) * 100.0 / COUNT(*)) AS 'Nem nulla (%)',\r\n",
                "    ((COUNT(*) - COUNT(Ferohely)) * 100.0 / COUNT(*)) AS 'Nulla (%)'\r\n",
                "FROM Szoba"
            ],
            "metadata": {
                "language": "sql",
                "azdata_cell_guid": "0977a481-b56e-4cd4-888e-3bdbc9c593dc"
            },
            "outputs": [
                {
                    "output_type": "display_data",
                    "data": {
                        "text/html": "(1 row affected)"
                    },
                    "metadata": {}
                },
                {
                    "output_type": "display_data",
                    "data": {
                        "text/html": "Total execution time: 00:00:00.007"
                    },
                    "metadata": {}
                },
                {
                    "output_type": "execute_result",
                    "metadata": {},
                    "execution_count": 6,
                    "data": {
                        "application/vnd.dataresource+json": {
                            "schema": {
                                "fields": [
                                    {
                                        "name": "Különböző értékek száma"
                                    },
                                    {
                                        "name": "Minimum"
                                    },
                                    {
                                        "name": "Maximum"
                                    },
                                    {
                                        "name": "Átlag"
                                    },
                                    {
                                        "name": "Nem nulla (%)"
                                    },
                                    {
                                        "name": "Nulla (%)"
                                    }
                                ]
                            },
                            "data": [
                                {
                                    "Különböző értékek száma": "4",
                                    "Minimum": "1",
                                    "Maximum": "4",
                                    "Átlag": "2",
                                    "Nem nulla (%)": "100.000000000000",
                                    "Nulla (%)": "0.000000000000"
                                }
                            ]
                        },
                        "text/html": [
                            "<table>",
                            "<tr><th>Különböző értékek száma</th><th>Minimum</th><th>Maximum</th><th>Átlag</th><th>Nem nulla (%)</th><th>Nulla (%)</th></tr>",
                            "<tr><td>4</td><td>1</td><td>4</td><td>2</td><td>100.000000000000</td><td>0.000000000000</td></tr>",
                            "</table>"
                        ]
                    }
                }
            ],
            "execution_count": 6
        },
        {
            "cell_type": "markdown",
            "source": [
                "6\\. feladat\n",
                "\n",
                "hset iro:1 nev 'Kiss Bela' nemzetiseg 'magyar'\n",
                "\n",
                "hset iro:2 nev 'Nagy Istvan' nemzetiseg 'nemet'\n",
                "\n",
                "hset konyv:1:1 cim 'Asd' mufaj 'novella'\n",
                "\n",
                "hset konyv:2:2 cim 'Asd Asd' mufaj 'regeny'"
            ],
            "metadata": {
                "language": "sql",
                "azdata_cell_guid": "e90f76f2-b558-49ec-b4a7-83894b90a87f"
            },
            "attachments": {}
        },
        {
            "cell_type": "markdown",
            "source": [
                "7\\. feladat\n",
                "\n",
                "CREATE TABLE student (\n",
                "\n",
                "id int primary key,\n",
                "\n",
                "teljesitett\\_felevek list\\<int\\>,\n",
                "\n",
                "eredmenyek map\\<int, double\\>,\n",
                "\n",
                "nyelvtudas set\\<text\\>\n",
                "\n",
                ");\n",
                "\n",
                "  \n",
                "\n",
                "INSERT INTO student (id, eredmenyek, nyelvtudas, teljesitett\\_felevek) values (\n",
                "\n",
                "1,\n",
                "\n",
                "{1:3.00},\n",
                "\n",
                "{'magyar', 'nemet'},\n",
                "\n",
                "\\[1\\]);\n",
                "\n",
                "  \n",
                "\n",
                "INSERT INTO student (id, eredmenyek, nyelvtudas, teljesitett\\_felevek) values (\n",
                "\n",
                "2,\n",
                "\n",
                "{1:3.5, 2:4.8},\n",
                "\n",
                "{'angol', 'francia', 'magyar'},\n",
                "\n",
                "\\[1, 2\\]);"
            ],
            "metadata": {
                "language": "sql",
                "azdata_cell_guid": "224ad141-c78a-45d8-a623-e66555ee6429"
            },
            "attachments": {}
        }
    ]
}